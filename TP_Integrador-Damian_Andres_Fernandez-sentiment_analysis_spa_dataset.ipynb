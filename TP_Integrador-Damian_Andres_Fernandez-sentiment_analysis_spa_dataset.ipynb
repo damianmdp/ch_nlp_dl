{
 "cells": [
  {
   "cell_type": "markdown",
   "id": "2da39e4c-f93d-41d2-85b8-0096135be672",
   "metadata": {
    "execution": {
     "iopub.execute_input": "2024-07-24T15:04:30.838493Z",
     "iopub.status.busy": "2024-07-24T15:04:30.838493Z",
     "iopub.status.idle": "2024-07-24T15:04:30.855687Z",
     "shell.execute_reply": "2024-07-24T15:04:30.854564Z",
     "shell.execute_reply.started": "2024-07-24T15:04:30.838493Z"
    },
    "id": "cc0NfnYWZysw"
   },
   "source": [
    "# Curso NLP y DeepLearning\n",
    "## Actividad 2 y TP Final: Redes neuronales\n",
    "### Damián A. Fernández\n",
    "### CoderHouse - Comisión 60900 (2024)"
   ]
  },
  {
   "cell_type": "markdown",
   "id": "3cf1559b-02ce-4a3f-9291-3f499634c6a8",
   "metadata": {
    "execution": {
     "iopub.execute_input": "2024-07-24T15:06:26.206739Z",
     "iopub.status.busy": "2024-07-24T15:06:26.206739Z",
     "iopub.status.idle": "2024-07-24T15:06:26.215271Z",
     "shell.execute_reply": "2024-07-24T15:06:26.215271Z",
     "shell.execute_reply.started": "2024-07-24T15:06:26.206739Z"
    },
    "id": "sy0LRnSEZytE"
   },
   "source": [
    "# Descripción de proyecto\n",
    "Este proyecto se trata de una práctica integradora del módulo Deep Learning del curso \"DataScience III: NLP y Deep Learning\".\n",
    "Se tomó el dataset preprocesado con herramientas de NLP durante la Actividad 1, para comparar el rendimiento de modelos predictivos convencionales y uno de redes neuronales como clasificadores binarios.\n",
    "\n",
    "\n",
    "### Hipótesis\n",
    "Verificar la posibilidad de detectar el sentimiento subyacente de los mensajes, inicialmente de forma polarizada (positivo o negativo).\n",
    "\n",
    "\n",
    "### Objetivos\n",
    "#### General\n",
    "- Desarrollar una comparativa de modelos analizadores de sentimiento de forma polarizada (positivo/negativo) a partir de un dataset de tweets en español etiquetados por positivo o no-positivo que fue procesado con herramientas de NLP en la Actividad 1.\n",
    "\n",
    "#### Específicos\n",
    "- Dividir el dataset en conjuntos de train, validation y test (se utiliza el dataset preprocesado de la Actividad 1).\n",
    "- Desarrollo de un modelo Naive Bayes Gaussiano\n",
    "- Desarrollo de un modelo de Regresión Logística\n",
    "- Desarrollo de un modelo de Regresión Logística optimizado con GridSearch\n",
    "- Desarrollo de un modelo de redes neuronales optimizado con RandomizeSearch.\n",
    "- Evaluación de los modelos.\n",
    "- Desarrollo de una clase para implementación del clasificador."
   ]
  },
  {
   "cell_type": "markdown",
   "id": "e5052dc9-fb1c-4de4-87b6-5167431ee932",
   "metadata": {
    "id": "NUi9rQ8sZytG"
   },
   "source": [
    "### Descripción de dataset"
   ]
  },
  {
   "cell_type": "markdown",
   "id": "3b3c90c4-976b-4a5f-b281-6ac117a01345",
   "metadata": {
    "id": "V1yaOdZ5ZytG"
   },
   "source": [
    "Se trabajará con la versión preprocesada en la Actividad 1 (dataset original: tweets en español disponible en kaggle.com. Fuente: https://www.kaggle.com/datasets/philipsanm/sentiment-analysis-in-spanish-tweets)"
   ]
  },
  {
   "cell_type": "markdown",
   "id": "a013c0db-0214-45c8-8573-aa98e1227689",
   "metadata": {
    "id": "0Pe1ER-7cSiB"
   },
   "source": [
    "# Librerias necesarias"
   ]
  },
  {
   "cell_type": "code",
   "execution_count": 1,
   "id": "0_di7Aa2kD7O",
   "metadata": {
    "colab": {
     "base_uri": "https://localhost:8080/"
    },
    "executionInfo": {
     "elapsed": 2314,
     "status": "ok",
     "timestamp": 1723268370715,
     "user": {
      "displayName": "Damian Fernandez",
      "userId": "16135875833693471232"
     },
     "user_tz": 180
    },
    "id": "0_di7Aa2kD7O",
    "outputId": "86ce1f48-394d-4b1d-d40b-042a14ab1980"
   },
   "outputs": [
    {
     "name": "stdout",
     "output_type": "stream",
     "text": [
      "Drive already mounted at /content/drive; to attempt to forcibly remount, call drive.mount(\"/content/drive\", force_remount=True).\n"
     ]
    }
   ],
   "source": [
    "from google.colab import drive\n",
    "drive.mount('/content/drive')"
   ]
  },
  {
   "cell_type": "code",
   "execution_count": 2,
   "id": "snEa4omMmZKk",
   "metadata": {
    "colab": {
     "base_uri": "https://localhost:8080/"
    },
    "executionInfo": {
     "elapsed": 15115,
     "status": "ok",
     "timestamp": 1723265450499,
     "user": {
      "displayName": "Damian Fernandez",
      "userId": "16135875833693471232"
     },
     "user_tz": 180
    },
    "id": "snEa4omMmZKk",
    "outputId": "a53e7345-7341-442d-ef93-5571dbb5f07e"
   },
   "outputs": [
    {
     "name": "stdout",
     "output_type": "stream",
     "text": [
      "Collecting es-core-news-md==3.7.0\n",
      "  Downloading https://github.com/explosion/spacy-models/releases/download/es_core_news_md-3.7.0/es_core_news_md-3.7.0-py3-none-any.whl (42.3 MB)\n",
      "\u001b[2K     \u001b[90m━━━━━━━━━━━━━━━━━━━━━━━━━━━━━━━━━━━━━━━━\u001b[0m \u001b[32m42.3/42.3 MB\u001b[0m \u001b[31m22.1 MB/s\u001b[0m eta \u001b[36m0:00:00\u001b[0m\n",
      "\u001b[?25hRequirement already satisfied: spacy<3.8.0,>=3.7.0 in /usr/local/lib/python3.10/dist-packages (from es-core-news-md==3.7.0) (3.7.5)\n",
      "Requirement already satisfied: spacy-legacy<3.1.0,>=3.0.11 in /usr/local/lib/python3.10/dist-packages (from spacy<3.8.0,>=3.7.0->es-core-news-md==3.7.0) (3.0.12)\n",
      "Requirement already satisfied: spacy-loggers<2.0.0,>=1.0.0 in /usr/local/lib/python3.10/dist-packages (from spacy<3.8.0,>=3.7.0->es-core-news-md==3.7.0) (1.0.5)\n",
      "Requirement already satisfied: murmurhash<1.1.0,>=0.28.0 in /usr/local/lib/python3.10/dist-packages (from spacy<3.8.0,>=3.7.0->es-core-news-md==3.7.0) (1.0.10)\n",
      "Requirement already satisfied: cymem<2.1.0,>=2.0.2 in /usr/local/lib/python3.10/dist-packages (from spacy<3.8.0,>=3.7.0->es-core-news-md==3.7.0) (2.0.8)\n",
      "Requirement already satisfied: preshed<3.1.0,>=3.0.2 in /usr/local/lib/python3.10/dist-packages (from spacy<3.8.0,>=3.7.0->es-core-news-md==3.7.0) (3.0.9)\n",
      "Requirement already satisfied: thinc<8.3.0,>=8.2.2 in /usr/local/lib/python3.10/dist-packages (from spacy<3.8.0,>=3.7.0->es-core-news-md==3.7.0) (8.2.5)\n",
      "Requirement already satisfied: wasabi<1.2.0,>=0.9.1 in /usr/local/lib/python3.10/dist-packages (from spacy<3.8.0,>=3.7.0->es-core-news-md==3.7.0) (1.1.3)\n",
      "Requirement already satisfied: srsly<3.0.0,>=2.4.3 in /usr/local/lib/python3.10/dist-packages (from spacy<3.8.0,>=3.7.0->es-core-news-md==3.7.0) (2.4.8)\n",
      "Requirement already satisfied: catalogue<2.1.0,>=2.0.6 in /usr/local/lib/python3.10/dist-packages (from spacy<3.8.0,>=3.7.0->es-core-news-md==3.7.0) (2.0.10)\n",
      "Requirement already satisfied: weasel<0.5.0,>=0.1.0 in /usr/local/lib/python3.10/dist-packages (from spacy<3.8.0,>=3.7.0->es-core-news-md==3.7.0) (0.4.1)\n",
      "Requirement already satisfied: typer<1.0.0,>=0.3.0 in /usr/local/lib/python3.10/dist-packages (from spacy<3.8.0,>=3.7.0->es-core-news-md==3.7.0) (0.12.3)\n",
      "Requirement already satisfied: tqdm<5.0.0,>=4.38.0 in /usr/local/lib/python3.10/dist-packages (from spacy<3.8.0,>=3.7.0->es-core-news-md==3.7.0) (4.66.5)\n",
      "Requirement already satisfied: requests<3.0.0,>=2.13.0 in /usr/local/lib/python3.10/dist-packages (from spacy<3.8.0,>=3.7.0->es-core-news-md==3.7.0) (2.32.3)\n",
      "Requirement already satisfied: pydantic!=1.8,!=1.8.1,<3.0.0,>=1.7.4 in /usr/local/lib/python3.10/dist-packages (from spacy<3.8.0,>=3.7.0->es-core-news-md==3.7.0) (2.8.2)\n",
      "Requirement already satisfied: jinja2 in /usr/local/lib/python3.10/dist-packages (from spacy<3.8.0,>=3.7.0->es-core-news-md==3.7.0) (3.1.4)\n",
      "Requirement already satisfied: setuptools in /usr/local/lib/python3.10/dist-packages (from spacy<3.8.0,>=3.7.0->es-core-news-md==3.7.0) (71.0.4)\n",
      "Requirement already satisfied: packaging>=20.0 in /usr/local/lib/python3.10/dist-packages (from spacy<3.8.0,>=3.7.0->es-core-news-md==3.7.0) (24.1)\n",
      "Requirement already satisfied: langcodes<4.0.0,>=3.2.0 in /usr/local/lib/python3.10/dist-packages (from spacy<3.8.0,>=3.7.0->es-core-news-md==3.7.0) (3.4.0)\n",
      "Requirement already satisfied: numpy>=1.19.0 in /usr/local/lib/python3.10/dist-packages (from spacy<3.8.0,>=3.7.0->es-core-news-md==3.7.0) (1.26.4)\n",
      "Requirement already satisfied: language-data>=1.2 in /usr/local/lib/python3.10/dist-packages (from langcodes<4.0.0,>=3.2.0->spacy<3.8.0,>=3.7.0->es-core-news-md==3.7.0) (1.2.0)\n",
      "Requirement already satisfied: annotated-types>=0.4.0 in /usr/local/lib/python3.10/dist-packages (from pydantic!=1.8,!=1.8.1,<3.0.0,>=1.7.4->spacy<3.8.0,>=3.7.0->es-core-news-md==3.7.0) (0.7.0)\n",
      "Requirement already satisfied: pydantic-core==2.20.1 in /usr/local/lib/python3.10/dist-packages (from pydantic!=1.8,!=1.8.1,<3.0.0,>=1.7.4->spacy<3.8.0,>=3.7.0->es-core-news-md==3.7.0) (2.20.1)\n",
      "Requirement already satisfied: typing-extensions>=4.6.1 in /usr/local/lib/python3.10/dist-packages (from pydantic!=1.8,!=1.8.1,<3.0.0,>=1.7.4->spacy<3.8.0,>=3.7.0->es-core-news-md==3.7.0) (4.12.2)\n",
      "Requirement already satisfied: charset-normalizer<4,>=2 in /usr/local/lib/python3.10/dist-packages (from requests<3.0.0,>=2.13.0->spacy<3.8.0,>=3.7.0->es-core-news-md==3.7.0) (3.3.2)\n",
      "Requirement already satisfied: idna<4,>=2.5 in /usr/local/lib/python3.10/dist-packages (from requests<3.0.0,>=2.13.0->spacy<3.8.0,>=3.7.0->es-core-news-md==3.7.0) (3.7)\n",
      "Requirement already satisfied: urllib3<3,>=1.21.1 in /usr/local/lib/python3.10/dist-packages (from requests<3.0.0,>=2.13.0->spacy<3.8.0,>=3.7.0->es-core-news-md==3.7.0) (2.0.7)\n",
      "Requirement already satisfied: certifi>=2017.4.17 in /usr/local/lib/python3.10/dist-packages (from requests<3.0.0,>=2.13.0->spacy<3.8.0,>=3.7.0->es-core-news-md==3.7.0) (2024.7.4)\n",
      "Requirement already satisfied: blis<0.8.0,>=0.7.8 in /usr/local/lib/python3.10/dist-packages (from thinc<8.3.0,>=8.2.2->spacy<3.8.0,>=3.7.0->es-core-news-md==3.7.0) (0.7.11)\n",
      "Requirement already satisfied: confection<1.0.0,>=0.0.1 in /usr/local/lib/python3.10/dist-packages (from thinc<8.3.0,>=8.2.2->spacy<3.8.0,>=3.7.0->es-core-news-md==3.7.0) (0.1.5)\n",
      "Requirement already satisfied: click>=8.0.0 in /usr/local/lib/python3.10/dist-packages (from typer<1.0.0,>=0.3.0->spacy<3.8.0,>=3.7.0->es-core-news-md==3.7.0) (8.1.7)\n",
      "Requirement already satisfied: shellingham>=1.3.0 in /usr/local/lib/python3.10/dist-packages (from typer<1.0.0,>=0.3.0->spacy<3.8.0,>=3.7.0->es-core-news-md==3.7.0) (1.5.4)\n",
      "Requirement already satisfied: rich>=10.11.0 in /usr/local/lib/python3.10/dist-packages (from typer<1.0.0,>=0.3.0->spacy<3.8.0,>=3.7.0->es-core-news-md==3.7.0) (13.7.1)\n",
      "Requirement already satisfied: cloudpathlib<1.0.0,>=0.7.0 in /usr/local/lib/python3.10/dist-packages (from weasel<0.5.0,>=0.1.0->spacy<3.8.0,>=3.7.0->es-core-news-md==3.7.0) (0.18.1)\n",
      "Requirement already satisfied: smart-open<8.0.0,>=5.2.1 in /usr/local/lib/python3.10/dist-packages (from weasel<0.5.0,>=0.1.0->spacy<3.8.0,>=3.7.0->es-core-news-md==3.7.0) (7.0.4)\n",
      "Requirement already satisfied: MarkupSafe>=2.0 in /usr/local/lib/python3.10/dist-packages (from jinja2->spacy<3.8.0,>=3.7.0->es-core-news-md==3.7.0) (2.1.5)\n",
      "Requirement already satisfied: marisa-trie>=0.7.7 in /usr/local/lib/python3.10/dist-packages (from language-data>=1.2->langcodes<4.0.0,>=3.2.0->spacy<3.8.0,>=3.7.0->es-core-news-md==3.7.0) (1.2.0)\n",
      "Requirement already satisfied: markdown-it-py>=2.2.0 in /usr/local/lib/python3.10/dist-packages (from rich>=10.11.0->typer<1.0.0,>=0.3.0->spacy<3.8.0,>=3.7.0->es-core-news-md==3.7.0) (3.0.0)\n",
      "Requirement already satisfied: pygments<3.0.0,>=2.13.0 in /usr/local/lib/python3.10/dist-packages (from rich>=10.11.0->typer<1.0.0,>=0.3.0->spacy<3.8.0,>=3.7.0->es-core-news-md==3.7.0) (2.16.1)\n",
      "Requirement already satisfied: wrapt in /usr/local/lib/python3.10/dist-packages (from smart-open<8.0.0,>=5.2.1->weasel<0.5.0,>=0.1.0->spacy<3.8.0,>=3.7.0->es-core-news-md==3.7.0) (1.16.0)\n",
      "Requirement already satisfied: mdurl~=0.1 in /usr/local/lib/python3.10/dist-packages (from markdown-it-py>=2.2.0->rich>=10.11.0->typer<1.0.0,>=0.3.0->spacy<3.8.0,>=3.7.0->es-core-news-md==3.7.0) (0.1.2)\n",
      "Installing collected packages: es-core-news-md\n",
      "Successfully installed es-core-news-md-3.7.0\n",
      "\u001b[38;5;2m✔ Download and installation successful\u001b[0m\n",
      "You can now load the package via spacy.load('es_core_news_md')\n",
      "\u001b[38;5;3m⚠ Restart to reload dependencies\u001b[0m\n",
      "If you are in a Jupyter or Colab notebook, you may need to restart Python in\n",
      "order to load all the package's dependencies. You can do this by selecting the\n",
      "'Restart kernel' or 'Restart runtime' option.\n"
     ]
    }
   ],
   "source": [
    "!python -m spacy download es_core_news_md"
   ]
  },
  {
   "cell_type": "code",
   "execution_count": 3,
   "id": "HfKEfvSzDe7I",
   "metadata": {
    "colab": {
     "base_uri": "https://localhost:8080/"
    },
    "executionInfo": {
     "elapsed": 13857,
     "status": "ok",
     "timestamp": 1723265466275,
     "user": {
      "displayName": "Damian Fernandez",
      "userId": "16135875833693471232"
     },
     "user_tz": 180
    },
    "id": "HfKEfvSzDe7I",
    "outputId": "ea0f159c-c352-4e36-ea4a-12744fac32c7"
   },
   "outputs": [
    {
     "name": "stdout",
     "output_type": "stream",
     "text": [
      "Collecting scikeras\n",
      "  Downloading scikeras-0.13.0-py3-none-any.whl.metadata (3.1 kB)\n",
      "Requirement already satisfied: keras>=3.2.0 in /usr/local/lib/python3.10/dist-packages (from scikeras) (3.4.1)\n",
      "Collecting scikit-learn>=1.4.2 (from scikeras)\n",
      "  Downloading scikit_learn-1.5.1-cp310-cp310-manylinux_2_17_x86_64.manylinux2014_x86_64.whl.metadata (12 kB)\n",
      "Requirement already satisfied: absl-py in /usr/local/lib/python3.10/dist-packages (from keras>=3.2.0->scikeras) (1.4.0)\n",
      "Requirement already satisfied: numpy in /usr/local/lib/python3.10/dist-packages (from keras>=3.2.0->scikeras) (1.26.4)\n",
      "Requirement already satisfied: rich in /usr/local/lib/python3.10/dist-packages (from keras>=3.2.0->scikeras) (13.7.1)\n",
      "Requirement already satisfied: namex in /usr/local/lib/python3.10/dist-packages (from keras>=3.2.0->scikeras) (0.0.8)\n",
      "Requirement already satisfied: h5py in /usr/local/lib/python3.10/dist-packages (from keras>=3.2.0->scikeras) (3.11.0)\n",
      "Requirement already satisfied: optree in /usr/local/lib/python3.10/dist-packages (from keras>=3.2.0->scikeras) (0.12.1)\n",
      "Requirement already satisfied: ml-dtypes in /usr/local/lib/python3.10/dist-packages (from keras>=3.2.0->scikeras) (0.4.0)\n",
      "Requirement already satisfied: packaging in /usr/local/lib/python3.10/dist-packages (from keras>=3.2.0->scikeras) (24.1)\n",
      "Requirement already satisfied: scipy>=1.6.0 in /usr/local/lib/python3.10/dist-packages (from scikit-learn>=1.4.2->scikeras) (1.13.1)\n",
      "Requirement already satisfied: joblib>=1.2.0 in /usr/local/lib/python3.10/dist-packages (from scikit-learn>=1.4.2->scikeras) (1.4.2)\n",
      "Requirement already satisfied: threadpoolctl>=3.1.0 in /usr/local/lib/python3.10/dist-packages (from scikit-learn>=1.4.2->scikeras) (3.5.0)\n",
      "Requirement already satisfied: typing-extensions>=4.5.0 in /usr/local/lib/python3.10/dist-packages (from optree->keras>=3.2.0->scikeras) (4.12.2)\n",
      "Requirement already satisfied: markdown-it-py>=2.2.0 in /usr/local/lib/python3.10/dist-packages (from rich->keras>=3.2.0->scikeras) (3.0.0)\n",
      "Requirement already satisfied: pygments<3.0.0,>=2.13.0 in /usr/local/lib/python3.10/dist-packages (from rich->keras>=3.2.0->scikeras) (2.16.1)\n",
      "Requirement already satisfied: mdurl~=0.1 in /usr/local/lib/python3.10/dist-packages (from markdown-it-py>=2.2.0->rich->keras>=3.2.0->scikeras) (0.1.2)\n",
      "Downloading scikeras-0.13.0-py3-none-any.whl (26 kB)\n",
      "Downloading scikit_learn-1.5.1-cp310-cp310-manylinux_2_17_x86_64.manylinux2014_x86_64.whl (13.4 MB)\n",
      "\u001b[2K   \u001b[90m━━━━━━━━━━━━━━━━━━━━━━━━━━━━━━━━━━━━━━━━\u001b[0m \u001b[32m13.4/13.4 MB\u001b[0m \u001b[31m29.7 MB/s\u001b[0m eta \u001b[36m0:00:00\u001b[0m\n",
      "\u001b[?25hInstalling collected packages: scikit-learn, scikeras\n",
      "  Attempting uninstall: scikit-learn\n",
      "    Found existing installation: scikit-learn 1.3.2\n",
      "    Uninstalling scikit-learn-1.3.2:\n",
      "      Successfully uninstalled scikit-learn-1.3.2\n",
      "Successfully installed scikeras-0.13.0 scikit-learn-1.5.1\n"
     ]
    }
   ],
   "source": [
    "!pip install scikeras"
   ]
  },
  {
   "cell_type": "code",
   "execution_count": 20,
   "id": "d108aeee-764e-4288-b918-84504ccb7eaa",
   "metadata": {
    "execution": {
     "iopub.execute_input": "2024-08-10T19:13:35.388060Z",
     "iopub.status.busy": "2024-08-10T19:13:35.387061Z",
     "iopub.status.idle": "2024-08-10T19:13:35.392697Z",
     "shell.execute_reply": "2024-08-10T19:13:35.392566Z",
     "shell.execute_reply.started": "2024-08-10T19:13:35.388060Z"
    },
    "executionInfo": {
     "elapsed": 466,
     "status": "ok",
     "timestamp": 1723271705714,
     "user": {
      "displayName": "Damian Fernandez",
      "userId": "16135875833693471232"
     },
     "user_tz": 180
    },
    "id": "kTrROXOs-qQq"
   },
   "outputs": [],
   "source": [
    "import pandas as pd\n",
    "import numpy as np\n",
    "import spacy\n",
    "import es_core_news_md\n",
    "import tensorflow as tf\n",
    "\n",
    "from tensorflow.keras.layers import TextVectorization\n",
    "from sklearn.feature_extraction.text import TfidfVectorizer\n",
    "from sklearn.model_selection import train_test_split, StratifiedKFold, GridSearchCV, RandomizedSearchCV\n",
    "from sklearn.metrics import accuracy_score, confusion_matrix, recall_score, precision_score, f1_score, roc_curve, auc\n",
    "from scikeras.wrappers import KerasClassifier          # Wrapper de modelos para poder implementar sklearn.RandomizedSearchCV\n",
    "from sklearn.naive_bayes import GaussianNB\n",
    "from sklearn.linear_model import LogisticRegression\n",
    "\n",
    "import matplotlib.pyplot as plt\n",
    "import seaborn as sns"
   ]
  },
  {
   "cell_type": "markdown",
   "id": "1207ede5-c215-4f44-9c27-ad754c7c385f",
   "metadata": {
    "execution": {
     "iopub.execute_input": "2024-08-10T18:48:00.663980Z",
     "iopub.status.busy": "2024-08-10T18:48:00.663980Z",
     "iopub.status.idle": "2024-08-10T18:48:00.667829Z",
     "shell.execute_reply": "2024-08-10T18:48:00.667829Z",
     "shell.execute_reply.started": "2024-08-10T18:48:00.663980Z"
    }
   },
   "source": [
    "## Funciones para evaluación de modelos"
   ]
  },
  {
   "cell_type": "code",
   "execution_count": 2,
   "id": "3EnHlICi-ktQ",
   "metadata": {
    "execution": {
     "iopub.execute_input": "2024-08-10T19:10:48.561990Z",
     "iopub.status.busy": "2024-08-10T19:10:48.560982Z",
     "iopub.status.idle": "2024-08-10T19:10:48.570789Z",
     "shell.execute_reply": "2024-08-10T19:10:48.570789Z",
     "shell.execute_reply.started": "2024-08-10T19:10:48.561990Z"
    },
    "executionInfo": {
     "elapsed": 346,
     "status": "ok",
     "timestamp": 1723272067475,
     "user": {
      "displayName": "Damian Fernandez",
      "userId": "16135875833693471232"
     },
     "user_tz": 180
    },
    "id": "3EnHlICi-ktQ"
   },
   "outputs": [],
   "source": [
    "def scores_from_true_hat(nombre, y_true, y_hat):\n",
    "    TN, FP, FN, TP = confusion_matrix(y_true, y_hat).ravel()\n",
    "    y_true_p = (y_true == 1).sum()\n",
    "    y_true_n = (y_true == 0).sum()\n",
    "    ratios = [TN/y_true_n, FP/y_true_p, FN/y_true_n, TP/y_true_p]\n",
    "    #rint(f'TN: {TN}, FP: {FP}, FN: {FN}, TP: {TP}')\n",
    "    accuracy = np.round(accuracy_score(y_true, y_hat), 3)\n",
    "    recall = np.round(recall_score(y_true, y_hat), 3)\n",
    "    precision = np.round(precision_score(y_true, y_hat),3)\n",
    "    specificity = np.round((TN/(TN+FP)), 3)\n",
    "    f1 = np.round(f1_score(y_true, y_hat), 3)\n",
    "    df_scores = pd.Series([accuracy, precision, recall, specificity, f1, *[round(x, 2) for x in ratios]],\n",
    "                       index=['accuracy', 'precision', 'recall', 'specificity', 'f1', 'TN_N_ratio', 'FP_P_ratio', 'FN_N_ratio', 'TP_P_ratio'],\n",
    "                      name=nombre)\n",
    "    return df_scores\n",
    "\n",
    "def plot_matrix(nombre, y_true, y_hat):\n",
    "    cm = confusion_matrix(y_true, y_hat)\n",
    "    sns.heatmap(cm, annot=True, fmt='4d', cmap='Blues')\n",
    "    plt.xlabel('Predicción'), plt.ylabel('Reales')\n",
    "    plt.title('Matriz de confusión - ' + nombre, fontsize=14)\n",
    "    plt.tight_layout()\n",
    "    plt.show()\n",
    "\n",
    "def plot_roc_auc(model, nombre, X, y_true):\n",
    "    y_pred_proba = model.predict_proba(X)[:,1]\n",
    "    fpr, tpr, thresholds = roc_curve(y_true, y_pred_proba)\n",
    "    df = pd.DataFrame(dict(fpr=fpr, tpr=tpr, thr = thresholds))\n",
    "\n",
    "    plt.axis([0, 1.01, 0, 1.01])\n",
    "    plt.xlabel('1 - Specificity')\n",
    "    plt.ylabel('TPR / Sensitivity')\n",
    "    plt.title('ROC Curve - ' + nombre, fontsize=14)\n",
    "    plt.plot(df['fpr'],df['tpr'], linewidth=2, color='#253278')\n",
    "    plt.plot(np.arange(0,1, step =0.01), np.arange(0,1, step =0.01), linewidth=2, color='#5c98a2', linestyle='--')\n",
    "    plt.tight_layout()\n",
    "    plt.show()\n",
    "    auc_ = auc(fpr,tpr).round(3)\n",
    "    print(f'AUC: {auc_}')\n",
    "    return auc_\n",
    "\n",
    "def plot_roc_auc_from_proba(nombre, y_true, y_hat_proba):\n",
    "    fpr, tpr, thresholds = roc_curve(y_true, y_hat_proba)\n",
    "    df = pd.DataFrame(dict(fpr=fpr, tpr=tpr, thr = thresholds))\n",
    "\n",
    "    plt.axis([0, 1.01, 0, 1.01])\n",
    "    plt.xlabel('1 - Specificity')\n",
    "    plt.ylabel('TPR / Sensitivity')\n",
    "    plt.title('ROC Curve - ' + nombre, fontsize=14)\n",
    "    plt.plot(df['fpr'],df['tpr'], linewidth=2, color='#253278')\n",
    "    plt.plot(np.arange(0,1, step =0.01), np.arange(0,1, step =0.01), linewidth=2, color='#5c98a2', linestyle='--')\n",
    "    plt.tight_layout()\n",
    "    plt.show()\n",
    "    auc_ = auc(fpr,tpr).round(3)\n",
    "    print(f'AUC: {auc_}')\n",
    "    return auc_"
   ]
  },
  {
   "cell_type": "code",
   "execution_count": 187,
   "id": "5f0f4c6d-b787-4774-beb0-36bee173d899",
   "metadata": {
    "execution": {
     "iopub.execute_input": "2024-08-10T21:08:35.424556Z",
     "iopub.status.busy": "2024-08-10T21:08:35.424556Z",
     "iopub.status.idle": "2024-08-10T21:08:35.431914Z",
     "shell.execute_reply": "2024-08-10T21:08:35.431396Z",
     "shell.execute_reply.started": "2024-08-10T21:08:35.424556Z"
    }
   },
   "outputs": [],
   "source": [
    "df_summary_scores = pd.DataFrame()"
   ]
  },
  {
   "cell_type": "markdown",
   "id": "194375a9-4beb-47d2-b3cd-1047a0057a81",
   "metadata": {
    "id": "8wLoKhWWaqNa"
   },
   "source": [
    "# Lectura de datos"
   ]
  },
  {
   "cell_type": "markdown",
   "id": "2657981d-250c-47f5-9f68-4afeb3b7425c",
   "metadata": {},
   "source": [
    "### Importación de archivo pickle con dataset preprocesado en Actividad 1"
   ]
  },
  {
   "cell_type": "code",
   "execution_count": 219,
   "id": "d6b7821b-9646-4035-85e6-0e0a138a9e95",
   "metadata": {
    "execution": {
     "iopub.execute_input": "2024-08-10T21:29:16.756300Z",
     "iopub.status.busy": "2024-08-10T21:29:16.756300Z",
     "iopub.status.idle": "2024-08-10T21:29:17.325625Z",
     "shell.execute_reply": "2024-08-10T21:29:17.324621Z",
     "shell.execute_reply.started": "2024-08-10T21:29:16.756300Z"
    },
    "executionInfo": {
     "elapsed": 2,
     "status": "ok",
     "timestamp": 1723268379935,
     "user": {
      "displayName": "Damian Fernandez",
      "userId": "16135875833693471232"
     },
     "user_tz": 180
    },
    "id": "d6b7821b-9646-4035-85e6-0e0a138a9e95"
   },
   "outputs": [],
   "source": [
    "file = 'https://raw.githubusercontent.com/damianmdp/ch_nlp_dl/main/tweets_dataset_tokens.pkl'\n",
    "df_token = pd.read_pickle(file)"
   ]
  },
  {
   "cell_type": "code",
   "execution_count": 220,
   "id": "043ab1ea-abd2-4848-925a-008b604e4b57",
   "metadata": {
    "execution": {
     "iopub.execute_input": "2024-08-10T21:29:18.201954Z",
     "iopub.status.busy": "2024-08-10T21:29:18.201954Z",
     "iopub.status.idle": "2024-08-10T21:29:18.212191Z",
     "shell.execute_reply": "2024-08-10T21:29:18.211673Z",
     "shell.execute_reply.started": "2024-08-10T21:29:18.201954Z"
    }
   },
   "outputs": [
    {
     "data": {
      "text/html": [
       "<div>\n",
       "<style scoped>\n",
       "    .dataframe tbody tr th:only-of-type {\n",
       "        vertical-align: middle;\n",
       "    }\n",
       "\n",
       "    .dataframe tbody tr th {\n",
       "        vertical-align: top;\n",
       "    }\n",
       "\n",
       "    .dataframe thead th {\n",
       "        text-align: right;\n",
       "    }\n",
       "</style>\n",
       "<table border=\"1\" class=\"dataframe\">\n",
       "  <thead>\n",
       "    <tr style=\"text-align: right;\">\n",
       "      <th></th>\n",
       "      <th>positive_sentiment</th>\n",
       "      <th>text_tokens</th>\n",
       "    </tr>\n",
       "  </thead>\n",
       "  <tbody>\n",
       "    <tr>\n",
       "      <th>589</th>\n",
       "      <td>False</td>\n",
       "      <td>molestar vacación hora volver aparta 🏃 🏽‍ ♀ ️</td>\n",
       "    </tr>\n",
       "    <tr>\n",
       "      <th>2170</th>\n",
       "      <td>True</td>\n",
       "      <td>to incredulo</td>\n",
       "    </tr>\n",
       "    <tr>\n",
       "      <th>144</th>\n",
       "      <td>False</td>\n",
       "      <td>negar sentir yo avergonzado forma amé negar se...</td>\n",
       "    </tr>\n",
       "    <tr>\n",
       "      <th>339</th>\n",
       "      <td>False</td>\n",
       "      <td>gobierno verdad medias mentiroso gobierno coma...</td>\n",
       "    </tr>\n",
       "    <tr>\n",
       "      <th>143</th>\n",
       "      <td>False</td>\n",
       "      <td>avergonzado profundidad amor elegir amarte cos...</td>\n",
       "    </tr>\n",
       "  </tbody>\n",
       "</table>\n",
       "</div>"
      ],
      "text/plain": [
       "      positive_sentiment                                        text_tokens\n",
       "589                False      molestar vacación hora volver aparta 🏃 🏽‍ ♀ ️\n",
       "2170                True                                       to incredulo\n",
       "144                False  negar sentir yo avergonzado forma amé negar se...\n",
       "339                False  gobierno verdad medias mentiroso gobierno coma...\n",
       "143                False  avergonzado profundidad amor elegir amarte cos..."
      ]
     },
     "execution_count": 220,
     "metadata": {},
     "output_type": "execute_result"
    }
   ],
   "source": [
    "df_token.sample(5)"
   ]
  },
  {
   "cell_type": "code",
   "execution_count": 143,
   "id": "37c5fe14-b134-412d-bbcb-d4f732c282ea",
   "metadata": {
    "execution": {
     "iopub.execute_input": "2024-08-10T21:02:41.447300Z",
     "iopub.status.busy": "2024-08-10T21:02:41.447300Z",
     "iopub.status.idle": "2024-08-10T21:02:41.455014Z",
     "shell.execute_reply": "2024-08-10T21:02:41.455014Z",
     "shell.execute_reply.started": "2024-08-10T21:02:41.447300Z"
    },
    "executionInfo": {
     "elapsed": 330,
     "status": "ok",
     "timestamp": 1723268385073,
     "user": {
      "displayName": "Damian Fernandez",
      "userId": "16135875833693471232"
     },
     "user_tz": 180
    },
    "id": "37c5fe14-b134-412d-bbcb-d4f732c282ea"
   },
   "outputs": [],
   "source": [
    "X = df_token['text_tokens']\n",
    "y = df_token['positive_sentiment']"
   ]
  },
  {
   "cell_type": "code",
   "execution_count": 144,
   "id": "lAdLE00B_NqU",
   "metadata": {
    "colab": {
     "base_uri": "https://localhost:8080/"
    },
    "execution": {
     "iopub.execute_input": "2024-08-10T21:02:41.798802Z",
     "iopub.status.busy": "2024-08-10T21:02:41.798802Z",
     "iopub.status.idle": "2024-08-10T21:02:41.805500Z",
     "shell.execute_reply": "2024-08-10T21:02:41.804989Z",
     "shell.execute_reply.started": "2024-08-10T21:02:41.798802Z"
    },
    "executionInfo": {
     "elapsed": 2,
     "status": "ok",
     "timestamp": 1723268385533,
     "user": {
      "displayName": "Damian Fernandez",
      "userId": "16135875833693471232"
     },
     "user_tz": 180
    },
    "id": "lAdLE00B_NqU",
    "outputId": "9f1fdcbf-beff-440d-8f8b-c447a4ae4362"
   },
   "outputs": [
    {
     "data": {
      "text/plain": [
       "((2189,), (2189,))"
      ]
     },
     "execution_count": 144,
     "metadata": {},
     "output_type": "execute_result"
    }
   ],
   "source": [
    "X.shape, y.shape"
   ]
  },
  {
   "cell_type": "markdown",
   "id": "07c7ef77-c62d-4be4-a91d-44e490368ef3",
   "metadata": {
    "id": "cdfdb978-0f39-4d12-b580-fb5cf96056cf"
   },
   "source": [
    "# Modelo con Machine Learning"
   ]
  },
  {
   "cell_type": "markdown",
   "id": "9c642d33-fdf1-44e2-aecd-4c6546f5c862",
   "metadata": {
    "id": "9c642d33-fdf1-44e2-aecd-4c6546f5c862"
   },
   "source": [
    "### División de datos en conjuntos de entrenamiento, validación y prueba"
   ]
  },
  {
   "cell_type": "code",
   "execution_count": 145,
   "id": "d09b5761-4098-4d29-a1b6-56496af67c74",
   "metadata": {
    "execution": {
     "iopub.execute_input": "2024-08-10T21:02:45.059181Z",
     "iopub.status.busy": "2024-08-10T21:02:45.059181Z",
     "iopub.status.idle": "2024-08-10T21:02:45.069846Z",
     "shell.execute_reply": "2024-08-10T21:02:45.069846Z",
     "shell.execute_reply.started": "2024-08-10T21:02:45.059181Z"
    },
    "executionInfo": {
     "elapsed": 327,
     "status": "ok",
     "timestamp": 1723268387019,
     "user": {
      "displayName": "Damian Fernandez",
      "userId": "16135875833693471232"
     },
     "user_tz": 180
    },
    "id": "d09b5761-4098-4d29-a1b6-56496af67c74"
   },
   "outputs": [],
   "source": [
    "X_train, X_test, y_train, y_test = train_test_split(X, y, test_size=0.3, random_state=42)"
   ]
  },
  {
   "cell_type": "code",
   "execution_count": 146,
   "id": "509170b0-7bca-4b20-bee7-e371578589d7",
   "metadata": {
    "colab": {
     "base_uri": "https://localhost:8080/"
    },
    "execution": {
     "iopub.execute_input": "2024-08-10T21:02:45.457759Z",
     "iopub.status.busy": "2024-08-10T21:02:45.457759Z",
     "iopub.status.idle": "2024-08-10T21:02:45.466303Z",
     "shell.execute_reply": "2024-08-10T21:02:45.465785Z",
     "shell.execute_reply.started": "2024-08-10T21:02:45.457759Z"
    },
    "executionInfo": {
     "elapsed": 328,
     "status": "ok",
     "timestamp": 1723268390747,
     "user": {
      "displayName": "Damian Fernandez",
      "userId": "16135875833693471232"
     },
     "user_tz": 180
    },
    "id": "509170b0-7bca-4b20-bee7-e371578589d7",
    "outputId": "34d8f785-753a-40fb-fbbf-62460422c07b"
   },
   "outputs": [
    {
     "data": {
      "text/plain": [
       "((1532,), (657,))"
      ]
     },
     "execution_count": 146,
     "metadata": {},
     "output_type": "execute_result"
    }
   ],
   "source": [
    "X_train.shape, X_test.shape"
   ]
  },
  {
   "cell_type": "markdown",
   "id": "ac62e6fc-1a86-4088-98a0-92af6ff1e62a",
   "metadata": {
    "id": "CL-HKfCMZytu"
   },
   "source": [
    "### Vectorización TF-IDF de Scikit-Learn"
   ]
  },
  {
   "cell_type": "code",
   "execution_count": 173,
   "id": "3082987d-1791-4960-a997-3c1326346579",
   "metadata": {
    "execution": {
     "iopub.execute_input": "2024-08-10T21:05:06.539497Z",
     "iopub.status.busy": "2024-08-10T21:05:06.539497Z",
     "iopub.status.idle": "2024-08-10T21:05:06.573111Z",
     "shell.execute_reply": "2024-08-10T21:05:06.573111Z",
     "shell.execute_reply.started": "2024-08-10T21:05:06.539497Z"
    },
    "executionInfo": {
     "elapsed": 309,
     "status": "ok",
     "timestamp": 1721841834801,
     "user": {
      "displayName": "Damián Fernández",
      "userId": "14452038413294088809"
     },
     "user_tz": 180
    },
    "id": "db02yk_hZytv"
   },
   "outputs": [],
   "source": [
    "tfidf_vectorizer = TfidfVectorizer()\n",
    "X_train_tfidf = tfidf_vectorizer.fit_transform(X_train)\n",
    "X_test_tfidf = tfidf_vectorizer.transform(X_test)"
   ]
  },
  {
   "cell_type": "markdown",
   "id": "80fd942e-45a2-4da0-8f32-474b9652b8af",
   "metadata": {},
   "source": [
    "## Modelo de Naive Bayes Gaussiano"
   ]
  },
  {
   "cell_type": "code",
   "execution_count": 174,
   "id": "cdf373b3-6e0a-455d-960f-d25e8cc071b9",
   "metadata": {
    "execution": {
     "iopub.execute_input": "2024-08-10T21:05:07.134688Z",
     "iopub.status.busy": "2024-08-10T21:05:07.134180Z",
     "iopub.status.idle": "2024-08-10T21:05:07.321587Z",
     "shell.execute_reply": "2024-08-10T21:05:07.321587Z",
     "shell.execute_reply.started": "2024-08-10T21:05:07.134688Z"
    }
   },
   "outputs": [
    {
     "data": {
      "text/html": [
       "<style>#sk-container-id-16 {\n",
       "  /* Definition of color scheme common for light and dark mode */\n",
       "  --sklearn-color-text: black;\n",
       "  --sklearn-color-line: gray;\n",
       "  /* Definition of color scheme for unfitted estimators */\n",
       "  --sklearn-color-unfitted-level-0: #fff5e6;\n",
       "  --sklearn-color-unfitted-level-1: #f6e4d2;\n",
       "  --sklearn-color-unfitted-level-2: #ffe0b3;\n",
       "  --sklearn-color-unfitted-level-3: chocolate;\n",
       "  /* Definition of color scheme for fitted estimators */\n",
       "  --sklearn-color-fitted-level-0: #f0f8ff;\n",
       "  --sklearn-color-fitted-level-1: #d4ebff;\n",
       "  --sklearn-color-fitted-level-2: #b3dbfd;\n",
       "  --sklearn-color-fitted-level-3: cornflowerblue;\n",
       "\n",
       "  /* Specific color for light theme */\n",
       "  --sklearn-color-text-on-default-background: var(--sg-text-color, var(--theme-code-foreground, var(--jp-content-font-color1, black)));\n",
       "  --sklearn-color-background: var(--sg-background-color, var(--theme-background, var(--jp-layout-color0, white)));\n",
       "  --sklearn-color-border-box: var(--sg-text-color, var(--theme-code-foreground, var(--jp-content-font-color1, black)));\n",
       "  --sklearn-color-icon: #696969;\n",
       "\n",
       "  @media (prefers-color-scheme: dark) {\n",
       "    /* Redefinition of color scheme for dark theme */\n",
       "    --sklearn-color-text-on-default-background: var(--sg-text-color, var(--theme-code-foreground, var(--jp-content-font-color1, white)));\n",
       "    --sklearn-color-background: var(--sg-background-color, var(--theme-background, var(--jp-layout-color0, #111)));\n",
       "    --sklearn-color-border-box: var(--sg-text-color, var(--theme-code-foreground, var(--jp-content-font-color1, white)));\n",
       "    --sklearn-color-icon: #878787;\n",
       "  }\n",
       "}\n",
       "\n",
       "#sk-container-id-16 {\n",
       "  color: var(--sklearn-color-text);\n",
       "}\n",
       "\n",
       "#sk-container-id-16 pre {\n",
       "  padding: 0;\n",
       "}\n",
       "\n",
       "#sk-container-id-16 input.sk-hidden--visually {\n",
       "  border: 0;\n",
       "  clip: rect(1px 1px 1px 1px);\n",
       "  clip: rect(1px, 1px, 1px, 1px);\n",
       "  height: 1px;\n",
       "  margin: -1px;\n",
       "  overflow: hidden;\n",
       "  padding: 0;\n",
       "  position: absolute;\n",
       "  width: 1px;\n",
       "}\n",
       "\n",
       "#sk-container-id-16 div.sk-dashed-wrapped {\n",
       "  border: 1px dashed var(--sklearn-color-line);\n",
       "  margin: 0 0.4em 0.5em 0.4em;\n",
       "  box-sizing: border-box;\n",
       "  padding-bottom: 0.4em;\n",
       "  background-color: var(--sklearn-color-background);\n",
       "}\n",
       "\n",
       "#sk-container-id-16 div.sk-container {\n",
       "  /* jupyter's `normalize.less` sets `[hidden] { display: none; }`\n",
       "     but bootstrap.min.css set `[hidden] { display: none !important; }`\n",
       "     so we also need the `!important` here to be able to override the\n",
       "     default hidden behavior on the sphinx rendered scikit-learn.org.\n",
       "     See: https://github.com/scikit-learn/scikit-learn/issues/21755 */\n",
       "  display: inline-block !important;\n",
       "  position: relative;\n",
       "}\n",
       "\n",
       "#sk-container-id-16 div.sk-text-repr-fallback {\n",
       "  display: none;\n",
       "}\n",
       "\n",
       "div.sk-parallel-item,\n",
       "div.sk-serial,\n",
       "div.sk-item {\n",
       "  /* draw centered vertical line to link estimators */\n",
       "  background-image: linear-gradient(var(--sklearn-color-text-on-default-background), var(--sklearn-color-text-on-default-background));\n",
       "  background-size: 2px 100%;\n",
       "  background-repeat: no-repeat;\n",
       "  background-position: center center;\n",
       "}\n",
       "\n",
       "/* Parallel-specific style estimator block */\n",
       "\n",
       "#sk-container-id-16 div.sk-parallel-item::after {\n",
       "  content: \"\";\n",
       "  width: 100%;\n",
       "  border-bottom: 2px solid var(--sklearn-color-text-on-default-background);\n",
       "  flex-grow: 1;\n",
       "}\n",
       "\n",
       "#sk-container-id-16 div.sk-parallel {\n",
       "  display: flex;\n",
       "  align-items: stretch;\n",
       "  justify-content: center;\n",
       "  background-color: var(--sklearn-color-background);\n",
       "  position: relative;\n",
       "}\n",
       "\n",
       "#sk-container-id-16 div.sk-parallel-item {\n",
       "  display: flex;\n",
       "  flex-direction: column;\n",
       "}\n",
       "\n",
       "#sk-container-id-16 div.sk-parallel-item:first-child::after {\n",
       "  align-self: flex-end;\n",
       "  width: 50%;\n",
       "}\n",
       "\n",
       "#sk-container-id-16 div.sk-parallel-item:last-child::after {\n",
       "  align-self: flex-start;\n",
       "  width: 50%;\n",
       "}\n",
       "\n",
       "#sk-container-id-16 div.sk-parallel-item:only-child::after {\n",
       "  width: 0;\n",
       "}\n",
       "\n",
       "/* Serial-specific style estimator block */\n",
       "\n",
       "#sk-container-id-16 div.sk-serial {\n",
       "  display: flex;\n",
       "  flex-direction: column;\n",
       "  align-items: center;\n",
       "  background-color: var(--sklearn-color-background);\n",
       "  padding-right: 1em;\n",
       "  padding-left: 1em;\n",
       "}\n",
       "\n",
       "\n",
       "/* Toggleable style: style used for estimator/Pipeline/ColumnTransformer box that is\n",
       "clickable and can be expanded/collapsed.\n",
       "- Pipeline and ColumnTransformer use this feature and define the default style\n",
       "- Estimators will overwrite some part of the style using the `sk-estimator` class\n",
       "*/\n",
       "\n",
       "/* Pipeline and ColumnTransformer style (default) */\n",
       "\n",
       "#sk-container-id-16 div.sk-toggleable {\n",
       "  /* Default theme specific background. It is overwritten whether we have a\n",
       "  specific estimator or a Pipeline/ColumnTransformer */\n",
       "  background-color: var(--sklearn-color-background);\n",
       "}\n",
       "\n",
       "/* Toggleable label */\n",
       "#sk-container-id-16 label.sk-toggleable__label {\n",
       "  cursor: pointer;\n",
       "  display: block;\n",
       "  width: 100%;\n",
       "  margin-bottom: 0;\n",
       "  padding: 0.5em;\n",
       "  box-sizing: border-box;\n",
       "  text-align: center;\n",
       "}\n",
       "\n",
       "#sk-container-id-16 label.sk-toggleable__label-arrow:before {\n",
       "  /* Arrow on the left of the label */\n",
       "  content: \"▸\";\n",
       "  float: left;\n",
       "  margin-right: 0.25em;\n",
       "  color: var(--sklearn-color-icon);\n",
       "}\n",
       "\n",
       "#sk-container-id-16 label.sk-toggleable__label-arrow:hover:before {\n",
       "  color: var(--sklearn-color-text);\n",
       "}\n",
       "\n",
       "/* Toggleable content - dropdown */\n",
       "\n",
       "#sk-container-id-16 div.sk-toggleable__content {\n",
       "  max-height: 0;\n",
       "  max-width: 0;\n",
       "  overflow: hidden;\n",
       "  text-align: left;\n",
       "  /* unfitted */\n",
       "  background-color: var(--sklearn-color-unfitted-level-0);\n",
       "}\n",
       "\n",
       "#sk-container-id-16 div.sk-toggleable__content.fitted {\n",
       "  /* fitted */\n",
       "  background-color: var(--sklearn-color-fitted-level-0);\n",
       "}\n",
       "\n",
       "#sk-container-id-16 div.sk-toggleable__content pre {\n",
       "  margin: 0.2em;\n",
       "  border-radius: 0.25em;\n",
       "  color: var(--sklearn-color-text);\n",
       "  /* unfitted */\n",
       "  background-color: var(--sklearn-color-unfitted-level-0);\n",
       "}\n",
       "\n",
       "#sk-container-id-16 div.sk-toggleable__content.fitted pre {\n",
       "  /* unfitted */\n",
       "  background-color: var(--sklearn-color-fitted-level-0);\n",
       "}\n",
       "\n",
       "#sk-container-id-16 input.sk-toggleable__control:checked~div.sk-toggleable__content {\n",
       "  /* Expand drop-down */\n",
       "  max-height: 200px;\n",
       "  max-width: 100%;\n",
       "  overflow: auto;\n",
       "}\n",
       "\n",
       "#sk-container-id-16 input.sk-toggleable__control:checked~label.sk-toggleable__label-arrow:before {\n",
       "  content: \"▾\";\n",
       "}\n",
       "\n",
       "/* Pipeline/ColumnTransformer-specific style */\n",
       "\n",
       "#sk-container-id-16 div.sk-label input.sk-toggleable__control:checked~label.sk-toggleable__label {\n",
       "  color: var(--sklearn-color-text);\n",
       "  background-color: var(--sklearn-color-unfitted-level-2);\n",
       "}\n",
       "\n",
       "#sk-container-id-16 div.sk-label.fitted input.sk-toggleable__control:checked~label.sk-toggleable__label {\n",
       "  background-color: var(--sklearn-color-fitted-level-2);\n",
       "}\n",
       "\n",
       "/* Estimator-specific style */\n",
       "\n",
       "/* Colorize estimator box */\n",
       "#sk-container-id-16 div.sk-estimator input.sk-toggleable__control:checked~label.sk-toggleable__label {\n",
       "  /* unfitted */\n",
       "  background-color: var(--sklearn-color-unfitted-level-2);\n",
       "}\n",
       "\n",
       "#sk-container-id-16 div.sk-estimator.fitted input.sk-toggleable__control:checked~label.sk-toggleable__label {\n",
       "  /* fitted */\n",
       "  background-color: var(--sklearn-color-fitted-level-2);\n",
       "}\n",
       "\n",
       "#sk-container-id-16 div.sk-label label.sk-toggleable__label,\n",
       "#sk-container-id-16 div.sk-label label {\n",
       "  /* The background is the default theme color */\n",
       "  color: var(--sklearn-color-text-on-default-background);\n",
       "}\n",
       "\n",
       "/* On hover, darken the color of the background */\n",
       "#sk-container-id-16 div.sk-label:hover label.sk-toggleable__label {\n",
       "  color: var(--sklearn-color-text);\n",
       "  background-color: var(--sklearn-color-unfitted-level-2);\n",
       "}\n",
       "\n",
       "/* Label box, darken color on hover, fitted */\n",
       "#sk-container-id-16 div.sk-label.fitted:hover label.sk-toggleable__label.fitted {\n",
       "  color: var(--sklearn-color-text);\n",
       "  background-color: var(--sklearn-color-fitted-level-2);\n",
       "}\n",
       "\n",
       "/* Estimator label */\n",
       "\n",
       "#sk-container-id-16 div.sk-label label {\n",
       "  font-family: monospace;\n",
       "  font-weight: bold;\n",
       "  display: inline-block;\n",
       "  line-height: 1.2em;\n",
       "}\n",
       "\n",
       "#sk-container-id-16 div.sk-label-container {\n",
       "  text-align: center;\n",
       "}\n",
       "\n",
       "/* Estimator-specific */\n",
       "#sk-container-id-16 div.sk-estimator {\n",
       "  font-family: monospace;\n",
       "  border: 1px dotted var(--sklearn-color-border-box);\n",
       "  border-radius: 0.25em;\n",
       "  box-sizing: border-box;\n",
       "  margin-bottom: 0.5em;\n",
       "  /* unfitted */\n",
       "  background-color: var(--sklearn-color-unfitted-level-0);\n",
       "}\n",
       "\n",
       "#sk-container-id-16 div.sk-estimator.fitted {\n",
       "  /* fitted */\n",
       "  background-color: var(--sklearn-color-fitted-level-0);\n",
       "}\n",
       "\n",
       "/* on hover */\n",
       "#sk-container-id-16 div.sk-estimator:hover {\n",
       "  /* unfitted */\n",
       "  background-color: var(--sklearn-color-unfitted-level-2);\n",
       "}\n",
       "\n",
       "#sk-container-id-16 div.sk-estimator.fitted:hover {\n",
       "  /* fitted */\n",
       "  background-color: var(--sklearn-color-fitted-level-2);\n",
       "}\n",
       "\n",
       "/* Specification for estimator info (e.g. \"i\" and \"?\") */\n",
       "\n",
       "/* Common style for \"i\" and \"?\" */\n",
       "\n",
       ".sk-estimator-doc-link,\n",
       "a:link.sk-estimator-doc-link,\n",
       "a:visited.sk-estimator-doc-link {\n",
       "  float: right;\n",
       "  font-size: smaller;\n",
       "  line-height: 1em;\n",
       "  font-family: monospace;\n",
       "  background-color: var(--sklearn-color-background);\n",
       "  border-radius: 1em;\n",
       "  height: 1em;\n",
       "  width: 1em;\n",
       "  text-decoration: none !important;\n",
       "  margin-left: 1ex;\n",
       "  /* unfitted */\n",
       "  border: var(--sklearn-color-unfitted-level-1) 1pt solid;\n",
       "  color: var(--sklearn-color-unfitted-level-1);\n",
       "}\n",
       "\n",
       ".sk-estimator-doc-link.fitted,\n",
       "a:link.sk-estimator-doc-link.fitted,\n",
       "a:visited.sk-estimator-doc-link.fitted {\n",
       "  /* fitted */\n",
       "  border: var(--sklearn-color-fitted-level-1) 1pt solid;\n",
       "  color: var(--sklearn-color-fitted-level-1);\n",
       "}\n",
       "\n",
       "/* On hover */\n",
       "div.sk-estimator:hover .sk-estimator-doc-link:hover,\n",
       ".sk-estimator-doc-link:hover,\n",
       "div.sk-label-container:hover .sk-estimator-doc-link:hover,\n",
       ".sk-estimator-doc-link:hover {\n",
       "  /* unfitted */\n",
       "  background-color: var(--sklearn-color-unfitted-level-3);\n",
       "  color: var(--sklearn-color-background);\n",
       "  text-decoration: none;\n",
       "}\n",
       "\n",
       "div.sk-estimator.fitted:hover .sk-estimator-doc-link.fitted:hover,\n",
       ".sk-estimator-doc-link.fitted:hover,\n",
       "div.sk-label-container:hover .sk-estimator-doc-link.fitted:hover,\n",
       ".sk-estimator-doc-link.fitted:hover {\n",
       "  /* fitted */\n",
       "  background-color: var(--sklearn-color-fitted-level-3);\n",
       "  color: var(--sklearn-color-background);\n",
       "  text-decoration: none;\n",
       "}\n",
       "\n",
       "/* Span, style for the box shown on hovering the info icon */\n",
       ".sk-estimator-doc-link span {\n",
       "  display: none;\n",
       "  z-index: 9999;\n",
       "  position: relative;\n",
       "  font-weight: normal;\n",
       "  right: .2ex;\n",
       "  padding: .5ex;\n",
       "  margin: .5ex;\n",
       "  width: min-content;\n",
       "  min-width: 20ex;\n",
       "  max-width: 50ex;\n",
       "  color: var(--sklearn-color-text);\n",
       "  box-shadow: 2pt 2pt 4pt #999;\n",
       "  /* unfitted */\n",
       "  background: var(--sklearn-color-unfitted-level-0);\n",
       "  border: .5pt solid var(--sklearn-color-unfitted-level-3);\n",
       "}\n",
       "\n",
       ".sk-estimator-doc-link.fitted span {\n",
       "  /* fitted */\n",
       "  background: var(--sklearn-color-fitted-level-0);\n",
       "  border: var(--sklearn-color-fitted-level-3);\n",
       "}\n",
       "\n",
       ".sk-estimator-doc-link:hover span {\n",
       "  display: block;\n",
       "}\n",
       "\n",
       "/* \"?\"-specific style due to the `<a>` HTML tag */\n",
       "\n",
       "#sk-container-id-16 a.estimator_doc_link {\n",
       "  float: right;\n",
       "  font-size: 1rem;\n",
       "  line-height: 1em;\n",
       "  font-family: monospace;\n",
       "  background-color: var(--sklearn-color-background);\n",
       "  border-radius: 1rem;\n",
       "  height: 1rem;\n",
       "  width: 1rem;\n",
       "  text-decoration: none;\n",
       "  /* unfitted */\n",
       "  color: var(--sklearn-color-unfitted-level-1);\n",
       "  border: var(--sklearn-color-unfitted-level-1) 1pt solid;\n",
       "}\n",
       "\n",
       "#sk-container-id-16 a.estimator_doc_link.fitted {\n",
       "  /* fitted */\n",
       "  border: var(--sklearn-color-fitted-level-1) 1pt solid;\n",
       "  color: var(--sklearn-color-fitted-level-1);\n",
       "}\n",
       "\n",
       "/* On hover */\n",
       "#sk-container-id-16 a.estimator_doc_link:hover {\n",
       "  /* unfitted */\n",
       "  background-color: var(--sklearn-color-unfitted-level-3);\n",
       "  color: var(--sklearn-color-background);\n",
       "  text-decoration: none;\n",
       "}\n",
       "\n",
       "#sk-container-id-16 a.estimator_doc_link.fitted:hover {\n",
       "  /* fitted */\n",
       "  background-color: var(--sklearn-color-fitted-level-3);\n",
       "}\n",
       "</style><div id=\"sk-container-id-16\" class=\"sk-top-container\"><div class=\"sk-text-repr-fallback\"><pre>GaussianNB()</pre><b>In a Jupyter environment, please rerun this cell to show the HTML representation or trust the notebook. <br />On GitHub, the HTML representation is unable to render, please try loading this page with nbviewer.org.</b></div><div class=\"sk-container\" hidden><div class=\"sk-item\"><div class=\"sk-estimator fitted sk-toggleable\"><input class=\"sk-toggleable__control sk-hidden--visually\" id=\"sk-estimator-id-36\" type=\"checkbox\" checked><label for=\"sk-estimator-id-36\" class=\"sk-toggleable__label fitted sk-toggleable__label-arrow fitted\">&nbsp;&nbsp;GaussianNB<a class=\"sk-estimator-doc-link fitted\" rel=\"noreferrer\" target=\"_blank\" href=\"https://scikit-learn.org/1.5/modules/generated/sklearn.naive_bayes.GaussianNB.html\">?<span>Documentation for GaussianNB</span></a><span class=\"sk-estimator-doc-link fitted\">i<span>Fitted</span></span></label><div class=\"sk-toggleable__content fitted\"><pre>GaussianNB()</pre></div> </div></div></div></div>"
      ],
      "text/plain": [
       "GaussianNB()"
      ]
     },
     "execution_count": 174,
     "metadata": {},
     "output_type": "execute_result"
    }
   ],
   "source": [
    "nombre = 'Naive Bayes Gaussiano'\n",
    "model_nb = GaussianNB()\n",
    "model_nb.fit(X_train_tfidf.toarray(), y_train)"
   ]
  },
  {
   "cell_type": "markdown",
   "id": "da693370-fde7-466c-be37-f43bc30cf431",
   "metadata": {},
   "source": [
    "### Evaluación"
   ]
  },
  {
   "cell_type": "markdown",
   "id": "10e9e111-eae4-493b-8560-328743d09aca",
   "metadata": {},
   "source": [
    "#### Scores"
   ]
  },
  {
   "cell_type": "code",
   "execution_count": 188,
   "id": "f44f544b-760d-4cf6-822f-2cdbd6d0397d",
   "metadata": {
    "execution": {
     "iopub.execute_input": "2024-08-10T21:08:47.516667Z",
     "iopub.status.busy": "2024-08-10T21:08:47.516667Z",
     "iopub.status.idle": "2024-08-10T21:08:47.612219Z",
     "shell.execute_reply": "2024-08-10T21:08:47.612219Z",
     "shell.execute_reply.started": "2024-08-10T21:08:47.516667Z"
    },
    "scrolled": true
   },
   "outputs": [
    {
     "data": {
      "text/html": [
       "<div>\n",
       "<style scoped>\n",
       "    .dataframe tbody tr th:only-of-type {\n",
       "        vertical-align: middle;\n",
       "    }\n",
       "\n",
       "    .dataframe tbody tr th {\n",
       "        vertical-align: top;\n",
       "    }\n",
       "\n",
       "    .dataframe thead th {\n",
       "        text-align: right;\n",
       "    }\n",
       "</style>\n",
       "<table border=\"1\" class=\"dataframe\">\n",
       "  <thead>\n",
       "    <tr style=\"text-align: right;\">\n",
       "      <th></th>\n",
       "      <th>score</th>\n",
       "    </tr>\n",
       "  </thead>\n",
       "  <tbody>\n",
       "    <tr>\n",
       "      <th>accuracy</th>\n",
       "      <td>0.674</td>\n",
       "    </tr>\n",
       "    <tr>\n",
       "      <th>precision</th>\n",
       "      <td>0.709</td>\n",
       "    </tr>\n",
       "    <tr>\n",
       "      <th>recall</th>\n",
       "      <td>0.682</td>\n",
       "    </tr>\n",
       "    <tr>\n",
       "      <th>specificity</th>\n",
       "      <td>0.666</td>\n",
       "    </tr>\n",
       "    <tr>\n",
       "      <th>f1</th>\n",
       "      <td>0.695</td>\n",
       "    </tr>\n",
       "  </tbody>\n",
       "</table>\n",
       "</div>"
      ],
      "text/plain": [
       "             score\n",
       "accuracy     0.674\n",
       "precision    0.709\n",
       "recall       0.682\n",
       "specificity  0.666\n",
       "f1           0.695"
      ]
     },
     "execution_count": 188,
     "metadata": {},
     "output_type": "execute_result"
    }
   ],
   "source": [
    "y_test_hat = model_nb.predict(X_test_tfidf.toarray())\n",
    "scores = scores_from_true_hat(nombre, y_test, y_test_hat)\n",
    "df_summary_scores = pd.concat([df_summary_scores, scores], axis=1)\n",
    "scores[0:5].to_frame(name='score')"
   ]
  },
  {
   "cell_type": "markdown",
   "id": "f4d74175-1e8f-47cc-825b-64dadd43ea9a",
   "metadata": {
    "execution": {
     "iopub.execute_input": "2022-09-09T21:30:33.838387Z",
     "iopub.status.busy": "2022-09-09T21:30:33.838387Z",
     "iopub.status.idle": "2022-09-09T21:30:33.854052Z",
     "shell.execute_reply": "2022-09-09T21:30:33.854052Z",
     "shell.execute_reply.started": "2022-09-09T21:30:33.838387Z"
    }
   },
   "source": [
    "#### Matriz de confusión"
   ]
  },
  {
   "cell_type": "code",
   "execution_count": 191,
   "id": "67f59afe-342b-4d6e-b4d1-6406537b833e",
   "metadata": {
    "execution": {
     "iopub.execute_input": "2024-08-10T21:08:58.762248Z",
     "iopub.status.busy": "2024-08-10T21:08:58.762248Z",
     "iopub.status.idle": "2024-08-10T21:08:58.896401Z",
     "shell.execute_reply": "2024-08-10T21:08:58.896401Z",
     "shell.execute_reply.started": "2024-08-10T21:08:58.762248Z"
    }
   },
   "outputs": [
    {
     "data": {
      "image/png": "[encoded data removed]",
      "text/plain": [
       "<Figure size 640x480 with 2 Axes>"
      ]
     },
     "metadata": {},
     "output_type": "display_data"
    }
   ],
   "source": [
    "plot_matrix(nombre, y_test, y_test_hat)"
   ]
  },
  {
   "cell_type": "markdown",
   "id": "d6f69a2a-f6e4-474b-a21b-fb5e0179a988",
   "metadata": {},
   "source": [
    "#### Gráfico de curva ROC y cálculo de área bajo la curva"
   ]
  },
  {
   "cell_type": "code",
   "execution_count": 192,
   "id": "ef593f50-bd6f-4ea6-86b1-2fe439475bc3",
   "metadata": {
    "execution": {
     "iopub.execute_input": "2024-08-10T21:09:00.192187Z",
     "iopub.status.busy": "2024-08-10T21:09:00.192187Z",
     "iopub.status.idle": "2024-08-10T21:09:00.380030Z",
     "shell.execute_reply": "2024-08-10T21:09:00.380030Z",
     "shell.execute_reply.started": "2024-08-10T21:09:00.192187Z"
    }
   },
   "outputs": [
    {
     "data": {
      "image/png": "[encoded data removed]",
      "text/plain": [
       "<Figure size 640x480 with 1 Axes>"
      ]
     },
     "metadata": {},
     "output_type": "display_data"
    },
    {
     "name": "stdout",
     "output_type": "stream",
     "text": [
      "AUC: 0.674\n"
     ]
    }
   ],
   "source": [
    "auc_metric = plot_roc_auc(model_nb, nombre, X_test_tfidf.toarray(), y_test)\n",
    "df_summary_scores.loc['AUC', nombre] = auc_metric"
   ]
  },
  {
   "cell_type": "markdown",
   "id": "61b784dc-f5c9-4dde-8e85-3f807621d72c",
   "metadata": {},
   "source": [
    "## Modelo de Regresión Logística"
   ]
  },
  {
   "cell_type": "code",
   "execution_count": 193,
   "id": "b429b200-b203-4386-8421-76a35a6259d3",
   "metadata": {
    "execution": {
     "iopub.execute_input": "2024-08-10T21:09:02.301531Z",
     "iopub.status.busy": "2024-08-10T21:09:02.301531Z",
     "iopub.status.idle": "2024-08-10T21:09:02.331639Z",
     "shell.execute_reply": "2024-08-10T21:09:02.331133Z",
     "shell.execute_reply.started": "2024-08-10T21:09:02.301531Z"
    }
   },
   "outputs": [
    {
     "data": {
      "text/html": [
       "<style>#sk-container-id-17 {\n",
       "  /* Definition of color scheme common for light and dark mode */\n",
       "  --sklearn-color-text: black;\n",
       "  --sklearn-color-line: gray;\n",
       "  /* Definition of color scheme for unfitted estimators */\n",
       "  --sklearn-color-unfitted-level-0: #fff5e6;\n",
       "  --sklearn-color-unfitted-level-1: #f6e4d2;\n",
       "  --sklearn-color-unfitted-level-2: #ffe0b3;\n",
       "  --sklearn-color-unfitted-level-3: chocolate;\n",
       "  /* Definition of color scheme for fitted estimators */\n",
       "  --sklearn-color-fitted-level-0: #f0f8ff;\n",
       "  --sklearn-color-fitted-level-1: #d4ebff;\n",
       "  --sklearn-color-fitted-level-2: #b3dbfd;\n",
       "  --sklearn-color-fitted-level-3: cornflowerblue;\n",
       "\n",
       "  /* Specific color for light theme */\n",
       "  --sklearn-color-text-on-default-background: var(--sg-text-color, var(--theme-code-foreground, var(--jp-content-font-color1, black)));\n",
       "  --sklearn-color-background: var(--sg-background-color, var(--theme-background, var(--jp-layout-color0, white)));\n",
       "  --sklearn-color-border-box: var(--sg-text-color, var(--theme-code-foreground, var(--jp-content-font-color1, black)));\n",
       "  --sklearn-color-icon: #696969;\n",
       "\n",
       "  @media (prefers-color-scheme: dark) {\n",
       "    /* Redefinition of color scheme for dark theme */\n",
       "    --sklearn-color-text-on-default-background: var(--sg-text-color, var(--theme-code-foreground, var(--jp-content-font-color1, white)));\n",
       "    --sklearn-color-background: var(--sg-background-color, var(--theme-background, var(--jp-layout-color0, #111)));\n",
       "    --sklearn-color-border-box: var(--sg-text-color, var(--theme-code-foreground, var(--jp-content-font-color1, white)));\n",
       "    --sklearn-color-icon: #878787;\n",
       "  }\n",
       "}\n",
       "\n",
       "#sk-container-id-17 {\n",
       "  color: var(--sklearn-color-text);\n",
       "}\n",
       "\n",
       "#sk-container-id-17 pre {\n",
       "  padding: 0;\n",
       "}\n",
       "\n",
       "#sk-container-id-17 input.sk-hidden--visually {\n",
       "  border: 0;\n",
       "  clip: rect(1px 1px 1px 1px);\n",
       "  clip: rect(1px, 1px, 1px, 1px);\n",
       "  height: 1px;\n",
       "  margin: -1px;\n",
       "  overflow: hidden;\n",
       "  padding: 0;\n",
       "  position: absolute;\n",
       "  width: 1px;\n",
       "}\n",
       "\n",
       "#sk-container-id-17 div.sk-dashed-wrapped {\n",
       "  border: 1px dashed var(--sklearn-color-line);\n",
       "  margin: 0 0.4em 0.5em 0.4em;\n",
       "  box-sizing: border-box;\n",
       "  padding-bottom: 0.4em;\n",
       "  background-color: var(--sklearn-color-background);\n",
       "}\n",
       "\n",
       "#sk-container-id-17 div.sk-container {\n",
       "  /* jupyter's `normalize.less` sets `[hidden] { display: none; }`\n",
       "     but bootstrap.min.css set `[hidden] { display: none !important; }`\n",
       "     so we also need the `!important` here to be able to override the\n",
       "     default hidden behavior on the sphinx rendered scikit-learn.org.\n",
       "     See: https://github.com/scikit-learn/scikit-learn/issues/21755 */\n",
       "  display: inline-block !important;\n",
       "  position: relative;\n",
       "}\n",
       "\n",
       "#sk-container-id-17 div.sk-text-repr-fallback {\n",
       "  display: none;\n",
       "}\n",
       "\n",
       "div.sk-parallel-item,\n",
       "div.sk-serial,\n",
       "div.sk-item {\n",
       "  /* draw centered vertical line to link estimators */\n",
       "  background-image: linear-gradient(var(--sklearn-color-text-on-default-background), var(--sklearn-color-text-on-default-background));\n",
       "  background-size: 2px 100%;\n",
       "  background-repeat: no-repeat;\n",
       "  background-position: center center;\n",
       "}\n",
       "\n",
       "/* Parallel-specific style estimator block */\n",
       "\n",
       "#sk-container-id-17 div.sk-parallel-item::after {\n",
       "  content: \"\";\n",
       "  width: 100%;\n",
       "  border-bottom: 2px solid var(--sklearn-color-text-on-default-background);\n",
       "  flex-grow: 1;\n",
       "}\n",
       "\n",
       "#sk-container-id-17 div.sk-parallel {\n",
       "  display: flex;\n",
       "  align-items: stretch;\n",
       "  justify-content: center;\n",
       "  background-color: var(--sklearn-color-background);\n",
       "  position: relative;\n",
       "}\n",
       "\n",
       "#sk-container-id-17 div.sk-parallel-item {\n",
       "  display: flex;\n",
       "  flex-direction: column;\n",
       "}\n",
       "\n",
       "#sk-container-id-17 div.sk-parallel-item:first-child::after {\n",
       "  align-self: flex-end;\n",
       "  width: 50%;\n",
       "}\n",
       "\n",
       "#sk-container-id-17 div.sk-parallel-item:last-child::after {\n",
       "  align-self: flex-start;\n",
       "  width: 50%;\n",
       "}\n",
       "\n",
       "#sk-container-id-17 div.sk-parallel-item:only-child::after {\n",
       "  width: 0;\n",
       "}\n",
       "\n",
       "/* Serial-specific style estimator block */\n",
       "\n",
       "#sk-container-id-17 div.sk-serial {\n",
       "  display: flex;\n",
       "  flex-direction: column;\n",
       "  align-items: center;\n",
       "  background-color: var(--sklearn-color-background);\n",
       "  padding-right: 1em;\n",
       "  padding-left: 1em;\n",
       "}\n",
       "\n",
       "\n",
       "/* Toggleable style: style used for estimator/Pipeline/ColumnTransformer box that is\n",
       "clickable and can be expanded/collapsed.\n",
       "- Pipeline and ColumnTransformer use this feature and define the default style\n",
       "- Estimators will overwrite some part of the style using the `sk-estimator` class\n",
       "*/\n",
       "\n",
       "/* Pipeline and ColumnTransformer style (default) */\n",
       "\n",
       "#sk-container-id-17 div.sk-toggleable {\n",
       "  /* Default theme specific background. It is overwritten whether we have a\n",
       "  specific estimator or a Pipeline/ColumnTransformer */\n",
       "  background-color: var(--sklearn-color-background);\n",
       "}\n",
       "\n",
       "/* Toggleable label */\n",
       "#sk-container-id-17 label.sk-toggleable__label {\n",
       "  cursor: pointer;\n",
       "  display: block;\n",
       "  width: 100%;\n",
       "  margin-bottom: 0;\n",
       "  padding: 0.5em;\n",
       "  box-sizing: border-box;\n",
       "  text-align: center;\n",
       "}\n",
       "\n",
       "#sk-container-id-17 label.sk-toggleable__label-arrow:before {\n",
       "  /* Arrow on the left of the label */\n",
       "  content: \"▸\";\n",
       "  float: left;\n",
       "  margin-right: 0.25em;\n",
       "  color: var(--sklearn-color-icon);\n",
       "}\n",
       "\n",
       "#sk-container-id-17 label.sk-toggleable__label-arrow:hover:before {\n",
       "  color: var(--sklearn-color-text);\n",
       "}\n",
       "\n",
       "/* Toggleable content - dropdown */\n",
       "\n",
       "#sk-container-id-17 div.sk-toggleable__content {\n",
       "  max-height: 0;\n",
       "  max-width: 0;\n",
       "  overflow: hidden;\n",
       "  text-align: left;\n",
       "  /* unfitted */\n",
       "  background-color: var(--sklearn-color-unfitted-level-0);\n",
       "}\n",
       "\n",
       "#sk-container-id-17 div.sk-toggleable__content.fitted {\n",
       "  /* fitted */\n",
       "  background-color: var(--sklearn-color-fitted-level-0);\n",
       "}\n",
       "\n",
       "#sk-container-id-17 div.sk-toggleable__content pre {\n",
       "  margin: 0.2em;\n",
       "  border-radius: 0.25em;\n",
       "  color: var(--sklearn-color-text);\n",
       "  /* unfitted */\n",
       "  background-color: var(--sklearn-color-unfitted-level-0);\n",
       "}\n",
       "\n",
       "#sk-container-id-17 div.sk-toggleable__content.fitted pre {\n",
       "  /* unfitted */\n",
       "  background-color: var(--sklearn-color-fitted-level-0);\n",
       "}\n",
       "\n",
       "#sk-container-id-17 input.sk-toggleable__control:checked~div.sk-toggleable__content {\n",
       "  /* Expand drop-down */\n",
       "  max-height: 200px;\n",
       "  max-width: 100%;\n",
       "  overflow: auto;\n",
       "}\n",
       "\n",
       "#sk-container-id-17 input.sk-toggleable__control:checked~label.sk-toggleable__label-arrow:before {\n",
       "  content: \"▾\";\n",
       "}\n",
       "\n",
       "/* Pipeline/ColumnTransformer-specific style */\n",
       "\n",
       "#sk-container-id-17 div.sk-label input.sk-toggleable__control:checked~label.sk-toggleable__label {\n",
       "  color: var(--sklearn-color-text);\n",
       "  background-color: var(--sklearn-color-unfitted-level-2);\n",
       "}\n",
       "\n",
       "#sk-container-id-17 div.sk-label.fitted input.sk-toggleable__control:checked~label.sk-toggleable__label {\n",
       "  background-color: var(--sklearn-color-fitted-level-2);\n",
       "}\n",
       "\n",
       "/* Estimator-specific style */\n",
       "\n",
       "/* Colorize estimator box */\n",
       "#sk-container-id-17 div.sk-estimator input.sk-toggleable__control:checked~label.sk-toggleable__label {\n",
       "  /* unfitted */\n",
       "  background-color: var(--sklearn-color-unfitted-level-2);\n",
       "}\n",
       "\n",
       "#sk-container-id-17 div.sk-estimator.fitted input.sk-toggleable__control:checked~label.sk-toggleable__label {\n",
       "  /* fitted */\n",
       "  background-color: var(--sklearn-color-fitted-level-2);\n",
       "}\n",
       "\n",
       "#sk-container-id-17 div.sk-label label.sk-toggleable__label,\n",
       "#sk-container-id-17 div.sk-label label {\n",
       "  /* The background is the default theme color */\n",
       "  color: var(--sklearn-color-text-on-default-background);\n",
       "}\n",
       "\n",
       "/* On hover, darken the color of the background */\n",
       "#sk-container-id-17 div.sk-label:hover label.sk-toggleable__label {\n",
       "  color: var(--sklearn-color-text);\n",
       "  background-color: var(--sklearn-color-unfitted-level-2);\n",
       "}\n",
       "\n",
       "/* Label box, darken color on hover, fitted */\n",
       "#sk-container-id-17 div.sk-label.fitted:hover label.sk-toggleable__label.fitted {\n",
       "  color: var(--sklearn-color-text);\n",
       "  background-color: var(--sklearn-color-fitted-level-2);\n",
       "}\n",
       "\n",
       "/* Estimator label */\n",
       "\n",
       "#sk-container-id-17 div.sk-label label {\n",
       "  font-family: monospace;\n",
       "  font-weight: bold;\n",
       "  display: inline-block;\n",
       "  line-height: 1.2em;\n",
       "}\n",
       "\n",
       "#sk-container-id-17 div.sk-label-container {\n",
       "  text-align: center;\n",
       "}\n",
       "\n",
       "/* Estimator-specific */\n",
       "#sk-container-id-17 div.sk-estimator {\n",
       "  font-family: monospace;\n",
       "  border: 1px dotted var(--sklearn-color-border-box);\n",
       "  border-radius: 0.25em;\n",
       "  box-sizing: border-box;\n",
       "  margin-bottom: 0.5em;\n",
       "  /* unfitted */\n",
       "  background-color: var(--sklearn-color-unfitted-level-0);\n",
       "}\n",
       "\n",
       "#sk-container-id-17 div.sk-estimator.fitted {\n",
       "  /* fitted */\n",
       "  background-color: var(--sklearn-color-fitted-level-0);\n",
       "}\n",
       "\n",
       "/* on hover */\n",
       "#sk-container-id-17 div.sk-estimator:hover {\n",
       "  /* unfitted */\n",
       "  background-color: var(--sklearn-color-unfitted-level-2);\n",
       "}\n",
       "\n",
       "#sk-container-id-17 div.sk-estimator.fitted:hover {\n",
       "  /* fitted */\n",
       "  background-color: var(--sklearn-color-fitted-level-2);\n",
       "}\n",
       "\n",
       "/* Specification for estimator info (e.g. \"i\" and \"?\") */\n",
       "\n",
       "/* Common style for \"i\" and \"?\" */\n",
       "\n",
       ".sk-estimator-doc-link,\n",
       "a:link.sk-estimator-doc-link,\n",
       "a:visited.sk-estimator-doc-link {\n",
       "  float: right;\n",
       "  font-size: smaller;\n",
       "  line-height: 1em;\n",
       "  font-family: monospace;\n",
       "  background-color: var(--sklearn-color-background);\n",
       "  border-radius: 1em;\n",
       "  height: 1em;\n",
       "  width: 1em;\n",
       "  text-decoration: none !important;\n",
       "  margin-left: 1ex;\n",
       "  /* unfitted */\n",
       "  border: var(--sklearn-color-unfitted-level-1) 1pt solid;\n",
       "  color: var(--sklearn-color-unfitted-level-1);\n",
       "}\n",
       "\n",
       ".sk-estimator-doc-link.fitted,\n",
       "a:link.sk-estimator-doc-link.fitted,\n",
       "a:visited.sk-estimator-doc-link.fitted {\n",
       "  /* fitted */\n",
       "  border: var(--sklearn-color-fitted-level-1) 1pt solid;\n",
       "  color: var(--sklearn-color-fitted-level-1);\n",
       "}\n",
       "\n",
       "/* On hover */\n",
       "div.sk-estimator:hover .sk-estimator-doc-link:hover,\n",
       ".sk-estimator-doc-link:hover,\n",
       "div.sk-label-container:hover .sk-estimator-doc-link:hover,\n",
       ".sk-estimator-doc-link:hover {\n",
       "  /* unfitted */\n",
       "  background-color: var(--sklearn-color-unfitted-level-3);\n",
       "  color: var(--sklearn-color-background);\n",
       "  text-decoration: none;\n",
       "}\n",
       "\n",
       "div.sk-estimator.fitted:hover .sk-estimator-doc-link.fitted:hover,\n",
       ".sk-estimator-doc-link.fitted:hover,\n",
       "div.sk-label-container:hover .sk-estimator-doc-link.fitted:hover,\n",
       ".sk-estimator-doc-link.fitted:hover {\n",
       "  /* fitted */\n",
       "  background-color: var(--sklearn-color-fitted-level-3);\n",
       "  color: var(--sklearn-color-background);\n",
       "  text-decoration: none;\n",
       "}\n",
       "\n",
       "/* Span, style for the box shown on hovering the info icon */\n",
       ".sk-estimator-doc-link span {\n",
       "  display: none;\n",
       "  z-index: 9999;\n",
       "  position: relative;\n",
       "  font-weight: normal;\n",
       "  right: .2ex;\n",
       "  padding: .5ex;\n",
       "  margin: .5ex;\n",
       "  width: min-content;\n",
       "  min-width: 20ex;\n",
       "  max-width: 50ex;\n",
       "  color: var(--sklearn-color-text);\n",
       "  box-shadow: 2pt 2pt 4pt #999;\n",
       "  /* unfitted */\n",
       "  background: var(--sklearn-color-unfitted-level-0);\n",
       "  border: .5pt solid var(--sklearn-color-unfitted-level-3);\n",
       "}\n",
       "\n",
       ".sk-estimator-doc-link.fitted span {\n",
       "  /* fitted */\n",
       "  background: var(--sklearn-color-fitted-level-0);\n",
       "  border: var(--sklearn-color-fitted-level-3);\n",
       "}\n",
       "\n",
       ".sk-estimator-doc-link:hover span {\n",
       "  display: block;\n",
       "}\n",
       "\n",
       "/* \"?\"-specific style due to the `<a>` HTML tag */\n",
       "\n",
       "#sk-container-id-17 a.estimator_doc_link {\n",
       "  float: right;\n",
       "  font-size: 1rem;\n",
       "  line-height: 1em;\n",
       "  font-family: monospace;\n",
       "  background-color: var(--sklearn-color-background);\n",
       "  border-radius: 1rem;\n",
       "  height: 1rem;\n",
       "  width: 1rem;\n",
       "  text-decoration: none;\n",
       "  /* unfitted */\n",
       "  color: var(--sklearn-color-unfitted-level-1);\n",
       "  border: var(--sklearn-color-unfitted-level-1) 1pt solid;\n",
       "}\n",
       "\n",
       "#sk-container-id-17 a.estimator_doc_link.fitted {\n",
       "  /* fitted */\n",
       "  border: var(--sklearn-color-fitted-level-1) 1pt solid;\n",
       "  color: var(--sklearn-color-fitted-level-1);\n",
       "}\n",
       "\n",
       "/* On hover */\n",
       "#sk-container-id-17 a.estimator_doc_link:hover {\n",
       "  /* unfitted */\n",
       "  background-color: var(--sklearn-color-unfitted-level-3);\n",
       "  color: var(--sklearn-color-background);\n",
       "  text-decoration: none;\n",
       "}\n",
       "\n",
       "#sk-container-id-17 a.estimator_doc_link.fitted:hover {\n",
       "  /* fitted */\n",
       "  background-color: var(--sklearn-color-fitted-level-3);\n",
       "}\n",
       "</style><div id=\"sk-container-id-17\" class=\"sk-top-container\"><div class=\"sk-text-repr-fallback\"><pre>LogisticRegression()</pre><b>In a Jupyter environment, please rerun this cell to show the HTML representation or trust the notebook. <br />On GitHub, the HTML representation is unable to render, please try loading this page with nbviewer.org.</b></div><div class=\"sk-container\" hidden><div class=\"sk-item\"><div class=\"sk-estimator fitted sk-toggleable\"><input class=\"sk-toggleable__control sk-hidden--visually\" id=\"sk-estimator-id-37\" type=\"checkbox\" checked><label for=\"sk-estimator-id-37\" class=\"sk-toggleable__label fitted sk-toggleable__label-arrow fitted\">&nbsp;&nbsp;LogisticRegression<a class=\"sk-estimator-doc-link fitted\" rel=\"noreferrer\" target=\"_blank\" href=\"https://scikit-learn.org/1.5/modules/generated/sklearn.linear_model.LogisticRegression.html\">?<span>Documentation for LogisticRegression</span></a><span class=\"sk-estimator-doc-link fitted\">i<span>Fitted</span></span></label><div class=\"sk-toggleable__content fitted\"><pre>LogisticRegression()</pre></div> </div></div></div></div>"
      ],
      "text/plain": [
       "LogisticRegression()"
      ]
     },
     "execution_count": 193,
     "metadata": {},
     "output_type": "execute_result"
    }
   ],
   "source": [
    "nombre = 'Regresión Logística'\n",
    "model_lr = LogisticRegression()\n",
    "model_lr.fit(X_train_tfidf, y_train)"
   ]
  },
  {
   "cell_type": "code",
   "execution_count": 194,
   "id": "2771b283-a9b9-41b0-addb-2098dce45e7b",
   "metadata": {
    "execution": {
     "iopub.execute_input": "2024-08-10T21:09:02.766217Z",
     "iopub.status.busy": "2024-08-10T21:09:02.766217Z",
     "iopub.status.idle": "2024-08-10T21:09:02.773827Z",
     "shell.execute_reply": "2024-08-10T21:09:02.773827Z",
     "shell.execute_reply.started": "2024-08-10T21:09:02.766217Z"
    }
   },
   "outputs": [
    {
     "data": {
      "text/plain": [
       "(array([0.24362105]),\n",
       " array([[ 0.22228706, -0.10122098,  0.21887191, ..., -0.16058861,\n",
       "         -0.16058861,  0.08230998]]))"
      ]
     },
     "execution_count": 194,
     "metadata": {},
     "output_type": "execute_result"
    }
   ],
   "source": [
    "model_lr.intercept_, model_lr.coef_"
   ]
  },
  {
   "cell_type": "markdown",
   "id": "ab739d6d-46b0-488d-853c-60463d6957d9",
   "metadata": {},
   "source": [
    "### Evaluación"
   ]
  },
  {
   "cell_type": "markdown",
   "id": "c1536b71-e3a9-4b3f-b9bc-aee92633bf1c",
   "metadata": {},
   "source": [
    "#### Scores"
   ]
  },
  {
   "cell_type": "code",
   "execution_count": 195,
   "id": "483e8b28-2e63-4933-b4e9-c05a46682563",
   "metadata": {
    "execution": {
     "iopub.execute_input": "2024-08-10T21:09:05.504862Z",
     "iopub.status.busy": "2024-08-10T21:09:05.504862Z",
     "iopub.status.idle": "2024-08-10T21:09:05.525468Z",
     "shell.execute_reply": "2024-08-10T21:09:05.525468Z",
     "shell.execute_reply.started": "2024-08-10T21:09:05.504862Z"
    }
   },
   "outputs": [
    {
     "data": {
      "text/html": [
       "<div>\n",
       "<style scoped>\n",
       "    .dataframe tbody tr th:only-of-type {\n",
       "        vertical-align: middle;\n",
       "    }\n",
       "\n",
       "    .dataframe tbody tr th {\n",
       "        vertical-align: top;\n",
       "    }\n",
       "\n",
       "    .dataframe thead th {\n",
       "        text-align: right;\n",
       "    }\n",
       "</style>\n",
       "<table border=\"1\" class=\"dataframe\">\n",
       "  <thead>\n",
       "    <tr style=\"text-align: right;\">\n",
       "      <th></th>\n",
       "      <th>score</th>\n",
       "    </tr>\n",
       "  </thead>\n",
       "  <tbody>\n",
       "    <tr>\n",
       "      <th>accuracy</th>\n",
       "      <td>0.801</td>\n",
       "    </tr>\n",
       "    <tr>\n",
       "      <th>precision</th>\n",
       "      <td>0.745</td>\n",
       "    </tr>\n",
       "    <tr>\n",
       "      <th>recall</th>\n",
       "      <td>0.964</td>\n",
       "    </tr>\n",
       "    <tr>\n",
       "      <th>specificity</th>\n",
       "      <td>0.605</td>\n",
       "    </tr>\n",
       "    <tr>\n",
       "      <th>f1</th>\n",
       "      <td>0.840</td>\n",
       "    </tr>\n",
       "  </tbody>\n",
       "</table>\n",
       "</div>"
      ],
      "text/plain": [
       "             score\n",
       "accuracy     0.801\n",
       "precision    0.745\n",
       "recall       0.964\n",
       "specificity  0.605\n",
       "f1           0.840"
      ]
     },
     "execution_count": 195,
     "metadata": {},
     "output_type": "execute_result"
    }
   ],
   "source": [
    "y_test_hat = model_lr.predict(X_test_tfidf)\n",
    "scores = scores_from_true_hat(nombre, y_test, y_test_hat)\n",
    "df_summary_scores = pd.concat([df_summary_scores, scores], axis=1)\n",
    "scores[0:5].to_frame(name='score')"
   ]
  },
  {
   "cell_type": "markdown",
   "id": "847e140c-914a-4cb6-9f7b-879f119a33fe",
   "metadata": {
    "execution": {
     "iopub.execute_input": "2022-09-09T21:30:33.838387Z",
     "iopub.status.busy": "2022-09-09T21:30:33.838387Z",
     "iopub.status.idle": "2022-09-09T21:30:33.854052Z",
     "shell.execute_reply": "2022-09-09T21:30:33.854052Z",
     "shell.execute_reply.started": "2022-09-09T21:30:33.838387Z"
    }
   },
   "source": [
    "#### Matriz de confusión"
   ]
  },
  {
   "cell_type": "code",
   "execution_count": 196,
   "id": "54e27b0e-381b-445d-a43c-11ac7425abb0",
   "metadata": {
    "execution": {
     "iopub.execute_input": "2024-08-10T21:09:06.888139Z",
     "iopub.status.busy": "2024-08-10T21:09:06.887634Z",
     "iopub.status.idle": "2024-08-10T21:09:07.010284Z",
     "shell.execute_reply": "2024-08-10T21:09:07.010284Z",
     "shell.execute_reply.started": "2024-08-10T21:09:06.888139Z"
    }
   },
   "outputs": [
    {
     "data": {
      "image/png": "[encoded data removed]",
      "text/plain": [
       "<Figure size 640x480 with 2 Axes>"
      ]
     },
     "metadata": {},
     "output_type": "display_data"
    }
   ],
   "source": [
    "plot_matrix(nombre, y_test, y_test_hat)"
   ]
  },
  {
   "cell_type": "markdown",
   "id": "68ba7d72-cfbe-49df-83d9-bc135f791168",
   "metadata": {},
   "source": [
    "#### Gráfico de curva ROC y cálculo de área bajo la curva"
   ]
  },
  {
   "cell_type": "code",
   "execution_count": 197,
   "id": "ae0f0796-8028-47d7-a691-ac7c689a29d7",
   "metadata": {
    "execution": {
     "iopub.execute_input": "2024-08-10T21:09:08.774220Z",
     "iopub.status.busy": "2024-08-10T21:09:08.774220Z",
     "iopub.status.idle": "2024-08-10T21:09:08.888894Z",
     "shell.execute_reply": "2024-08-10T21:09:08.888894Z",
     "shell.execute_reply.started": "2024-08-10T21:09:08.774220Z"
    },
    "scrolled": true
   },
   "outputs": [
    {
     "data": {
      "image/png": "[encoded data removed]",
      "text/plain": [
       "<Figure size 640x480 with 1 Axes>"
      ]
     },
     "metadata": {},
     "output_type": "display_data"
    },
    {
     "name": "stdout",
     "output_type": "stream",
     "text": [
      "AUC: 0.906\n"
     ]
    }
   ],
   "source": [
    "auc_metric = plot_roc_auc(model_lr, nombre, X_test_tfidf, y_test)\n",
    "df_summary_scores.loc['AUC', nombre] = auc_metric"
   ]
  },
  {
   "cell_type": "markdown",
   "id": "0320997f-b7ba-414d-99cc-77b841f8daf2",
   "metadata": {},
   "source": [
    "## Modelo de Regresión Logística optimizado con GridSearch"
   ]
  },
  {
   "cell_type": "code",
   "execution_count": 158,
   "id": "9228138f-f6cc-4d9e-bfe1-9858d35c6d2c",
   "metadata": {
    "execution": {
     "iopub.execute_input": "2024-08-10T21:03:16.983534Z",
     "iopub.status.busy": "2024-08-10T21:03:16.983534Z",
     "iopub.status.idle": "2024-08-10T21:03:16.988166Z",
     "shell.execute_reply": "2024-08-10T21:03:16.987559Z",
     "shell.execute_reply.started": "2024-08-10T21:03:16.983534Z"
    }
   },
   "outputs": [],
   "source": [
    "nombre = 'Regresión Logística Optimizado GS'\n",
    "model_lr = LogisticRegression()"
   ]
  },
  {
   "cell_type": "code",
   "execution_count": 159,
   "id": "fbac3908-8ed8-4ea9-b86a-c4f1c1735a18",
   "metadata": {
    "execution": {
     "iopub.execute_input": "2024-08-10T21:03:18.475584Z",
     "iopub.status.busy": "2024-08-10T21:03:18.475584Z",
     "iopub.status.idle": "2024-08-10T21:03:18.481135Z",
     "shell.execute_reply": "2024-08-10T21:03:18.481135Z",
     "shell.execute_reply.started": "2024-08-10T21:03:18.475584Z"
    }
   },
   "outputs": [],
   "source": [
    "folds = StratifiedKFold(n_splits=5, random_state=42, shuffle=True)"
   ]
  },
  {
   "cell_type": "code",
   "execution_count": 80,
   "id": "29de20b5-4cf1-4d12-9aaf-8449316ab71a",
   "metadata": {
    "execution": {
     "iopub.execute_input": "2024-08-10T19:24:10.116201Z",
     "iopub.status.busy": "2024-08-10T19:24:10.115204Z",
     "iopub.status.idle": "2024-08-10T19:24:10.120319Z",
     "shell.execute_reply": "2024-08-10T19:24:10.120319Z",
     "shell.execute_reply.started": "2024-08-10T19:24:10.116201Z"
    }
   },
   "outputs": [],
   "source": [
    "#c_arr = [0.0001,0.001,0.01,0.1]\n",
    "c_arr = [0.001, 0.01, 1, 10, 15, 20, 40, 80, 120]\n",
    "params_grid = {'penalty': ['l2'], 'C': c_arr, 'solver': ['saga']}"
   ]
  },
  {
   "cell_type": "code",
   "execution_count": 81,
   "id": "580bd3db-b5fe-4219-b77e-0c50c462a467",
   "metadata": {
    "execution": {
     "iopub.execute_input": "2024-08-10T19:24:10.892307Z",
     "iopub.status.busy": "2024-08-10T19:24:10.892307Z",
     "iopub.status.idle": "2024-08-10T19:24:10.896589Z",
     "shell.execute_reply": "2024-08-10T19:24:10.895987Z",
     "shell.execute_reply.started": "2024-08-10T19:24:10.892307Z"
    }
   },
   "outputs": [],
   "source": [
    "grid_lr = GridSearchCV(model_lr, params_grid, cv=folds, scoring='accuracy', n_jobs=-1)"
   ]
  },
  {
   "cell_type": "code",
   "execution_count": 82,
   "id": "18aeb0cd-82d7-4daf-b38d-004303962b34",
   "metadata": {
    "execution": {
     "iopub.execute_input": "2024-08-10T19:24:11.557430Z",
     "iopub.status.busy": "2024-08-10T19:24:11.557430Z",
     "iopub.status.idle": "2024-08-10T19:24:45.673176Z",
     "shell.execute_reply": "2024-08-10T19:24:45.672097Z",
     "shell.execute_reply.started": "2024-08-10T19:24:11.557430Z"
    }
   },
   "outputs": [
    {
     "name": "stderr",
     "output_type": "stream",
     "text": [
      "C:\\Users\\Damian\\miniconda3\\envs\\datascience2024\\Lib\\site-packages\\sklearn\\linear_model\\_sag.py:349: ConvergenceWarning: The max_iter was reached which means the coef_ did not converge\n",
      "  warnings.warn(\n"
     ]
    },
    {
     "data": {
      "text/html": [
       "<style>#sk-container-id-12 {\n",
       "  /* Definition of color scheme common for light and dark mode */\n",
       "  --sklearn-color-text: black;\n",
       "  --sklearn-color-line: gray;\n",
       "  /* Definition of color scheme for unfitted estimators */\n",
       "  --sklearn-color-unfitted-level-0: #fff5e6;\n",
       "  --sklearn-color-unfitted-level-1: #f6e4d2;\n",
       "  --sklearn-color-unfitted-level-2: #ffe0b3;\n",
       "  --sklearn-color-unfitted-level-3: chocolate;\n",
       "  /* Definition of color scheme for fitted estimators */\n",
       "  --sklearn-color-fitted-level-0: #f0f8ff;\n",
       "  --sklearn-color-fitted-level-1: #d4ebff;\n",
       "  --sklearn-color-fitted-level-2: #b3dbfd;\n",
       "  --sklearn-color-fitted-level-3: cornflowerblue;\n",
       "\n",
       "  /* Specific color for light theme */\n",
       "  --sklearn-color-text-on-default-background: var(--sg-text-color, var(--theme-code-foreground, var(--jp-content-font-color1, black)));\n",
       "  --sklearn-color-background: var(--sg-background-color, var(--theme-background, var(--jp-layout-color0, white)));\n",
       "  --sklearn-color-border-box: var(--sg-text-color, var(--theme-code-foreground, var(--jp-content-font-color1, black)));\n",
       "  --sklearn-color-icon: #696969;\n",
       "\n",
       "  @media (prefers-color-scheme: dark) {\n",
       "    /* Redefinition of color scheme for dark theme */\n",
       "    --sklearn-color-text-on-default-background: var(--sg-text-color, var(--theme-code-foreground, var(--jp-content-font-color1, white)));\n",
       "    --sklearn-color-background: var(--sg-background-color, var(--theme-background, var(--jp-layout-color0, #111)));\n",
       "    --sklearn-color-border-box: var(--sg-text-color, var(--theme-code-foreground, var(--jp-content-font-color1, white)));\n",
       "    --sklearn-color-icon: #878787;\n",
       "  }\n",
       "}\n",
       "\n",
       "#sk-container-id-12 {\n",
       "  color: var(--sklearn-color-text);\n",
       "}\n",
       "\n",
       "#sk-container-id-12 pre {\n",
       "  padding: 0;\n",
       "}\n",
       "\n",
       "#sk-container-id-12 input.sk-hidden--visually {\n",
       "  border: 0;\n",
       "  clip: rect(1px 1px 1px 1px);\n",
       "  clip: rect(1px, 1px, 1px, 1px);\n",
       "  height: 1px;\n",
       "  margin: -1px;\n",
       "  overflow: hidden;\n",
       "  padding: 0;\n",
       "  position: absolute;\n",
       "  width: 1px;\n",
       "}\n",
       "\n",
       "#sk-container-id-12 div.sk-dashed-wrapped {\n",
       "  border: 1px dashed var(--sklearn-color-line);\n",
       "  margin: 0 0.4em 0.5em 0.4em;\n",
       "  box-sizing: border-box;\n",
       "  padding-bottom: 0.4em;\n",
       "  background-color: var(--sklearn-color-background);\n",
       "}\n",
       "\n",
       "#sk-container-id-12 div.sk-container {\n",
       "  /* jupyter's `normalize.less` sets `[hidden] { display: none; }`\n",
       "     but bootstrap.min.css set `[hidden] { display: none !important; }`\n",
       "     so we also need the `!important` here to be able to override the\n",
       "     default hidden behavior on the sphinx rendered scikit-learn.org.\n",
       "     See: https://github.com/scikit-learn/scikit-learn/issues/21755 */\n",
       "  display: inline-block !important;\n",
       "  position: relative;\n",
       "}\n",
       "\n",
       "#sk-container-id-12 div.sk-text-repr-fallback {\n",
       "  display: none;\n",
       "}\n",
       "\n",
       "div.sk-parallel-item,\n",
       "div.sk-serial,\n",
       "div.sk-item {\n",
       "  /* draw centered vertical line to link estimators */\n",
       "  background-image: linear-gradient(var(--sklearn-color-text-on-default-background), var(--sklearn-color-text-on-default-background));\n",
       "  background-size: 2px 100%;\n",
       "  background-repeat: no-repeat;\n",
       "  background-position: center center;\n",
       "}\n",
       "\n",
       "/* Parallel-specific style estimator block */\n",
       "\n",
       "#sk-container-id-12 div.sk-parallel-item::after {\n",
       "  content: \"\";\n",
       "  width: 100%;\n",
       "  border-bottom: 2px solid var(--sklearn-color-text-on-default-background);\n",
       "  flex-grow: 1;\n",
       "}\n",
       "\n",
       "#sk-container-id-12 div.sk-parallel {\n",
       "  display: flex;\n",
       "  align-items: stretch;\n",
       "  justify-content: center;\n",
       "  background-color: var(--sklearn-color-background);\n",
       "  position: relative;\n",
       "}\n",
       "\n",
       "#sk-container-id-12 div.sk-parallel-item {\n",
       "  display: flex;\n",
       "  flex-direction: column;\n",
       "}\n",
       "\n",
       "#sk-container-id-12 div.sk-parallel-item:first-child::after {\n",
       "  align-self: flex-end;\n",
       "  width: 50%;\n",
       "}\n",
       "\n",
       "#sk-container-id-12 div.sk-parallel-item:last-child::after {\n",
       "  align-self: flex-start;\n",
       "  width: 50%;\n",
       "}\n",
       "\n",
       "#sk-container-id-12 div.sk-parallel-item:only-child::after {\n",
       "  width: 0;\n",
       "}\n",
       "\n",
       "/* Serial-specific style estimator block */\n",
       "\n",
       "#sk-container-id-12 div.sk-serial {\n",
       "  display: flex;\n",
       "  flex-direction: column;\n",
       "  align-items: center;\n",
       "  background-color: var(--sklearn-color-background);\n",
       "  padding-right: 1em;\n",
       "  padding-left: 1em;\n",
       "}\n",
       "\n",
       "\n",
       "/* Toggleable style: style used for estimator/Pipeline/ColumnTransformer box that is\n",
       "clickable and can be expanded/collapsed.\n",
       "- Pipeline and ColumnTransformer use this feature and define the default style\n",
       "- Estimators will overwrite some part of the style using the `sk-estimator` class\n",
       "*/\n",
       "\n",
       "/* Pipeline and ColumnTransformer style (default) */\n",
       "\n",
       "#sk-container-id-12 div.sk-toggleable {\n",
       "  /* Default theme specific background. It is overwritten whether we have a\n",
       "  specific estimator or a Pipeline/ColumnTransformer */\n",
       "  background-color: var(--sklearn-color-background);\n",
       "}\n",
       "\n",
       "/* Toggleable label */\n",
       "#sk-container-id-12 label.sk-toggleable__label {\n",
       "  cursor: pointer;\n",
       "  display: block;\n",
       "  width: 100%;\n",
       "  margin-bottom: 0;\n",
       "  padding: 0.5em;\n",
       "  box-sizing: border-box;\n",
       "  text-align: center;\n",
       "}\n",
       "\n",
       "#sk-container-id-12 label.sk-toggleable__label-arrow:before {\n",
       "  /* Arrow on the left of the label */\n",
       "  content: \"▸\";\n",
       "  float: left;\n",
       "  margin-right: 0.25em;\n",
       "  color: var(--sklearn-color-icon);\n",
       "}\n",
       "\n",
       "#sk-container-id-12 label.sk-toggleable__label-arrow:hover:before {\n",
       "  color: var(--sklearn-color-text);\n",
       "}\n",
       "\n",
       "/* Toggleable content - dropdown */\n",
       "\n",
       "#sk-container-id-12 div.sk-toggleable__content {\n",
       "  max-height: 0;\n",
       "  max-width: 0;\n",
       "  overflow: hidden;\n",
       "  text-align: left;\n",
       "  /* unfitted */\n",
       "  background-color: var(--sklearn-color-unfitted-level-0);\n",
       "}\n",
       "\n",
       "#sk-container-id-12 div.sk-toggleable__content.fitted {\n",
       "  /* fitted */\n",
       "  background-color: var(--sklearn-color-fitted-level-0);\n",
       "}\n",
       "\n",
       "#sk-container-id-12 div.sk-toggleable__content pre {\n",
       "  margin: 0.2em;\n",
       "  border-radius: 0.25em;\n",
       "  color: var(--sklearn-color-text);\n",
       "  /* unfitted */\n",
       "  background-color: var(--sklearn-color-unfitted-level-0);\n",
       "}\n",
       "\n",
       "#sk-container-id-12 div.sk-toggleable__content.fitted pre {\n",
       "  /* unfitted */\n",
       "  background-color: var(--sklearn-color-fitted-level-0);\n",
       "}\n",
       "\n",
       "#sk-container-id-12 input.sk-toggleable__control:checked~div.sk-toggleable__content {\n",
       "  /* Expand drop-down */\n",
       "  max-height: 200px;\n",
       "  max-width: 100%;\n",
       "  overflow: auto;\n",
       "}\n",
       "\n",
       "#sk-container-id-12 input.sk-toggleable__control:checked~label.sk-toggleable__label-arrow:before {\n",
       "  content: \"▾\";\n",
       "}\n",
       "\n",
       "/* Pipeline/ColumnTransformer-specific style */\n",
       "\n",
       "#sk-container-id-12 div.sk-label input.sk-toggleable__control:checked~label.sk-toggleable__label {\n",
       "  color: var(--sklearn-color-text);\n",
       "  background-color: var(--sklearn-color-unfitted-level-2);\n",
       "}\n",
       "\n",
       "#sk-container-id-12 div.sk-label.fitted input.sk-toggleable__control:checked~label.sk-toggleable__label {\n",
       "  background-color: var(--sklearn-color-fitted-level-2);\n",
       "}\n",
       "\n",
       "/* Estimator-specific style */\n",
       "\n",
       "/* Colorize estimator box */\n",
       "#sk-container-id-12 div.sk-estimator input.sk-toggleable__control:checked~label.sk-toggleable__label {\n",
       "  /* unfitted */\n",
       "  background-color: var(--sklearn-color-unfitted-level-2);\n",
       "}\n",
       "\n",
       "#sk-container-id-12 div.sk-estimator.fitted input.sk-toggleable__control:checked~label.sk-toggleable__label {\n",
       "  /* fitted */\n",
       "  background-color: var(--sklearn-color-fitted-level-2);\n",
       "}\n",
       "\n",
       "#sk-container-id-12 div.sk-label label.sk-toggleable__label,\n",
       "#sk-container-id-12 div.sk-label label {\n",
       "  /* The background is the default theme color */\n",
       "  color: var(--sklearn-color-text-on-default-background);\n",
       "}\n",
       "\n",
       "/* On hover, darken the color of the background */\n",
       "#sk-container-id-12 div.sk-label:hover label.sk-toggleable__label {\n",
       "  color: var(--sklearn-color-text);\n",
       "  background-color: var(--sklearn-color-unfitted-level-2);\n",
       "}\n",
       "\n",
       "/* Label box, darken color on hover, fitted */\n",
       "#sk-container-id-12 div.sk-label.fitted:hover label.sk-toggleable__label.fitted {\n",
       "  color: var(--sklearn-color-text);\n",
       "  background-color: var(--sklearn-color-fitted-level-2);\n",
       "}\n",
       "\n",
       "/* Estimator label */\n",
       "\n",
       "#sk-container-id-12 div.sk-label label {\n",
       "  font-family: monospace;\n",
       "  font-weight: bold;\n",
       "  display: inline-block;\n",
       "  line-height: 1.2em;\n",
       "}\n",
       "\n",
       "#sk-container-id-12 div.sk-label-container {\n",
       "  text-align: center;\n",
       "}\n",
       "\n",
       "/* Estimator-specific */\n",
       "#sk-container-id-12 div.sk-estimator {\n",
       "  font-family: monospace;\n",
       "  border: 1px dotted var(--sklearn-color-border-box);\n",
       "  border-radius: 0.25em;\n",
       "  box-sizing: border-box;\n",
       "  margin-bottom: 0.5em;\n",
       "  /* unfitted */\n",
       "  background-color: var(--sklearn-color-unfitted-level-0);\n",
       "}\n",
       "\n",
       "#sk-container-id-12 div.sk-estimator.fitted {\n",
       "  /* fitted */\n",
       "  background-color: var(--sklearn-color-fitted-level-0);\n",
       "}\n",
       "\n",
       "/* on hover */\n",
       "#sk-container-id-12 div.sk-estimator:hover {\n",
       "  /* unfitted */\n",
       "  background-color: var(--sklearn-color-unfitted-level-2);\n",
       "}\n",
       "\n",
       "#sk-container-id-12 div.sk-estimator.fitted:hover {\n",
       "  /* fitted */\n",
       "  background-color: var(--sklearn-color-fitted-level-2);\n",
       "}\n",
       "\n",
       "/* Specification for estimator info (e.g. \"i\" and \"?\") */\n",
       "\n",
       "/* Common style for \"i\" and \"?\" */\n",
       "\n",
       ".sk-estimator-doc-link,\n",
       "a:link.sk-estimator-doc-link,\n",
       "a:visited.sk-estimator-doc-link {\n",
       "  float: right;\n",
       "  font-size: smaller;\n",
       "  line-height: 1em;\n",
       "  font-family: monospace;\n",
       "  background-color: var(--sklearn-color-background);\n",
       "  border-radius: 1em;\n",
       "  height: 1em;\n",
       "  width: 1em;\n",
       "  text-decoration: none !important;\n",
       "  margin-left: 1ex;\n",
       "  /* unfitted */\n",
       "  border: var(--sklearn-color-unfitted-level-1) 1pt solid;\n",
       "  color: var(--sklearn-color-unfitted-level-1);\n",
       "}\n",
       "\n",
       ".sk-estimator-doc-link.fitted,\n",
       "a:link.sk-estimator-doc-link.fitted,\n",
       "a:visited.sk-estimator-doc-link.fitted {\n",
       "  /* fitted */\n",
       "  border: var(--sklearn-color-fitted-level-1) 1pt solid;\n",
       "  color: var(--sklearn-color-fitted-level-1);\n",
       "}\n",
       "\n",
       "/* On hover */\n",
       "div.sk-estimator:hover .sk-estimator-doc-link:hover,\n",
       ".sk-estimator-doc-link:hover,\n",
       "div.sk-label-container:hover .sk-estimator-doc-link:hover,\n",
       ".sk-estimator-doc-link:hover {\n",
       "  /* unfitted */\n",
       "  background-color: var(--sklearn-color-unfitted-level-3);\n",
       "  color: var(--sklearn-color-background);\n",
       "  text-decoration: none;\n",
       "}\n",
       "\n",
       "div.sk-estimator.fitted:hover .sk-estimator-doc-link.fitted:hover,\n",
       ".sk-estimator-doc-link.fitted:hover,\n",
       "div.sk-label-container:hover .sk-estimator-doc-link.fitted:hover,\n",
       ".sk-estimator-doc-link.fitted:hover {\n",
       "  /* fitted */\n",
       "  background-color: var(--sklearn-color-fitted-level-3);\n",
       "  color: var(--sklearn-color-background);\n",
       "  text-decoration: none;\n",
       "}\n",
       "\n",
       "/* Span, style for the box shown on hovering the info icon */\n",
       ".sk-estimator-doc-link span {\n",
       "  display: none;\n",
       "  z-index: 9999;\n",
       "  position: relative;\n",
       "  font-weight: normal;\n",
       "  right: .2ex;\n",
       "  padding: .5ex;\n",
       "  margin: .5ex;\n",
       "  width: min-content;\n",
       "  min-width: 20ex;\n",
       "  max-width: 50ex;\n",
       "  color: var(--sklearn-color-text);\n",
       "  box-shadow: 2pt 2pt 4pt #999;\n",
       "  /* unfitted */\n",
       "  background: var(--sklearn-color-unfitted-level-0);\n",
       "  border: .5pt solid var(--sklearn-color-unfitted-level-3);\n",
       "}\n",
       "\n",
       ".sk-estimator-doc-link.fitted span {\n",
       "  /* fitted */\n",
       "  background: var(--sklearn-color-fitted-level-0);\n",
       "  border: var(--sklearn-color-fitted-level-3);\n",
       "}\n",
       "\n",
       ".sk-estimator-doc-link:hover span {\n",
       "  display: block;\n",
       "}\n",
       "\n",
       "/* \"?\"-specific style due to the `<a>` HTML tag */\n",
       "\n",
       "#sk-container-id-12 a.estimator_doc_link {\n",
       "  float: right;\n",
       "  font-size: 1rem;\n",
       "  line-height: 1em;\n",
       "  font-family: monospace;\n",
       "  background-color: var(--sklearn-color-background);\n",
       "  border-radius: 1rem;\n",
       "  height: 1rem;\n",
       "  width: 1rem;\n",
       "  text-decoration: none;\n",
       "  /* unfitted */\n",
       "  color: var(--sklearn-color-unfitted-level-1);\n",
       "  border: var(--sklearn-color-unfitted-level-1) 1pt solid;\n",
       "}\n",
       "\n",
       "#sk-container-id-12 a.estimator_doc_link.fitted {\n",
       "  /* fitted */\n",
       "  border: var(--sklearn-color-fitted-level-1) 1pt solid;\n",
       "  color: var(--sklearn-color-fitted-level-1);\n",
       "}\n",
       "\n",
       "/* On hover */\n",
       "#sk-container-id-12 a.estimator_doc_link:hover {\n",
       "  /* unfitted */\n",
       "  background-color: var(--sklearn-color-unfitted-level-3);\n",
       "  color: var(--sklearn-color-background);\n",
       "  text-decoration: none;\n",
       "}\n",
       "\n",
       "#sk-container-id-12 a.estimator_doc_link.fitted:hover {\n",
       "  /* fitted */\n",
       "  background-color: var(--sklearn-color-fitted-level-3);\n",
       "}\n",
       "</style><div id=\"sk-container-id-12\" class=\"sk-top-container\"><div class=\"sk-text-repr-fallback\"><pre>GridSearchCV(cv=StratifiedKFold(n_splits=5, random_state=42, shuffle=True),\n",
       "             estimator=LogisticRegression(), n_jobs=-1,\n",
       "             param_grid={&#x27;C&#x27;: [0.001, 0.01, 1, 10, 15, 20, 40, 80, 120],\n",
       "                         &#x27;penalty&#x27;: [&#x27;l2&#x27;], &#x27;solver&#x27;: [&#x27;saga&#x27;]},\n",
       "             scoring=&#x27;accuracy&#x27;)</pre><b>In a Jupyter environment, please rerun this cell to show the HTML representation or trust the notebook. <br />On GitHub, the HTML representation is unable to render, please try loading this page with nbviewer.org.</b></div><div class=\"sk-container\" hidden><div class=\"sk-item sk-dashed-wrapped\"><div class=\"sk-label-container\"><div class=\"sk-label fitted sk-toggleable\"><input class=\"sk-toggleable__control sk-hidden--visually\" id=\"sk-estimator-id-30\" type=\"checkbox\" ><label for=\"sk-estimator-id-30\" class=\"sk-toggleable__label fitted sk-toggleable__label-arrow fitted\">&nbsp;&nbsp;GridSearchCV<a class=\"sk-estimator-doc-link fitted\" rel=\"noreferrer\" target=\"_blank\" href=\"https://scikit-learn.org/1.5/modules/generated/sklearn.model_selection.GridSearchCV.html\">?<span>Documentation for GridSearchCV</span></a><span class=\"sk-estimator-doc-link fitted\">i<span>Fitted</span></span></label><div class=\"sk-toggleable__content fitted\"><pre>GridSearchCV(cv=StratifiedKFold(n_splits=5, random_state=42, shuffle=True),\n",
       "             estimator=LogisticRegression(), n_jobs=-1,\n",
       "             param_grid={&#x27;C&#x27;: [0.001, 0.01, 1, 10, 15, 20, 40, 80, 120],\n",
       "                         &#x27;penalty&#x27;: [&#x27;l2&#x27;], &#x27;solver&#x27;: [&#x27;saga&#x27;]},\n",
       "             scoring=&#x27;accuracy&#x27;)</pre></div> </div></div><div class=\"sk-parallel\"><div class=\"sk-parallel-item\"><div class=\"sk-item\"><div class=\"sk-label-container\"><div class=\"sk-label fitted sk-toggleable\"><input class=\"sk-toggleable__control sk-hidden--visually\" id=\"sk-estimator-id-31\" type=\"checkbox\" ><label for=\"sk-estimator-id-31\" class=\"sk-toggleable__label fitted sk-toggleable__label-arrow fitted\">best_estimator_: LogisticRegression</label><div class=\"sk-toggleable__content fitted\"><pre>LogisticRegression(C=80, solver=&#x27;saga&#x27;)</pre></div> </div></div><div class=\"sk-serial\"><div class=\"sk-item\"><div class=\"sk-estimator fitted sk-toggleable\"><input class=\"sk-toggleable__control sk-hidden--visually\" id=\"sk-estimator-id-32\" type=\"checkbox\" ><label for=\"sk-estimator-id-32\" class=\"sk-toggleable__label fitted sk-toggleable__label-arrow fitted\">&nbsp;LogisticRegression<a class=\"sk-estimator-doc-link fitted\" rel=\"noreferrer\" target=\"_blank\" href=\"https://scikit-learn.org/1.5/modules/generated/sklearn.linear_model.LogisticRegression.html\">?<span>Documentation for LogisticRegression</span></a></label><div class=\"sk-toggleable__content fitted\"><pre>LogisticRegression(C=80, solver=&#x27;saga&#x27;)</pre></div> </div></div></div></div></div></div></div></div></div>"
      ],
      "text/plain": [
       "GridSearchCV(cv=StratifiedKFold(n_splits=5, random_state=42, shuffle=True),\n",
       "             estimator=LogisticRegression(), n_jobs=-1,\n",
       "             param_grid={'C': [0.001, 0.01, 1, 10, 15, 20, 40, 80, 120],\n",
       "                         'penalty': ['l2'], 'solver': ['saga']},\n",
       "             scoring='accuracy')"
      ]
     },
     "execution_count": 82,
     "metadata": {},
     "output_type": "execute_result"
    }
   ],
   "source": [
    "grid_lr.fit(X_train_tfidf.toarray(), y_train)"
   ]
  },
  {
   "cell_type": "code",
   "execution_count": 160,
   "id": "4c349703-ffb1-4ca1-a259-a357f0acf379",
   "metadata": {
    "execution": {
     "iopub.execute_input": "2024-08-10T21:03:23.508906Z",
     "iopub.status.busy": "2024-08-10T21:03:23.508906Z",
     "iopub.status.idle": "2024-08-10T21:03:23.515466Z",
     "shell.execute_reply": "2024-08-10T21:03:23.515466Z",
     "shell.execute_reply.started": "2024-08-10T21:03:23.508906Z"
    }
   },
   "outputs": [
    {
     "data": {
      "text/plain": [
       "{'C': 80, 'penalty': 'l2', 'solver': 'saga'}"
      ]
     },
     "execution_count": 160,
     "metadata": {},
     "output_type": "execute_result"
    }
   ],
   "source": [
    "grid_lr.best_params_"
   ]
  },
  {
   "cell_type": "code",
   "execution_count": 161,
   "id": "3340347f-571f-49af-a41e-1daf3a5807e5",
   "metadata": {
    "execution": {
     "iopub.execute_input": "2024-08-10T21:03:24.774468Z",
     "iopub.status.busy": "2024-08-10T21:03:24.774468Z",
     "iopub.status.idle": "2024-08-10T21:03:24.784877Z",
     "shell.execute_reply": "2024-08-10T21:03:24.784877Z",
     "shell.execute_reply.started": "2024-08-10T21:03:24.774468Z"
    }
   },
   "outputs": [
    {
     "data": {
      "text/plain": [
       "0.8557578080091972"
      ]
     },
     "execution_count": 161,
     "metadata": {},
     "output_type": "execute_result"
    }
   ],
   "source": [
    "grid_lr.best_score_"
   ]
  },
  {
   "cell_type": "code",
   "execution_count": 162,
   "id": "52006540-c13f-42b2-9381-9a35208a9e04",
   "metadata": {
    "execution": {
     "iopub.execute_input": "2024-08-10T21:03:26.625701Z",
     "iopub.status.busy": "2024-08-10T21:03:26.624390Z",
     "iopub.status.idle": "2024-08-10T21:03:26.629123Z",
     "shell.execute_reply": "2024-08-10T21:03:26.629123Z",
     "shell.execute_reply.started": "2024-08-10T21:03:26.625701Z"
    }
   },
   "outputs": [],
   "source": [
    "lr_best = grid_lr.best_estimator_"
   ]
  },
  {
   "cell_type": "code",
   "execution_count": 163,
   "id": "ba1edb43-029c-40a9-bb90-7a50048c7d98",
   "metadata": {
    "execution": {
     "iopub.execute_input": "2024-08-10T21:03:28.020859Z",
     "iopub.status.busy": "2024-08-10T21:03:28.020859Z",
     "iopub.status.idle": "2024-08-10T21:03:28.031098Z",
     "shell.execute_reply": "2024-08-10T21:03:28.030585Z",
     "shell.execute_reply.started": "2024-08-10T21:03:28.020859Z"
    }
   },
   "outputs": [
    {
     "data": {
      "text/plain": [
       "array([[ 0.8770423 , -0.64631702,  0.90175369, ..., -1.41670422,\n",
       "        -1.41670422,  0.33447404]])"
      ]
     },
     "execution_count": 163,
     "metadata": {},
     "output_type": "execute_result"
    }
   ],
   "source": [
    "lr_best.coef_"
   ]
  },
  {
   "cell_type": "markdown",
   "id": "bb96fdd4-8aa0-4a82-9296-9020ae899ecb",
   "metadata": {},
   "source": [
    "### Evaluación"
   ]
  },
  {
   "cell_type": "markdown",
   "id": "fefe3150-f345-4cf0-a15a-3b448f8dce10",
   "metadata": {},
   "source": [
    "#### Scores"
   ]
  },
  {
   "cell_type": "code",
   "execution_count": 198,
   "id": "d51f6cf2-3ab1-4fbe-968d-26a873d65207",
   "metadata": {
    "execution": {
     "iopub.execute_input": "2024-08-10T21:09:15.109915Z",
     "iopub.status.busy": "2024-08-10T21:09:15.109915Z",
     "iopub.status.idle": "2024-08-10T21:09:15.131357Z",
     "shell.execute_reply": "2024-08-10T21:09:15.131357Z",
     "shell.execute_reply.started": "2024-08-10T21:09:15.109915Z"
    }
   },
   "outputs": [
    {
     "data": {
      "text/html": [
       "<div>\n",
       "<style scoped>\n",
       "    .dataframe tbody tr th:only-of-type {\n",
       "        vertical-align: middle;\n",
       "    }\n",
       "\n",
       "    .dataframe tbody tr th {\n",
       "        vertical-align: top;\n",
       "    }\n",
       "\n",
       "    .dataframe thead th {\n",
       "        text-align: right;\n",
       "    }\n",
       "</style>\n",
       "<table border=\"1\" class=\"dataframe\">\n",
       "  <thead>\n",
       "    <tr style=\"text-align: right;\">\n",
       "      <th></th>\n",
       "      <th>score</th>\n",
       "    </tr>\n",
       "  </thead>\n",
       "  <tbody>\n",
       "    <tr>\n",
       "      <th>accuracy</th>\n",
       "      <td>0.865</td>\n",
       "    </tr>\n",
       "    <tr>\n",
       "      <th>precision</th>\n",
       "      <td>0.846</td>\n",
       "    </tr>\n",
       "    <tr>\n",
       "      <th>recall</th>\n",
       "      <td>0.919</td>\n",
       "    </tr>\n",
       "    <tr>\n",
       "      <th>specificity</th>\n",
       "      <td>0.799</td>\n",
       "    </tr>\n",
       "    <tr>\n",
       "      <th>f1</th>\n",
       "      <td>0.881</td>\n",
       "    </tr>\n",
       "  </tbody>\n",
       "</table>\n",
       "</div>"
      ],
      "text/plain": [
       "             score\n",
       "accuracy     0.865\n",
       "precision    0.846\n",
       "recall       0.919\n",
       "specificity  0.799\n",
       "f1           0.881"
      ]
     },
     "execution_count": 198,
     "metadata": {},
     "output_type": "execute_result"
    }
   ],
   "source": [
    "y_test_hat = lr_best.predict(X_test_tfidf)\n",
    "scores = scores_from_true_hat(nombre, y_test, y_test_hat)\n",
    "df_summary_scores = pd.concat([df_summary_scores, scores], axis=1)\n",
    "scores[0:5].to_frame(name='score')"
   ]
  },
  {
   "cell_type": "markdown",
   "id": "d6321fdd-7895-4af4-91a2-b363dc98b6fc",
   "metadata": {
    "execution": {
     "iopub.execute_input": "2022-09-09T21:30:33.838387Z",
     "iopub.status.busy": "2022-09-09T21:30:33.838387Z",
     "iopub.status.idle": "2022-09-09T21:30:33.854052Z",
     "shell.execute_reply": "2022-09-09T21:30:33.854052Z",
     "shell.execute_reply.started": "2022-09-09T21:30:33.838387Z"
    }
   },
   "source": [
    "#### Matriz de confusión"
   ]
  },
  {
   "cell_type": "code",
   "execution_count": 199,
   "id": "f2c863e8-274b-4d7b-abe2-748f9bbb2cba",
   "metadata": {
    "execution": {
     "iopub.execute_input": "2024-08-10T21:09:16.054148Z",
     "iopub.status.busy": "2024-08-10T21:09:16.054148Z",
     "iopub.status.idle": "2024-08-10T21:09:16.189693Z",
     "shell.execute_reply": "2024-08-10T21:09:16.189178Z",
     "shell.execute_reply.started": "2024-08-10T21:09:16.054148Z"
    }
   },
   "outputs": [
    {
     "data": {
      "image/png": "[encoded data removed]",
      "text/plain": [
       "<Figure size 640x480 with 2 Axes>"
      ]
     },
     "metadata": {},
     "output_type": "display_data"
    }
   ],
   "source": [
    "plot_matrix(nombre, y_test, y_test_hat)"
   ]
  },
  {
   "cell_type": "markdown",
   "id": "141f8352-9405-4849-a0d3-172dc20cec65",
   "metadata": {},
   "source": [
    "#### Gráfico de curva ROC y cálculo de área bajo la curva"
   ]
  },
  {
   "cell_type": "code",
   "execution_count": 200,
   "id": "7bdef656-65b2-4ddb-a204-bec601498d20",
   "metadata": {
    "execution": {
     "iopub.execute_input": "2024-08-10T21:09:17.370742Z",
     "iopub.status.busy": "2024-08-10T21:09:17.370742Z",
     "iopub.status.idle": "2024-08-10T21:09:17.488141Z",
     "shell.execute_reply": "2024-08-10T21:09:17.488141Z",
     "shell.execute_reply.started": "2024-08-10T21:09:17.370742Z"
    },
    "scrolled": true
   },
   "outputs": [
    {
     "data": {
      "image/png": "[encoded data removed]",
      "text/plain": [
       "<Figure size 640x480 with 1 Axes>"
      ]
     },
     "metadata": {},
     "output_type": "display_data"
    },
    {
     "name": "stdout",
     "output_type": "stream",
     "text": [
      "AUC: 0.93\n"
     ]
    }
   ],
   "source": [
    "auc_metric = plot_roc_auc(lr_best, nombre, X_test_tfidf, y_test)\n",
    "df_summary_scores.loc['AUC', nombre] = auc_metric"
   ]
  },
  {
   "cell_type": "markdown",
   "id": "cdfdb978-0f39-4d12-b580-fb5cf96056cf",
   "metadata": {
    "id": "cdfdb978-0f39-4d12-b580-fb5cf96056cf"
   },
   "source": [
    "# Modelo con Deep Learning"
   ]
  },
  {
   "cell_type": "markdown",
   "id": "b646b47b-06bb-41ba-ab43-c995a1eba84c",
   "metadata": {
    "id": "9c642d33-fdf1-44e2-aecd-4c6546f5c862"
   },
   "source": [
    "### División de datos en conjuntos de entrenamiento, validación y prueba"
   ]
  },
  {
   "cell_type": "code",
   "execution_count": 92,
   "id": "2353f5bd-df63-4aba-84d7-0cecccb13718",
   "metadata": {
    "execution": {
     "iopub.execute_input": "2024-08-10T19:26:12.438231Z",
     "iopub.status.busy": "2024-08-10T19:26:12.438231Z",
     "iopub.status.idle": "2024-08-10T19:26:12.445880Z",
     "shell.execute_reply": "2024-08-10T19:26:12.445255Z",
     "shell.execute_reply.started": "2024-08-10T19:26:12.438231Z"
    },
    "executionInfo": {
     "elapsed": 327,
     "status": "ok",
     "timestamp": 1723268387019,
     "user": {
      "displayName": "Damian Fernandez",
      "userId": "16135875833693471232"
     },
     "user_tz": 180
    },
    "id": "d09b5761-4098-4d29-a1b6-56496af67c74"
   },
   "outputs": [],
   "source": [
    "X_train, X_test, y_train, y_test = train_test_split(X, y, test_size=0.3, random_state=42)"
   ]
  },
  {
   "cell_type": "code",
   "execution_count": 93,
   "id": "0d08256f-992f-4caf-9431-319777242a86",
   "metadata": {
    "execution": {
     "iopub.execute_input": "2024-08-10T19:26:12.685593Z",
     "iopub.status.busy": "2024-08-10T19:26:12.685593Z",
     "iopub.status.idle": "2024-08-10T19:26:12.691429Z",
     "shell.execute_reply": "2024-08-10T19:26:12.691320Z",
     "shell.execute_reply.started": "2024-08-10T19:26:12.685593Z"
    },
    "executionInfo": {
     "elapsed": 1,
     "status": "ok",
     "timestamp": 1723268387894,
     "user": {
      "displayName": "Damian Fernandez",
      "userId": "16135875833693471232"
     },
     "user_tz": 180
    },
    "id": "ed13fce2-03a8-4ddc-88be-510908aea95b"
   },
   "outputs": [],
   "source": [
    "X_val, X_test, y_val, y_test = train_test_split(X_test, y_test, test_size=0.333, random_state=42)"
   ]
  },
  {
   "cell_type": "code",
   "execution_count": 94,
   "id": "c05e4357-b1e7-4c3f-8846-97cb32a01b9c",
   "metadata": {
    "colab": {
     "base_uri": "https://localhost:8080/"
    },
    "execution": {
     "iopub.execute_input": "2024-08-10T19:26:13.073499Z",
     "iopub.status.busy": "2024-08-10T19:26:13.073499Z",
     "iopub.status.idle": "2024-08-10T19:26:13.079664Z",
     "shell.execute_reply": "2024-08-10T19:26:13.079040Z",
     "shell.execute_reply.started": "2024-08-10T19:26:13.073499Z"
    },
    "executionInfo": {
     "elapsed": 328,
     "status": "ok",
     "timestamp": 1723268390747,
     "user": {
      "displayName": "Damian Fernandez",
      "userId": "16135875833693471232"
     },
     "user_tz": 180
    },
    "id": "509170b0-7bca-4b20-bee7-e371578589d7",
    "outputId": "34d8f785-753a-40fb-fbbf-62460422c07b"
   },
   "outputs": [
    {
     "data": {
      "text/plain": [
       "((1532,), (438,), (219,))"
      ]
     },
     "execution_count": 94,
     "metadata": {},
     "output_type": "execute_result"
    }
   ],
   "source": [
    "X_train.shape, X_val.shape, X_test.shape"
   ]
  },
  {
   "cell_type": "markdown",
   "id": "94f877c1-ee95-445e-b426-469dc7bd77e9",
   "metadata": {
    "id": "94f877c1-ee95-445e-b426-469dc7bd77e9"
   },
   "source": [
    "## Vectorización con keras.TextVectorization"
   ]
  },
  {
   "cell_type": "code",
   "execution_count": 95,
   "id": "91f1ecf7-d129-4e58-a2e4-d46ad25fd40b",
   "metadata": {
    "execution": {
     "iopub.execute_input": "2024-08-10T19:26:16.312749Z",
     "iopub.status.busy": "2024-08-10T19:26:16.311751Z",
     "iopub.status.idle": "2024-08-10T19:26:16.436447Z",
     "shell.execute_reply": "2024-08-10T19:26:16.435443Z",
     "shell.execute_reply.started": "2024-08-10T19:26:16.312749Z"
    },
    "executionInfo": {
     "elapsed": 819,
     "status": "ok",
     "timestamp": 1723268395514,
     "user": {
      "displayName": "Damian Fernandez",
      "userId": "16135875833693471232"
     },
     "user_tz": 180
    },
    "id": "91f1ecf7-d129-4e58-a2e4-d46ad25fd40b"
   },
   "outputs": [],
   "source": [
    "keras_vectorizer = TextVectorization(standardize=None, ngrams=None, max_tokens=10000, output_mode='tf-idf')"
   ]
  },
  {
   "cell_type": "code",
   "execution_count": 96,
   "id": "24587b6d-c394-4b47-b294-b53377259fd9",
   "metadata": {
    "execution": {
     "iopub.execute_input": "2024-08-10T19:26:16.696131Z",
     "iopub.status.busy": "2024-08-10T19:26:16.696131Z",
     "iopub.status.idle": "2024-08-10T19:26:17.684971Z",
     "shell.execute_reply": "2024-08-10T19:26:17.684971Z",
     "shell.execute_reply.started": "2024-08-10T19:26:16.696131Z"
    },
    "executionInfo": {
     "elapsed": 3937,
     "status": "ok",
     "timestamp": 1723268399450,
     "user": {
      "displayName": "Damian Fernandez",
      "userId": "16135875833693471232"
     },
     "user_tz": 180
    },
    "id": "24587b6d-c394-4b47-b294-b53377259fd9"
   },
   "outputs": [],
   "source": [
    "keras_vectorizer.adapt(X_train)"
   ]
  },
  {
   "cell_type": "code",
   "execution_count": 97,
   "id": "0bd1c34b-f606-469e-b79d-f5bea358807f",
   "metadata": {
    "colab": {
     "base_uri": "https://localhost:8080/"
    },
    "execution": {
     "iopub.execute_input": "2024-08-10T19:26:17.686993Z",
     "iopub.status.busy": "2024-08-10T19:26:17.686993Z",
     "iopub.status.idle": "2024-08-10T19:26:17.691863Z",
     "shell.execute_reply": "2024-08-10T19:26:17.691863Z",
     "shell.execute_reply.started": "2024-08-10T19:26:17.686993Z"
    },
    "executionInfo": {
     "elapsed": 323,
     "status": "ok",
     "timestamp": 1723268403859,
     "user": {
      "displayName": "Damian Fernandez",
      "userId": "16135875833693471232"
     },
     "user_tz": 180
    },
    "id": "0bd1c34b-f606-469e-b79d-f5bea358807f",
    "outputId": "fd21bf0e-3eff-4537-b0f9-2774fb2ae18f"
   },
   "outputs": [
    {
     "data": {
      "text/plain": [
       "6644"
      ]
     },
     "execution_count": 97,
     "metadata": {},
     "output_type": "execute_result"
    }
   ],
   "source": [
    "vocab_size = keras_vectorizer.vocabulary_size()\n",
    "vocab_size"
   ]
  },
  {
   "cell_type": "markdown",
   "id": "8cb1eb6b-f90c-45de-8d4a-0dcc0b4766cf",
   "metadata": {},
   "source": [
    "### Vectorización de conjuntos train y val"
   ]
  },
  {
   "cell_type": "code",
   "execution_count": 98,
   "id": "d6e68952-444a-44ce-a69c-85dbd550baea",
   "metadata": {
    "execution": {
     "iopub.execute_input": "2024-08-10T19:26:19.647724Z",
     "iopub.status.busy": "2024-08-10T19:26:19.647724Z",
     "iopub.status.idle": "2024-08-10T19:26:19.999909Z",
     "shell.execute_reply": "2024-08-10T19:26:19.998900Z",
     "shell.execute_reply.started": "2024-08-10T19:26:19.647724Z"
    },
    "executionInfo": {
     "elapsed": 2699,
     "status": "ok",
     "timestamp": 1723268407825,
     "user": {
      "displayName": "Damian Fernandez",
      "userId": "16135875833693471232"
     },
     "user_tz": 180
    },
    "id": "d6e68952-444a-44ce-a69c-85dbd550baea"
   },
   "outputs": [],
   "source": [
    "X_train_kv, X_val_kv = keras_vectorizer(X_train), keras_vectorizer(X_val)"
   ]
  },
  {
   "cell_type": "markdown",
   "id": "2b140777-5e20-481e-b045-586f2d197c9f",
   "metadata": {
    "id": "2b140777-5e20-481e-b045-586f2d197c9f"
   },
   "source": [
    "## Red neuronal optimizada con sklearn.RandomizedSearch"
   ]
  },
  {
   "cell_type": "markdown",
   "id": "8a32648b-d84a-42a0-88ff-1c6916c7db05",
   "metadata": {
    "execution": {
     "iopub.execute_input": "2024-08-10T18:16:18.062870Z",
     "iopub.status.busy": "2024-08-10T18:16:18.062870Z",
     "iopub.status.idle": "2024-08-10T18:16:18.067911Z",
     "shell.execute_reply": "2024-08-10T18:16:18.067911Z",
     "shell.execute_reply.started": "2024-08-10T18:16:18.062870Z"
    }
   },
   "source": [
    "### Función de creación parametrizada de modelo de redes neuronales"
   ]
  },
  {
   "cell_type": "code",
   "execution_count": null,
   "id": "bc38b037-e79e-4f5c-a14a-6ec6a119ba98",
   "metadata": {
    "execution": {
     "iopub.execute_input": "2024-08-10T17:10:20.303866Z",
     "iopub.status.busy": "2024-08-10T17:10:20.303866Z",
     "iopub.status.idle": "2024-08-10T17:10:20.330088Z",
     "shell.execute_reply": "2024-08-10T17:10:20.330088Z",
     "shell.execute_reply.started": "2024-08-10T17:10:20.303866Z"
    },
    "executionInfo": {
     "elapsed": 322,
     "status": "ok",
     "timestamp": 1723268564702,
     "user": {
      "displayName": "Damian Fernandez",
      "userId": "16135875833693471232"
     },
     "user_tz": 180
    },
    "id": "08a4c857-31b0-4d9d-951b-371762d8a997"
   },
   "outputs": [],
   "source": [
    "def generar_rn(max_feat, n_hidden, neurons_decay, dropout_rate):\n",
    "    \n",
    "    print(f'n_hidden={n_hidden}, neurons_decay={neurons_decay}, dropout_rate={dropout_rate}')\n",
    "    \n",
    "    n_neurons = [int(max_feat*(neurons_decay**i)) for i in range(n_hidden)]\n",
    "\n",
    "    model = tf.keras.models.Sequential()\n",
    "    model.add(tf.keras.layers.Input(shape=(max_feat,)))\n",
    "    for capa in range(n_hidden):\n",
    "        model.add(tf.keras.layers.Dense(n_neurons[capa], activation='relu', kernel_regularizer=tf.keras.regularizers.l2(0.01))) # Capas ocultas\n",
    "        if dropout_rate > 0: model.add(tf.keras.layers.Dropout(dropout_rate))\n",
    "    model.add(tf.keras.layers.Dense(1, activation='sigmoid')) #Capa de salida\n",
    "    model.compile(\n",
    "                loss='binary_crossentropy',\n",
    "                optimizer='rmsprop',\n",
    "                metrics=['accuracy', tf.keras.metrics.F1Score(), tf.keras.metrics.AUC()]\n",
    "                )\n",
    "    return model"
   ]
  },
  {
   "cell_type": "markdown",
   "id": "47431bdc-d73b-41ff-933e-185a45971a35",
   "metadata": {},
   "source": [
    "#### Instanciación con wrapper de scikeras para mimetizar red neuronal con clasificador de scikit-learn"
   ]
  },
  {
   "cell_type": "code",
   "execution_count": null,
   "id": "ed306994-2771-4b4a-bee6-2e7bf1f51220",
   "metadata": {
    "execution": {
     "iopub.execute_input": "2024-08-10T17:10:20.303866Z",
     "iopub.status.busy": "2024-08-10T17:10:20.303866Z",
     "iopub.status.idle": "2024-08-10T17:10:20.330088Z",
     "shell.execute_reply": "2024-08-10T17:10:20.330088Z",
     "shell.execute_reply.started": "2024-08-10T17:10:20.303866Z"
    },
    "executionInfo": {
     "elapsed": 322,
     "status": "ok",
     "timestamp": 1723268564702,
     "user": {
      "displayName": "Damian Fernandez",
      "userId": "16135875833693471232"
     },
     "user_tz": 180
    },
    "id": "08a4c857-31b0-4d9d-951b-371762d8a997"
   },
   "outputs": [],
   "source": [
    "keras_clasif = KerasClassifier(model=generar_rn, max_feat=vocab_size, n_hidden=1, neurons_decay=0.5, dropout_rate=0.3, callbacks=[tf.keras.callbacks.EarlyStopping(patience=5)])"
   ]
  },
  {
   "cell_type": "markdown",
   "id": "10e73aa0-7c9f-4b88-90e6-f4106589cd44",
   "metadata": {},
   "source": [
    "### RandomizedSearchCV"
   ]
  },
  {
   "cell_type": "code",
   "execution_count": 185,
   "id": "9a693528-ddee-47eb-8a83-fc0135e1f0cd",
   "metadata": {
    "colab": {
     "base_uri": "https://localhost:8080/"
    },
    "execution": {
     "iopub.execute_input": "2024-08-10T17:10:22.135929Z",
     "iopub.status.busy": "2024-08-10T17:10:22.135929Z",
     "iopub.status.idle": "2024-08-10T17:10:22.145890Z",
     "shell.execute_reply": "2024-08-10T17:10:22.145380Z",
     "shell.execute_reply.started": "2024-08-10T17:10:22.135929Z"
    },
    "executionInfo": {
     "elapsed": 2,
     "status": "ok",
     "timestamp": 1723268566000,
     "user": {
      "displayName": "Damian Fernandez",
      "userId": "16135875833693471232"
     },
     "user_tz": 180
    },
    "id": "9a693528-ddee-47eb-8a83-fc0135e1f0cd",
    "outputId": "28e3ce93-0788-46f2-e755-2d09dd81b6c3"
   },
   "outputs": [
    {
     "data": {
      "text/plain": [
       "{'n_hidden': [1, 2, 3],\n",
       " 'neurons_decay': [0.25, 0.5],\n",
       " 'dropout_rate': [0.3, 0.5]}"
      ]
     },
     "execution_count": 185,
     "metadata": {},
     "output_type": "execute_result"
    }
   ],
   "source": [
    "params = {\n",
    "    'n_hidden': [1, 2, 3],\n",
    "    'neurons_decay': [0.25, 0.5],\n",
    "    'dropout_rate': [0.3, 0.5]\n",
    "}\n",
    "params"
   ]
  },
  {
   "cell_type": "code",
   "execution_count": 19,
   "id": "ugHe35ViIX48",
   "metadata": {
    "execution": {
     "iopub.execute_input": "2024-08-10T04:44:28.681423Z",
     "iopub.status.busy": "2024-08-10T04:44:28.680427Z",
     "iopub.status.idle": "2024-08-10T04:44:28.686107Z",
     "shell.execute_reply": "2024-08-10T04:44:28.685095Z",
     "shell.execute_reply.started": "2024-08-10T04:44:28.681423Z"
    },
    "executionInfo": {
     "elapsed": 3,
     "status": "ok",
     "timestamp": 1723268566829,
     "user": {
      "displayName": "Damian Fernandez",
      "userId": "16135875833693471232"
     },
     "user_tz": 180
    },
    "id": "ugHe35ViIX48"
   },
   "outputs": [],
   "source": [
    "rnd_search_cv = RandomizedSearchCV(estimator=keras_clasif, param_distributions=params, n_iter=5, cv=3)"
   ]
  },
  {
   "cell_type": "code",
   "execution_count": 20,
   "id": "b88cb9b0-2e4d-4f2f-af0e-abe92f23a41c",
   "metadata": {
    "colab": {
     "base_uri": "https://localhost:8080/",
     "height": 1000
    },
    "execution": {
     "iopub.execute_input": "2024-08-10T04:44:29.254219Z",
     "iopub.status.busy": "2024-08-10T04:44:29.254219Z",
     "iopub.status.idle": "2024-08-10T04:45:55.715563Z",
     "shell.execute_reply": "2024-08-10T04:45:55.714549Z",
     "shell.execute_reply.started": "2024-08-10T04:44:29.254219Z"
    },
    "executionInfo": {
     "elapsed": 484940,
     "status": "ok",
     "timestamp": 1723269054123,
     "user": {
      "displayName": "Damian Fernandez",
      "userId": "16135875833693471232"
     },
     "user_tz": 180
    },
    "id": "b88cb9b0-2e4d-4f2f-af0e-abe92f23a41c",
    "outputId": "21f3a71f-db03-420f-c184-ba9c1b89220c",
    "scrolled": true
   },
   "outputs": [
    {
     "name": "stdout",
     "output_type": "stream",
     "text": [
      "n_hidden=3, neurons_decay=0.25, dropout_rate=0.5\n",
      "Epoch 1/50\n",
      "\u001b[1m32/32\u001b[0m \u001b[32m━━━━━━━━━━━━━━━━━━━━\u001b[0m\u001b[37m\u001b[0m \u001b[1m13s\u001b[0m 255ms/step - accuracy: 0.5980 - auc: 0.5851 - f1_score: 0.7282 - loss: 57.6914 - val_accuracy: 0.6826 - val_auc: 0.7862 - val_f1_score: 0.7022 - val_loss: 7.4332\n",
      "Epoch 2/50\n",
      "\u001b[1m32/32\u001b[0m \u001b[32m━━━━━━━━━━━━━━━━━━━━\u001b[0m\u001b[37m\u001b[0m \u001b[1m1s\u001b[0m 17ms/step - accuracy: 0.8941 - auc: 0.9446 - f1_score: 0.7179 - loss: 4.6854 - val_accuracy: 0.7671 - val_auc: 0.8248 - val_f1_score: 0.7022 - val_loss: 1.6231\n",
      "Epoch 3/50\n",
      "\u001b[1m32/32\u001b[0m \u001b[32m━━━━━━━━━━━━━━━━━━━━\u001b[0m\u001b[37m\u001b[0m \u001b[1m1s\u001b[0m 17ms/step - accuracy: 0.9592 - auc: 0.9837 - f1_score: 0.7342 - loss: 0.9804 - val_accuracy: 0.7603 - val_auc: 0.8250 - val_f1_score: 0.7022 - val_loss: 1.1076\n",
      "Epoch 4/50\n",
      "\u001b[1m32/32\u001b[0m \u001b[32m━━━━━━━━━━━━━━━━━━━━\u001b[0m\u001b[37m\u001b[0m \u001b[1m1s\u001b[0m 17ms/step - accuracy: 0.9727 - auc: 0.9885 - f1_score: 0.7304 - loss: 0.5424 - val_accuracy: 0.7717 - val_auc: 0.8352 - val_f1_score: 0.7022 - val_loss: 0.9239\n",
      "Epoch 5/50\n",
      "\u001b[1m32/32\u001b[0m \u001b[32m━━━━━━━━━━━━━━━━━━━━\u001b[0m\u001b[37m\u001b[0m \u001b[1m1s\u001b[0m 17ms/step - accuracy: 0.9803 - auc: 0.9944 - f1_score: 0.7090 - loss: 0.4303 - val_accuracy: 0.8219 - val_auc: 0.8679 - val_f1_score: 0.7022 - val_loss: 0.7950\n",
      "Epoch 6/50\n",
      "\u001b[1m32/32\u001b[0m \u001b[32m━━━━━━━━━━━━━━━━━━━━\u001b[0m\u001b[37m\u001b[0m \u001b[1m1s\u001b[0m 17ms/step - accuracy: 0.9835 - auc: 0.9955 - f1_score: 0.7357 - loss: 0.3433 - val_accuracy: 0.7352 - val_auc: 0.8362 - val_f1_score: 0.7022 - val_loss: 1.0281\n",
      "Epoch 7/50\n",
      "\u001b[1m32/32\u001b[0m \u001b[32m━━━━━━━━━━━━━━━━━━━━\u001b[0m\u001b[37m\u001b[0m \u001b[1m1s\u001b[0m 17ms/step - accuracy: 0.9786 - auc: 0.9930 - f1_score: 0.7311 - loss: 0.3244 - val_accuracy: 0.7945 - val_auc: 0.8506 - val_f1_score: 0.7022 - val_loss: 0.8094\n",
      "Epoch 8/50\n",
      "\u001b[1m32/32\u001b[0m \u001b[32m━━━━━━━━━━━━━━━━━━━━\u001b[0m\u001b[37m\u001b[0m \u001b[1m1s\u001b[0m 17ms/step - accuracy: 0.9817 - auc: 0.9984 - f1_score: 0.7025 - loss: 0.2763 - val_accuracy: 0.7123 - val_auc: 0.8417 - val_f1_score: 0.7022 - val_loss: 1.0437\n",
      "Epoch 9/50\n",
      "\u001b[1m32/32\u001b[0m \u001b[32m━━━━━━━━━━━━━━━━━━━━\u001b[0m\u001b[37m\u001b[0m \u001b[1m1s\u001b[0m 17ms/step - accuracy: 0.9766 - auc: 0.9958 - f1_score: 0.7191 - loss: 0.2802 - val_accuracy: 0.8037 - val_auc: 0.8659 - val_f1_score: 0.7022 - val_loss: 0.7111\n",
      "Epoch 10/50\n",
      "\u001b[1m32/32\u001b[0m \u001b[32m━━━━━━━━━━━━━━━━━━━━\u001b[0m\u001b[37m\u001b[0m \u001b[1m1s\u001b[0m 17ms/step - accuracy: 0.9780 - auc: 0.9951 - f1_score: 0.7142 - loss: 0.2545 - val_accuracy: 0.7763 - val_auc: 0.8538 - val_f1_score: 0.7022 - val_loss: 0.8128\n",
      "Epoch 11/50\n",
      "\u001b[1m32/32\u001b[0m \u001b[32m━━━━━━━━━━━━━━━━━━━━\u001b[0m\u001b[37m\u001b[0m \u001b[1m1s\u001b[0m 17ms/step - accuracy: 0.9813 - auc: 0.9971 - f1_score: 0.7252 - loss: 0.2240 - val_accuracy: 0.7900 - val_auc: 0.8635 - val_f1_score: 0.7022 - val_loss: 0.7438\n",
      "Epoch 12/50\n",
      "\u001b[1m32/32\u001b[0m \u001b[32m━━━━━━━━━━━━━━━━━━━━\u001b[0m\u001b[37m\u001b[0m \u001b[1m1s\u001b[0m 17ms/step - accuracy: 0.9919 - auc: 0.9988 - f1_score: 0.6961 - loss: 0.1969 - val_accuracy: 0.7877 - val_auc: 0.8500 - val_f1_score: 0.7022 - val_loss: 0.7396\n",
      "Epoch 13/50\n",
      "\u001b[1m32/32\u001b[0m \u001b[32m━━━━━━━━━━━━━━━━━━━━\u001b[0m\u001b[37m\u001b[0m \u001b[1m1s\u001b[0m 17ms/step - accuracy: 0.9893 - auc: 0.9947 - f1_score: 0.7299 - loss: 0.2121 - val_accuracy: 0.7717 - val_auc: 0.8634 - val_f1_score: 0.7022 - val_loss: 0.7217\n",
      "Epoch 14/50\n",
      "\u001b[1m32/32\u001b[0m \u001b[32m━━━━━━━━━━━━━━━━━━━━\u001b[0m\u001b[37m\u001b[0m \u001b[1m1s\u001b[0m 18ms/step - accuracy: 0.9829 - auc: 0.9949 - f1_score: 0.7021 - loss: 0.2143 - val_accuracy: 0.7945 - val_auc: 0.8599 - val_f1_score: 0.7022 - val_loss: 0.7099\n",
      "Epoch 15/50\n",
      "\u001b[1m32/32\u001b[0m \u001b[32m━━━━━━━━━━━━━━━━━━━━\u001b[0m\u001b[37m\u001b[0m \u001b[1m1s\u001b[0m 19ms/step - accuracy: 0.9889 - auc: 0.9984 - f1_score: 0.7078 - loss: 0.1800 - val_accuracy: 0.8059 - val_auc: 0.8743 - val_f1_score: 0.7022 - val_loss: 0.7125\n",
      "Epoch 16/50\n",
      "\u001b[1m32/32\u001b[0m \u001b[32m━━━━━━━━━━━━━━━━━━━━\u001b[0m\u001b[37m\u001b[0m \u001b[1m1s\u001b[0m 19ms/step - accuracy: 0.9896 - auc: 0.9982 - f1_score: 0.7181 - loss: 0.1722 - val_accuracy: 0.7968 - val_auc: 0.8709 - val_f1_score: 0.7022 - val_loss: 0.6785\n",
      "Epoch 17/50\n",
      "\u001b[1m32/32\u001b[0m \u001b[32m━━━━━━━━━━━━━━━━━━━━\u001b[0m\u001b[37m\u001b[0m \u001b[1m1s\u001b[0m 17ms/step - accuracy: 0.9847 - auc: 0.9964 - f1_score: 0.7406 - loss: 0.1831 - val_accuracy: 0.8014 - val_auc: 0.8719 - val_f1_score: 0.7022 - val_loss: 0.6717\n",
      "Epoch 18/50\n",
      "\u001b[1m32/32\u001b[0m \u001b[32m━━━━━━━━━━━━━━━━━━━━\u001b[0m\u001b[37m\u001b[0m \u001b[1m1s\u001b[0m 16ms/step - accuracy: 0.9893 - auc: 0.9985 - f1_score: 0.7254 - loss: 0.1601 - val_accuracy: 0.7968 - val_auc: 0.8598 - val_f1_score: 0.7022 - val_loss: 0.7004\n",
      "Epoch 19/50\n",
      "\u001b[1m32/32\u001b[0m \u001b[32m━━━━━━━━━━━━━━━━━━━━\u001b[0m\u001b[37m\u001b[0m \u001b[1m1s\u001b[0m 17ms/step - accuracy: 0.9815 - auc: 0.9968 - f1_score: 0.7185 - loss: 0.1739 - val_accuracy: 0.7694 - val_auc: 0.8641 - val_f1_score: 0.7022 - val_loss: 0.7341\n",
      "Epoch 20/50\n",
      "\u001b[1m32/32\u001b[0m \u001b[32m━━━━━━━━━━━━━━━━━━━━\u001b[0m\u001b[37m\u001b[0m \u001b[1m1s\u001b[0m 17ms/step - accuracy: 0.9854 - auc: 0.9987 - f1_score: 0.7073 - loss: 0.1641 - val_accuracy: 0.7968 - val_auc: 0.8850 - val_f1_score: 0.7022 - val_loss: 0.6479\n",
      "Epoch 21/50\n",
      "\u001b[1m32/32\u001b[0m \u001b[32m━━━━━━━━━━━━━━━━━━━━\u001b[0m\u001b[37m\u001b[0m \u001b[1m1s\u001b[0m 17ms/step - accuracy: 0.9921 - auc: 0.9982 - f1_score: 0.7230 - loss: 0.1526 - val_accuracy: 0.7648 - val_auc: 0.8531 - val_f1_score: 0.7022 - val_loss: 0.7330\n",
      "Epoch 22/50\n",
      "\u001b[1m32/32\u001b[0m \u001b[32m━━━━━━━━━━━━━━━━━━━━\u001b[0m\u001b[37m\u001b[0m \u001b[1m1s\u001b[0m 17ms/step - accuracy: 0.9786 - auc: 0.9953 - f1_score: 0.7306 - loss: 0.1654 - val_accuracy: 0.8288 - val_auc: 0.8724 - val_f1_score: 0.7022 - val_loss: 0.6638\n",
      "Epoch 23/50\n",
      "\u001b[1m32/32\u001b[0m \u001b[32m━━━━━━━━━━━━━━━━━━━━\u001b[0m\u001b[37m\u001b[0m \u001b[1m1s\u001b[0m 17ms/step - accuracy: 0.9881 - auc: 0.9987 - f1_score: 0.7157 - loss: 0.1426 - val_accuracy: 0.8059 - val_auc: 0.8764 - val_f1_score: 0.7022 - val_loss: 0.6393\n",
      "Epoch 24/50\n",
      "\u001b[1m32/32\u001b[0m \u001b[32m━━━━━━━━━━━━━━━━━━━━\u001b[0m\u001b[37m\u001b[0m \u001b[1m1s\u001b[0m 17ms/step - accuracy: 0.9816 - auc: 0.9978 - f1_score: 0.7394 - loss: 0.1496 - val_accuracy: 0.7945 - val_auc: 0.8691 - val_f1_score: 0.7022 - val_loss: 0.6959\n",
      "Epoch 25/50\n",
      "\u001b[1m32/32\u001b[0m \u001b[32m━━━━━━━━━━━━━━━━━━━━\u001b[0m\u001b[37m\u001b[0m \u001b[1m1s\u001b[0m 17ms/step - accuracy: 0.9857 - auc: 0.9989 - f1_score: 0.7298 - loss: 0.1401 - val_accuracy: 0.7694 - val_auc: 0.8610 - val_f1_score: 0.7022 - val_loss: 0.6524\n",
      "Epoch 26/50\n",
      "\u001b[1m32/32\u001b[0m \u001b[32m━━━━━━━━━━━━━━━━━━━━\u001b[0m\u001b[37m\u001b[0m \u001b[1m1s\u001b[0m 17ms/step - accuracy: 0.9800 - auc: 0.9917 - f1_score: 0.7012 - loss: 0.1753 - val_accuracy: 0.8265 - val_auc: 0.8783 - val_f1_score: 0.7022 - val_loss: 0.6364\n",
      "Epoch 27/50\n",
      "\u001b[1m32/32\u001b[0m \u001b[32m━━━━━━━━━━━━━━━━━━━━\u001b[0m\u001b[37m\u001b[0m \u001b[1m1s\u001b[0m 17ms/step - accuracy: 0.9911 - auc: 0.9974 - f1_score: 0.7040 - loss: 0.1380 - val_accuracy: 0.7991 - val_auc: 0.8672 - val_f1_score: 0.7022 - val_loss: 0.6358\n",
      "Epoch 28/50\n",
      "\u001b[1m32/32\u001b[0m \u001b[32m━━━━━━━━━━━━━━━━━━━━\u001b[0m\u001b[37m\u001b[0m \u001b[1m1s\u001b[0m 17ms/step - accuracy: 0.9908 - auc: 0.9977 - f1_score: 0.7052 - loss: 0.1351 - val_accuracy: 0.7945 - val_auc: 0.8797 - val_f1_score: 0.7022 - val_loss: 0.6387\n",
      "Epoch 29/50\n",
      "\u001b[1m32/32\u001b[0m \u001b[32m━━━━━━━━━━━━━━━━━━━━\u001b[0m\u001b[37m\u001b[0m \u001b[1m1s\u001b[0m 17ms/step - accuracy: 0.9796 - auc: 0.9989 - f1_score: 0.7282 - loss: 0.1402 - val_accuracy: 0.7945 - val_auc: 0.8706 - val_f1_score: 0.7022 - val_loss: 0.6727\n",
      "Epoch 30/50\n",
      "\u001b[1m32/32\u001b[0m \u001b[32m━━━━━━━━━━━━━━━━━━━━\u001b[0m\u001b[37m\u001b[0m \u001b[1m1s\u001b[0m 17ms/step - accuracy: 0.9889 - auc: 0.9994 - f1_score: 0.6927 - loss: 0.1259 - val_accuracy: 0.8059 - val_auc: 0.8884 - val_f1_score: 0.7022 - val_loss: 0.5824\n",
      "Epoch 31/50\n",
      "\u001b[1m32/32\u001b[0m \u001b[32m━━━━━━━━━━━━━━━━━━━━\u001b[0m\u001b[37m\u001b[0m \u001b[1m1s\u001b[0m 17ms/step - accuracy: 0.9874 - auc: 0.9984 - f1_score: 0.7300 - loss: 0.1292 - val_accuracy: 0.7968 - val_auc: 0.8648 - val_f1_score: 0.7022 - val_loss: 0.6640\n",
      "Epoch 32/50\n",
      "\u001b[1m32/32\u001b[0m \u001b[32m━━━━━━━━━━━━━━━━━━━━\u001b[0m\u001b[37m\u001b[0m \u001b[1m1s\u001b[0m 16ms/step - accuracy: 0.9913 - auc: 0.9989 - f1_score: 0.7213 - loss: 0.1250 - val_accuracy: 0.7968 - val_auc: 0.8824 - val_f1_score: 0.7022 - val_loss: 0.6533\n",
      "Epoch 33/50\n",
      "\u001b[1m32/32\u001b[0m \u001b[32m━━━━━━━━━━━━━━━━━━━━\u001b[0m\u001b[37m\u001b[0m \u001b[1m1s\u001b[0m 18ms/step - accuracy: 0.9912 - auc: 0.9991 - f1_score: 0.7179 - loss: 0.1289 - val_accuracy: 0.7991 - val_auc: 0.8698 - val_f1_score: 0.7022 - val_loss: 0.6425\n",
      "Epoch 34/50\n",
      "\u001b[1m32/32\u001b[0m \u001b[32m━━━━━━━━━━━━━━━━━━━━\u001b[0m\u001b[37m\u001b[0m \u001b[1m1s\u001b[0m 21ms/step - accuracy: 0.9824 - auc: 0.9978 - f1_score: 0.7381 - loss: 0.1413 - val_accuracy: 0.8151 - val_auc: 0.8778 - val_f1_score: 0.7022 - val_loss: 0.6254\n",
      "Epoch 35/50\n",
      "\u001b[1m32/32\u001b[0m \u001b[32m━━━━━━━━━━━━━━━━━━━━\u001b[0m\u001b[37m\u001b[0m \u001b[1m1s\u001b[0m 21ms/step - accuracy: 0.9945 - auc: 0.9990 - f1_score: 0.7144 - loss: 0.1157 - val_accuracy: 0.7922 - val_auc: 0.8720 - val_f1_score: 0.7022 - val_loss: 0.6954\n",
      "\u001b[1m16/16\u001b[0m \u001b[32m━━━━━━━━━━━━━━━━━━━━\u001b[0m\u001b[37m\u001b[0m \u001b[1m1s\u001b[0m 34ms/step\n",
      "n_hidden=3, neurons_decay=0.25, dropout_rate=0.5\n",
      "Epoch 1/50\n",
      "\u001b[1m32/32\u001b[0m \u001b[32m━━━━━━━━━━━━━━━━━━━━\u001b[0m\u001b[37m\u001b[0m \u001b[1m9s\u001b[0m 145ms/step - accuracy: 0.5605 - auc_2: 0.5373 - f1_score: 0.7324 - loss: 58.2331 - val_accuracy: 0.6279 - val_auc_2: 0.7239 - val_f1_score: 0.7022 - val_loss: 7.5373\n",
      "Epoch 2/50\n",
      "\u001b[1m32/32\u001b[0m \u001b[32m━━━━━━━━━━━━━━━━━━━━\u001b[0m\u001b[37m\u001b[0m \u001b[1m4s\u001b[0m 22ms/step - accuracy: 0.8681 - auc_2: 0.9374 - f1_score: 0.7335 - loss: 4.7730 - val_accuracy: 0.7466 - val_auc_2: 0.8253 - val_f1_score: 0.7022 - val_loss: 1.6881\n",
      "Epoch 3/50\n",
      "\u001b[1m32/32\u001b[0m \u001b[32m━━━━━━━━━━━━━━━━━━━━\u001b[0m\u001b[37m\u001b[0m \u001b[1m1s\u001b[0m 17ms/step - accuracy: 0.9679 - auc_2: 0.9937 - f1_score: 0.7312 - loss: 0.9739 - val_accuracy: 0.7740 - val_auc_2: 0.8374 - val_f1_score: 0.7022 - val_loss: 1.0256\n",
      "Epoch 4/50\n",
      "\u001b[1m32/32\u001b[0m \u001b[32m━━━━━━━━━━━━━━━━━━━━\u001b[0m\u001b[37m\u001b[0m \u001b[1m1s\u001b[0m 17ms/step - accuracy: 0.9786 - auc_2: 0.9938 - f1_score: 0.7385 - loss: 0.5123 - val_accuracy: 0.7717 - val_auc_2: 0.8403 - val_f1_score: 0.7022 - val_loss: 0.9182\n",
      "Epoch 5/50\n",
      "\u001b[1m32/32\u001b[0m \u001b[32m━━━━━━━━━━━━━━━━━━━━\u001b[0m\u001b[37m\u001b[0m \u001b[1m1s\u001b[0m 17ms/step - accuracy: 0.9726 - auc_2: 0.9948 - f1_score: 0.7272 - loss: 0.4088 - val_accuracy: 0.7763 - val_auc_2: 0.8468 - val_f1_score: 0.7022 - val_loss: 0.8504\n",
      "Epoch 6/50\n",
      "\u001b[1m32/32\u001b[0m \u001b[32m━━━━━━━━━━━━━━━━━━━━\u001b[0m\u001b[37m\u001b[0m \u001b[1m1s\u001b[0m 17ms/step - accuracy: 0.9790 - auc_2: 0.9959 - f1_score: 0.7363 - loss: 0.3558 - val_accuracy: 0.8014 - val_auc_2: 0.8617 - val_f1_score: 0.7022 - val_loss: 0.7880\n",
      "Epoch 7/50\n",
      "\u001b[1m32/32\u001b[0m \u001b[32m━━━━━━━━━━━━━━━━━━━━\u001b[0m\u001b[37m\u001b[0m \u001b[1m1s\u001b[0m 17ms/step - accuracy: 0.9808 - auc_2: 0.9874 - f1_score: 0.7315 - loss: 0.3417 - val_accuracy: 0.7854 - val_auc_2: 0.8369 - val_f1_score: 0.7022 - val_loss: 0.8128\n",
      "Epoch 8/50\n",
      "\u001b[1m32/32\u001b[0m \u001b[32m━━━━━━━━━━━━━━━━━━━━\u001b[0m\u001b[37m\u001b[0m \u001b[1m1s\u001b[0m 17ms/step - accuracy: 0.9741 - auc_2: 0.9964 - f1_score: 0.7194 - loss: 0.2976 - val_accuracy: 0.7854 - val_auc_2: 0.8457 - val_f1_score: 0.7022 - val_loss: 0.8086\n",
      "Epoch 9/50\n",
      "\u001b[1m32/32\u001b[0m \u001b[32m━━━━━━━━━━━━━━━━━━━━\u001b[0m\u001b[37m\u001b[0m \u001b[1m1s\u001b[0m 17ms/step - accuracy: 0.9890 - auc_2: 0.9983 - f1_score: 0.7045 - loss: 0.2550 - val_accuracy: 0.7877 - val_auc_2: 0.8383 - val_f1_score: 0.7022 - val_loss: 0.7809\n",
      "Epoch 10/50\n",
      "\u001b[1m32/32\u001b[0m \u001b[32m━━━━━━━━━━━━━━━━━━━━\u001b[0m\u001b[37m\u001b[0m \u001b[1m1s\u001b[0m 17ms/step - accuracy: 0.9836 - auc_2: 0.9972 - f1_score: 0.7330 - loss: 0.2375 - val_accuracy: 0.7808 - val_auc_2: 0.8520 - val_f1_score: 0.7022 - val_loss: 0.8400\n",
      "Epoch 11/50\n",
      "\u001b[1m32/32\u001b[0m \u001b[32m━━━━━━━━━━━━━━━━━━━━\u001b[0m\u001b[37m\u001b[0m \u001b[1m1s\u001b[0m 20ms/step - accuracy: 0.9874 - auc_2: 0.9992 - f1_score: 0.7054 - loss: 0.2042 - val_accuracy: 0.7831 - val_auc_2: 0.8370 - val_f1_score: 0.7022 - val_loss: 0.8029\n",
      "Epoch 12/50\n",
      "\u001b[1m32/32\u001b[0m \u001b[32m━━━━━━━━━━━━━━━━━━━━\u001b[0m\u001b[37m\u001b[0m \u001b[1m1s\u001b[0m 17ms/step - accuracy: 0.9871 - auc_2: 0.9987 - f1_score: 0.7200 - loss: 0.1978 - val_accuracy: 0.7900 - val_auc_2: 0.8439 - val_f1_score: 0.7022 - val_loss: 0.7516\n",
      "Epoch 13/50\n",
      "\u001b[1m32/32\u001b[0m \u001b[32m━━━━━━━━━━━━━━━━━━━━\u001b[0m\u001b[37m\u001b[0m \u001b[1m1s\u001b[0m 17ms/step - accuracy: 0.9858 - auc_2: 0.9991 - f1_score: 0.7357 - loss: 0.1917 - val_accuracy: 0.7694 - val_auc_2: 0.8511 - val_f1_score: 0.7022 - val_loss: 0.7986\n",
      "Epoch 14/50\n",
      "\u001b[1m32/32\u001b[0m \u001b[32m━━━━━━━━━━━━━━━━━━━━\u001b[0m\u001b[37m\u001b[0m \u001b[1m1s\u001b[0m 17ms/step - accuracy: 0.9880 - auc_2: 0.9979 - f1_score: 0.7005 - loss: 0.1906 - val_accuracy: 0.7877 - val_auc_2: 0.8538 - val_f1_score: 0.7022 - val_loss: 0.7074\n",
      "Epoch 15/50\n",
      "\u001b[1m32/32\u001b[0m \u001b[32m━━━━━━━━━━━━━━━━━━━━\u001b[0m\u001b[37m\u001b[0m \u001b[1m1s\u001b[0m 17ms/step - accuracy: 0.9866 - auc_2: 0.9993 - f1_score: 0.7391 - loss: 0.1758 - val_accuracy: 0.7900 - val_auc_2: 0.8476 - val_f1_score: 0.7022 - val_loss: 0.7594\n",
      "Epoch 16/50\n",
      "\u001b[1m32/32\u001b[0m \u001b[32m━━━━━━━━━━━━━━━━━━━━\u001b[0m\u001b[37m\u001b[0m \u001b[1m1s\u001b[0m 17ms/step - accuracy: 0.9876 - auc_2: 0.9979 - f1_score: 0.7207 - loss: 0.1733 - val_accuracy: 0.7877 - val_auc_2: 0.8593 - val_f1_score: 0.7022 - val_loss: 0.7085\n",
      "Epoch 17/50\n",
      "\u001b[1m32/32\u001b[0m \u001b[32m━━━━━━━━━━━━━━━━━━━━\u001b[0m\u001b[37m\u001b[0m \u001b[1m1s\u001b[0m 19ms/step - accuracy: 0.9848 - auc_2: 0.9960 - f1_score: 0.7100 - loss: 0.1854 - val_accuracy: 0.7922 - val_auc_2: 0.8434 - val_f1_score: 0.7022 - val_loss: 0.7725\n",
      "Epoch 18/50\n",
      "\u001b[1m32/32\u001b[0m \u001b[32m━━━━━━━━━━━━━━━━━━━━\u001b[0m\u001b[37m\u001b[0m \u001b[1m1s\u001b[0m 20ms/step - accuracy: 0.9914 - auc_2: 0.9993 - f1_score: 0.7051 - loss: 0.1473 - val_accuracy: 0.7626 - val_auc_2: 0.8546 - val_f1_score: 0.7022 - val_loss: 0.8263\n",
      "Epoch 19/50\n",
      "\u001b[1m32/32\u001b[0m \u001b[32m━━━━━━━━━━━━━━━━━━━━\u001b[0m\u001b[37m\u001b[0m \u001b[1m1s\u001b[0m 21ms/step - accuracy: 0.9807 - auc_2: 0.9972 - f1_score: 0.7214 - loss: 0.1778 - val_accuracy: 0.7922 - val_auc_2: 0.8617 - val_f1_score: 0.7022 - val_loss: 0.6995\n",
      "Epoch 20/50\n",
      "\u001b[1m32/32\u001b[0m \u001b[32m━━━━━━━━━━━━━━━━━━━━\u001b[0m\u001b[37m\u001b[0m \u001b[1m1s\u001b[0m 22ms/step - accuracy: 0.9860 - auc_2: 0.9973 - f1_score: 0.7305 - loss: 0.1568 - val_accuracy: 0.7511 - val_auc_2: 0.8347 - val_f1_score: 0.7022 - val_loss: 0.9168\n",
      "Epoch 21/50\n",
      "\u001b[1m32/32\u001b[0m \u001b[32m━━━━━━━━━━━━━━━━━━━━\u001b[0m\u001b[37m\u001b[0m \u001b[1m1s\u001b[0m 17ms/step - accuracy: 0.9855 - auc_2: 0.9981 - f1_score: 0.6952 - loss: 0.1590 - val_accuracy: 0.7557 - val_auc_2: 0.8341 - val_f1_score: 0.7022 - val_loss: 0.9092\n",
      "Epoch 22/50\n",
      "\u001b[1m32/32\u001b[0m \u001b[32m━━━━━━━━━━━━━━━━━━━━\u001b[0m\u001b[37m\u001b[0m \u001b[1m1s\u001b[0m 17ms/step - accuracy: 0.9877 - auc_2: 0.9986 - f1_score: 0.7272 - loss: 0.1464 - val_accuracy: 0.7763 - val_auc_2: 0.8434 - val_f1_score: 0.7022 - val_loss: 0.7415\n",
      "Epoch 23/50\n",
      "\u001b[1m32/32\u001b[0m \u001b[32m━━━━━━━━━━━━━━━━━━━━\u001b[0m\u001b[37m\u001b[0m \u001b[1m1s\u001b[0m 17ms/step - accuracy: 0.9927 - auc_2: 0.9988 - f1_score: 0.7265 - loss: 0.1401 - val_accuracy: 0.7831 - val_auc_2: 0.8511 - val_f1_score: 0.7022 - val_loss: 0.7489\n",
      "Epoch 24/50\n",
      "\u001b[1m32/32\u001b[0m \u001b[32m━━━━━━━━━━━━━━━━━━━━\u001b[0m\u001b[37m\u001b[0m \u001b[1m1s\u001b[0m 17ms/step - accuracy: 0.9952 - auc_2: 0.9990 - f1_score: 0.7396 - loss: 0.1296 - val_accuracy: 0.7900 - val_auc_2: 0.8559 - val_f1_score: 0.7022 - val_loss: 0.7400\n",
      "\u001b[1m16/16\u001b[0m \u001b[32m━━━━━━━━━━━━━━━━━━━━\u001b[0m\u001b[37m\u001b[0m \u001b[1m1s\u001b[0m 31ms/step\n",
      "n_hidden=3, neurons_decay=0.25, dropout_rate=0.5\n",
      "Epoch 1/50\n",
      "\u001b[1m32/32\u001b[0m \u001b[32m━━━━━━━━━━━━━━━━━━━━\u001b[0m\u001b[37m\u001b[0m \u001b[1m11s\u001b[0m 215ms/step - accuracy: 0.5093 - auc_3: 0.4879 - f1_score: 0.7045 - loss: 57.4631 - val_accuracy: 0.5662 - val_auc_3: 0.6925 - val_f1_score: 0.7022 - val_loss: 6.6248\n",
      "Epoch 2/50\n",
      "\u001b[1m32/32\u001b[0m \u001b[32m━━━━━━━━━━━━━━━━━━━━\u001b[0m\u001b[37m\u001b[0m \u001b[1m1s\u001b[0m 17ms/step - accuracy: 0.8011 - auc_3: 0.8825 - f1_score: 0.7129 - loss: 4.2169 - val_accuracy: 0.7603 - val_auc_3: 0.8162 - val_f1_score: 0.7022 - val_loss: 1.4777\n",
      "Epoch 3/50\n",
      "\u001b[1m32/32\u001b[0m \u001b[32m━━━━━━━━━━━━━━━━━━━━\u001b[0m\u001b[37m\u001b[0m \u001b[1m1s\u001b[0m 17ms/step - accuracy: 0.9586 - auc_3: 0.9858 - f1_score: 0.7085 - loss: 0.9035 - val_accuracy: 0.7854 - val_auc_3: 0.8273 - val_f1_score: 0.7022 - val_loss: 1.0287\n",
      "Epoch 4/50\n",
      "\u001b[1m32/32\u001b[0m \u001b[32m━━━━━━━━━━━━━━━━━━━━\u001b[0m\u001b[37m\u001b[0m \u001b[1m1s\u001b[0m 16ms/step - accuracy: 0.9688 - auc_3: 0.9934 - f1_score: 0.7063 - loss: 0.5177 - val_accuracy: 0.7557 - val_auc_3: 0.8115 - val_f1_score: 0.7022 - val_loss: 1.0114\n",
      "Epoch 5/50\n",
      "\u001b[1m32/32\u001b[0m \u001b[32m━━━━━━━━━━━━━━━━━━━━\u001b[0m\u001b[37m\u001b[0m \u001b[1m1s\u001b[0m 17ms/step - accuracy: 0.9711 - auc_3: 0.9906 - f1_score: 0.7452 - loss: 0.4296 - val_accuracy: 0.7831 - val_auc_3: 0.8310 - val_f1_score: 0.7022 - val_loss: 0.9036\n",
      "Epoch 6/50\n",
      "\u001b[1m32/32\u001b[0m \u001b[32m━━━━━━━━━━━━━━━━━━━━\u001b[0m\u001b[37m\u001b[0m \u001b[1m1s\u001b[0m 17ms/step - accuracy: 0.9818 - auc_3: 0.9971 - f1_score: 0.7250 - loss: 0.3539 - val_accuracy: 0.7831 - val_auc_3: 0.8447 - val_f1_score: 0.7022 - val_loss: 0.8064\n",
      "Epoch 7/50\n",
      "\u001b[1m32/32\u001b[0m \u001b[32m━━━━━━━━━━━━━━━━━━━━\u001b[0m\u001b[37m\u001b[0m \u001b[1m1s\u001b[0m 17ms/step - accuracy: 0.9798 - auc_3: 0.9961 - f1_score: 0.7253 - loss: 0.3085 - val_accuracy: 0.7443 - val_auc_3: 0.8559 - val_f1_score: 0.7022 - val_loss: 0.8452\n",
      "Epoch 8/50\n",
      "\u001b[1m32/32\u001b[0m \u001b[32m━━━━━━━━━━━━━━━━━━━━\u001b[0m\u001b[37m\u001b[0m \u001b[1m1s\u001b[0m 17ms/step - accuracy: 0.9784 - auc_3: 0.9971 - f1_score: 0.7220 - loss: 0.2959 - val_accuracy: 0.7785 - val_auc_3: 0.8567 - val_f1_score: 0.7022 - val_loss: 0.8026\n",
      "Epoch 9/50\n",
      "\u001b[1m32/32\u001b[0m \u001b[32m━━━━━━━━━━━━━━━━━━━━\u001b[0m\u001b[37m\u001b[0m \u001b[1m1s\u001b[0m 17ms/step - accuracy: 0.9844 - auc_3: 0.9964 - f1_score: 0.7149 - loss: 0.2627 - val_accuracy: 0.8082 - val_auc_3: 0.8770 - val_f1_score: 0.7022 - val_loss: 0.6748\n",
      "Epoch 10/50\n",
      "\u001b[1m32/32\u001b[0m \u001b[32m━━━━━━━━━━━━━━━━━━━━\u001b[0m\u001b[37m\u001b[0m \u001b[1m1s\u001b[0m 17ms/step - accuracy: 0.9844 - auc_3: 0.9967 - f1_score: 0.7131 - loss: 0.2424 - val_accuracy: 0.7740 - val_auc_3: 0.8464 - val_f1_score: 0.7022 - val_loss: 0.7639\n",
      "Epoch 11/50\n",
      "\u001b[1m32/32\u001b[0m \u001b[32m━━━━━━━━━━━━━━━━━━━━\u001b[0m\u001b[37m\u001b[0m \u001b[1m1s\u001b[0m 17ms/step - accuracy: 0.9844 - auc_3: 0.9945 - f1_score: 0.7302 - loss: 0.2303 - val_accuracy: 0.7580 - val_auc_3: 0.8594 - val_f1_score: 0.7022 - val_loss: 0.8419\n",
      "Epoch 12/50\n",
      "\u001b[1m32/32\u001b[0m \u001b[32m━━━━━━━━━━━━━━━━━━━━\u001b[0m\u001b[37m\u001b[0m \u001b[1m1s\u001b[0m 17ms/step - accuracy: 0.9822 - auc_3: 0.9971 - f1_score: 0.7173 - loss: 0.2188 - val_accuracy: 0.7854 - val_auc_3: 0.8642 - val_f1_score: 0.7022 - val_loss: 0.6714\n",
      "Epoch 13/50\n",
      "\u001b[1m32/32\u001b[0m \u001b[32m━━━━━━━━━━━━━━━━━━━━\u001b[0m\u001b[37m\u001b[0m \u001b[1m1s\u001b[0m 17ms/step - accuracy: 0.9831 - auc_3: 0.9962 - f1_score: 0.7245 - loss: 0.2058 - val_accuracy: 0.8128 - val_auc_3: 0.8650 - val_f1_score: 0.7022 - val_loss: 0.6723\n",
      "Epoch 14/50\n",
      "\u001b[1m32/32\u001b[0m \u001b[32m━━━━━━━━━━━━━━━━━━━━\u001b[0m\u001b[37m\u001b[0m \u001b[1m1s\u001b[0m 17ms/step - accuracy: 0.9926 - auc_3: 0.9988 - f1_score: 0.7017 - loss: 0.1767 - val_accuracy: 0.8014 - val_auc_3: 0.8708 - val_f1_score: 0.7022 - val_loss: 0.6567\n",
      "Epoch 15/50\n",
      "\u001b[1m32/32\u001b[0m \u001b[32m━━━━━━━━━━━━━━━━━━━━\u001b[0m\u001b[37m\u001b[0m \u001b[1m1s\u001b[0m 17ms/step - accuracy: 0.9851 - auc_3: 0.9992 - f1_score: 0.7164 - loss: 0.1681 - val_accuracy: 0.7740 - val_auc_3: 0.8544 - val_f1_score: 0.7022 - val_loss: 0.7450\n",
      "Epoch 16/50\n",
      "\u001b[1m32/32\u001b[0m \u001b[32m━━━━━━━━━━━━━━━━━━━━\u001b[0m\u001b[37m\u001b[0m \u001b[1m1s\u001b[0m 17ms/step - accuracy: 0.9764 - auc_3: 0.9948 - f1_score: 0.7147 - loss: 0.2133 - val_accuracy: 0.8082 - val_auc_3: 0.8792 - val_f1_score: 0.7022 - val_loss: 0.6233\n",
      "Epoch 17/50\n",
      "\u001b[1m32/32\u001b[0m \u001b[32m━━━━━━━━━━━━━━━━━━━━\u001b[0m\u001b[37m\u001b[0m \u001b[1m1s\u001b[0m 22ms/step - accuracy: 0.9886 - auc_3: 0.9990 - f1_score: 0.7106 - loss: 0.1669 - val_accuracy: 0.7763 - val_auc_3: 0.8721 - val_f1_score: 0.7022 - val_loss: 0.7224\n",
      "Epoch 18/50\n",
      "\u001b[1m32/32\u001b[0m \u001b[32m━━━━━━━━━━━━━━━━━━━━\u001b[0m\u001b[37m\u001b[0m \u001b[1m1s\u001b[0m 22ms/step - accuracy: 0.9886 - auc_3: 0.9990 - f1_score: 0.7265 - loss: 0.1581 - val_accuracy: 0.7763 - val_auc_3: 0.8453 - val_f1_score: 0.7022 - val_loss: 0.7592\n",
      "Epoch 19/50\n",
      "\u001b[1m32/32\u001b[0m \u001b[32m━━━━━━━━━━━━━━━━━━━━\u001b[0m\u001b[37m\u001b[0m \u001b[1m1s\u001b[0m 22ms/step - accuracy: 0.9827 - auc_3: 0.9980 - f1_score: 0.7176 - loss: 0.1689 - val_accuracy: 0.7831 - val_auc_3: 0.8558 - val_f1_score: 0.7022 - val_loss: 0.6873\n",
      "Epoch 20/50\n",
      "\u001b[1m32/32\u001b[0m \u001b[32m━━━━━━━━━━━━━━━━━━━━\u001b[0m\u001b[37m\u001b[0m \u001b[1m1s\u001b[0m 17ms/step - accuracy: 0.9865 - auc_3: 0.9970 - f1_score: 0.7060 - loss: 0.1702 - val_accuracy: 0.8014 - val_auc_3: 0.8687 - val_f1_score: 0.7022 - val_loss: 0.6810\n",
      "Epoch 21/50\n",
      "\u001b[1m32/32\u001b[0m \u001b[32m━━━━━━━━━━━━━━━━━━━━\u001b[0m\u001b[37m\u001b[0m \u001b[1m1s\u001b[0m 17ms/step - accuracy: 0.9867 - auc_3: 0.9992 - f1_score: 0.7296 - loss: 0.1480 - val_accuracy: 0.7626 - val_auc_3: 0.8554 - val_f1_score: 0.7022 - val_loss: 0.7451\n",
      "\u001b[1m16/16\u001b[0m \u001b[32m━━━━━━━━━━━━━━━━━━━━\u001b[0m\u001b[37m\u001b[0m \u001b[1m1s\u001b[0m 44ms/step\n",
      "n_hidden=2, neurons_decay=0.5, dropout_rate=0.5\n",
      "Epoch 1/50\n",
      "\u001b[1m32/32\u001b[0m \u001b[32m━━━━━━━━━━━━━━━━━━━━\u001b[0m\u001b[37m\u001b[0m \u001b[1m9s\u001b[0m 176ms/step - accuracy: 0.5980 - auc_4: 0.6143 - f1_score: 0.7221 - loss: 62.3802 - val_accuracy: 0.7580 - val_auc_4: 0.8132 - val_f1_score: 0.7022 - val_loss: 5.8890\n",
      "Epoch 2/50\n",
      "\u001b[1m32/32\u001b[0m \u001b[32m━━━━━━━━━━━━━━━━━━━━\u001b[0m\u001b[37m\u001b[0m \u001b[1m1s\u001b[0m 24ms/step - accuracy: 0.9220 - auc_4: 0.9743 - f1_score: 0.7159 - loss: 3.4066 - val_accuracy: 0.7740 - val_auc_4: 0.8317 - val_f1_score: 0.7022 - val_loss: 1.2311\n",
      "Epoch 3/50\n",
      "\u001b[1m32/32\u001b[0m \u001b[32m━━━━━━━━━━━━━━━━━━━━\u001b[0m\u001b[37m\u001b[0m \u001b[1m1s\u001b[0m 22ms/step - accuracy: 0.9556 - auc_4: 0.9915 - f1_score: 0.7105 - loss: 0.6372 - val_accuracy: 0.7945 - val_auc_4: 0.8530 - val_f1_score: 0.7022 - val_loss: 0.9118\n",
      "Epoch 4/50\n",
      "\u001b[1m32/32\u001b[0m \u001b[32m━━━━━━━━━━━━━━━━━━━━\u001b[0m\u001b[37m\u001b[0m \u001b[1m1s\u001b[0m 21ms/step - accuracy: 0.9667 - auc_4: 0.9933 - f1_score: 0.7216 - loss: 0.4607 - val_accuracy: 0.7831 - val_auc_4: 0.8619 - val_f1_score: 0.7022 - val_loss: 0.8704\n",
      "Epoch 5/50\n",
      "\u001b[1m32/32\u001b[0m \u001b[32m━━━━━━━━━━━━━━━━━━━━\u001b[0m\u001b[37m\u001b[0m \u001b[1m1s\u001b[0m 20ms/step - accuracy: 0.9752 - auc_4: 0.9947 - f1_score: 0.7065 - loss: 0.3769 - val_accuracy: 0.7146 - val_auc_4: 0.8275 - val_f1_score: 0.7022 - val_loss: 1.0974\n",
      "Epoch 6/50\n",
      "\u001b[1m32/32\u001b[0m \u001b[32m━━━━━━━━━━━━━━━━━━━━\u001b[0m\u001b[37m\u001b[0m \u001b[1m1s\u001b[0m 19ms/step - accuracy: 0.9673 - auc_4: 0.9885 - f1_score: 0.7290 - loss: 0.3746 - val_accuracy: 0.7580 - val_auc_4: 0.8481 - val_f1_score: 0.7022 - val_loss: 0.9093\n",
      "Epoch 7/50\n",
      "\u001b[1m32/32\u001b[0m \u001b[32m━━━━━━━━━━━━━━━━━━━━\u001b[0m\u001b[37m\u001b[0m \u001b[1m1s\u001b[0m 19ms/step - accuracy: 0.9748 - auc_4: 0.9973 - f1_score: 0.7245 - loss: 0.2964 - val_accuracy: 0.7854 - val_auc_4: 0.8578 - val_f1_score: 0.7022 - val_loss: 0.7567\n",
      "Epoch 8/50\n",
      "\u001b[1m32/32\u001b[0m \u001b[32m━━━━━━━━━━━━━━━━━━━━\u001b[0m\u001b[37m\u001b[0m \u001b[1m1s\u001b[0m 19ms/step - accuracy: 0.9870 - auc_4: 0.9985 - f1_score: 0.7221 - loss: 0.2511 - val_accuracy: 0.8014 - val_auc_4: 0.8778 - val_f1_score: 0.7022 - val_loss: 0.7328\n",
      "Epoch 9/50\n",
      "\u001b[1m32/32\u001b[0m \u001b[32m━━━━━━━━━━━━━━━━━━━━\u001b[0m\u001b[37m\u001b[0m \u001b[1m1s\u001b[0m 21ms/step - accuracy: 0.9807 - auc_4: 0.9942 - f1_score: 0.7227 - loss: 0.2560 - val_accuracy: 0.8105 - val_auc_4: 0.8677 - val_f1_score: 0.7022 - val_loss: 0.7242\n",
      "Epoch 10/50\n",
      "\u001b[1m32/32\u001b[0m \u001b[32m━━━━━━━━━━━━━━━━━━━━\u001b[0m\u001b[37m\u001b[0m \u001b[1m1s\u001b[0m 19ms/step - accuracy: 0.9845 - auc_4: 0.9976 - f1_score: 0.7344 - loss: 0.2102 - val_accuracy: 0.7991 - val_auc_4: 0.8685 - val_f1_score: 0.7022 - val_loss: 0.6978\n",
      "Epoch 11/50\n",
      "\u001b[1m32/32\u001b[0m \u001b[32m━━━━━━━━━━━━━━━━━━━━\u001b[0m\u001b[37m\u001b[0m \u001b[1m1s\u001b[0m 19ms/step - accuracy: 0.9801 - auc_4: 0.9950 - f1_score: 0.7049 - loss: 0.2048 - val_accuracy: 0.7991 - val_auc_4: 0.8641 - val_f1_score: 0.7022 - val_loss: 0.7291\n",
      "Epoch 12/50\n",
      "\u001b[1m32/32\u001b[0m \u001b[32m━━━━━━━━━━━━━━━━━━━━\u001b[0m\u001b[37m\u001b[0m \u001b[1m1s\u001b[0m 19ms/step - accuracy: 0.9831 - auc_4: 0.9962 - f1_score: 0.7083 - loss: 0.1965 - val_accuracy: 0.8128 - val_auc_4: 0.8761 - val_f1_score: 0.7022 - val_loss: 0.6557\n",
      "Epoch 13/50\n",
      "\u001b[1m32/32\u001b[0m \u001b[32m━━━━━━━━━━━━━━━━━━━━\u001b[0m\u001b[37m\u001b[0m \u001b[1m1s\u001b[0m 22ms/step - accuracy: 0.9922 - auc_4: 0.9993 - f1_score: 0.7174 - loss: 0.1493 - val_accuracy: 0.7420 - val_auc_4: 0.8669 - val_f1_score: 0.7022 - val_loss: 0.8511\n",
      "Epoch 14/50\n",
      "\u001b[1m32/32\u001b[0m \u001b[32m━━━━━━━━━━━━━━━━━━━━\u001b[0m\u001b[37m\u001b[0m \u001b[1m1s\u001b[0m 24ms/step - accuracy: 0.9870 - auc_4: 0.9978 - f1_score: 0.7048 - loss: 0.1739 - val_accuracy: 0.7717 - val_auc_4: 0.8746 - val_f1_score: 0.7022 - val_loss: 0.7646\n",
      "Epoch 15/50\n",
      "\u001b[1m32/32\u001b[0m \u001b[32m━━━━━━━━━━━━━━━━━━━━\u001b[0m\u001b[37m\u001b[0m \u001b[1m1s\u001b[0m 22ms/step - accuracy: 0.9882 - auc_4: 0.9989 - f1_score: 0.7281 - loss: 0.1560 - val_accuracy: 0.8128 - val_auc_4: 0.8719 - val_f1_score: 0.7022 - val_loss: 0.6852\n",
      "Epoch 16/50\n",
      "\u001b[1m32/32\u001b[0m \u001b[32m━━━━━━━━━━━━━━━━━━━━\u001b[0m\u001b[37m\u001b[0m \u001b[1m1s\u001b[0m 24ms/step - accuracy: 0.9911 - auc_4: 0.9986 - f1_score: 0.7053 - loss: 0.1446 - val_accuracy: 0.8128 - val_auc_4: 0.8864 - val_f1_score: 0.7022 - val_loss: 0.6209\n",
      "Epoch 17/50\n",
      "\u001b[1m32/32\u001b[0m \u001b[32m━━━━━━━━━━━━━━━━━━━━\u001b[0m\u001b[37m\u001b[0m \u001b[1m1s\u001b[0m 21ms/step - accuracy: 0.9911 - auc_4: 0.9984 - f1_score: 0.7185 - loss: 0.1393 - val_accuracy: 0.7922 - val_auc_4: 0.8698 - val_f1_score: 0.7022 - val_loss: 0.6750\n",
      "Epoch 18/50\n",
      "\u001b[1m32/32\u001b[0m \u001b[32m━━━━━━━━━━━━━━━━━━━━\u001b[0m\u001b[37m\u001b[0m \u001b[1m1s\u001b[0m 19ms/step - accuracy: 0.9818 - auc_4: 0.9981 - f1_score: 0.7250 - loss: 0.1498 - val_accuracy: 0.7991 - val_auc_4: 0.8722 - val_f1_score: 0.7022 - val_loss: 0.6717\n",
      "Epoch 19/50\n",
      "\u001b[1m32/32\u001b[0m \u001b[32m━━━━━━━━━━━━━━━━━━━━\u001b[0m\u001b[37m\u001b[0m \u001b[1m1s\u001b[0m 19ms/step - accuracy: 0.9856 - auc_4: 0.9952 - f1_score: 0.7128 - loss: 0.1597 - val_accuracy: 0.7968 - val_auc_4: 0.8766 - val_f1_score: 0.7022 - val_loss: 0.6718\n",
      "Epoch 20/50\n",
      "\u001b[1m32/32\u001b[0m \u001b[32m━━━━━━━━━━━━━━━━━━━━\u001b[0m\u001b[37m\u001b[0m \u001b[1m1s\u001b[0m 22ms/step - accuracy: 0.9935 - auc_4: 0.9994 - f1_score: 0.7211 - loss: 0.1228 - val_accuracy: 0.7900 - val_auc_4: 0.8593 - val_f1_score: 0.7022 - val_loss: 0.7173\n",
      "Epoch 21/50\n",
      "\u001b[1m32/32\u001b[0m \u001b[32m━━━━━━━━━━━━━━━━━━━━\u001b[0m\u001b[37m\u001b[0m \u001b[1m1s\u001b[0m 19ms/step - accuracy: 0.9863 - auc_4: 0.9977 - f1_score: 0.7111 - loss: 0.1382 - val_accuracy: 0.8014 - val_auc_4: 0.8862 - val_f1_score: 0.7022 - val_loss: 0.6790\n",
      "\u001b[1m16/16\u001b[0m \u001b[32m━━━━━━━━━━━━━━━━━━━━\u001b[0m\u001b[37m\u001b[0m \u001b[1m0s\u001b[0m 18ms/step\n",
      "n_hidden=2, neurons_decay=0.5, dropout_rate=0.5\n",
      "Epoch 1/50\n",
      "\u001b[1m32/32\u001b[0m \u001b[32m━━━━━━━━━━━━━━━━━━━━\u001b[0m\u001b[37m\u001b[0m \u001b[1m8s\u001b[0m 164ms/step - accuracy: 0.5921 - auc_5: 0.5766 - f1_score: 0.7323 - loss: 62.3897 - val_accuracy: 0.7237 - val_auc_5: 0.7885 - val_f1_score: 0.7022 - val_loss: 5.6998\n",
      "Epoch 2/50\n",
      "\u001b[1m32/32\u001b[0m \u001b[32m━━━━━━━━━━━━━━━━━━━━\u001b[0m\u001b[37m\u001b[0m \u001b[1m1s\u001b[0m 21ms/step - accuracy: 0.9448 - auc_5: 0.9833 - f1_score: 0.7128 - loss: 3.2236 - val_accuracy: 0.7580 - val_auc_5: 0.8155 - val_f1_score: 0.7022 - val_loss: 1.1719\n",
      "Epoch 3/50\n",
      "\u001b[1m32/32\u001b[0m \u001b[32m━━━━━━━━━━━━━━━━━━━━\u001b[0m\u001b[37m\u001b[0m \u001b[1m1s\u001b[0m 19ms/step - accuracy: 0.9704 - auc_5: 0.9919 - f1_score: 0.7240 - loss: 0.6331 - val_accuracy: 0.7648 - val_auc_5: 0.8178 - val_f1_score: 0.7022 - val_loss: 1.0338\n",
      "Epoch 4/50\n",
      "\u001b[1m32/32\u001b[0m \u001b[32m━━━━━━━━━━━━━━━━━━━━\u001b[0m\u001b[37m\u001b[0m \u001b[1m1s\u001b[0m 19ms/step - accuracy: 0.9724 - auc_5: 0.9952 - f1_score: 0.7255 - loss: 0.4598 - val_accuracy: 0.7785 - val_auc_5: 0.8426 - val_f1_score: 0.7022 - val_loss: 0.9460\n",
      "Epoch 5/50\n",
      "\u001b[1m32/32\u001b[0m \u001b[32m━━━━━━━━━━━━━━━━━━━━\u001b[0m\u001b[37m\u001b[0m \u001b[1m1s\u001b[0m 22ms/step - accuracy: 0.9736 - auc_5: 0.9938 - f1_score: 0.7170 - loss: 0.4123 - val_accuracy: 0.7900 - val_auc_5: 0.8460 - val_f1_score: 0.7022 - val_loss: 0.8837\n",
      "Epoch 6/50\n",
      "\u001b[1m32/32\u001b[0m \u001b[32m━━━━━━━━━━━━━━━━━━━━\u001b[0m\u001b[37m\u001b[0m \u001b[1m1s\u001b[0m 19ms/step - accuracy: 0.9834 - auc_5: 0.9978 - f1_score: 0.7322 - loss: 0.3252 - val_accuracy: 0.7580 - val_auc_5: 0.8221 - val_f1_score: 0.7022 - val_loss: 0.9101\n",
      "Epoch 7/50\n",
      "\u001b[1m32/32\u001b[0m \u001b[32m━━━━━━━━━━━━━━━━━━━━\u001b[0m\u001b[37m\u001b[0m \u001b[1m1s\u001b[0m 19ms/step - accuracy: 0.9811 - auc_5: 0.9971 - f1_score: 0.7171 - loss: 0.2859 - val_accuracy: 0.7831 - val_auc_5: 0.8474 - val_f1_score: 0.7022 - val_loss: 0.8504\n",
      "Epoch 8/50\n",
      "\u001b[1m32/32\u001b[0m \u001b[32m━━━━━━━━━━━━━━━━━━━━\u001b[0m\u001b[37m\u001b[0m \u001b[1m1s\u001b[0m 19ms/step - accuracy: 0.9825 - auc_5: 0.9981 - f1_score: 0.7132 - loss: 0.2621 - val_accuracy: 0.7854 - val_auc_5: 0.8311 - val_f1_score: 0.7022 - val_loss: 0.8879\n",
      "Epoch 9/50\n",
      "\u001b[1m32/32\u001b[0m \u001b[32m━━━━━━━━━━━━━━━━━━━━\u001b[0m\u001b[37m\u001b[0m \u001b[1m1s\u001b[0m 19ms/step - accuracy: 0.9920 - auc_5: 0.9991 - f1_score: 0.7184 - loss: 0.2232 - val_accuracy: 0.7922 - val_auc_5: 0.8505 - val_f1_score: 0.7022 - val_loss: 0.7880\n",
      "Epoch 10/50\n",
      "\u001b[1m32/32\u001b[0m \u001b[32m━━━━━━━━━━━━━━━━━━━━\u001b[0m\u001b[37m\u001b[0m \u001b[1m1s\u001b[0m 19ms/step - accuracy: 0.9883 - auc_5: 0.9986 - f1_score: 0.7481 - loss: 0.1878 - val_accuracy: 0.7443 - val_auc_5: 0.8602 - val_f1_score: 0.7022 - val_loss: 0.8966\n",
      "Epoch 11/50\n",
      "\u001b[1m32/32\u001b[0m \u001b[32m━━━━━━━━━━━━━━━━━━━━\u001b[0m\u001b[37m\u001b[0m \u001b[1m1s\u001b[0m 20ms/step - accuracy: 0.9826 - auc_5: 0.9977 - f1_score: 0.7026 - loss: 0.2077 - val_accuracy: 0.7877 - val_auc_5: 0.8451 - val_f1_score: 0.7022 - val_loss: 0.7750\n",
      "Epoch 12/50\n",
      "\u001b[1m32/32\u001b[0m \u001b[32m━━━━━━━━━━━━━━━━━━━━\u001b[0m\u001b[37m\u001b[0m \u001b[1m1s\u001b[0m 19ms/step - accuracy: 0.9834 - auc_5: 0.9990 - f1_score: 0.7105 - loss: 0.1761 - val_accuracy: 0.7831 - val_auc_5: 0.8529 - val_f1_score: 0.7022 - val_loss: 0.7555\n",
      "Epoch 13/50\n",
      "\u001b[1m32/32\u001b[0m \u001b[32m━━━━━━━━━━━━━━━━━━━━\u001b[0m\u001b[37m\u001b[0m \u001b[1m1s\u001b[0m 22ms/step - accuracy: 0.9866 - auc_5: 0.9993 - f1_score: 0.7192 - loss: 0.1705 - val_accuracy: 0.8014 - val_auc_5: 0.8460 - val_f1_score: 0.7022 - val_loss: 0.7623\n",
      "Epoch 14/50\n",
      "\u001b[1m32/32\u001b[0m \u001b[32m━━━━━━━━━━━━━━━━━━━━\u001b[0m\u001b[37m\u001b[0m \u001b[1m1s\u001b[0m 21ms/step - accuracy: 0.9910 - auc_5: 0.9994 - f1_score: 0.7337 - loss: 0.1406 - val_accuracy: 0.7740 - val_auc_5: 0.8535 - val_f1_score: 0.7022 - val_loss: 0.7921\n",
      "Epoch 15/50\n",
      "\u001b[1m32/32\u001b[0m \u001b[32m━━━━━━━━━━━━━━━━━━━━\u001b[0m\u001b[37m\u001b[0m \u001b[1m1s\u001b[0m 25ms/step - accuracy: 0.9886 - auc_5: 0.9989 - f1_score: 0.7220 - loss: 0.1487 - val_accuracy: 0.8219 - val_auc_5: 0.8699 - val_f1_score: 0.7022 - val_loss: 0.6844\n",
      "Epoch 16/50\n",
      "\u001b[1m32/32\u001b[0m \u001b[32m━━━━━━━━━━━━━━━━━━━━\u001b[0m\u001b[37m\u001b[0m \u001b[1m1s\u001b[0m 19ms/step - accuracy: 0.9853 - auc_5: 0.9992 - f1_score: 0.7373 - loss: 0.1557 - val_accuracy: 0.7968 - val_auc_5: 0.8631 - val_f1_score: 0.7022 - val_loss: 0.7237\n",
      "Epoch 17/50\n",
      "\u001b[1m32/32\u001b[0m \u001b[32m━━━━━━━━━━━━━━━━━━━━\u001b[0m\u001b[37m\u001b[0m \u001b[1m1s\u001b[0m 19ms/step - accuracy: 0.9931 - auc_5: 0.9988 - f1_score: 0.7203 - loss: 0.1291 - val_accuracy: 0.7854 - val_auc_5: 0.8436 - val_f1_score: 0.7022 - val_loss: 0.7275\n",
      "Epoch 18/50\n",
      "\u001b[1m32/32\u001b[0m \u001b[32m━━━━━━━━━━━━━━━━━━━━\u001b[0m\u001b[37m\u001b[0m \u001b[1m1s\u001b[0m 19ms/step - accuracy: 0.9848 - auc_5: 0.9973 - f1_score: 0.7172 - loss: 0.1540 - val_accuracy: 0.7694 - val_auc_5: 0.8461 - val_f1_score: 0.7022 - val_loss: 0.8130\n",
      "Epoch 19/50\n",
      "\u001b[1m32/32\u001b[0m \u001b[32m━━━━━━━━━━━━━━━━━━━━\u001b[0m\u001b[37m\u001b[0m \u001b[1m1s\u001b[0m 19ms/step - accuracy: 0.9914 - auc_5: 0.9991 - f1_score: 0.7223 - loss: 0.1274 - val_accuracy: 0.7945 - val_auc_5: 0.8527 - val_f1_score: 0.7022 - val_loss: 0.7944\n",
      "Epoch 20/50\n",
      "\u001b[1m32/32\u001b[0m \u001b[32m━━━━━━━━━━━━━━━━━━━━\u001b[0m\u001b[37m\u001b[0m \u001b[1m1s\u001b[0m 19ms/step - accuracy: 0.9928 - auc_5: 0.9997 - f1_score: 0.6967 - loss: 0.1160 - val_accuracy: 0.7968 - val_auc_5: 0.8441 - val_f1_score: 0.7022 - val_loss: 0.7502\n",
      "\u001b[1m16/16\u001b[0m \u001b[32m━━━━━━━━━━━━━━━━━━━━\u001b[0m\u001b[37m\u001b[0m \u001b[1m0s\u001b[0m 10ms/step\n",
      "n_hidden=2, neurons_decay=0.5, dropout_rate=0.5\n",
      "Epoch 1/50\n",
      "\u001b[1m32/32\u001b[0m \u001b[32m━━━━━━━━━━━━━━━━━━━━\u001b[0m\u001b[37m\u001b[0m \u001b[1m10s\u001b[0m 205ms/step - accuracy: 0.5631 - auc_6: 0.5538 - f1_score: 0.7214 - loss: 62.2236 - val_accuracy: 0.7192 - val_auc_6: 0.7864 - val_f1_score: 0.7022 - val_loss: 5.5794\n",
      "Epoch 2/50\n",
      "\u001b[1m32/32\u001b[0m \u001b[32m━━━━━━━━━━━━━━━━━━━━\u001b[0m\u001b[37m\u001b[0m \u001b[1m3s\u001b[0m 20ms/step - accuracy: 0.9217 - auc_6: 0.9711 - f1_score: 0.7048 - loss: 3.1826 - val_accuracy: 0.7694 - val_auc_6: 0.8267 - val_f1_score: 0.7022 - val_loss: 1.1800\n",
      "Epoch 3/50\n",
      "\u001b[1m32/32\u001b[0m \u001b[32m━━━━━━━━━━━━━━━━━━━━\u001b[0m\u001b[37m\u001b[0m \u001b[1m1s\u001b[0m 19ms/step - accuracy: 0.9710 - auc_6: 0.9902 - f1_score: 0.7172 - loss: 0.6480 - val_accuracy: 0.7922 - val_auc_6: 0.8574 - val_f1_score: 0.7022 - val_loss: 0.9253\n",
      "Epoch 4/50\n",
      "\u001b[1m32/32\u001b[0m \u001b[32m━━━━━━━━━━━━━━━━━━━━\u001b[0m\u001b[37m\u001b[0m \u001b[1m1s\u001b[0m 19ms/step - accuracy: 0.9665 - auc_6: 0.9886 - f1_score: 0.7150 - loss: 0.5125 - val_accuracy: 0.7831 - val_auc_6: 0.8463 - val_f1_score: 0.7022 - val_loss: 0.8783\n",
      "Epoch 5/50\n",
      "\u001b[1m32/32\u001b[0m \u001b[32m━━━━━━━━━━━━━━━━━━━━\u001b[0m\u001b[37m\u001b[0m \u001b[1m1s\u001b[0m 22ms/step - accuracy: 0.9791 - auc_6: 0.9952 - f1_score: 0.7128 - loss: 0.3689 - val_accuracy: 0.7785 - val_auc_6: 0.8528 - val_f1_score: 0.7022 - val_loss: 0.8579\n",
      "Epoch 6/50\n",
      "\u001b[1m32/32\u001b[0m \u001b[32m━━━━━━━━━━━━━━━━━━━━\u001b[0m\u001b[37m\u001b[0m \u001b[1m1s\u001b[0m 20ms/step - accuracy: 0.9810 - auc_6: 0.9961 - f1_score: 0.7232 - loss: 0.3238 - val_accuracy: 0.7922 - val_auc_6: 0.8571 - val_f1_score: 0.7022 - val_loss: 0.7788\n",
      "Epoch 7/50\n",
      "\u001b[1m32/32\u001b[0m \u001b[32m━━━━━━━━━━━━━━━━━━━━\u001b[0m\u001b[37m\u001b[0m \u001b[1m1s\u001b[0m 22ms/step - accuracy: 0.9749 - auc_6: 0.9950 - f1_score: 0.7364 - loss: 0.2961 - val_accuracy: 0.7603 - val_auc_6: 0.8528 - val_f1_score: 0.7022 - val_loss: 0.8728\n",
      "Epoch 8/50\n",
      "\u001b[1m32/32\u001b[0m \u001b[32m━━━━━━━━━━━━━━━━━━━━\u001b[0m\u001b[37m\u001b[0m \u001b[1m1s\u001b[0m 20ms/step - accuracy: 0.9833 - auc_6: 0.9983 - f1_score: 0.7205 - loss: 0.2665 - val_accuracy: 0.7922 - val_auc_6: 0.8723 - val_f1_score: 0.7022 - val_loss: 0.6949\n",
      "Epoch 9/50\n",
      "\u001b[1m32/32\u001b[0m \u001b[32m━━━━━━━━━━━━━━━━━━━━\u001b[0m\u001b[37m\u001b[0m \u001b[1m1s\u001b[0m 19ms/step - accuracy: 0.9882 - auc_6: 0.9992 - f1_score: 0.7213 - loss: 0.2014 - val_accuracy: 0.8174 - val_auc_6: 0.8727 - val_f1_score: 0.7022 - val_loss: 0.6613\n",
      "Epoch 10/50\n",
      "\u001b[1m32/32\u001b[0m \u001b[32m━━━━━━━━━━━━━━━━━━━━\u001b[0m\u001b[37m\u001b[0m \u001b[1m1s\u001b[0m 24ms/step - accuracy: 0.9828 - auc_6: 0.9961 - f1_score: 0.7145 - loss: 0.2094 - val_accuracy: 0.7694 - val_auc_6: 0.8381 - val_f1_score: 0.7022 - val_loss: 0.8078\n",
      "Epoch 11/50\n",
      "\u001b[1m32/32\u001b[0m \u001b[32m━━━━━━━━━━━━━━━━━━━━\u001b[0m\u001b[37m\u001b[0m \u001b[1m1s\u001b[0m 21ms/step - accuracy: 0.9814 - auc_6: 0.9986 - f1_score: 0.7260 - loss: 0.1916 - val_accuracy: 0.7991 - val_auc_6: 0.8768 - val_f1_score: 0.7022 - val_loss: 0.6630\n",
      "Epoch 12/50\n",
      "\u001b[1m32/32\u001b[0m \u001b[32m━━━━━━━━━━━━━━━━━━━━\u001b[0m\u001b[37m\u001b[0m \u001b[1m1s\u001b[0m 24ms/step - accuracy: 0.9892 - auc_6: 0.9982 - f1_score: 0.6918 - loss: 0.1687 - val_accuracy: 0.7922 - val_auc_6: 0.8687 - val_f1_score: 0.7022 - val_loss: 0.6567\n",
      "Epoch 13/50\n",
      "\u001b[1m32/32\u001b[0m \u001b[32m━━━━━━━━━━━━━━━━━━━━\u001b[0m\u001b[37m\u001b[0m \u001b[1m1s\u001b[0m 21ms/step - accuracy: 0.9934 - auc_6: 0.9994 - f1_score: 0.7154 - loss: 0.1490 - val_accuracy: 0.7945 - val_auc_6: 0.8676 - val_f1_score: 0.7022 - val_loss: 0.6655\n",
      "Epoch 14/50\n",
      "\u001b[1m32/32\u001b[0m \u001b[32m━━━━━━━━━━━━━━━━━━━━\u001b[0m\u001b[37m\u001b[0m \u001b[1m1s\u001b[0m 19ms/step - accuracy: 0.9837 - auc_6: 0.9980 - f1_score: 0.7234 - loss: 0.1647 - val_accuracy: 0.7785 - val_auc_6: 0.8575 - val_f1_score: 0.7022 - val_loss: 0.7298\n",
      "Epoch 15/50\n",
      "\u001b[1m32/32\u001b[0m \u001b[32m━━━━━━━━━━━━━━━━━━━━\u001b[0m\u001b[37m\u001b[0m \u001b[1m1s\u001b[0m 19ms/step - accuracy: 0.9922 - auc_6: 0.9992 - f1_score: 0.7137 - loss: 0.1472 - val_accuracy: 0.8128 - val_auc_6: 0.8769 - val_f1_score: 0.7022 - val_loss: 0.6138\n",
      "Epoch 16/50\n",
      "\u001b[1m32/32\u001b[0m \u001b[32m━━━━━━━━━━━━━━━━━━━━\u001b[0m\u001b[37m\u001b[0m \u001b[1m1s\u001b[0m 22ms/step - accuracy: 0.9847 - auc_6: 0.9983 - f1_score: 0.7144 - loss: 0.1478 - val_accuracy: 0.8082 - val_auc_6: 0.8711 - val_f1_score: 0.7022 - val_loss: 0.6654\n",
      "Epoch 17/50\n",
      "\u001b[1m32/32\u001b[0m \u001b[32m━━━━━━━━━━━━━━━━━━━━\u001b[0m\u001b[37m\u001b[0m \u001b[1m1s\u001b[0m 19ms/step - accuracy: 0.9920 - auc_6: 0.9985 - f1_score: 0.7095 - loss: 0.1465 - val_accuracy: 0.7900 - val_auc_6: 0.8592 - val_f1_score: 0.7022 - val_loss: 0.6874\n",
      "Epoch 18/50\n",
      "\u001b[1m32/32\u001b[0m \u001b[32m━━━━━━━━━━━━━━━━━━━━\u001b[0m\u001b[37m\u001b[0m \u001b[1m1s\u001b[0m 22ms/step - accuracy: 0.9841 - auc_6: 0.9987 - f1_score: 0.6927 - loss: 0.1434 - val_accuracy: 0.8059 - val_auc_6: 0.8714 - val_f1_score: 0.7022 - val_loss: 0.6315\n",
      "Epoch 19/50\n",
      "\u001b[1m32/32\u001b[0m \u001b[32m━━━━━━━━━━━━━━━━━━━━\u001b[0m\u001b[37m\u001b[0m \u001b[1m1s\u001b[0m 19ms/step - accuracy: 0.9899 - auc_6: 0.9987 - f1_score: 0.7170 - loss: 0.1278 - val_accuracy: 0.7991 - val_auc_6: 0.8820 - val_f1_score: 0.7022 - val_loss: 0.6681\n",
      "Epoch 20/50\n",
      "\u001b[1m32/32\u001b[0m \u001b[32m━━━━━━━━━━━━━━━━━━━━\u001b[0m\u001b[37m\u001b[0m \u001b[1m1s\u001b[0m 20ms/step - accuracy: 0.9901 - auc_6: 0.9990 - f1_score: 0.7256 - loss: 0.1253 - val_accuracy: 0.7991 - val_auc_6: 0.8727 - val_f1_score: 0.7022 - val_loss: 0.6769\n",
      "\u001b[1m16/16\u001b[0m \u001b[32m━━━━━━━━━━━━━━━━━━━━\u001b[0m\u001b[37m\u001b[0m \u001b[1m0s\u001b[0m 15ms/step\n",
      "n_hidden=3, neurons_decay=0.5, dropout_rate=0.5\n",
      "Epoch 1/50\n",
      "\u001b[1m32/32\u001b[0m \u001b[32m━━━━━━━━━━━━━━━━━━━━\u001b[0m\u001b[37m\u001b[0m \u001b[1m11s\u001b[0m 188ms/step - accuracy: 0.5625 - auc_7: 0.5407 - f1_score: 0.7373 - loss: 76.3731 - val_accuracy: 0.6027 - val_auc_7: 0.7255 - val_f1_score: 0.7022 - val_loss: 7.4486\n",
      "Epoch 2/50\n",
      "\u001b[1m32/32\u001b[0m \u001b[32m━━━━━━━━━━━━━━━━━━━━\u001b[0m\u001b[37m\u001b[0m \u001b[1m1s\u001b[0m 23ms/step - accuracy: 0.8196 - auc_7: 0.8956 - f1_score: 0.7074 - loss: 4.4693 - val_accuracy: 0.7694 - val_auc_7: 0.8330 - val_f1_score: 0.7022 - val_loss: 1.2733\n",
      "Epoch 3/50\n",
      "\u001b[1m32/32\u001b[0m \u001b[32m━━━━━━━━━━━━━━━━━━━━\u001b[0m\u001b[37m\u001b[0m \u001b[1m1s\u001b[0m 22ms/step - accuracy: 0.9534 - auc_7: 0.9806 - f1_score: 0.7263 - loss: 0.7512 - val_accuracy: 0.7626 - val_auc_7: 0.8452 - val_f1_score: 0.7022 - val_loss: 0.9681\n",
      "Epoch 4/50\n",
      "\u001b[1m32/32\u001b[0m \u001b[32m━━━━━━━━━━━━━━━━━━━━\u001b[0m\u001b[37m\u001b[0m \u001b[1m1s\u001b[0m 24ms/step - accuracy: 0.9716 - auc_7: 0.9925 - f1_score: 0.7282 - loss: 0.4713 - val_accuracy: 0.7717 - val_auc_7: 0.8365 - val_f1_score: 0.7022 - val_loss: 0.9055\n",
      "Epoch 5/50\n",
      "\u001b[1m32/32\u001b[0m \u001b[32m━━━━━━━━━━━━━━━━━━━━\u001b[0m\u001b[37m\u001b[0m \u001b[1m1s\u001b[0m 22ms/step - accuracy: 0.9663 - auc_7: 0.9931 - f1_score: 0.7086 - loss: 0.3869 - val_accuracy: 0.7169 - val_auc_7: 0.8343 - val_f1_score: 0.7022 - val_loss: 1.0555\n",
      "Epoch 6/50\n",
      "\u001b[1m32/32\u001b[0m \u001b[32m━━━━━━━━━━━━━━━━━━━━\u001b[0m\u001b[37m\u001b[0m \u001b[1m1s\u001b[0m 22ms/step - accuracy: 0.9699 - auc_7: 0.9955 - f1_score: 0.6942 - loss: 0.3604 - val_accuracy: 0.7831 - val_auc_7: 0.8532 - val_f1_score: 0.7022 - val_loss: 0.8350\n",
      "Epoch 7/50\n",
      "\u001b[1m32/32\u001b[0m \u001b[32m━━━━━━━━━━━━━━━━━━━━\u001b[0m\u001b[37m\u001b[0m \u001b[1m1s\u001b[0m 21ms/step - accuracy: 0.9807 - auc_7: 0.9957 - f1_score: 0.7234 - loss: 0.2957 - val_accuracy: 0.8128 - val_auc_7: 0.8623 - val_f1_score: 0.7022 - val_loss: 0.7911\n",
      "Epoch 8/50\n",
      "\u001b[1m32/32\u001b[0m \u001b[32m━━━━━━━━━━━━━━━━━━━━\u001b[0m\u001b[37m\u001b[0m \u001b[1m1s\u001b[0m 25ms/step - accuracy: 0.9740 - auc_7: 0.9934 - f1_score: 0.7157 - loss: 0.2959 - val_accuracy: 0.7740 - val_auc_7: 0.8413 - val_f1_score: 0.7022 - val_loss: 0.8777\n",
      "Epoch 9/50\n",
      "\u001b[1m32/32\u001b[0m \u001b[32m━━━━━━━━━━━━━━━━━━━━\u001b[0m\u001b[37m\u001b[0m \u001b[1m1s\u001b[0m 24ms/step - accuracy: 0.9788 - auc_7: 0.9971 - f1_score: 0.7260 - loss: 0.2487 - val_accuracy: 0.7694 - val_auc_7: 0.8614 - val_f1_score: 0.7022 - val_loss: 0.8072\n",
      "Epoch 10/50\n",
      "\u001b[1m32/32\u001b[0m \u001b[32m━━━━━━━━━━━━━━━━━━━━\u001b[0m\u001b[37m\u001b[0m \u001b[1m1s\u001b[0m 22ms/step - accuracy: 0.9825 - auc_7: 0.9967 - f1_score: 0.7047 - loss: 0.2248 - val_accuracy: 0.7831 - val_auc_7: 0.8614 - val_f1_score: 0.7022 - val_loss: 0.7653\n",
      "Epoch 11/50\n",
      "\u001b[1m32/32\u001b[0m \u001b[32m━━━━━━━━━━━━━━━━━━━━\u001b[0m\u001b[37m\u001b[0m \u001b[1m1s\u001b[0m 21ms/step - accuracy: 0.9889 - auc_7: 0.9954 - f1_score: 0.7210 - loss: 0.2047 - val_accuracy: 0.7945 - val_auc_7: 0.8638 - val_f1_score: 0.7022 - val_loss: 0.7482\n",
      "Epoch 12/50\n",
      "\u001b[1m32/32\u001b[0m \u001b[32m━━━━━━━━━━━━━━━━━━━━\u001b[0m\u001b[37m\u001b[0m \u001b[1m1s\u001b[0m 21ms/step - accuracy: 0.9918 - auc_7: 0.9987 - f1_score: 0.7236 - loss: 0.1857 - val_accuracy: 0.7717 - val_auc_7: 0.8657 - val_f1_score: 0.7022 - val_loss: 0.8886\n",
      "Epoch 13/50\n",
      "\u001b[1m32/32\u001b[0m \u001b[32m━━━━━━━━━━━━━━━━━━━━\u001b[0m\u001b[37m\u001b[0m \u001b[1m1s\u001b[0m 21ms/step - accuracy: 0.9807 - auc_7: 0.9951 - f1_score: 0.7230 - loss: 0.2054 - val_accuracy: 0.7854 - val_auc_7: 0.8498 - val_f1_score: 0.7022 - val_loss: 0.7419\n",
      "Epoch 14/50\n",
      "\u001b[1m32/32\u001b[0m \u001b[32m━━━━━━━━━━━━━━━━━━━━\u001b[0m\u001b[37m\u001b[0m \u001b[1m1s\u001b[0m 21ms/step - accuracy: 0.9887 - auc_7: 0.9973 - f1_score: 0.7080 - loss: 0.1736 - val_accuracy: 0.7854 - val_auc_7: 0.8552 - val_f1_score: 0.7022 - val_loss: 0.7524\n",
      "Epoch 15/50\n",
      "\u001b[1m32/32\u001b[0m \u001b[32m━━━━━━━━━━━━━━━━━━━━\u001b[0m\u001b[37m\u001b[0m \u001b[1m1s\u001b[0m 24ms/step - accuracy: 0.9838 - auc_7: 0.9983 - f1_score: 0.7161 - loss: 0.1586 - val_accuracy: 0.7831 - val_auc_7: 0.8471 - val_f1_score: 0.7022 - val_loss: 0.7806\n",
      "Epoch 16/50\n",
      "\u001b[1m32/32\u001b[0m \u001b[32m━━━━━━━━━━━━━━━━━━━━\u001b[0m\u001b[37m\u001b[0m \u001b[1m1s\u001b[0m 21ms/step - accuracy: 0.9797 - auc_7: 0.9959 - f1_score: 0.7010 - loss: 0.1844 - val_accuracy: 0.7968 - val_auc_7: 0.8809 - val_f1_score: 0.7022 - val_loss: 0.6512\n",
      "Epoch 17/50\n",
      "\u001b[1m32/32\u001b[0m \u001b[32m━━━━━━━━━━━━━━━━━━━━\u001b[0m\u001b[37m\u001b[0m \u001b[1m1s\u001b[0m 21ms/step - accuracy: 0.9834 - auc_7: 0.9985 - f1_score: 0.7463 - loss: 0.1631 - val_accuracy: 0.8059 - val_auc_7: 0.8721 - val_f1_score: 0.7022 - val_loss: 0.6642\n",
      "Epoch 18/50\n",
      "\u001b[1m32/32\u001b[0m \u001b[32m━━━━━━━━━━━━━━━━━━━━\u001b[0m\u001b[37m\u001b[0m \u001b[1m1s\u001b[0m 23ms/step - accuracy: 0.9866 - auc_7: 0.9972 - f1_score: 0.7148 - loss: 0.1602 - val_accuracy: 0.7922 - val_auc_7: 0.8654 - val_f1_score: 0.7022 - val_loss: 0.6567\n",
      "Epoch 19/50\n",
      "\u001b[1m32/32\u001b[0m \u001b[32m━━━━━━━━━━━━━━━━━━━━\u001b[0m\u001b[37m\u001b[0m \u001b[1m1s\u001b[0m 24ms/step - accuracy: 0.9872 - auc_7: 0.9986 - f1_score: 0.7232 - loss: 0.1482 - val_accuracy: 0.7603 - val_auc_7: 0.8657 - val_f1_score: 0.7022 - val_loss: 0.7989\n",
      "Epoch 20/50\n",
      "\u001b[1m32/32\u001b[0m \u001b[32m━━━━━━━━━━━━━━━━━━━━\u001b[0m\u001b[37m\u001b[0m \u001b[1m1s\u001b[0m 26ms/step - accuracy: 0.9764 - auc_7: 0.9964 - f1_score: 0.7095 - loss: 0.1677 - val_accuracy: 0.7900 - val_auc_7: 0.8803 - val_f1_score: 0.7022 - val_loss: 0.6747\n",
      "Epoch 21/50\n",
      "\u001b[1m32/32\u001b[0m \u001b[32m━━━━━━━━━━━━━━━━━━━━\u001b[0m\u001b[37m\u001b[0m \u001b[1m1s\u001b[0m 26ms/step - accuracy: 0.9839 - auc_7: 0.9971 - f1_score: 0.7228 - loss: 0.1597 - val_accuracy: 0.8037 - val_auc_7: 0.8713 - val_f1_score: 0.7022 - val_loss: 0.6943\n",
      "\u001b[1m16/16\u001b[0m \u001b[32m━━━━━━━━━━━━━━━━━━━━\u001b[0m\u001b[37m\u001b[0m \u001b[1m1s\u001b[0m 26ms/step\n",
      "n_hidden=3, neurons_decay=0.5, dropout_rate=0.5\n",
      "Epoch 1/50\n",
      "\u001b[1m32/32\u001b[0m \u001b[32m━━━━━━━━━━━━━━━━━━━━\u001b[0m\u001b[37m\u001b[0m \u001b[1m8s\u001b[0m 139ms/step - accuracy: 0.5252 - auc_8: 0.5047 - f1_score: 0.7208 - loss: 76.3546 - val_accuracy: 0.5822 - val_auc_8: 0.6672 - val_f1_score: 0.7022 - val_loss: 7.5056\n",
      "Epoch 2/50\n",
      "\u001b[1m32/32\u001b[0m \u001b[32m━━━━━━━━━━━━━━━━━━━━\u001b[0m\u001b[37m\u001b[0m \u001b[1m1s\u001b[0m 22ms/step - accuracy: 0.8346 - auc_8: 0.9070 - f1_score: 0.7195 - loss: 4.4671 - val_accuracy: 0.7671 - val_auc_8: 0.8056 - val_f1_score: 0.7022 - val_loss: 1.3829\n",
      "Epoch 3/50\n",
      "\u001b[1m32/32\u001b[0m \u001b[32m━━━━━━━━━━━━━━━━━━━━\u001b[0m\u001b[37m\u001b[0m \u001b[1m1s\u001b[0m 21ms/step - accuracy: 0.9637 - auc_8: 0.9897 - f1_score: 0.7260 - loss: 0.7630 - val_accuracy: 0.7717 - val_auc_8: 0.8185 - val_f1_score: 0.7022 - val_loss: 1.0079\n",
      "Epoch 4/50\n",
      "\u001b[1m32/32\u001b[0m \u001b[32m━━━━━━━━━━━━━━━━━━━━\u001b[0m\u001b[37m\u001b[0m \u001b[1m1s\u001b[0m 26ms/step - accuracy: 0.9756 - auc_8: 0.9891 - f1_score: 0.7129 - loss: 0.4774 - val_accuracy: 0.7831 - val_auc_8: 0.8261 - val_f1_score: 0.7022 - val_loss: 0.9459\n",
      "Epoch 5/50\n",
      "\u001b[1m32/32\u001b[0m \u001b[32m━━━━━━━━━━━━━━━━━━━━\u001b[0m\u001b[37m\u001b[0m \u001b[1m1s\u001b[0m 25ms/step - accuracy: 0.9814 - auc_8: 0.9960 - f1_score: 0.7040 - loss: 0.3741 - val_accuracy: 0.7877 - val_auc_8: 0.8417 - val_f1_score: 0.7022 - val_loss: 0.9171\n",
      "Epoch 6/50\n",
      "\u001b[1m32/32\u001b[0m \u001b[32m━━━━━━━━━━━━━━━━━━━━\u001b[0m\u001b[37m\u001b[0m \u001b[1m1s\u001b[0m 24ms/step - accuracy: 0.9695 - auc_8: 0.9919 - f1_score: 0.7409 - loss: 0.3553 - val_accuracy: 0.7808 - val_auc_8: 0.8241 - val_f1_score: 0.7022 - val_loss: 0.8344\n",
      "Epoch 7/50\n",
      "\u001b[1m32/32\u001b[0m \u001b[32m━━━━━━━━━━━━━━━━━━━━\u001b[0m\u001b[37m\u001b[0m \u001b[1m1s\u001b[0m 21ms/step - accuracy: 0.9671 - auc_8: 0.9934 - f1_score: 0.7224 - loss: 0.3320 - val_accuracy: 0.7534 - val_auc_8: 0.8184 - val_f1_score: 0.7022 - val_loss: 0.9088\n",
      "Epoch 8/50\n",
      "\u001b[1m32/32\u001b[0m \u001b[32m━━━━━━━━━━━━━━━━━━━━\u001b[0m\u001b[37m\u001b[0m \u001b[1m1s\u001b[0m 23ms/step - accuracy: 0.9847 - auc_8: 0.9981 - f1_score: 0.7088 - loss: 0.2533 - val_accuracy: 0.8037 - val_auc_8: 0.8328 - val_f1_score: 0.7022 - val_loss: 0.7914\n",
      "Epoch 9/50\n",
      "\u001b[1m32/32\u001b[0m \u001b[32m━━━━━━━━━━━━━━━━━━━━\u001b[0m\u001b[37m\u001b[0m \u001b[1m1s\u001b[0m 21ms/step - accuracy: 0.9799 - auc_8: 0.9935 - f1_score: 0.7369 - loss: 0.2555 - val_accuracy: 0.7671 - val_auc_8: 0.8450 - val_f1_score: 0.7022 - val_loss: 0.8113\n",
      "Epoch 10/50\n",
      "\u001b[1m32/32\u001b[0m \u001b[32m━━━━━━━━━━━━━━━━━━━━\u001b[0m\u001b[37m\u001b[0m \u001b[1m1s\u001b[0m 21ms/step - accuracy: 0.9801 - auc_8: 0.9972 - f1_score: 0.7120 - loss: 0.2387 - val_accuracy: 0.7877 - val_auc_8: 0.8477 - val_f1_score: 0.7022 - val_loss: 0.9018\n",
      "Epoch 11/50\n",
      "\u001b[1m32/32\u001b[0m \u001b[32m━━━━━━━━━━━━━━━━━━━━\u001b[0m\u001b[37m\u001b[0m \u001b[1m1s\u001b[0m 21ms/step - accuracy: 0.9845 - auc_8: 0.9977 - f1_score: 0.7097 - loss: 0.2125 - val_accuracy: 0.7877 - val_auc_8: 0.8359 - val_f1_score: 0.7022 - val_loss: 0.8169\n",
      "Epoch 12/50\n",
      "\u001b[1m32/32\u001b[0m \u001b[32m━━━━━━━━━━━━━━━━━━━━\u001b[0m\u001b[37m\u001b[0m \u001b[1m1s\u001b[0m 21ms/step - accuracy: 0.9879 - auc_8: 0.9971 - f1_score: 0.7057 - loss: 0.1903 - val_accuracy: 0.7603 - val_auc_8: 0.8420 - val_f1_score: 0.7022 - val_loss: 0.9098\n",
      "Epoch 13/50\n",
      "\u001b[1m32/32\u001b[0m \u001b[32m━━━━━━━━━━━━━━━━━━━━\u001b[0m\u001b[37m\u001b[0m \u001b[1m1s\u001b[0m 21ms/step - accuracy: 0.9795 - auc_8: 0.9971 - f1_score: 0.7169 - loss: 0.1942 - val_accuracy: 0.7831 - val_auc_8: 0.8416 - val_f1_score: 0.7022 - val_loss: 0.7858\n",
      "Epoch 14/50\n",
      "\u001b[1m32/32\u001b[0m \u001b[32m━━━━━━━━━━━━━━━━━━━━\u001b[0m\u001b[37m\u001b[0m \u001b[1m1s\u001b[0m 21ms/step - accuracy: 0.9803 - auc_8: 0.9978 - f1_score: 0.7129 - loss: 0.1831 - val_accuracy: 0.7740 - val_auc_8: 0.8419 - val_f1_score: 0.7022 - val_loss: 0.8141\n",
      "Epoch 15/50\n",
      "\u001b[1m32/32\u001b[0m \u001b[32m━━━━━━━━━━━━━━━━━━━━\u001b[0m\u001b[37m\u001b[0m \u001b[1m1s\u001b[0m 21ms/step - accuracy: 0.9876 - auc_8: 0.9988 - f1_score: 0.7256 - loss: 0.1671 - val_accuracy: 0.7626 - val_auc_8: 0.8226 - val_f1_score: 0.7022 - val_loss: 0.9857\n",
      "Epoch 16/50\n",
      "\u001b[1m32/32\u001b[0m \u001b[32m━━━━━━━━━━━━━━━━━━━━\u001b[0m\u001b[37m\u001b[0m \u001b[1m1s\u001b[0m 24ms/step - accuracy: 0.9902 - auc_8: 0.9975 - f1_score: 0.7378 - loss: 0.1738 - val_accuracy: 0.7945 - val_auc_8: 0.8471 - val_f1_score: 0.7022 - val_loss: 0.7315\n",
      "Epoch 17/50\n",
      "\u001b[1m32/32\u001b[0m \u001b[32m━━━━━━━━━━━━━━━━━━━━\u001b[0m\u001b[37m\u001b[0m \u001b[1m1s\u001b[0m 27ms/step - accuracy: 0.9889 - auc_8: 0.9990 - f1_score: 0.7447 - loss: 0.1541 - val_accuracy: 0.7740 - val_auc_8: 0.8586 - val_f1_score: 0.7022 - val_loss: 0.7921\n",
      "Epoch 18/50\n",
      "\u001b[1m32/32\u001b[0m \u001b[32m━━━━━━━━━━━━━━━━━━━━\u001b[0m\u001b[37m\u001b[0m \u001b[1m1s\u001b[0m 23ms/step - accuracy: 0.9933 - auc_8: 0.9988 - f1_score: 0.7352 - loss: 0.1459 - val_accuracy: 0.7717 - val_auc_8: 0.8501 - val_f1_score: 0.7022 - val_loss: 0.8026\n",
      "Epoch 19/50\n",
      "\u001b[1m32/32\u001b[0m \u001b[32m━━━━━━━━━━━━━━━━━━━━\u001b[0m\u001b[37m\u001b[0m \u001b[1m1s\u001b[0m 26ms/step - accuracy: 0.9828 - auc_8: 0.9962 - f1_score: 0.7193 - loss: 0.1805 - val_accuracy: 0.7877 - val_auc_8: 0.8378 - val_f1_score: 0.7022 - val_loss: 0.8437\n",
      "Epoch 20/50\n",
      "\u001b[1m32/32\u001b[0m \u001b[32m━━━━━━━━━━━━━━━━━━━━\u001b[0m\u001b[37m\u001b[0m \u001b[1m1s\u001b[0m 24ms/step - accuracy: 0.9898 - auc_8: 0.9992 - f1_score: 0.7212 - loss: 0.1416 - val_accuracy: 0.7648 - val_auc_8: 0.8380 - val_f1_score: 0.7022 - val_loss: 0.9698\n",
      "Epoch 21/50\n",
      "\u001b[1m32/32\u001b[0m \u001b[32m━━━━━━━━━━━━━━━━━━━━\u001b[0m\u001b[37m\u001b[0m \u001b[1m1s\u001b[0m 21ms/step - accuracy: 0.9872 - auc_8: 0.9986 - f1_score: 0.7449 - loss: 0.1452 - val_accuracy: 0.7694 - val_auc_8: 0.8421 - val_f1_score: 0.7022 - val_loss: 0.8539\n",
      "\u001b[1m16/16\u001b[0m \u001b[32m━━━━━━━━━━━━━━━━━━━━\u001b[0m\u001b[37m\u001b[0m \u001b[1m0s\u001b[0m 12ms/step\n",
      "n_hidden=3, neurons_decay=0.5, dropout_rate=0.5\n",
      "Epoch 1/50\n",
      "\u001b[1m32/32\u001b[0m \u001b[32m━━━━━━━━━━━━━━━━━━━━\u001b[0m\u001b[37m\u001b[0m \u001b[1m10s\u001b[0m 206ms/step - accuracy: 0.5496 - auc_9: 0.5310 - f1_score: 0.7286 - loss: 77.0105 - val_accuracy: 0.6530 - val_auc_9: 0.7285 - val_f1_score: 0.7022 - val_loss: 7.9693\n",
      "Epoch 2/50\n",
      "\u001b[1m32/32\u001b[0m \u001b[32m━━━━━━━━━━━━━━━━━━━━\u001b[0m\u001b[37m\u001b[0m \u001b[1m1s\u001b[0m 22ms/step - accuracy: 0.8644 - auc_9: 0.9239 - f1_score: 0.7379 - loss: 4.7465 - val_accuracy: 0.7283 - val_auc_9: 0.8429 - val_f1_score: 0.7022 - val_loss: 1.4022\n",
      "Epoch 3/50\n",
      "\u001b[1m32/32\u001b[0m \u001b[32m━━━━━━━━━━━━━━━━━━━━\u001b[0m\u001b[37m\u001b[0m \u001b[1m1s\u001b[0m 21ms/step - accuracy: 0.9477 - auc_9: 0.9836 - f1_score: 0.7144 - loss: 0.8380 - val_accuracy: 0.7534 - val_auc_9: 0.8293 - val_f1_score: 0.7022 - val_loss: 1.0085\n",
      "Epoch 4/50\n",
      "\u001b[1m32/32\u001b[0m \u001b[32m━━━━━━━━━━━━━━━━━━━━\u001b[0m\u001b[37m\u001b[0m \u001b[1m1s\u001b[0m 21ms/step - accuracy: 0.9803 - auc_9: 0.9973 - f1_score: 0.7301 - loss: 0.4363 - val_accuracy: 0.7215 - val_auc_9: 0.8251 - val_f1_score: 0.7022 - val_loss: 1.0377\n",
      "Epoch 5/50\n",
      "\u001b[1m32/32\u001b[0m \u001b[32m━━━━━━━━━━━━━━━━━━━━\u001b[0m\u001b[37m\u001b[0m \u001b[1m1s\u001b[0m 21ms/step - accuracy: 0.9485 - auc_9: 0.9864 - f1_score: 0.7323 - loss: 0.4705 - val_accuracy: 0.7123 - val_auc_9: 0.8560 - val_f1_score: 0.7022 - val_loss: 1.0693\n",
      "Epoch 6/50\n",
      "\u001b[1m32/32\u001b[0m \u001b[32m━━━━━━━━━━━━━━━━━━━━\u001b[0m\u001b[37m\u001b[0m \u001b[1m1s\u001b[0m 21ms/step - accuracy: 0.9809 - auc_9: 0.9962 - f1_score: 0.7253 - loss: 0.3610 - val_accuracy: 0.6530 - val_auc_9: 0.8347 - val_f1_score: 0.7022 - val_loss: 1.3001\n",
      "Epoch 7/50\n",
      "\u001b[1m32/32\u001b[0m \u001b[32m━━━━━━━━━━━━━━━━━━━━\u001b[0m\u001b[37m\u001b[0m \u001b[1m1s\u001b[0m 24ms/step - accuracy: 0.9701 - auc_9: 0.9979 - f1_score: 0.7251 - loss: 0.3132 - val_accuracy: 0.7991 - val_auc_9: 0.8617 - val_f1_score: 0.7022 - val_loss: 0.7529\n",
      "Epoch 8/50\n",
      "\u001b[1m32/32\u001b[0m \u001b[32m━━━━━━━━━━━━━━━━━━━━\u001b[0m\u001b[37m\u001b[0m \u001b[1m1s\u001b[0m 21ms/step - accuracy: 0.9787 - auc_9: 0.9958 - f1_score: 0.7238 - loss: 0.2882 - val_accuracy: 0.8059 - val_auc_9: 0.8690 - val_f1_score: 0.7022 - val_loss: 0.7046\n",
      "Epoch 9/50\n",
      "\u001b[1m32/32\u001b[0m \u001b[32m━━━━━━━━━━━━━━━━━━━━\u001b[0m\u001b[37m\u001b[0m \u001b[1m1s\u001b[0m 21ms/step - accuracy: 0.9847 - auc_9: 0.9971 - f1_score: 0.7250 - loss: 0.2379 - val_accuracy: 0.7945 - val_auc_9: 0.8520 - val_f1_score: 0.7022 - val_loss: 0.7608\n",
      "Epoch 10/50\n",
      "\u001b[1m32/32\u001b[0m \u001b[32m━━━━━━━━━━━━━━━━━━━━\u001b[0m\u001b[37m\u001b[0m \u001b[1m1s\u001b[0m 21ms/step - accuracy: 0.9771 - auc_9: 0.9951 - f1_score: 0.7067 - loss: 0.2388 - val_accuracy: 0.7534 - val_auc_9: 0.8379 - val_f1_score: 0.7022 - val_loss: 0.8383\n",
      "Epoch 11/50\n",
      "\u001b[1m32/32\u001b[0m \u001b[32m━━━━━━━━━━━━━━━━━━━━\u001b[0m\u001b[37m\u001b[0m \u001b[1m1s\u001b[0m 21ms/step - accuracy: 0.9796 - auc_9: 0.9982 - f1_score: 0.7204 - loss: 0.2096 - val_accuracy: 0.8014 - val_auc_9: 0.8481 - val_f1_score: 0.7022 - val_loss: 0.7458\n",
      "Epoch 12/50\n",
      "\u001b[1m32/32\u001b[0m \u001b[32m━━━━━━━━━━━━━━━━━━━━\u001b[0m\u001b[37m\u001b[0m \u001b[1m1s\u001b[0m 24ms/step - accuracy: 0.9852 - auc_9: 0.9977 - f1_score: 0.7289 - loss: 0.1965 - val_accuracy: 0.7785 - val_auc_9: 0.8525 - val_f1_score: 0.7022 - val_loss: 0.7582\n",
      "Epoch 13/50\n",
      "\u001b[1m32/32\u001b[0m \u001b[32m━━━━━━━━━━━━━━━━━━━━\u001b[0m\u001b[37m\u001b[0m \u001b[1m1s\u001b[0m 26ms/step - accuracy: 0.9869 - auc_9: 0.9983 - f1_score: 0.7149 - loss: 0.1806 - val_accuracy: 0.8128 - val_auc_9: 0.8588 - val_f1_score: 0.7022 - val_loss: 0.6806\n",
      "Epoch 14/50\n",
      "\u001b[1m32/32\u001b[0m \u001b[32m━━━━━━━━━━━━━━━━━━━━\u001b[0m\u001b[37m\u001b[0m \u001b[1m1s\u001b[0m 26ms/step - accuracy: 0.9843 - auc_9: 0.9971 - f1_score: 0.7259 - loss: 0.1769 - val_accuracy: 0.7603 - val_auc_9: 0.8617 - val_f1_score: 0.7022 - val_loss: 0.7088\n",
      "Epoch 15/50\n",
      "\u001b[1m32/32\u001b[0m \u001b[32m━━━━━━━━━━━━━━━━━━━━\u001b[0m\u001b[37m\u001b[0m \u001b[1m1s\u001b[0m 26ms/step - accuracy: 0.9820 - auc_9: 0.9958 - f1_score: 0.7163 - loss: 0.1790 - val_accuracy: 0.8082 - val_auc_9: 0.8607 - val_f1_score: 0.7022 - val_loss: 0.6885\n",
      "Epoch 16/50\n",
      "\u001b[1m32/32\u001b[0m \u001b[32m━━━━━━━━━━━━━━━━━━━━\u001b[0m\u001b[37m\u001b[0m \u001b[1m1s\u001b[0m 21ms/step - accuracy: 0.9878 - auc_9: 0.9991 - f1_score: 0.7257 - loss: 0.1471 - val_accuracy: 0.7968 - val_auc_9: 0.8696 - val_f1_score: 0.7022 - val_loss: 0.7520\n",
      "Epoch 17/50\n",
      "\u001b[1m32/32\u001b[0m \u001b[32m━━━━━━━━━━━━━━━━━━━━\u001b[0m\u001b[37m\u001b[0m \u001b[1m1s\u001b[0m 21ms/step - accuracy: 0.9903 - auc_9: 0.9984 - f1_score: 0.7275 - loss: 0.1534 - val_accuracy: 0.7968 - val_auc_9: 0.8563 - val_f1_score: 0.7022 - val_loss: 0.6963\n",
      "Epoch 18/50\n",
      "\u001b[1m32/32\u001b[0m \u001b[32m━━━━━━━━━━━━━━━━━━━━\u001b[0m\u001b[37m\u001b[0m \u001b[1m1s\u001b[0m 21ms/step - accuracy: 0.9861 - auc_9: 0.9980 - f1_score: 0.7189 - loss: 0.1586 - val_accuracy: 0.7694 - val_auc_9: 0.8434 - val_f1_score: 0.7022 - val_loss: 0.7577\n",
      "\u001b[1m16/16\u001b[0m \u001b[32m━━━━━━━━━━━━━━━━━━━━\u001b[0m\u001b[37m\u001b[0m \u001b[1m0s\u001b[0m 16ms/step\n",
      "n_hidden=3, neurons_decay=0.25, dropout_rate=0.3\n",
      "Epoch 1/50\n",
      "\u001b[1m32/32\u001b[0m \u001b[32m━━━━━━━━━━━━━━━━━━━━\u001b[0m\u001b[37m\u001b[0m \u001b[1m10s\u001b[0m 190ms/step - accuracy: 0.5108 - auc_10: 0.4795 - f1_score: 0.7236 - loss: 57.1556 - val_accuracy: 0.6187 - val_auc_10: 0.7423 - val_f1_score: 0.7022 - val_loss: 5.9796\n",
      "Epoch 2/50\n",
      "\u001b[1m32/32\u001b[0m \u001b[32m━━━━━━━━━━━━━━━━━━━━\u001b[0m\u001b[37m\u001b[0m \u001b[1m2s\u001b[0m 18ms/step - accuracy: 0.8120 - auc_10: 0.8739 - f1_score: 0.7393 - loss: 3.7903 - val_accuracy: 0.7420 - val_auc_10: 0.8291 - val_f1_score: 0.7022 - val_loss: 1.3845\n",
      "Epoch 3/50\n",
      "\u001b[1m32/32\u001b[0m \u001b[32m━━━━━━━━━━━━━━━━━━━━\u001b[0m\u001b[37m\u001b[0m \u001b[1m1s\u001b[0m 17ms/step - accuracy: 0.9523 - auc_10: 0.9872 - f1_score: 0.7328 - loss: 0.7751 - val_accuracy: 0.8059 - val_auc_10: 0.8684 - val_f1_score: 0.7022 - val_loss: 0.8401\n",
      "Epoch 4/50\n",
      "\u001b[1m32/32\u001b[0m \u001b[32m━━━━━━━━━━━━━━━━━━━━\u001b[0m\u001b[37m\u001b[0m \u001b[1m1s\u001b[0m 17ms/step - accuracy: 0.9670 - auc_10: 0.9922 - f1_score: 0.7173 - loss: 0.4229 - val_accuracy: 0.7374 - val_auc_10: 0.8373 - val_f1_score: 0.7022 - val_loss: 0.9708\n",
      "Epoch 5/50\n",
      "\u001b[1m32/32\u001b[0m \u001b[32m━━━━━━━━━━━━━━━━━━━━\u001b[0m\u001b[37m\u001b[0m \u001b[1m1s\u001b[0m 18ms/step - accuracy: 0.9709 - auc_10: 0.9924 - f1_score: 0.7173 - loss: 0.3663 - val_accuracy: 0.7945 - val_auc_10: 0.8592 - val_f1_score: 0.7022 - val_loss: 0.7634\n",
      "Epoch 6/50\n",
      "\u001b[1m32/32\u001b[0m \u001b[32m━━━━━━━━━━━━━━━━━━━━\u001b[0m\u001b[37m\u001b[0m \u001b[1m1s\u001b[0m 17ms/step - accuracy: 0.9809 - auc_10: 0.9972 - f1_score: 0.7194 - loss: 0.3163 - val_accuracy: 0.8082 - val_auc_10: 0.8567 - val_f1_score: 0.7022 - val_loss: 0.7572\n",
      "Epoch 7/50\n",
      "\u001b[1m32/32\u001b[0m \u001b[32m━━━━━━━━━━━━━━━━━━━━\u001b[0m\u001b[37m\u001b[0m \u001b[1m1s\u001b[0m 17ms/step - accuracy: 0.9873 - auc_10: 0.9939 - f1_score: 0.7259 - loss: 0.2658 - val_accuracy: 0.7922 - val_auc_10: 0.8732 - val_f1_score: 0.7022 - val_loss: 0.7472\n",
      "Epoch 8/50\n",
      "\u001b[1m32/32\u001b[0m \u001b[32m━━━━━━━━━━━━━━━━━━━━\u001b[0m\u001b[37m\u001b[0m \u001b[1m1s\u001b[0m 20ms/step - accuracy: 0.9847 - auc_10: 0.9971 - f1_score: 0.7194 - loss: 0.2337 - val_accuracy: 0.7877 - val_auc_10: 0.8515 - val_f1_score: 0.7022 - val_loss: 0.7348\n",
      "Epoch 9/50\n",
      "\u001b[1m32/32\u001b[0m \u001b[32m━━━━━━━━━━━━━━━━━━━━\u001b[0m\u001b[37m\u001b[0m \u001b[1m1s\u001b[0m 18ms/step - accuracy: 0.9907 - auc_10: 0.9983 - f1_score: 0.7118 - loss: 0.2037 - val_accuracy: 0.7854 - val_auc_10: 0.8331 - val_f1_score: 0.7022 - val_loss: 0.7878\n",
      "Epoch 10/50\n",
      "\u001b[1m32/32\u001b[0m \u001b[32m━━━━━━━━━━━━━━━━━━━━\u001b[0m\u001b[37m\u001b[0m \u001b[1m1s\u001b[0m 17ms/step - accuracy: 0.9907 - auc_10: 0.9960 - f1_score: 0.7299 - loss: 0.1930 - val_accuracy: 0.7831 - val_auc_10: 0.8707 - val_f1_score: 0.7022 - val_loss: 0.6688\n",
      "Epoch 11/50\n",
      "\u001b[1m32/32\u001b[0m \u001b[32m━━━━━━━━━━━━━━━━━━━━\u001b[0m\u001b[37m\u001b[0m \u001b[1m1s\u001b[0m 17ms/step - accuracy: 0.9890 - auc_10: 0.9967 - f1_score: 0.6995 - loss: 0.1781 - val_accuracy: 0.7991 - val_auc_10: 0.8704 - val_f1_score: 0.7022 - val_loss: 0.6296\n",
      "Epoch 12/50\n",
      "\u001b[1m32/32\u001b[0m \u001b[32m━━━━━━━━━━━━━━━━━━━━\u001b[0m\u001b[37m\u001b[0m \u001b[1m1s\u001b[0m 18ms/step - accuracy: 0.9894 - auc_10: 0.9982 - f1_score: 0.7056 - loss: 0.1635 - val_accuracy: 0.8105 - val_auc_10: 0.8761 - val_f1_score: 0.7022 - val_loss: 0.6822\n",
      "Epoch 13/50\n",
      "\u001b[1m32/32\u001b[0m \u001b[32m━━━━━━━━━━━━━━━━━━━━\u001b[0m\u001b[37m\u001b[0m \u001b[1m1s\u001b[0m 17ms/step - accuracy: 0.9919 - auc_10: 0.9986 - f1_score: 0.7143 - loss: 0.1540 - val_accuracy: 0.7877 - val_auc_10: 0.8594 - val_f1_score: 0.7022 - val_loss: 0.6823\n",
      "Epoch 14/50\n",
      "\u001b[1m32/32\u001b[0m \u001b[32m━━━━━━━━━━━━━━━━━━━━\u001b[0m\u001b[37m\u001b[0m \u001b[1m1s\u001b[0m 20ms/step - accuracy: 0.9890 - auc_10: 0.9993 - f1_score: 0.6986 - loss: 0.1465 - val_accuracy: 0.8151 - val_auc_10: 0.8742 - val_f1_score: 0.7022 - val_loss: 0.6471\n",
      "Epoch 15/50\n",
      "\u001b[1m32/32\u001b[0m \u001b[32m━━━━━━━━━━━━━━━━━━━━\u001b[0m\u001b[37m\u001b[0m \u001b[1m1s\u001b[0m 20ms/step - accuracy: 0.9910 - auc_10: 0.9984 - f1_score: 0.7305 - loss: 0.1400 - val_accuracy: 0.8037 - val_auc_10: 0.8799 - val_f1_score: 0.7022 - val_loss: 0.5767\n",
      "Epoch 16/50\n",
      "\u001b[1m32/32\u001b[0m \u001b[32m━━━━━━━━━━━━━━━━━━━━\u001b[0m\u001b[37m\u001b[0m \u001b[1m1s\u001b[0m 22ms/step - accuracy: 0.9947 - auc_10: 0.9976 - f1_score: 0.7300 - loss: 0.1310 - val_accuracy: 0.8105 - val_auc_10: 0.8845 - val_f1_score: 0.7022 - val_loss: 0.5861\n",
      "Epoch 17/50\n",
      "\u001b[1m32/32\u001b[0m \u001b[32m━━━━━━━━━━━━━━━━━━━━\u001b[0m\u001b[37m\u001b[0m \u001b[1m1s\u001b[0m 18ms/step - accuracy: 0.9832 - auc_10: 0.9985 - f1_score: 0.7187 - loss: 0.1418 - val_accuracy: 0.8082 - val_auc_10: 0.8767 - val_f1_score: 0.7022 - val_loss: 0.6396\n",
      "Epoch 18/50\n",
      "\u001b[1m32/32\u001b[0m \u001b[32m━━━━━━━━━━━━━━━━━━━━\u001b[0m\u001b[37m\u001b[0m \u001b[1m1s\u001b[0m 17ms/step - accuracy: 0.9928 - auc_10: 0.9990 - f1_score: 0.7186 - loss: 0.1218 - val_accuracy: 0.8014 - val_auc_10: 0.8602 - val_f1_score: 0.7022 - val_loss: 0.7118\n",
      "Epoch 19/50\n",
      "\u001b[1m32/32\u001b[0m \u001b[32m━━━━━━━━━━━━━━━━━━━━\u001b[0m\u001b[37m\u001b[0m \u001b[1m1s\u001b[0m 17ms/step - accuracy: 0.9886 - auc_10: 0.9990 - f1_score: 0.7486 - loss: 0.1266 - val_accuracy: 0.7557 - val_auc_10: 0.8611 - val_f1_score: 0.7022 - val_loss: 0.8666\n",
      "Epoch 20/50\n",
      "\u001b[1m32/32\u001b[0m \u001b[32m━━━━━━━━━━━━━━━━━━━━\u001b[0m\u001b[37m\u001b[0m \u001b[1m1s\u001b[0m 20ms/step - accuracy: 0.9898 - auc_10: 0.9988 - f1_score: 0.7156 - loss: 0.1285 - val_accuracy: 0.8151 - val_auc_10: 0.8741 - val_f1_score: 0.7022 - val_loss: 0.6269\n",
      "\u001b[1m16/16\u001b[0m \u001b[32m━━━━━━━━━━━━━━━━━━━━\u001b[0m\u001b[37m\u001b[0m \u001b[1m0s\u001b[0m 12ms/step\n",
      "n_hidden=3, neurons_decay=0.25, dropout_rate=0.3\n",
      "Epoch 1/50\n",
      "\u001b[1m32/32\u001b[0m \u001b[32m━━━━━━━━━━━━━━━━━━━━\u001b[0m\u001b[37m\u001b[0m \u001b[1m8s\u001b[0m 154ms/step - accuracy: 0.5377 - auc_11: 0.5407 - f1_score: 0.7277 - loss: 56.1290 - val_accuracy: 0.6119 - val_auc_11: 0.7001 - val_f1_score: 0.7022 - val_loss: 5.4061\n",
      "Epoch 2/50\n",
      "\u001b[1m32/32\u001b[0m \u001b[32m━━━━━━━━━━━━━━━━━━━━\u001b[0m\u001b[37m\u001b[0m \u001b[1m4s\u001b[0m 18ms/step - accuracy: 0.8489 - auc_11: 0.9206 - f1_score: 0.7229 - loss: 3.2910 - val_accuracy: 0.7877 - val_auc_11: 0.8310 - val_f1_score: 0.7022 - val_loss: 1.2789\n",
      "Epoch 3/50\n",
      "\u001b[1m32/32\u001b[0m \u001b[32m━━━━━━━━━━━━━━━━━━━━\u001b[0m\u001b[37m\u001b[0m \u001b[1m1s\u001b[0m 17ms/step - accuracy: 0.9551 - auc_11: 0.9928 - f1_score: 0.7338 - loss: 0.6938 - val_accuracy: 0.7352 - val_auc_11: 0.8114 - val_f1_score: 0.7022 - val_loss: 1.1262\n",
      "Epoch 4/50\n",
      "\u001b[1m32/32\u001b[0m \u001b[32m━━━━━━━━━━━━━━━━━━━━\u001b[0m\u001b[37m\u001b[0m \u001b[1m1s\u001b[0m 17ms/step - accuracy: 0.9611 - auc_11: 0.9871 - f1_score: 0.7176 - loss: 0.4530 - val_accuracy: 0.7648 - val_auc_11: 0.8136 - val_f1_score: 0.7022 - val_loss: 0.9253\n",
      "Epoch 5/50\n",
      "\u001b[1m32/32\u001b[0m \u001b[32m━━━━━━━━━━━━━━━━━━━━\u001b[0m\u001b[37m\u001b[0m \u001b[1m1s\u001b[0m 17ms/step - accuracy: 0.9692 - auc_11: 0.9941 - f1_score: 0.7140 - loss: 0.3669 - val_accuracy: 0.7740 - val_auc_11: 0.8235 - val_f1_score: 0.7022 - val_loss: 0.8572\n",
      "Epoch 6/50\n",
      "\u001b[1m32/32\u001b[0m \u001b[32m━━━━━━━━━━━━━━━━━━━━\u001b[0m\u001b[37m\u001b[0m \u001b[1m1s\u001b[0m 17ms/step - accuracy: 0.9811 - auc_11: 0.9942 - f1_score: 0.7107 - loss: 0.3044 - val_accuracy: 0.7945 - val_auc_11: 0.8508 - val_f1_score: 0.7022 - val_loss: 0.7968\n",
      "Epoch 7/50\n",
      "\u001b[1m32/32\u001b[0m \u001b[32m━━━━━━━━━━━━━━━━━━━━\u001b[0m\u001b[37m\u001b[0m \u001b[1m1s\u001b[0m 17ms/step - accuracy: 0.9788 - auc_11: 0.9941 - f1_score: 0.7161 - loss: 0.2673 - val_accuracy: 0.7717 - val_auc_11: 0.8342 - val_f1_score: 0.7022 - val_loss: 0.7954\n",
      "Epoch 8/50\n",
      "\u001b[1m32/32\u001b[0m \u001b[32m━━━━━━━━━━━━━━━━━━━━\u001b[0m\u001b[37m\u001b[0m \u001b[1m1s\u001b[0m 17ms/step - accuracy: 0.9826 - auc_11: 0.9930 - f1_score: 0.7030 - loss: 0.2492 - val_accuracy: 0.7717 - val_auc_11: 0.8478 - val_f1_score: 0.7022 - val_loss: 0.8421\n",
      "Epoch 9/50\n",
      "\u001b[1m32/32\u001b[0m \u001b[32m━━━━━━━━━━━━━━━━━━━━\u001b[0m\u001b[37m\u001b[0m \u001b[1m1s\u001b[0m 18ms/step - accuracy: 0.9911 - auc_11: 0.9987 - f1_score: 0.7098 - loss: 0.1898 - val_accuracy: 0.7511 - val_auc_11: 0.8186 - val_f1_score: 0.7022 - val_loss: 0.9031\n",
      "Epoch 10/50\n",
      "\u001b[1m32/32\u001b[0m \u001b[32m━━━━━━━━━━━━━━━━━━━━\u001b[0m\u001b[37m\u001b[0m \u001b[1m1s\u001b[0m 17ms/step - accuracy: 0.9851 - auc_11: 0.9986 - f1_score: 0.7080 - loss: 0.1912 - val_accuracy: 0.7877 - val_auc_11: 0.8455 - val_f1_score: 0.7022 - val_loss: 0.7372\n",
      "Epoch 11/50\n",
      "\u001b[1m32/32\u001b[0m \u001b[32m━━━━━━━━━━━━━━━━━━━━\u001b[0m\u001b[37m\u001b[0m \u001b[1m1s\u001b[0m 17ms/step - accuracy: 0.9870 - auc_11: 0.9978 - f1_score: 0.7326 - loss: 0.1789 - val_accuracy: 0.7854 - val_auc_11: 0.8547 - val_f1_score: 0.7022 - val_loss: 0.6769\n",
      "Epoch 12/50\n",
      "\u001b[1m32/32\u001b[0m \u001b[32m━━━━━━━━━━━━━━━━━━━━\u001b[0m\u001b[37m\u001b[0m \u001b[1m1s\u001b[0m 17ms/step - accuracy: 0.9932 - auc_11: 0.9997 - f1_score: 0.7079 - loss: 0.1525 - val_accuracy: 0.7900 - val_auc_11: 0.8503 - val_f1_score: 0.7022 - val_loss: 0.7020\n",
      "Epoch 13/50\n",
      "\u001b[1m32/32\u001b[0m \u001b[32m━━━━━━━━━━━━━━━━━━━━\u001b[0m\u001b[37m\u001b[0m \u001b[1m1s\u001b[0m 17ms/step - accuracy: 0.9940 - auc_11: 0.9994 - f1_score: 0.7204 - loss: 0.1419 - val_accuracy: 0.7831 - val_auc_11: 0.8487 - val_f1_score: 0.7022 - val_loss: 0.6944\n",
      "Epoch 14/50\n",
      "\u001b[1m32/32\u001b[0m \u001b[32m━━━━━━━━━━━━━━━━━━━━\u001b[0m\u001b[37m\u001b[0m \u001b[1m1s\u001b[0m 17ms/step - accuracy: 0.9911 - auc_11: 0.9989 - f1_score: 0.7407 - loss: 0.1489 - val_accuracy: 0.7877 - val_auc_11: 0.8498 - val_f1_score: 0.7022 - val_loss: 0.7414\n",
      "Epoch 15/50\n",
      "\u001b[1m32/32\u001b[0m \u001b[32m━━━━━━━━━━━━━━━━━━━━\u001b[0m\u001b[37m\u001b[0m \u001b[1m1s\u001b[0m 22ms/step - accuracy: 0.9898 - auc_11: 0.9986 - f1_score: 0.7374 - loss: 0.1369 - val_accuracy: 0.8082 - val_auc_11: 0.8397 - val_f1_score: 0.7022 - val_loss: 0.7397\n",
      "Epoch 16/50\n",
      "\u001b[1m32/32\u001b[0m \u001b[32m━━━━━━━━━━━━━━━━━━━━\u001b[0m\u001b[37m\u001b[0m \u001b[1m1s\u001b[0m 21ms/step - accuracy: 0.9920 - auc_11: 0.9984 - f1_score: 0.7083 - loss: 0.1361 - val_accuracy: 0.8037 - val_auc_11: 0.8632 - val_f1_score: 0.7022 - val_loss: 0.6750\n",
      "Epoch 17/50\n",
      "\u001b[1m32/32\u001b[0m \u001b[32m━━━━━━━━━━━━━━━━━━━━\u001b[0m\u001b[37m\u001b[0m \u001b[1m1s\u001b[0m 21ms/step - accuracy: 0.9972 - auc_11: 0.9997 - f1_score: 0.7106 - loss: 0.1137 - val_accuracy: 0.7694 - val_auc_11: 0.8495 - val_f1_score: 0.7022 - val_loss: 0.8235\n",
      "Epoch 18/50\n",
      "\u001b[1m32/32\u001b[0m \u001b[32m━━━━━━━━━━━━━━━━━━━━\u001b[0m\u001b[37m\u001b[0m \u001b[1m1s\u001b[0m 19ms/step - accuracy: 0.9844 - auc_11: 0.9961 - f1_score: 0.7199 - loss: 0.1436 - val_accuracy: 0.7717 - val_auc_11: 0.8471 - val_f1_score: 0.7022 - val_loss: 0.8054\n",
      "Epoch 19/50\n",
      "\u001b[1m32/32\u001b[0m \u001b[32m━━━━━━━━━━━━━━━━━━━━\u001b[0m\u001b[37m\u001b[0m \u001b[1m1s\u001b[0m 17ms/step - accuracy: 0.9931 - auc_11: 0.9995 - f1_score: 0.7208 - loss: 0.1153 - val_accuracy: 0.7945 - val_auc_11: 0.8475 - val_f1_score: 0.7022 - val_loss: 0.7094\n",
      "Epoch 20/50\n",
      "\u001b[1m32/32\u001b[0m \u001b[32m━━━━━━━━━━━━━━━━━━━━\u001b[0m\u001b[37m\u001b[0m \u001b[1m1s\u001b[0m 17ms/step - accuracy: 0.9900 - auc_11: 0.9994 - f1_score: 0.7073 - loss: 0.1155 - val_accuracy: 0.8037 - val_auc_11: 0.8597 - val_f1_score: 0.7022 - val_loss: 0.6713\n",
      "Epoch 21/50\n",
      "\u001b[1m32/32\u001b[0m \u001b[32m━━━━━━━━━━━━━━━━━━━━\u001b[0m\u001b[37m\u001b[0m \u001b[1m1s\u001b[0m 17ms/step - accuracy: 0.9964 - auc_11: 0.9989 - f1_score: 0.7160 - loss: 0.1108 - val_accuracy: 0.7877 - val_auc_11: 0.8577 - val_f1_score: 0.7022 - val_loss: 0.6997\n",
      "Epoch 22/50\n",
      "\u001b[1m32/32\u001b[0m \u001b[32m━━━━━━━━━━━━━━━━━━━━\u001b[0m\u001b[37m\u001b[0m \u001b[1m1s\u001b[0m 17ms/step - accuracy: 0.9916 - auc_11: 0.9976 - f1_score: 0.7248 - loss: 0.1209 - val_accuracy: 0.7945 - val_auc_11: 0.8516 - val_f1_score: 0.7022 - val_loss: 0.6905\n",
      "Epoch 23/50\n",
      "\u001b[1m32/32\u001b[0m \u001b[32m━━━━━━━━━━━━━━━━━━━━\u001b[0m\u001b[37m\u001b[0m \u001b[1m1s\u001b[0m 17ms/step - accuracy: 0.9944 - auc_11: 0.9966 - f1_score: 0.7254 - loss: 0.1109 - val_accuracy: 0.7717 - val_auc_11: 0.8465 - val_f1_score: 0.7022 - val_loss: 0.8485\n",
      "Epoch 24/50\n",
      "\u001b[1m32/32\u001b[0m \u001b[32m━━━━━━━━━━━━━━━━━━━━\u001b[0m\u001b[37m\u001b[0m \u001b[1m1s\u001b[0m 17ms/step - accuracy: 0.9934 - auc_11: 0.9997 - f1_score: 0.7414 - loss: 0.1038 - val_accuracy: 0.7831 - val_auc_11: 0.8494 - val_f1_score: 0.7022 - val_loss: 0.7539\n",
      "Epoch 25/50\n",
      "\u001b[1m32/32\u001b[0m \u001b[32m━━━━━━━━━━━━━━━━━━━━\u001b[0m\u001b[37m\u001b[0m \u001b[1m1s\u001b[0m 17ms/step - accuracy: 0.9912 - auc_11: 0.9991 - f1_score: 0.7219 - loss: 0.1063 - val_accuracy: 0.8151 - val_auc_11: 0.8642 - val_f1_score: 0.7022 - val_loss: 0.6693\n",
      "Epoch 26/50\n",
      "\u001b[1m32/32\u001b[0m \u001b[32m━━━━━━━━━━━━━━━━━━━━\u001b[0m\u001b[37m\u001b[0m \u001b[1m1s\u001b[0m 17ms/step - accuracy: 0.9949 - auc_11: 0.9998 - f1_score: 0.7114 - loss: 0.0985 - val_accuracy: 0.8014 - val_auc_11: 0.8482 - val_f1_score: 0.7022 - val_loss: 0.7439\n",
      "Epoch 27/50\n",
      "\u001b[1m32/32\u001b[0m \u001b[32m━━━━━━━━━━━━━━━━━━━━\u001b[0m\u001b[37m\u001b[0m \u001b[1m1s\u001b[0m 18ms/step - accuracy: 0.9901 - auc_11: 0.9993 - f1_score: 0.7175 - loss: 0.1015 - val_accuracy: 0.7968 - val_auc_11: 0.8490 - val_f1_score: 0.7022 - val_loss: 0.7360\n",
      "Epoch 28/50\n",
      "\u001b[1m32/32\u001b[0m \u001b[32m━━━━━━━━━━━━━━━━━━━━\u001b[0m\u001b[37m\u001b[0m \u001b[1m1s\u001b[0m 17ms/step - accuracy: 0.9961 - auc_11: 0.9989 - f1_score: 0.7050 - loss: 0.0942 - val_accuracy: 0.7877 - val_auc_11: 0.8500 - val_f1_score: 0.7022 - val_loss: 0.7381\n",
      "Epoch 29/50\n",
      "\u001b[1m32/32\u001b[0m \u001b[32m━━━━━━━━━━━━━━━━━━━━\u001b[0m\u001b[37m\u001b[0m \u001b[1m1s\u001b[0m 17ms/step - accuracy: 0.9942 - auc_11: 0.9981 - f1_score: 0.7242 - loss: 0.1043 - val_accuracy: 0.7922 - val_auc_11: 0.8625 - val_f1_score: 0.7022 - val_loss: 0.7239\n",
      "Epoch 30/50\n",
      "\u001b[1m32/32\u001b[0m \u001b[32m━━━━━━━━━━━━━━━━━━━━\u001b[0m\u001b[37m\u001b[0m \u001b[1m1s\u001b[0m 17ms/step - accuracy: 0.9910 - auc_11: 0.9997 - f1_score: 0.7064 - loss: 0.0994 - val_accuracy: 0.7922 - val_auc_11: 0.8626 - val_f1_score: 0.7022 - val_loss: 0.6685\n",
      "Epoch 31/50\n",
      "\u001b[1m32/32\u001b[0m \u001b[32m━━━━━━━━━━━━━━━━━━━━\u001b[0m\u001b[37m\u001b[0m \u001b[1m1s\u001b[0m 17ms/step - accuracy: 0.9960 - auc_11: 0.9998 - f1_score: 0.7118 - loss: 0.0910 - val_accuracy: 0.7968 - val_auc_11: 0.8536 - val_f1_score: 0.7022 - val_loss: 0.7246\n",
      "Epoch 32/50\n",
      "\u001b[1m32/32\u001b[0m \u001b[32m━━━━━━━━━━━━━━━━━━━━\u001b[0m\u001b[37m\u001b[0m \u001b[1m1s\u001b[0m 17ms/step - accuracy: 0.9965 - auc_11: 0.9997 - f1_score: 0.7192 - loss: 0.0865 - val_accuracy: 0.8082 - val_auc_11: 0.8667 - val_f1_score: 0.7022 - val_loss: 0.6617\n",
      "Epoch 33/50\n",
      "\u001b[1m32/32\u001b[0m \u001b[32m━━━━━━━━━━━━━━━━━━━━\u001b[0m\u001b[37m\u001b[0m \u001b[1m1s\u001b[0m 18ms/step - accuracy: 0.9940 - auc_11: 0.9997 - f1_score: 0.7381 - loss: 0.0920 - val_accuracy: 0.7968 - val_auc_11: 0.8575 - val_f1_score: 0.7022 - val_loss: 0.7713\n",
      "Epoch 34/50\n",
      "\u001b[1m32/32\u001b[0m \u001b[32m━━━━━━━━━━━━━━━━━━━━\u001b[0m\u001b[37m\u001b[0m \u001b[1m1s\u001b[0m 19ms/step - accuracy: 0.9947 - auc_11: 0.9994 - f1_score: 0.7191 - loss: 0.0884 - val_accuracy: 0.8151 - val_auc_11: 0.8683 - val_f1_score: 0.7022 - val_loss: 0.6972\n",
      "Epoch 35/50\n",
      "\u001b[1m32/32\u001b[0m \u001b[32m━━━━━━━━━━━━━━━━━━━━\u001b[0m\u001b[37m\u001b[0m \u001b[1m1s\u001b[0m 22ms/step - accuracy: 0.9892 - auc_11: 0.9987 - f1_score: 0.7208 - loss: 0.1037 - val_accuracy: 0.7968 - val_auc_11: 0.8655 - val_f1_score: 0.7022 - val_loss: 0.6636\n",
      "Epoch 36/50\n",
      "\u001b[1m32/32\u001b[0m \u001b[32m━━━━━━━━━━━━━━━━━━━━\u001b[0m\u001b[37m\u001b[0m \u001b[1m1s\u001b[0m 23ms/step - accuracy: 0.9963 - auc_11: 0.9995 - f1_score: 0.7448 - loss: 0.0896 - val_accuracy: 0.7922 - val_auc_11: 0.8507 - val_f1_score: 0.7022 - val_loss: 0.7216\n",
      "Epoch 37/50\n",
      "\u001b[1m32/32\u001b[0m \u001b[32m━━━━━━━━━━━━━━━━━━━━\u001b[0m\u001b[37m\u001b[0m \u001b[1m1s\u001b[0m 20ms/step - accuracy: 0.9939 - auc_11: 0.9996 - f1_score: 0.7093 - loss: 0.0871 - val_accuracy: 0.7945 - val_auc_11: 0.8516 - val_f1_score: 0.7022 - val_loss: 0.7479\n",
      "\u001b[1m16/16\u001b[0m \u001b[32m━━━━━━━━━━━━━━━━━━━━\u001b[0m\u001b[37m\u001b[0m \u001b[1m1s\u001b[0m 17ms/step\n",
      "n_hidden=3, neurons_decay=0.25, dropout_rate=0.3\n",
      "Epoch 1/50\n",
      "\u001b[1m32/32\u001b[0m \u001b[32m━━━━━━━━━━━━━━━━━━━━\u001b[0m\u001b[37m\u001b[0m \u001b[1m10s\u001b[0m 186ms/step - accuracy: 0.5523 - auc_12: 0.5618 - f1_score: 0.7094 - loss: 56.2686 - val_accuracy: 0.6918 - val_auc_12: 0.7862 - val_f1_score: 0.7022 - val_loss: 5.5354\n",
      "Epoch 2/50\n",
      "\u001b[1m32/32\u001b[0m \u001b[32m━━━━━━━━━━━━━━━━━━━━\u001b[0m\u001b[37m\u001b[0m \u001b[1m3s\u001b[0m 23ms/step - accuracy: 0.8718 - auc_12: 0.9076 - f1_score: 0.7441 - loss: 3.4085 - val_accuracy: 0.7466 - val_auc_12: 0.8170 - val_f1_score: 0.7022 - val_loss: 1.2758\n",
      "Epoch 3/50\n",
      "\u001b[1m32/32\u001b[0m \u001b[32m━━━━━━━━━━━━━━━━━━━━\u001b[0m\u001b[37m\u001b[0m \u001b[1m1s\u001b[0m 18ms/step - accuracy: 0.9356 - auc_12: 0.9799 - f1_score: 0.7021 - loss: 0.7794 - val_accuracy: 0.7306 - val_auc_12: 0.8258 - val_f1_score: 0.7022 - val_loss: 1.0780\n",
      "Epoch 4/50\n",
      "\u001b[1m32/32\u001b[0m \u001b[32m━━━━━━━━━━━━━━━━━━━━\u001b[0m\u001b[37m\u001b[0m \u001b[1m1s\u001b[0m 18ms/step - accuracy: 0.9702 - auc_12: 0.9946 - f1_score: 0.7280 - loss: 0.4227 - val_accuracy: 0.7968 - val_auc_12: 0.8432 - val_f1_score: 0.7022 - val_loss: 0.8720\n",
      "Epoch 5/50\n",
      "\u001b[1m32/32\u001b[0m \u001b[32m━━━━━━━━━━━━━━━━━━━━\u001b[0m\u001b[37m\u001b[0m \u001b[1m1s\u001b[0m 17ms/step - accuracy: 0.9695 - auc_12: 0.9925 - f1_score: 0.7065 - loss: 0.3694 - val_accuracy: 0.7991 - val_auc_12: 0.8634 - val_f1_score: 0.7022 - val_loss: 0.7619\n",
      "Epoch 6/50\n",
      "\u001b[1m32/32\u001b[0m \u001b[32m━━━━━━━━━━━━━━━━━━━━\u001b[0m\u001b[37m\u001b[0m \u001b[1m1s\u001b[0m 18ms/step - accuracy: 0.9709 - auc_12: 0.9901 - f1_score: 0.7133 - loss: 0.3479 - val_accuracy: 0.8082 - val_auc_12: 0.8647 - val_f1_score: 0.7022 - val_loss: 0.7092\n",
      "Epoch 7/50\n",
      "\u001b[1m32/32\u001b[0m \u001b[32m━━━━━━━━━━━━━━━━━━━━\u001b[0m\u001b[37m\u001b[0m \u001b[1m1s\u001b[0m 17ms/step - accuracy: 0.9886 - auc_12: 0.9991 - f1_score: 0.7356 - loss: 0.2562 - val_accuracy: 0.8082 - val_auc_12: 0.8615 - val_f1_score: 0.7022 - val_loss: 0.6853\n",
      "Epoch 8/50\n",
      "\u001b[1m32/32\u001b[0m \u001b[32m━━━━━━━━━━━━━━━━━━━━\u001b[0m\u001b[37m\u001b[0m \u001b[1m1s\u001b[0m 17ms/step - accuracy: 0.9846 - auc_12: 0.9986 - f1_score: 0.7321 - loss: 0.2257 - val_accuracy: 0.7945 - val_auc_12: 0.8602 - val_f1_score: 0.7022 - val_loss: 0.6911\n",
      "Epoch 9/50\n",
      "\u001b[1m32/32\u001b[0m \u001b[32m━━━━━━━━━━━━━━━━━━━━\u001b[0m\u001b[37m\u001b[0m \u001b[1m1s\u001b[0m 17ms/step - accuracy: 0.9837 - auc_12: 0.9985 - f1_score: 0.7196 - loss: 0.2215 - val_accuracy: 0.7831 - val_auc_12: 0.8607 - val_f1_score: 0.7022 - val_loss: 0.7364\n",
      "Epoch 10/50\n",
      "\u001b[1m32/32\u001b[0m \u001b[32m━━━━━━━━━━━━━━━━━━━━\u001b[0m\u001b[37m\u001b[0m \u001b[1m1s\u001b[0m 17ms/step - accuracy: 0.9921 - auc_12: 0.9979 - f1_score: 0.7403 - loss: 0.1829 - val_accuracy: 0.7968 - val_auc_12: 0.8569 - val_f1_score: 0.7022 - val_loss: 0.6663\n",
      "Epoch 11/50\n",
      "\u001b[1m32/32\u001b[0m \u001b[32m━━━━━━━━━━━━━━━━━━━━\u001b[0m\u001b[37m\u001b[0m \u001b[1m1s\u001b[0m 17ms/step - accuracy: 0.9931 - auc_12: 0.9994 - f1_score: 0.7367 - loss: 0.1710 - val_accuracy: 0.7991 - val_auc_12: 0.8552 - val_f1_score: 0.7022 - val_loss: 0.6807\n",
      "Epoch 12/50\n",
      "\u001b[1m32/32\u001b[0m \u001b[32m━━━━━━━━━━━━━━━━━━━━\u001b[0m\u001b[37m\u001b[0m \u001b[1m1s\u001b[0m 19ms/step - accuracy: 0.9889 - auc_12: 0.9996 - f1_score: 0.7145 - loss: 0.1616 - val_accuracy: 0.7945 - val_auc_12: 0.8618 - val_f1_score: 0.7022 - val_loss: 0.7109\n",
      "Epoch 13/50\n",
      "\u001b[1m32/32\u001b[0m \u001b[32m━━━━━━━━━━━━━━━━━━━━\u001b[0m\u001b[37m\u001b[0m \u001b[1m1s\u001b[0m 17ms/step - accuracy: 0.9874 - auc_12: 0.9981 - f1_score: 0.7236 - loss: 0.1603 - val_accuracy: 0.8037 - val_auc_12: 0.8532 - val_f1_score: 0.7022 - val_loss: 0.6791\n",
      "Epoch 14/50\n",
      "\u001b[1m32/32\u001b[0m \u001b[32m━━━━━━━━━━━━━━━━━━━━\u001b[0m\u001b[37m\u001b[0m \u001b[1m1s\u001b[0m 17ms/step - accuracy: 0.9896 - auc_12: 0.9991 - f1_score: 0.7255 - loss: 0.1457 - val_accuracy: 0.7580 - val_auc_12: 0.8493 - val_f1_score: 0.7022 - val_loss: 0.7931\n",
      "Epoch 15/50\n",
      "\u001b[1m32/32\u001b[0m \u001b[32m━━━━━━━━━━━━━━━━━━━━\u001b[0m\u001b[37m\u001b[0m \u001b[1m1s\u001b[0m 17ms/step - accuracy: 0.9905 - auc_12: 0.9990 - f1_score: 0.7142 - loss: 0.1439 - val_accuracy: 0.7922 - val_auc_12: 0.8620 - val_f1_score: 0.7022 - val_loss: 0.6384\n",
      "Epoch 16/50\n",
      "\u001b[1m32/32\u001b[0m \u001b[32m━━━━━━━━━━━━━━━━━━━━\u001b[0m\u001b[37m\u001b[0m \u001b[1m1s\u001b[0m 17ms/step - accuracy: 0.9926 - auc_12: 0.9995 - f1_score: 0.7259 - loss: 0.1370 - val_accuracy: 0.7557 - val_auc_12: 0.8604 - val_f1_score: 0.7022 - val_loss: 0.8607\n",
      "Epoch 17/50\n",
      "\u001b[1m32/32\u001b[0m \u001b[32m━━━━━━━━━━━━━━━━━━━━\u001b[0m\u001b[37m\u001b[0m \u001b[1m1s\u001b[0m 17ms/step - accuracy: 0.9916 - auc_12: 0.9989 - f1_score: 0.7191 - loss: 0.1270 - val_accuracy: 0.7991 - val_auc_12: 0.8708 - val_f1_score: 0.7022 - val_loss: 0.6487\n",
      "Epoch 18/50\n",
      "\u001b[1m32/32\u001b[0m \u001b[32m━━━━━━━━━━━━━━━━━━━━\u001b[0m\u001b[37m\u001b[0m \u001b[1m1s\u001b[0m 17ms/step - accuracy: 0.9903 - auc_12: 0.9989 - f1_score: 0.7217 - loss: 0.1330 - val_accuracy: 0.7854 - val_auc_12: 0.8604 - val_f1_score: 0.7022 - val_loss: 0.6704\n",
      "Epoch 19/50\n",
      "\u001b[1m32/32\u001b[0m \u001b[32m━━━━━━━━━━━━━━━━━━━━\u001b[0m\u001b[37m\u001b[0m \u001b[1m1s\u001b[0m 20ms/step - accuracy: 0.9964 - auc_12: 0.9998 - f1_score: 0.6984 - loss: 0.1134 - val_accuracy: 0.7968 - val_auc_12: 0.8638 - val_f1_score: 0.7022 - val_loss: 0.6674\n",
      "Epoch 20/50\n",
      "\u001b[1m32/32\u001b[0m \u001b[32m━━━━━━━━━━━━━━━━━━━━\u001b[0m\u001b[37m\u001b[0m \u001b[1m1s\u001b[0m 19ms/step - accuracy: 0.9903 - auc_12: 0.9981 - f1_score: 0.7422 - loss: 0.1200 - val_accuracy: 0.7945 - val_auc_12: 0.8689 - val_f1_score: 0.7022 - val_loss: 0.6332\n",
      "Epoch 21/50\n",
      "\u001b[1m32/32\u001b[0m \u001b[32m━━━━━━━━━━━━━━━━━━━━\u001b[0m\u001b[37m\u001b[0m \u001b[1m1s\u001b[0m 20ms/step - accuracy: 0.9896 - auc_12: 0.9995 - f1_score: 0.7224 - loss: 0.1199 - val_accuracy: 0.7945 - val_auc_12: 0.8627 - val_f1_score: 0.7022 - val_loss: 0.6374\n",
      "Epoch 22/50\n",
      "\u001b[1m32/32\u001b[0m \u001b[32m━━━━━━━━━━━━━━━━━━━━\u001b[0m\u001b[37m\u001b[0m \u001b[1m1s\u001b[0m 17ms/step - accuracy: 0.9895 - auc_12: 0.9993 - f1_score: 0.7411 - loss: 0.1145 - val_accuracy: 0.7854 - val_auc_12: 0.8620 - val_f1_score: 0.7022 - val_loss: 0.6779\n",
      "Epoch 23/50\n",
      "\u001b[1m32/32\u001b[0m \u001b[32m━━━━━━━━━━━━━━━━━━━━\u001b[0m\u001b[37m\u001b[0m \u001b[1m1s\u001b[0m 17ms/step - accuracy: 0.9915 - auc_12: 0.9988 - f1_score: 0.7225 - loss: 0.1102 - val_accuracy: 0.8059 - val_auc_12: 0.8683 - val_f1_score: 0.7022 - val_loss: 0.6565\n",
      "Epoch 24/50\n",
      "\u001b[1m32/32\u001b[0m \u001b[32m━━━━━━━━━━━━━━━━━━━━\u001b[0m\u001b[37m\u001b[0m \u001b[1m1s\u001b[0m 19ms/step - accuracy: 0.9906 - auc_12: 0.9991 - f1_score: 0.6952 - loss: 0.1099 - val_accuracy: 0.7945 - val_auc_12: 0.8700 - val_f1_score: 0.7022 - val_loss: 0.6556\n",
      "Epoch 25/50\n",
      "\u001b[1m32/32\u001b[0m \u001b[32m━━━━━━━━━━━━━━━━━━━━\u001b[0m\u001b[37m\u001b[0m \u001b[1m1s\u001b[0m 17ms/step - accuracy: 0.9891 - auc_12: 0.9986 - f1_score: 0.7312 - loss: 0.1189 - val_accuracy: 0.8105 - val_auc_12: 0.8671 - val_f1_score: 0.7022 - val_loss: 0.6157\n",
      "Epoch 26/50\n",
      "\u001b[1m32/32\u001b[0m \u001b[32m━━━━━━━━━━━━━━━━━━━━\u001b[0m\u001b[37m\u001b[0m \u001b[1m1s\u001b[0m 17ms/step - accuracy: 0.9914 - auc_12: 0.9996 - f1_score: 0.7169 - loss: 0.1046 - val_accuracy: 0.7648 - val_auc_12: 0.8549 - val_f1_score: 0.7022 - val_loss: 0.7274\n",
      "Epoch 27/50\n",
      "\u001b[1m32/32\u001b[0m \u001b[32m━━━━━━━━━━━━━━━━━━━━\u001b[0m\u001b[37m\u001b[0m \u001b[1m1s\u001b[0m 17ms/step - accuracy: 0.9913 - auc_12: 0.9996 - f1_score: 0.6998 - loss: 0.1003 - val_accuracy: 0.7945 - val_auc_12: 0.8551 - val_f1_score: 0.7022 - val_loss: 0.7211\n",
      "Epoch 28/50\n",
      "\u001b[1m32/32\u001b[0m \u001b[32m━━━━━━━━━━━━━━━━━━━━\u001b[0m\u001b[37m\u001b[0m \u001b[1m1s\u001b[0m 17ms/step - accuracy: 0.9913 - auc_12: 0.9995 - f1_score: 0.7145 - loss: 0.1009 - val_accuracy: 0.7991 - val_auc_12: 0.8730 - val_f1_score: 0.7022 - val_loss: 0.6356\n",
      "Epoch 29/50\n",
      "\u001b[1m32/32\u001b[0m \u001b[32m━━━━━━━━━━━━━━━━━━━━\u001b[0m\u001b[37m\u001b[0m \u001b[1m1s\u001b[0m 18ms/step - accuracy: 0.9869 - auc_12: 0.9993 - f1_score: 0.7104 - loss: 0.1075 - val_accuracy: 0.7854 - val_auc_12: 0.8627 - val_f1_score: 0.7022 - val_loss: 0.6327\n",
      "Epoch 30/50\n",
      "\u001b[1m32/32\u001b[0m \u001b[32m━━━━━━━━━━━━━━━━━━━━\u001b[0m\u001b[37m\u001b[0m \u001b[1m1s\u001b[0m 17ms/step - accuracy: 0.9878 - auc_12: 0.9990 - f1_score: 0.7205 - loss: 0.1105 - val_accuracy: 0.8242 - val_auc_12: 0.8675 - val_f1_score: 0.7022 - val_loss: 0.6322\n",
      "\u001b[1m16/16\u001b[0m \u001b[32m━━━━━━━━━━━━━━━━━━━━\u001b[0m\u001b[37m\u001b[0m \u001b[1m0s\u001b[0m 12ms/step\n",
      "n_hidden=3, neurons_decay=0.5, dropout_rate=0.3\n",
      "Epoch 1/50\n",
      "\u001b[1m32/32\u001b[0m \u001b[32m━━━━━━━━━━━━━━━━━━━━\u001b[0m\u001b[37m\u001b[0m \u001b[1m10s\u001b[0m 195ms/step - accuracy: 0.5310 - auc_13: 0.5333 - f1_score: 0.7293 - loss: 77.0248 - val_accuracy: 0.6826 - val_auc_13: 0.7541 - val_f1_score: 0.7022 - val_loss: 7.5826\n",
      "Epoch 2/50\n",
      "\u001b[1m32/32\u001b[0m \u001b[32m━━━━━━━━━━━━━━━━━━━━\u001b[0m\u001b[37m\u001b[0m \u001b[1m2s\u001b[0m 22ms/step - accuracy: 0.8434 - auc_13: 0.9080 - f1_score: 0.7220 - loss: 4.5692 - val_accuracy: 0.7991 - val_auc_13: 0.8453 - val_f1_score: 0.7022 - val_loss: 1.2940\n",
      "Epoch 3/50\n",
      "\u001b[1m32/32\u001b[0m \u001b[32m━━━━━━━━━━━━━━━━━━━━\u001b[0m\u001b[37m\u001b[0m \u001b[1m1s\u001b[0m 21ms/step - accuracy: 0.9584 - auc_13: 0.9882 - f1_score: 0.7258 - loss: 0.7358 - val_accuracy: 0.7534 - val_auc_13: 0.8291 - val_f1_score: 0.7022 - val_loss: 0.9122\n",
      "Epoch 4/50\n",
      "\u001b[1m32/32\u001b[0m \u001b[32m━━━━━━━━━━━━━━━━━━━━\u001b[0m\u001b[37m\u001b[0m \u001b[1m1s\u001b[0m 21ms/step - accuracy: 0.9701 - auc_13: 0.9907 - f1_score: 0.7243 - loss: 0.4091 - val_accuracy: 0.7420 - val_auc_13: 0.8161 - val_f1_score: 0.7022 - val_loss: 0.9462\n",
      "Epoch 5/50\n",
      "\u001b[1m32/32\u001b[0m \u001b[32m━━━━━━━━━━━━━━━━━━━━\u001b[0m\u001b[37m\u001b[0m \u001b[1m1s\u001b[0m 21ms/step - accuracy: 0.9754 - auc_13: 0.9929 - f1_score: 0.7191 - loss: 0.3624 - val_accuracy: 0.7511 - val_auc_13: 0.8415 - val_f1_score: 0.7022 - val_loss: 0.8385\n",
      "Epoch 6/50\n",
      "\u001b[1m32/32\u001b[0m \u001b[32m━━━━━━━━━━━━━━━━━━━━\u001b[0m\u001b[37m\u001b[0m \u001b[1m1s\u001b[0m 21ms/step - accuracy: 0.9861 - auc_13: 0.9968 - f1_score: 0.7413 - loss: 0.2728 - val_accuracy: 0.7945 - val_auc_13: 0.8518 - val_f1_score: 0.7022 - val_loss: 0.6837\n",
      "Epoch 7/50\n",
      "\u001b[1m32/32\u001b[0m \u001b[32m━━━━━━━━━━━━━━━━━━━━\u001b[0m\u001b[37m\u001b[0m \u001b[1m1s\u001b[0m 21ms/step - accuracy: 0.9751 - auc_13: 0.9928 - f1_score: 0.7168 - loss: 0.2670 - val_accuracy: 0.7968 - val_auc_13: 0.8658 - val_f1_score: 0.7022 - val_loss: 0.7506\n",
      "Epoch 8/50\n",
      "\u001b[1m32/32\u001b[0m \u001b[32m━━━━━━━━━━━━━━━━━━━━\u001b[0m\u001b[37m\u001b[0m \u001b[1m1s\u001b[0m 21ms/step - accuracy: 0.9709 - auc_13: 0.9967 - f1_score: 0.7153 - loss: 0.2452 - val_accuracy: 0.8174 - val_auc_13: 0.8623 - val_f1_score: 0.7022 - val_loss: 0.6644\n",
      "Epoch 9/50\n",
      "\u001b[1m32/32\u001b[0m \u001b[32m━━━━━━━━━━━━━━━━━━━━\u001b[0m\u001b[37m\u001b[0m \u001b[1m1s\u001b[0m 26ms/step - accuracy: 0.9921 - auc_13: 0.9987 - f1_score: 0.7247 - loss: 0.1949 - val_accuracy: 0.7694 - val_auc_13: 0.8725 - val_f1_score: 0.7022 - val_loss: 0.7600\n",
      "Epoch 10/50\n",
      "\u001b[1m32/32\u001b[0m \u001b[32m━━━━━━━━━━━━━━━━━━━━\u001b[0m\u001b[37m\u001b[0m \u001b[1m1s\u001b[0m 25ms/step - accuracy: 0.9852 - auc_13: 0.9983 - f1_score: 0.6875 - loss: 0.1859 - val_accuracy: 0.7945 - val_auc_13: 0.8611 - val_f1_score: 0.7022 - val_loss: 0.7563\n",
      "Epoch 11/50\n",
      "\u001b[1m32/32\u001b[0m \u001b[32m━━━━━━━━━━━━━━━━━━━━\u001b[0m\u001b[37m\u001b[0m \u001b[1m1s\u001b[0m 25ms/step - accuracy: 0.9848 - auc_13: 0.9988 - f1_score: 0.7073 - loss: 0.1676 - val_accuracy: 0.8059 - val_auc_13: 0.8747 - val_f1_score: 0.7022 - val_loss: 0.6580\n",
      "Epoch 12/50\n",
      "\u001b[1m32/32\u001b[0m \u001b[32m━━━━━━━━━━━━━━━━━━━━\u001b[0m\u001b[37m\u001b[0m \u001b[1m1s\u001b[0m 25ms/step - accuracy: 0.9871 - auc_13: 0.9981 - f1_score: 0.7319 - loss: 0.1618 - val_accuracy: 0.7740 - val_auc_13: 0.8677 - val_f1_score: 0.7022 - val_loss: 0.6702\n",
      "Epoch 13/50\n",
      "\u001b[1m32/32\u001b[0m \u001b[32m━━━━━━━━━━━━━━━━━━━━\u001b[0m\u001b[37m\u001b[0m \u001b[1m1s\u001b[0m 22ms/step - accuracy: 0.9920 - auc_13: 0.9992 - f1_score: 0.7194 - loss: 0.1388 - val_accuracy: 0.7808 - val_auc_13: 0.8654 - val_f1_score: 0.7022 - val_loss: 0.7402\n",
      "Epoch 14/50\n",
      "\u001b[1m32/32\u001b[0m \u001b[32m━━━━━━━━━━━━━━━━━━━━\u001b[0m\u001b[37m\u001b[0m \u001b[1m1s\u001b[0m 24ms/step - accuracy: 0.9848 - auc_13: 0.9986 - f1_score: 0.7292 - loss: 0.1470 - val_accuracy: 0.7968 - val_auc_13: 0.8733 - val_f1_score: 0.7022 - val_loss: 0.6649\n",
      "Epoch 15/50\n",
      "\u001b[1m32/32\u001b[0m \u001b[32m━━━━━━━━━━━━━━━━━━━━\u001b[0m\u001b[37m\u001b[0m \u001b[1m1s\u001b[0m 21ms/step - accuracy: 0.9911 - auc_13: 0.9981 - f1_score: 0.7167 - loss: 0.1355 - val_accuracy: 0.8014 - val_auc_13: 0.8613 - val_f1_score: 0.7022 - val_loss: 0.7055\n",
      "Epoch 16/50\n",
      "\u001b[1m32/32\u001b[0m \u001b[32m━━━━━━━━━━━━━━━━━━━━\u001b[0m\u001b[37m\u001b[0m \u001b[1m1s\u001b[0m 21ms/step - accuracy: 0.9832 - auc_13: 0.9989 - f1_score: 0.6950 - loss: 0.1337 - val_accuracy: 0.7968 - val_auc_13: 0.8613 - val_f1_score: 0.7022 - val_loss: 0.6818\n",
      "\u001b[1m16/16\u001b[0m \u001b[32m━━━━━━━━━━━━━━━━━━━━\u001b[0m\u001b[37m\u001b[0m \u001b[1m1s\u001b[0m 12ms/step\n",
      "n_hidden=3, neurons_decay=0.5, dropout_rate=0.3\n",
      "Epoch 1/50\n",
      "\u001b[1m32/32\u001b[0m \u001b[32m━━━━━━━━━━━━━━━━━━━━\u001b[0m\u001b[37m\u001b[0m \u001b[1m11s\u001b[0m 228ms/step - accuracy: 0.5325 - auc_14: 0.5243 - f1_score: 0.7190 - loss: 75.5722 - val_accuracy: 0.7169 - val_auc_14: 0.7725 - val_f1_score: 0.7022 - val_loss: 6.7982\n",
      "Epoch 2/50\n",
      "\u001b[1m32/32\u001b[0m \u001b[32m━━━━━━━━━━━━━━━━━━━━\u001b[0m\u001b[37m\u001b[0m \u001b[1m1s\u001b[0m 24ms/step - accuracy: 0.8329 - auc_14: 0.8940 - f1_score: 0.7216 - loss: 4.0321 - val_accuracy: 0.7603 - val_auc_14: 0.7953 - val_f1_score: 0.7022 - val_loss: 1.2648\n",
      "Epoch 3/50\n",
      "\u001b[1m32/32\u001b[0m \u001b[32m━━━━━━━━━━━━━━━━━━━━\u001b[0m\u001b[37m\u001b[0m \u001b[1m1s\u001b[0m 22ms/step - accuracy: 0.9639 - auc_14: 0.9927 - f1_score: 0.7287 - loss: 0.6813 - val_accuracy: 0.7534 - val_auc_14: 0.8244 - val_f1_score: 0.7022 - val_loss: 0.9870\n",
      "Epoch 4/50\n",
      "\u001b[1m32/32\u001b[0m \u001b[32m━━━━━━━━━━━━━━━━━━━━\u001b[0m\u001b[37m\u001b[0m \u001b[1m1s\u001b[0m 24ms/step - accuracy: 0.9683 - auc_14: 0.9948 - f1_score: 0.7051 - loss: 0.4147 - val_accuracy: 0.6895 - val_auc_14: 0.7832 - val_f1_score: 0.7022 - val_loss: 1.1550\n",
      "Epoch 5/50\n",
      "\u001b[1m32/32\u001b[0m \u001b[32m━━━━━━━━━━━━━━━━━━━━\u001b[0m\u001b[37m\u001b[0m \u001b[1m1s\u001b[0m 21ms/step - accuracy: 0.9603 - auc_14: 0.9945 - f1_score: 0.7285 - loss: 0.3774 - val_accuracy: 0.7717 - val_auc_14: 0.8434 - val_f1_score: 0.7022 - val_loss: 0.8225\n",
      "Epoch 6/50\n",
      "\u001b[1m32/32\u001b[0m \u001b[32m━━━━━━━━━━━━━━━━━━━━\u001b[0m\u001b[37m\u001b[0m \u001b[1m1s\u001b[0m 21ms/step - accuracy: 0.9795 - auc_14: 0.9971 - f1_score: 0.7047 - loss: 0.2785 - val_accuracy: 0.8105 - val_auc_14: 0.8494 - val_f1_score: 0.7022 - val_loss: 0.7835\n",
      "Epoch 7/50\n",
      "\u001b[1m32/32\u001b[0m \u001b[32m━━━━━━━━━━━━━━━━━━━━\u001b[0m\u001b[37m\u001b[0m \u001b[1m1s\u001b[0m 22ms/step - accuracy: 0.9832 - auc_14: 0.9944 - f1_score: 0.7157 - loss: 0.2699 - val_accuracy: 0.7968 - val_auc_14: 0.8320 - val_f1_score: 0.7022 - val_loss: 0.7813\n",
      "Epoch 8/50\n",
      "\u001b[1m32/32\u001b[0m \u001b[32m━━━━━━━━━━━━━━━━━━━━\u001b[0m\u001b[37m\u001b[0m \u001b[1m1s\u001b[0m 21ms/step - accuracy: 0.9937 - auc_14: 0.9986 - f1_score: 0.7420 - loss: 0.1977 - val_accuracy: 0.7877 - val_auc_14: 0.8566 - val_f1_score: 0.7022 - val_loss: 0.6974\n",
      "Epoch 9/50\n",
      "\u001b[1m32/32\u001b[0m \u001b[32m━━━━━━━━━━━━━━━━━━━━\u001b[0m\u001b[37m\u001b[0m \u001b[1m1s\u001b[0m 21ms/step - accuracy: 0.9916 - auc_14: 0.9990 - f1_score: 0.7150 - loss: 0.1861 - val_accuracy: 0.8037 - val_auc_14: 0.8454 - val_f1_score: 0.7022 - val_loss: 0.7453\n",
      "Epoch 10/50\n",
      "\u001b[1m32/32\u001b[0m \u001b[32m━━━━━━━━━━━━━━━━━━━━\u001b[0m\u001b[37m\u001b[0m \u001b[1m1s\u001b[0m 21ms/step - accuracy: 0.9928 - auc_14: 0.9993 - f1_score: 0.7188 - loss: 0.1668 - val_accuracy: 0.7877 - val_auc_14: 0.8364 - val_f1_score: 0.7022 - val_loss: 0.7853\n",
      "Epoch 11/50\n",
      "\u001b[1m32/32\u001b[0m \u001b[32m━━━━━━━━━━━━━━━━━━━━\u001b[0m\u001b[37m\u001b[0m \u001b[1m1s\u001b[0m 22ms/step - accuracy: 0.9886 - auc_14: 0.9992 - f1_score: 0.7242 - loss: 0.1534 - val_accuracy: 0.7763 - val_auc_14: 0.8406 - val_f1_score: 0.7022 - val_loss: 0.7753\n",
      "Epoch 12/50\n",
      "\u001b[1m32/32\u001b[0m \u001b[32m━━━━━━━━━━━━━━━━━━━━\u001b[0m\u001b[37m\u001b[0m \u001b[1m1s\u001b[0m 23ms/step - accuracy: 0.9810 - auc_14: 0.9972 - f1_score: 0.7185 - loss: 0.1701 - val_accuracy: 0.7740 - val_auc_14: 0.8535 - val_f1_score: 0.7022 - val_loss: 0.6783\n",
      "Epoch 13/50\n",
      "\u001b[1m32/32\u001b[0m \u001b[32m━━━━━━━━━━━━━━━━━━━━\u001b[0m\u001b[37m\u001b[0m \u001b[1m1s\u001b[0m 24ms/step - accuracy: 0.9957 - auc_14: 0.9988 - f1_score: 0.7061 - loss: 0.1286 - val_accuracy: 0.7900 - val_auc_14: 0.8555 - val_f1_score: 0.7022 - val_loss: 0.7010\n",
      "Epoch 14/50\n",
      "\u001b[1m32/32\u001b[0m \u001b[32m━━━━━━━━━━━━━━━━━━━━\u001b[0m\u001b[37m\u001b[0m \u001b[1m1s\u001b[0m 26ms/step - accuracy: 0.9899 - auc_14: 0.9995 - f1_score: 0.7109 - loss: 0.1276 - val_accuracy: 0.8037 - val_auc_14: 0.8618 - val_f1_score: 0.7022 - val_loss: 0.6896\n",
      "Epoch 15/50\n",
      "\u001b[1m32/32\u001b[0m \u001b[32m━━━━━━━━━━━━━━━━━━━━\u001b[0m\u001b[37m\u001b[0m \u001b[1m1s\u001b[0m 21ms/step - accuracy: 0.9871 - auc_14: 0.9988 - f1_score: 0.7324 - loss: 0.1274 - val_accuracy: 0.8082 - val_auc_14: 0.8554 - val_f1_score: 0.7022 - val_loss: 0.6763\n",
      "Epoch 16/50\n",
      "\u001b[1m32/32\u001b[0m \u001b[32m━━━━━━━━━━━━━━━━━━━━\u001b[0m\u001b[37m\u001b[0m \u001b[1m1s\u001b[0m 21ms/step - accuracy: 0.9902 - auc_14: 0.9996 - f1_score: 0.7128 - loss: 0.1203 - val_accuracy: 0.7763 - val_auc_14: 0.8401 - val_f1_score: 0.7022 - val_loss: 0.8187\n",
      "Epoch 17/50\n",
      "\u001b[1m32/32\u001b[0m \u001b[32m━━━━━━━━━━━━━━━━━━━━\u001b[0m\u001b[37m\u001b[0m \u001b[1m1s\u001b[0m 21ms/step - accuracy: 0.9843 - auc_14: 0.9991 - f1_score: 0.7247 - loss: 0.1138 - val_accuracy: 0.7785 - val_auc_14: 0.8328 - val_f1_score: 0.7022 - val_loss: 0.7933\n",
      "Epoch 18/50\n",
      "\u001b[1m32/32\u001b[0m \u001b[32m━━━━━━━━━━━━━━━━━━━━\u001b[0m\u001b[37m\u001b[0m \u001b[1m1s\u001b[0m 21ms/step - accuracy: 0.9830 - auc_14: 0.9991 - f1_score: 0.7062 - loss: 0.1223 - val_accuracy: 0.7694 - val_auc_14: 0.8300 - val_f1_score: 0.7022 - val_loss: 0.7756\n",
      "Epoch 19/50\n",
      "\u001b[1m32/32\u001b[0m \u001b[32m━━━━━━━━━━━━━━━━━━━━\u001b[0m\u001b[37m\u001b[0m \u001b[1m1s\u001b[0m 22ms/step - accuracy: 0.9969 - auc_14: 0.9996 - f1_score: 0.7041 - loss: 0.0997 - val_accuracy: 0.7785 - val_auc_14: 0.8556 - val_f1_score: 0.7022 - val_loss: 0.7089\n",
      "Epoch 20/50\n",
      "\u001b[1m32/32\u001b[0m \u001b[32m━━━━━━━━━━━━━━━━━━━━\u001b[0m\u001b[37m\u001b[0m \u001b[1m1s\u001b[0m 21ms/step - accuracy: 0.9946 - auc_14: 0.9995 - f1_score: 0.6893 - loss: 0.1049 - val_accuracy: 0.7945 - val_auc_14: 0.8695 - val_f1_score: 0.7022 - val_loss: 0.7566\n",
      "\u001b[1m16/16\u001b[0m \u001b[32m━━━━━━━━━━━━━━━━━━━━\u001b[0m\u001b[37m\u001b[0m \u001b[1m0s\u001b[0m 12ms/step\n",
      "n_hidden=3, neurons_decay=0.5, dropout_rate=0.3\n",
      "Epoch 1/50\n",
      "\u001b[1m32/32\u001b[0m \u001b[32m━━━━━━━━━━━━━━━━━━━━\u001b[0m\u001b[37m\u001b[0m \u001b[1m10s\u001b[0m 161ms/step - accuracy: 0.5380 - auc_15: 0.5383 - f1_score: 0.7261 - loss: 74.8866 - val_accuracy: 0.6461 - val_auc_15: 0.7310 - val_f1_score: 0.7022 - val_loss: 6.3923\n",
      "Epoch 2/50\n",
      "\u001b[1m32/32\u001b[0m \u001b[32m━━━━━━━━━━━━━━━━━━━━\u001b[0m\u001b[37m\u001b[0m \u001b[1m1s\u001b[0m 22ms/step - accuracy: 0.8347 - auc_15: 0.8954 - f1_score: 0.7318 - loss: 3.7428 - val_accuracy: 0.7831 - val_auc_15: 0.8307 - val_f1_score: 0.7022 - val_loss: 1.1739\n",
      "Epoch 3/50\n",
      "\u001b[1m32/32\u001b[0m \u001b[32m━━━━━━━━━━━━━━━━━━━━\u001b[0m\u001b[37m\u001b[0m \u001b[1m1s\u001b[0m 24ms/step - accuracy: 0.9599 - auc_15: 0.9879 - f1_score: 0.6994 - loss: 0.6813 - val_accuracy: 0.7603 - val_auc_15: 0.8305 - val_f1_score: 0.7022 - val_loss: 0.8741\n",
      "Epoch 4/50\n",
      "\u001b[1m32/32\u001b[0m \u001b[32m━━━━━━━━━━━━━━━━━━━━\u001b[0m\u001b[37m\u001b[0m \u001b[1m1s\u001b[0m 21ms/step - accuracy: 0.9690 - auc_15: 0.9888 - f1_score: 0.7337 - loss: 0.4401 - val_accuracy: 0.7717 - val_auc_15: 0.8373 - val_f1_score: 0.7022 - val_loss: 0.9673\n",
      "Epoch 5/50\n",
      "\u001b[1m32/32\u001b[0m \u001b[32m━━━━━━━━━━━━━━━━━━━━\u001b[0m\u001b[37m\u001b[0m \u001b[1m1s\u001b[0m 23ms/step - accuracy: 0.9652 - auc_15: 0.9925 - f1_score: 0.7118 - loss: 0.3718 - val_accuracy: 0.7900 - val_auc_15: 0.8403 - val_f1_score: 0.7022 - val_loss: 0.7708\n",
      "Epoch 6/50\n",
      "\u001b[1m32/32\u001b[0m \u001b[32m━━━━━━━━━━━━━━━━━━━━\u001b[0m\u001b[37m\u001b[0m \u001b[1m1s\u001b[0m 21ms/step - accuracy: 0.9890 - auc_15: 0.9982 - f1_score: 0.7187 - loss: 0.2666 - val_accuracy: 0.7580 - val_auc_15: 0.8324 - val_f1_score: 0.7022 - val_loss: 0.8386\n",
      "Epoch 7/50\n",
      "\u001b[1m32/32\u001b[0m \u001b[32m━━━━━━━━━━━━━━━━━━━━\u001b[0m\u001b[37m\u001b[0m \u001b[1m1s\u001b[0m 24ms/step - accuracy: 0.9676 - auc_15: 0.9911 - f1_score: 0.7363 - loss: 0.2821 - val_accuracy: 0.7831 - val_auc_15: 0.8451 - val_f1_score: 0.7022 - val_loss: 0.7074\n",
      "Epoch 8/50\n",
      "\u001b[1m32/32\u001b[0m \u001b[32m━━━━━━━━━━━━━━━━━━━━\u001b[0m\u001b[37m\u001b[0m \u001b[1m1s\u001b[0m 22ms/step - accuracy: 0.9909 - auc_15: 0.9961 - f1_score: 0.7040 - loss: 0.2192 - val_accuracy: 0.7763 - val_auc_15: 0.8633 - val_f1_score: 0.7022 - val_loss: 0.7703\n",
      "Epoch 9/50\n",
      "\u001b[1m32/32\u001b[0m \u001b[32m━━━━━━━━━━━━━━━━━━━━\u001b[0m\u001b[37m\u001b[0m \u001b[1m1s\u001b[0m 25ms/step - accuracy: 0.9881 - auc_15: 0.9983 - f1_score: 0.7276 - loss: 0.1918 - val_accuracy: 0.7877 - val_auc_15: 0.8568 - val_f1_score: 0.7022 - val_loss: 0.7436\n",
      "Epoch 10/50\n",
      "\u001b[1m32/32\u001b[0m \u001b[32m━━━━━━━━━━━━━━━━━━━━\u001b[0m\u001b[37m\u001b[0m \u001b[1m1s\u001b[0m 26ms/step - accuracy: 0.9852 - auc_15: 0.9979 - f1_score: 0.7116 - loss: 0.1736 - val_accuracy: 0.7877 - val_auc_15: 0.8582 - val_f1_score: 0.7022 - val_loss: 0.6744\n",
      "Epoch 11/50\n",
      "\u001b[1m32/32\u001b[0m \u001b[32m━━━━━━━━━━━━━━━━━━━━\u001b[0m\u001b[37m\u001b[0m \u001b[1m1s\u001b[0m 25ms/step - accuracy: 0.9820 - auc_15: 0.9966 - f1_score: 0.7080 - loss: 0.1812 - val_accuracy: 0.7740 - val_auc_15: 0.8452 - val_f1_score: 0.7022 - val_loss: 0.7636\n",
      "Epoch 12/50\n",
      "\u001b[1m32/32\u001b[0m \u001b[32m━━━━━━━━━━━━━━━━━━━━\u001b[0m\u001b[37m\u001b[0m \u001b[1m1s\u001b[0m 21ms/step - accuracy: 0.9845 - auc_15: 0.9989 - f1_score: 0.7231 - loss: 0.1557 - val_accuracy: 0.7603 - val_auc_15: 0.8537 - val_f1_score: 0.7022 - val_loss: 0.7976\n",
      "Epoch 13/50\n",
      "\u001b[1m32/32\u001b[0m \u001b[32m━━━━━━━━━━━━━━━━━━━━\u001b[0m\u001b[37m\u001b[0m \u001b[1m1s\u001b[0m 22ms/step - accuracy: 0.9924 - auc_15: 0.9994 - f1_score: 0.7128 - loss: 0.1386 - val_accuracy: 0.8059 - val_auc_15: 0.8658 - val_f1_score: 0.7022 - val_loss: 0.6726\n",
      "Epoch 14/50\n",
      "\u001b[1m32/32\u001b[0m \u001b[32m━━━━━━━━━━━━━━━━━━━━\u001b[0m\u001b[37m\u001b[0m \u001b[1m1s\u001b[0m 21ms/step - accuracy: 0.9891 - auc_15: 0.9994 - f1_score: 0.7124 - loss: 0.1345 - val_accuracy: 0.8105 - val_auc_15: 0.8758 - val_f1_score: 0.7022 - val_loss: 0.6350\n",
      "Epoch 15/50\n",
      "\u001b[1m32/32\u001b[0m \u001b[32m━━━━━━━━━━━━━━━━━━━━\u001b[0m\u001b[37m\u001b[0m \u001b[1m1s\u001b[0m 21ms/step - accuracy: 0.9813 - auc_15: 0.9978 - f1_score: 0.7342 - loss: 0.1502 - val_accuracy: 0.8151 - val_auc_15: 0.8756 - val_f1_score: 0.7022 - val_loss: 0.6090\n",
      "Epoch 16/50\n",
      "\u001b[1m32/32\u001b[0m \u001b[32m━━━━━━━━━━━━━━━━━━━━\u001b[0m\u001b[37m\u001b[0m \u001b[1m1s\u001b[0m 21ms/step - accuracy: 0.9869 - auc_15: 0.9960 - f1_score: 0.7304 - loss: 0.1463 - val_accuracy: 0.8059 - val_auc_15: 0.8743 - val_f1_score: 0.7022 - val_loss: 0.6396\n",
      "Epoch 17/50\n",
      "\u001b[1m32/32\u001b[0m \u001b[32m━━━━━━━━━━━━━━━━━━━━\u001b[0m\u001b[37m\u001b[0m \u001b[1m1s\u001b[0m 21ms/step - accuracy: 0.9943 - auc_15: 0.9981 - f1_score: 0.7217 - loss: 0.1185 - val_accuracy: 0.7900 - val_auc_15: 0.8526 - val_f1_score: 0.7022 - val_loss: 0.7230\n",
      "Epoch 18/50\n",
      "\u001b[1m32/32\u001b[0m \u001b[32m━━━━━━━━━━━━━━━━━━━━\u001b[0m\u001b[37m\u001b[0m \u001b[1m1s\u001b[0m 21ms/step - accuracy: 0.9932 - auc_15: 0.9994 - f1_score: 0.7110 - loss: 0.1074 - val_accuracy: 0.7717 - val_auc_15: 0.8312 - val_f1_score: 0.7022 - val_loss: 0.7497\n",
      "Epoch 19/50\n",
      "\u001b[1m32/32\u001b[0m \u001b[32m━━━━━━━━━━━━━━━━━━━━\u001b[0m\u001b[37m\u001b[0m \u001b[1m1s\u001b[0m 21ms/step - accuracy: 0.9909 - auc_15: 0.9985 - f1_score: 0.7258 - loss: 0.1191 - val_accuracy: 0.7945 - val_auc_15: 0.8649 - val_f1_score: 0.7022 - val_loss: 0.6490\n",
      "Epoch 20/50\n",
      "\u001b[1m32/32\u001b[0m \u001b[32m━━━━━━━━━━━━━━━━━━━━\u001b[0m\u001b[37m\u001b[0m \u001b[1m1s\u001b[0m 21ms/step - accuracy: 0.9884 - auc_15: 0.9991 - f1_score: 0.7023 - loss: 0.1155 - val_accuracy: 0.7968 - val_auc_15: 0.8638 - val_f1_score: 0.7022 - val_loss: 0.6876\n",
      "\u001b[1m16/16\u001b[0m \u001b[32m━━━━━━━━━━━━━━━━━━━━\u001b[0m\u001b[37m\u001b[0m \u001b[1m0s\u001b[0m 12ms/step\n",
      "n_hidden=3, neurons_decay=0.25, dropout_rate=0.5\n",
      "Epoch 1/50\n",
      "\u001b[1m48/48\u001b[0m \u001b[32m━━━━━━━━━━━━━━━━━━━━\u001b[0m\u001b[37m\u001b[0m \u001b[1m11s\u001b[0m 116ms/step - accuracy: 0.5951 - auc_16: 0.5823 - f1_score: 0.7228 - loss: 48.0904 - val_accuracy: 0.7489 - val_auc_16: 0.8007 - val_f1_score: 0.7022 - val_loss: 2.6312\n",
      "Epoch 2/50\n",
      "\u001b[1m48/48\u001b[0m \u001b[32m━━━━━━━━━━━━━━━━━━━━\u001b[0m\u001b[37m\u001b[0m \u001b[1m2s\u001b[0m 18ms/step - accuracy: 0.8673 - auc_16: 0.9294 - f1_score: 0.7118 - loss: 1.6490 - val_accuracy: 0.7283 - val_auc_16: 0.8351 - val_f1_score: 0.7022 - val_loss: 1.2221\n",
      "Epoch 3/50\n",
      "\u001b[1m48/48\u001b[0m \u001b[32m━━━━━━━━━━━━━━━━━━━━\u001b[0m\u001b[37m\u001b[0m \u001b[1m1s\u001b[0m 17ms/step - accuracy: 0.9326 - auc_16: 0.9750 - f1_score: 0.7130 - loss: 0.6756 - val_accuracy: 0.8219 - val_auc_16: 0.8978 - val_f1_score: 0.7022 - val_loss: 0.8007\n",
      "Epoch 4/50\n",
      "\u001b[1m48/48\u001b[0m \u001b[32m━━━━━━━━━━━━━━━━━━━━\u001b[0m\u001b[37m\u001b[0m \u001b[1m1s\u001b[0m 16ms/step - accuracy: 0.9581 - auc_16: 0.9864 - f1_score: 0.7191 - loss: 0.4867 - val_accuracy: 0.8151 - val_auc_16: 0.8679 - val_f1_score: 0.7022 - val_loss: 0.7802\n",
      "Epoch 5/50\n",
      "\u001b[1m48/48\u001b[0m \u001b[32m━━━━━━━━━━━━━━━━━━━━\u001b[0m\u001b[37m\u001b[0m \u001b[1m1s\u001b[0m 16ms/step - accuracy: 0.9662 - auc_16: 0.9836 - f1_score: 0.7148 - loss: 0.4168 - val_accuracy: 0.8151 - val_auc_16: 0.8688 - val_f1_score: 0.7022 - val_loss: 0.7475\n",
      "Epoch 6/50\n",
      "\u001b[1m48/48\u001b[0m \u001b[32m━━━━━━━━━━━━━━━━━━━━\u001b[0m\u001b[37m\u001b[0m \u001b[1m1s\u001b[0m 18ms/step - accuracy: 0.9701 - auc_16: 0.9886 - f1_score: 0.7215 - loss: 0.3549 - val_accuracy: 0.7991 - val_auc_16: 0.8744 - val_f1_score: 0.7022 - val_loss: 0.7606\n",
      "Epoch 7/50\n",
      "\u001b[1m48/48\u001b[0m \u001b[32m━━━━━━━━━━━━━━━━━━━━\u001b[0m\u001b[37m\u001b[0m \u001b[1m1s\u001b[0m 20ms/step - accuracy: 0.9738 - auc_16: 0.9921 - f1_score: 0.7175 - loss: 0.3103 - val_accuracy: 0.8014 - val_auc_16: 0.8801 - val_f1_score: 0.7022 - val_loss: 0.7555\n",
      "Epoch 8/50\n",
      "\u001b[1m48/48\u001b[0m \u001b[32m━━━━━━━━━━━━━━━━━━━━\u001b[0m\u001b[37m\u001b[0m \u001b[1m1s\u001b[0m 20ms/step - accuracy: 0.9746 - auc_16: 0.9941 - f1_score: 0.7173 - loss: 0.2847 - val_accuracy: 0.8174 - val_auc_16: 0.8853 - val_f1_score: 0.7022 - val_loss: 0.6157\n",
      "Epoch 9/50\n",
      "\u001b[1m48/48\u001b[0m \u001b[32m━━━━━━━━━━━━━━━━━━━━\u001b[0m\u001b[37m\u001b[0m \u001b[1m1s\u001b[0m 18ms/step - accuracy: 0.9724 - auc_16: 0.9935 - f1_score: 0.7100 - loss: 0.2734 - val_accuracy: 0.8493 - val_auc_16: 0.8849 - val_f1_score: 0.7022 - val_loss: 0.6322\n",
      "Epoch 10/50\n",
      "\u001b[1m48/48\u001b[0m \u001b[32m━━━━━━━━━━━━━━━━━━━━\u001b[0m\u001b[37m\u001b[0m \u001b[1m1s\u001b[0m 19ms/step - accuracy: 0.9667 - auc_16: 0.9920 - f1_score: 0.7374 - loss: 0.2654 - val_accuracy: 0.8151 - val_auc_16: 0.8990 - val_f1_score: 0.7022 - val_loss: 0.6556\n",
      "Epoch 11/50\n",
      "\u001b[1m48/48\u001b[0m \u001b[32m━━━━━━━━━━━━━━━━━━━━\u001b[0m\u001b[37m\u001b[0m \u001b[1m1s\u001b[0m 16ms/step - accuracy: 0.9760 - auc_16: 0.9942 - f1_score: 0.7335 - loss: 0.2540 - val_accuracy: 0.8402 - val_auc_16: 0.9023 - val_f1_score: 0.7022 - val_loss: 0.5921\n",
      "Epoch 12/50\n",
      "\u001b[1m48/48\u001b[0m \u001b[32m━━━━━━━━━━━━━━━━━━━━\u001b[0m\u001b[37m\u001b[0m \u001b[1m1s\u001b[0m 16ms/step - accuracy: 0.9607 - auc_16: 0.9927 - f1_score: 0.7137 - loss: 0.2457 - val_accuracy: 0.8493 - val_auc_16: 0.8975 - val_f1_score: 0.7022 - val_loss: 0.5717\n",
      "Epoch 13/50\n",
      "\u001b[1m48/48\u001b[0m \u001b[32m━━━━━━━━━━━━━━━━━━━━\u001b[0m\u001b[37m\u001b[0m \u001b[1m1s\u001b[0m 16ms/step - accuracy: 0.9770 - auc_16: 0.9950 - f1_score: 0.7219 - loss: 0.2201 - val_accuracy: 0.8493 - val_auc_16: 0.9044 - val_f1_score: 0.7022 - val_loss: 0.5736\n",
      "Epoch 14/50\n",
      "\u001b[1m48/48\u001b[0m \u001b[32m━━━━━━━━━━━━━━━━━━━━\u001b[0m\u001b[37m\u001b[0m \u001b[1m1s\u001b[0m 16ms/step - accuracy: 0.9739 - auc_16: 0.9956 - f1_score: 0.7348 - loss: 0.2045 - val_accuracy: 0.8288 - val_auc_16: 0.8995 - val_f1_score: 0.7022 - val_loss: 0.5599\n",
      "Epoch 15/50\n",
      "\u001b[1m48/48\u001b[0m \u001b[32m━━━━━━━━━━━━━━━━━━━━\u001b[0m\u001b[37m\u001b[0m \u001b[1m1s\u001b[0m 16ms/step - accuracy: 0.9755 - auc_16: 0.9907 - f1_score: 0.7198 - loss: 0.2106 - val_accuracy: 0.8470 - val_auc_16: 0.9036 - val_f1_score: 0.7022 - val_loss: 0.5040\n",
      "Epoch 16/50\n",
      "\u001b[1m48/48\u001b[0m \u001b[32m━━━━━━━━━━━━━━━━━━━━\u001b[0m\u001b[37m\u001b[0m \u001b[1m1s\u001b[0m 16ms/step - accuracy: 0.9869 - auc_16: 0.9965 - f1_score: 0.7204 - loss: 0.1861 - val_accuracy: 0.7991 - val_auc_16: 0.8907 - val_f1_score: 0.7022 - val_loss: 0.7110\n",
      "Epoch 17/50\n",
      "\u001b[1m48/48\u001b[0m \u001b[32m━━━━━━━━━━━━━━━━━━━━\u001b[0m\u001b[37m\u001b[0m \u001b[1m1s\u001b[0m 16ms/step - accuracy: 0.9778 - auc_16: 0.9953 - f1_score: 0.7177 - loss: 0.1949 - val_accuracy: 0.8470 - val_auc_16: 0.9042 - val_f1_score: 0.7022 - val_loss: 0.5362\n",
      "Epoch 18/50\n",
      "\u001b[1m48/48\u001b[0m \u001b[32m━━━━━━━━━━━━━━━━━━━━\u001b[0m\u001b[37m\u001b[0m \u001b[1m1s\u001b[0m 16ms/step - accuracy: 0.9709 - auc_16: 0.9956 - f1_score: 0.7226 - loss: 0.1924 - val_accuracy: 0.8402 - val_auc_16: 0.9041 - val_f1_score: 0.7022 - val_loss: 0.5434\n",
      "Epoch 19/50\n",
      "\u001b[1m48/48\u001b[0m \u001b[32m━━━━━━━━━━━━━━━━━━━━\u001b[0m\u001b[37m\u001b[0m \u001b[1m1s\u001b[0m 16ms/step - accuracy: 0.9725 - auc_16: 0.9959 - f1_score: 0.7330 - loss: 0.1870 - val_accuracy: 0.8265 - val_auc_16: 0.8889 - val_f1_score: 0.7022 - val_loss: 0.5972\n",
      "Epoch 20/50\n",
      "\u001b[1m48/48\u001b[0m \u001b[32m━━━━━━━━━━━━━━━━━━━━\u001b[0m\u001b[37m\u001b[0m \u001b[1m1s\u001b[0m 19ms/step - accuracy: 0.9759 - auc_16: 0.9962 - f1_score: 0.7213 - loss: 0.1744 - val_accuracy: 0.8333 - val_auc_16: 0.8962 - val_f1_score: 0.7022 - val_loss: 0.5500\n"
     ]
    },
    {
     "data": {
      "text/html": [
       "<style>#sk-container-id-1 {\n",
       "  /* Definition of color scheme common for light and dark mode */\n",
       "  --sklearn-color-text: black;\n",
       "  --sklearn-color-line: gray;\n",
       "  /* Definition of color scheme for unfitted estimators */\n",
       "  --sklearn-color-unfitted-level-0: #fff5e6;\n",
       "  --sklearn-color-unfitted-level-1: #f6e4d2;\n",
       "  --sklearn-color-unfitted-level-2: #ffe0b3;\n",
       "  --sklearn-color-unfitted-level-3: chocolate;\n",
       "  /* Definition of color scheme for fitted estimators */\n",
       "  --sklearn-color-fitted-level-0: #f0f8ff;\n",
       "  --sklearn-color-fitted-level-1: #d4ebff;\n",
       "  --sklearn-color-fitted-level-2: #b3dbfd;\n",
       "  --sklearn-color-fitted-level-3: cornflowerblue;\n",
       "\n",
       "  /* Specific color for light theme */\n",
       "  --sklearn-color-text-on-default-background: var(--sg-text-color, var(--theme-code-foreground, var(--jp-content-font-color1, black)));\n",
       "  --sklearn-color-background: var(--sg-background-color, var(--theme-background, var(--jp-layout-color0, white)));\n",
       "  --sklearn-color-border-box: var(--sg-text-color, var(--theme-code-foreground, var(--jp-content-font-color1, black)));\n",
       "  --sklearn-color-icon: #696969;\n",
       "\n",
       "  @media (prefers-color-scheme: dark) {\n",
       "    /* Redefinition of color scheme for dark theme */\n",
       "    --sklearn-color-text-on-default-background: var(--sg-text-color, var(--theme-code-foreground, var(--jp-content-font-color1, white)));\n",
       "    --sklearn-color-background: var(--sg-background-color, var(--theme-background, var(--jp-layout-color0, #111)));\n",
       "    --sklearn-color-border-box: var(--sg-text-color, var(--theme-code-foreground, var(--jp-content-font-color1, white)));\n",
       "    --sklearn-color-icon: #878787;\n",
       "  }\n",
       "}\n",
       "\n",
       "#sk-container-id-1 {\n",
       "  color: var(--sklearn-color-text);\n",
       "}\n",
       "\n",
       "#sk-container-id-1 pre {\n",
       "  padding: 0;\n",
       "}\n",
       "\n",
       "#sk-container-id-1 input.sk-hidden--visually {\n",
       "  border: 0;\n",
       "  clip: rect(1px 1px 1px 1px);\n",
       "  clip: rect(1px, 1px, 1px, 1px);\n",
       "  height: 1px;\n",
       "  margin: -1px;\n",
       "  overflow: hidden;\n",
       "  padding: 0;\n",
       "  position: absolute;\n",
       "  width: 1px;\n",
       "}\n",
       "\n",
       "#sk-container-id-1 div.sk-dashed-wrapped {\n",
       "  border: 1px dashed var(--sklearn-color-line);\n",
       "  margin: 0 0.4em 0.5em 0.4em;\n",
       "  box-sizing: border-box;\n",
       "  padding-bottom: 0.4em;\n",
       "  background-color: var(--sklearn-color-background);\n",
       "}\n",
       "\n",
       "#sk-container-id-1 div.sk-container {\n",
       "  /* jupyter's `normalize.less` sets `[hidden] { display: none; }`\n",
       "     but bootstrap.min.css set `[hidden] { display: none !important; }`\n",
       "     so we also need the `!important` here to be able to override the\n",
       "     default hidden behavior on the sphinx rendered scikit-learn.org.\n",
       "     See: https://github.com/scikit-learn/scikit-learn/issues/21755 */\n",
       "  display: inline-block !important;\n",
       "  position: relative;\n",
       "}\n",
       "\n",
       "#sk-container-id-1 div.sk-text-repr-fallback {\n",
       "  display: none;\n",
       "}\n",
       "\n",
       "div.sk-parallel-item,\n",
       "div.sk-serial,\n",
       "div.sk-item {\n",
       "  /* draw centered vertical line to link estimators */\n",
       "  background-image: linear-gradient(var(--sklearn-color-text-on-default-background), var(--sklearn-color-text-on-default-background));\n",
       "  background-size: 2px 100%;\n",
       "  background-repeat: no-repeat;\n",
       "  background-position: center center;\n",
       "}\n",
       "\n",
       "/* Parallel-specific style estimator block */\n",
       "\n",
       "#sk-container-id-1 div.sk-parallel-item::after {\n",
       "  content: \"\";\n",
       "  width: 100%;\n",
       "  border-bottom: 2px solid var(--sklearn-color-text-on-default-background);\n",
       "  flex-grow: 1;\n",
       "}\n",
       "\n",
       "#sk-container-id-1 div.sk-parallel {\n",
       "  display: flex;\n",
       "  align-items: stretch;\n",
       "  justify-content: center;\n",
       "  background-color: var(--sklearn-color-background);\n",
       "  position: relative;\n",
       "}\n",
       "\n",
       "#sk-container-id-1 div.sk-parallel-item {\n",
       "  display: flex;\n",
       "  flex-direction: column;\n",
       "}\n",
       "\n",
       "#sk-container-id-1 div.sk-parallel-item:first-child::after {\n",
       "  align-self: flex-end;\n",
       "  width: 50%;\n",
       "}\n",
       "\n",
       "#sk-container-id-1 div.sk-parallel-item:last-child::after {\n",
       "  align-self: flex-start;\n",
       "  width: 50%;\n",
       "}\n",
       "\n",
       "#sk-container-id-1 div.sk-parallel-item:only-child::after {\n",
       "  width: 0;\n",
       "}\n",
       "\n",
       "/* Serial-specific style estimator block */\n",
       "\n",
       "#sk-container-id-1 div.sk-serial {\n",
       "  display: flex;\n",
       "  flex-direction: column;\n",
       "  align-items: center;\n",
       "  background-color: var(--sklearn-color-background);\n",
       "  padding-right: 1em;\n",
       "  padding-left: 1em;\n",
       "}\n",
       "\n",
       "\n",
       "/* Toggleable style: style used for estimator/Pipeline/ColumnTransformer box that is\n",
       "clickable and can be expanded/collapsed.\n",
       "- Pipeline and ColumnTransformer use this feature and define the default style\n",
       "- Estimators will overwrite some part of the style using the `sk-estimator` class\n",
       "*/\n",
       "\n",
       "/* Pipeline and ColumnTransformer style (default) */\n",
       "\n",
       "#sk-container-id-1 div.sk-toggleable {\n",
       "  /* Default theme specific background. It is overwritten whether we have a\n",
       "  specific estimator or a Pipeline/ColumnTransformer */\n",
       "  background-color: var(--sklearn-color-background);\n",
       "}\n",
       "\n",
       "/* Toggleable label */\n",
       "#sk-container-id-1 label.sk-toggleable__label {\n",
       "  cursor: pointer;\n",
       "  display: block;\n",
       "  width: 100%;\n",
       "  margin-bottom: 0;\n",
       "  padding: 0.5em;\n",
       "  box-sizing: border-box;\n",
       "  text-align: center;\n",
       "}\n",
       "\n",
       "#sk-container-id-1 label.sk-toggleable__label-arrow:before {\n",
       "  /* Arrow on the left of the label */\n",
       "  content: \"▸\";\n",
       "  float: left;\n",
       "  margin-right: 0.25em;\n",
       "  color: var(--sklearn-color-icon);\n",
       "}\n",
       "\n",
       "#sk-container-id-1 label.sk-toggleable__label-arrow:hover:before {\n",
       "  color: var(--sklearn-color-text);\n",
       "}\n",
       "\n",
       "/* Toggleable content - dropdown */\n",
       "\n",
       "#sk-container-id-1 div.sk-toggleable__content {\n",
       "  max-height: 0;\n",
       "  max-width: 0;\n",
       "  overflow: hidden;\n",
       "  text-align: left;\n",
       "  /* unfitted */\n",
       "  background-color: var(--sklearn-color-unfitted-level-0);\n",
       "}\n",
       "\n",
       "#sk-container-id-1 div.sk-toggleable__content.fitted {\n",
       "  /* fitted */\n",
       "  background-color: var(--sklearn-color-fitted-level-0);\n",
       "}\n",
       "\n",
       "#sk-container-id-1 div.sk-toggleable__content pre {\n",
       "  margin: 0.2em;\n",
       "  border-radius: 0.25em;\n",
       "  color: var(--sklearn-color-text);\n",
       "  /* unfitted */\n",
       "  background-color: var(--sklearn-color-unfitted-level-0);\n",
       "}\n",
       "\n",
       "#sk-container-id-1 div.sk-toggleable__content.fitted pre {\n",
       "  /* unfitted */\n",
       "  background-color: var(--sklearn-color-fitted-level-0);\n",
       "}\n",
       "\n",
       "#sk-container-id-1 input.sk-toggleable__control:checked~div.sk-toggleable__content {\n",
       "  /* Expand drop-down */\n",
       "  max-height: 200px;\n",
       "  max-width: 100%;\n",
       "  overflow: auto;\n",
       "}\n",
       "\n",
       "#sk-container-id-1 input.sk-toggleable__control:checked~label.sk-toggleable__label-arrow:before {\n",
       "  content: \"▾\";\n",
       "}\n",
       "\n",
       "/* Pipeline/ColumnTransformer-specific style */\n",
       "\n",
       "#sk-container-id-1 div.sk-label input.sk-toggleable__control:checked~label.sk-toggleable__label {\n",
       "  color: var(--sklearn-color-text);\n",
       "  background-color: var(--sklearn-color-unfitted-level-2);\n",
       "}\n",
       "\n",
       "#sk-container-id-1 div.sk-label.fitted input.sk-toggleable__control:checked~label.sk-toggleable__label {\n",
       "  background-color: var(--sklearn-color-fitted-level-2);\n",
       "}\n",
       "\n",
       "/* Estimator-specific style */\n",
       "\n",
       "/* Colorize estimator box */\n",
       "#sk-container-id-1 div.sk-estimator input.sk-toggleable__control:checked~label.sk-toggleable__label {\n",
       "  /* unfitted */\n",
       "  background-color: var(--sklearn-color-unfitted-level-2);\n",
       "}\n",
       "\n",
       "#sk-container-id-1 div.sk-estimator.fitted input.sk-toggleable__control:checked~label.sk-toggleable__label {\n",
       "  /* fitted */\n",
       "  background-color: var(--sklearn-color-fitted-level-2);\n",
       "}\n",
       "\n",
       "#sk-container-id-1 div.sk-label label.sk-toggleable__label,\n",
       "#sk-container-id-1 div.sk-label label {\n",
       "  /* The background is the default theme color */\n",
       "  color: var(--sklearn-color-text-on-default-background);\n",
       "}\n",
       "\n",
       "/* On hover, darken the color of the background */\n",
       "#sk-container-id-1 div.sk-label:hover label.sk-toggleable__label {\n",
       "  color: var(--sklearn-color-text);\n",
       "  background-color: var(--sklearn-color-unfitted-level-2);\n",
       "}\n",
       "\n",
       "/* Label box, darken color on hover, fitted */\n",
       "#sk-container-id-1 div.sk-label.fitted:hover label.sk-toggleable__label.fitted {\n",
       "  color: var(--sklearn-color-text);\n",
       "  background-color: var(--sklearn-color-fitted-level-2);\n",
       "}\n",
       "\n",
       "/* Estimator label */\n",
       "\n",
       "#sk-container-id-1 div.sk-label label {\n",
       "  font-family: monospace;\n",
       "  font-weight: bold;\n",
       "  display: inline-block;\n",
       "  line-height: 1.2em;\n",
       "}\n",
       "\n",
       "#sk-container-id-1 div.sk-label-container {\n",
       "  text-align: center;\n",
       "}\n",
       "\n",
       "/* Estimator-specific */\n",
       "#sk-container-id-1 div.sk-estimator {\n",
       "  font-family: monospace;\n",
       "  border: 1px dotted var(--sklearn-color-border-box);\n",
       "  border-radius: 0.25em;\n",
       "  box-sizing: border-box;\n",
       "  margin-bottom: 0.5em;\n",
       "  /* unfitted */\n",
       "  background-color: var(--sklearn-color-unfitted-level-0);\n",
       "}\n",
       "\n",
       "#sk-container-id-1 div.sk-estimator.fitted {\n",
       "  /* fitted */\n",
       "  background-color: var(--sklearn-color-fitted-level-0);\n",
       "}\n",
       "\n",
       "/* on hover */\n",
       "#sk-container-id-1 div.sk-estimator:hover {\n",
       "  /* unfitted */\n",
       "  background-color: var(--sklearn-color-unfitted-level-2);\n",
       "}\n",
       "\n",
       "#sk-container-id-1 div.sk-estimator.fitted:hover {\n",
       "  /* fitted */\n",
       "  background-color: var(--sklearn-color-fitted-level-2);\n",
       "}\n",
       "\n",
       "/* Specification for estimator info (e.g. \"i\" and \"?\") */\n",
       "\n",
       "/* Common style for \"i\" and \"?\" */\n",
       "\n",
       ".sk-estimator-doc-link,\n",
       "a:link.sk-estimator-doc-link,\n",
       "a:visited.sk-estimator-doc-link {\n",
       "  float: right;\n",
       "  font-size: smaller;\n",
       "  line-height: 1em;\n",
       "  font-family: monospace;\n",
       "  background-color: var(--sklearn-color-background);\n",
       "  border-radius: 1em;\n",
       "  height: 1em;\n",
       "  width: 1em;\n",
       "  text-decoration: none !important;\n",
       "  margin-left: 1ex;\n",
       "  /* unfitted */\n",
       "  border: var(--sklearn-color-unfitted-level-1) 1pt solid;\n",
       "  color: var(--sklearn-color-unfitted-level-1);\n",
       "}\n",
       "\n",
       ".sk-estimator-doc-link.fitted,\n",
       "a:link.sk-estimator-doc-link.fitted,\n",
       "a:visited.sk-estimator-doc-link.fitted {\n",
       "  /* fitted */\n",
       "  border: var(--sklearn-color-fitted-level-1) 1pt solid;\n",
       "  color: var(--sklearn-color-fitted-level-1);\n",
       "}\n",
       "\n",
       "/* On hover */\n",
       "div.sk-estimator:hover .sk-estimator-doc-link:hover,\n",
       ".sk-estimator-doc-link:hover,\n",
       "div.sk-label-container:hover .sk-estimator-doc-link:hover,\n",
       ".sk-estimator-doc-link:hover {\n",
       "  /* unfitted */\n",
       "  background-color: var(--sklearn-color-unfitted-level-3);\n",
       "  color: var(--sklearn-color-background);\n",
       "  text-decoration: none;\n",
       "}\n",
       "\n",
       "div.sk-estimator.fitted:hover .sk-estimator-doc-link.fitted:hover,\n",
       ".sk-estimator-doc-link.fitted:hover,\n",
       "div.sk-label-container:hover .sk-estimator-doc-link.fitted:hover,\n",
       ".sk-estimator-doc-link.fitted:hover {\n",
       "  /* fitted */\n",
       "  background-color: var(--sklearn-color-fitted-level-3);\n",
       "  color: var(--sklearn-color-background);\n",
       "  text-decoration: none;\n",
       "}\n",
       "\n",
       "/* Span, style for the box shown on hovering the info icon */\n",
       ".sk-estimator-doc-link span {\n",
       "  display: none;\n",
       "  z-index: 9999;\n",
       "  position: relative;\n",
       "  font-weight: normal;\n",
       "  right: .2ex;\n",
       "  padding: .5ex;\n",
       "  margin: .5ex;\n",
       "  width: min-content;\n",
       "  min-width: 20ex;\n",
       "  max-width: 50ex;\n",
       "  color: var(--sklearn-color-text);\n",
       "  box-shadow: 2pt 2pt 4pt #999;\n",
       "  /* unfitted */\n",
       "  background: var(--sklearn-color-unfitted-level-0);\n",
       "  border: .5pt solid var(--sklearn-color-unfitted-level-3);\n",
       "}\n",
       "\n",
       ".sk-estimator-doc-link.fitted span {\n",
       "  /* fitted */\n",
       "  background: var(--sklearn-color-fitted-level-0);\n",
       "  border: var(--sklearn-color-fitted-level-3);\n",
       "}\n",
       "\n",
       ".sk-estimator-doc-link:hover span {\n",
       "  display: block;\n",
       "}\n",
       "\n",
       "/* \"?\"-specific style due to the `<a>` HTML tag */\n",
       "\n",
       "#sk-container-id-1 a.estimator_doc_link {\n",
       "  float: right;\n",
       "  font-size: 1rem;\n",
       "  line-height: 1em;\n",
       "  font-family: monospace;\n",
       "  background-color: var(--sklearn-color-background);\n",
       "  border-radius: 1rem;\n",
       "  height: 1rem;\n",
       "  width: 1rem;\n",
       "  text-decoration: none;\n",
       "  /* unfitted */\n",
       "  color: var(--sklearn-color-unfitted-level-1);\n",
       "  border: var(--sklearn-color-unfitted-level-1) 1pt solid;\n",
       "}\n",
       "\n",
       "#sk-container-id-1 a.estimator_doc_link.fitted {\n",
       "  /* fitted */\n",
       "  border: var(--sklearn-color-fitted-level-1) 1pt solid;\n",
       "  color: var(--sklearn-color-fitted-level-1);\n",
       "}\n",
       "\n",
       "/* On hover */\n",
       "#sk-container-id-1 a.estimator_doc_link:hover {\n",
       "  /* unfitted */\n",
       "  background-color: var(--sklearn-color-unfitted-level-3);\n",
       "  color: var(--sklearn-color-background);\n",
       "  text-decoration: none;\n",
       "}\n",
       "\n",
       "#sk-container-id-1 a.estimator_doc_link.fitted:hover {\n",
       "  /* fitted */\n",
       "  background-color: var(--sklearn-color-fitted-level-3);\n",
       "}\n",
       "</style><div id=\"sk-container-id-1\" class=\"sk-top-container\"><div class=\"sk-text-repr-fallback\"><pre>RandomizedSearchCV(cv=3,\n",
       "                   estimator=KerasClassifier(callbacks=[&lt;keras.src.callbacks.early_stopping.EarlyStopping object at 0x7e81521c94e0&gt;], dropout_rate=0.3, max_feat=6644, model=&lt;function generar_rn at 0x7e80cfedbac0&gt;, n_hidden=1, neurons_decay=0.5),\n",
       "                   n_iter=5,\n",
       "                   param_distributions={&#x27;dropout_rate&#x27;: [0.3, 0.5],\n",
       "                                        &#x27;n_hidden&#x27;: [1, 2, 3],\n",
       "                                        &#x27;neurons_decay&#x27;: [0.25, 0.5]})</pre><b>In a Jupyter environment, please rerun this cell to show the HTML representation or trust the notebook. <br />On GitHub, the HTML representation is unable to render, please try loading this page with nbviewer.org.</b></div><div class=\"sk-container\" hidden><div class=\"sk-item sk-dashed-wrapped\"><div class=\"sk-label-container\"><div class=\"sk-label fitted sk-toggleable\"><input class=\"sk-toggleable__control sk-hidden--visually\" id=\"sk-estimator-id-1\" type=\"checkbox\" ><label for=\"sk-estimator-id-1\" class=\"sk-toggleable__label fitted sk-toggleable__label-arrow fitted\">&nbsp;&nbsp;RandomizedSearchCV<a class=\"sk-estimator-doc-link fitted\" rel=\"noreferrer\" target=\"_blank\" href=\"https://scikit-learn.org/1.5/modules/generated/sklearn.model_selection.RandomizedSearchCV.html\">?<span>Documentation for RandomizedSearchCV</span></a><span class=\"sk-estimator-doc-link fitted\">i<span>Fitted</span></span></label><div class=\"sk-toggleable__content fitted\"><pre>RandomizedSearchCV(cv=3,\n",
       "                   estimator=KerasClassifier(callbacks=[&lt;keras.src.callbacks.early_stopping.EarlyStopping object at 0x7e81521c94e0&gt;], dropout_rate=0.3, max_feat=6644, model=&lt;function generar_rn at 0x7e80cfedbac0&gt;, n_hidden=1, neurons_decay=0.5),\n",
       "                   n_iter=5,\n",
       "                   param_distributions={&#x27;dropout_rate&#x27;: [0.3, 0.5],\n",
       "                                        &#x27;n_hidden&#x27;: [1, 2, 3],\n",
       "                                        &#x27;neurons_decay&#x27;: [0.25, 0.5]})</pre></div> </div></div><div class=\"sk-parallel\"><div class=\"sk-parallel-item\"><div class=\"sk-item\"><div class=\"sk-label-container\"><div class=\"sk-label fitted sk-toggleable\"><input class=\"sk-toggleable__control sk-hidden--visually\" id=\"sk-estimator-id-2\" type=\"checkbox\" ><label for=\"sk-estimator-id-2\" class=\"sk-toggleable__label fitted sk-toggleable__label-arrow fitted\">best_estimator_: KerasClassifier</label><div class=\"sk-toggleable__content fitted\"><pre>KerasClassifier(\n",
       "\tmodel=&lt;function generar_rn at 0x7e80cfedbac0&gt;\n",
       "\tbuild_fn=None\n",
       "\twarm_start=False\n",
       "\trandom_state=None\n",
       "\toptimizer=rmsprop\n",
       "\tloss=None\n",
       "\tmetrics=None\n",
       "\tbatch_size=None\n",
       "\tvalidation_batch_size=None\n",
       "\tverbose=1\n",
       "\tcallbacks=[&lt;keras.src.callbacks.early_stopping.EarlyStopping object at 0x7e81521b16f0&gt;]\n",
       "\tvalidation_split=0.0\n",
       "\tshuffle=True\n",
       "\trun_eagerly=False\n",
       "\tepochs=1\n",
       "\tmax_feat=6644\n",
       "\tn_hidden=3\n",
       "\tneurons_decay=0.25\n",
       "\tdropout_rate=0.5\n",
       "\tclass_weight=None\n",
       ")</pre></div> </div></div><div class=\"sk-serial\"><div class=\"sk-item\"><div class=\"sk-estimator fitted sk-toggleable\"><input class=\"sk-toggleable__control sk-hidden--visually\" id=\"sk-estimator-id-3\" type=\"checkbox\" ><label for=\"sk-estimator-id-3\" class=\"sk-toggleable__label fitted sk-toggleable__label-arrow fitted\">KerasClassifier</label><div class=\"sk-toggleable__content fitted\"><pre>KerasClassifier(\n",
       "\tmodel=&lt;function generar_rn at 0x7e80cfedbac0&gt;\n",
       "\tbuild_fn=None\n",
       "\twarm_start=False\n",
       "\trandom_state=None\n",
       "\toptimizer=rmsprop\n",
       "\tloss=None\n",
       "\tmetrics=None\n",
       "\tbatch_size=None\n",
       "\tvalidation_batch_size=None\n",
       "\tverbose=1\n",
       "\tcallbacks=[&lt;keras.src.callbacks.early_stopping.EarlyStopping object at 0x7e81521b16f0&gt;]\n",
       "\tvalidation_split=0.0\n",
       "\tshuffle=True\n",
       "\trun_eagerly=False\n",
       "\tepochs=1\n",
       "\tmax_feat=6644\n",
       "\tn_hidden=3\n",
       "\tneurons_decay=0.25\n",
       "\tdropout_rate=0.5\n",
       "\tclass_weight=None\n",
       ")</pre></div> </div></div></div></div></div></div></div></div></div>"
      ],
      "text/plain": [
       "RandomizedSearchCV(cv=3,\n",
       "                   estimator=KerasClassifier(callbacks=[<keras.src.callbacks.early_stopping.EarlyStopping object at 0x7e81521c94e0>], dropout_rate=0.3, max_feat=6644, model=<function generar_rn at 0x7e80cfedbac0>, n_hidden=1, neurons_decay=0.5),\n",
       "                   n_iter=5,\n",
       "                   param_distributions={'dropout_rate': [0.3, 0.5],\n",
       "                                        'n_hidden': [1, 2, 3],\n",
       "                                        'neurons_decay': [0.25, 0.5]})"
      ]
     },
     "execution_count": 20,
     "metadata": {},
     "output_type": "execute_result"
    }
   ],
   "source": [
    "rnd_search_cv.fit(X_train_kv.numpy(), y_train,\n",
    "                epochs=50,\n",
    "                validation_data=(X_val_kv.numpy(), y_val),\n",
    "                callbacks=[early_stopping])"
   ]
  },
  {
   "cell_type": "code",
   "execution_count": 21,
   "id": "uL5Wn-IsJCkR",
   "metadata": {
    "colab": {
     "base_uri": "https://localhost:8080/"
    },
    "execution": {
     "iopub.execute_input": "2024-08-10T04:43:37.141920Z",
     "iopub.status.busy": "2024-08-10T04:43:37.141920Z",
     "iopub.status.idle": "2024-08-10T04:43:37.149868Z",
     "shell.execute_reply": "2024-08-10T04:43:37.149868Z",
     "shell.execute_reply.started": "2024-08-10T04:43:37.141920Z"
    },
    "executionInfo": {
     "elapsed": 299,
     "status": "ok",
     "timestamp": 1723269066914,
     "user": {
      "displayName": "Damian Fernandez",
      "userId": "16135875833693471232"
     },
     "user_tz": 180
    },
    "id": "uL5Wn-IsJCkR",
    "outputId": "089456d4-9cf6-4837-ce59-4d3d3d83bc98"
   },
   "outputs": [
    {
     "data": {
      "text/plain": [
       "{'neurons_decay': 0.25, 'n_hidden': 3, 'dropout_rate': 0.5}"
      ]
     },
     "execution_count": 21,
     "metadata": {},
     "output_type": "execute_result"
    }
   ],
   "source": [
    "rnd_search_cv.best_params_"
   ]
  },
  {
   "cell_type": "code",
   "execution_count": 26,
   "id": "0s76caGzJB-2",
   "metadata": {
    "colab": {
     "base_uri": "https://localhost:8080/"
    },
    "execution": {
     "iopub.execute_input": "2024-08-10T04:40:25.318244Z",
     "iopub.status.busy": "2024-08-10T04:40:25.318244Z",
     "iopub.status.idle": "2024-08-10T04:40:25.327240Z",
     "shell.execute_reply": "2024-08-10T04:40:25.326230Z",
     "shell.execute_reply.started": "2024-08-10T04:40:25.318244Z"
    },
    "executionInfo": {
     "elapsed": 356,
     "status": "ok",
     "timestamp": 1723269278195,
     "user": {
      "displayName": "Damian Fernandez",
      "userId": "16135875833693471232"
     },
     "user_tz": 180
    },
    "id": "0s76caGzJB-2",
    "outputId": "0abfce5f-a7a0-4201-88a9-c9fc5b6f59c2"
   },
   "outputs": [
    {
     "data": {
      "text/plain": [
       "0.829633040430784"
      ]
     },
     "execution_count": 26,
     "metadata": {},
     "output_type": "execute_result"
    }
   ],
   "source": [
    "rnd_search_cv.best_score_"
   ]
  },
  {
   "cell_type": "markdown",
   "id": "Qh_WN5jF4FQi",
   "metadata": {
    "id": "Qh_WN5jF4FQi"
   },
   "source": [
    "### Generación de red neuronal con parámetros optimizados"
   ]
  },
  {
   "cell_type": "code",
   "execution_count": 101,
   "id": "2791c399-59af-4378-9091-f01624fb01bd",
   "metadata": {
    "execution": {
     "iopub.execute_input": "2024-08-10T19:27:24.989173Z",
     "iopub.status.busy": "2024-08-10T19:27:24.989173Z",
     "iopub.status.idle": "2024-08-10T19:27:24.993054Z",
     "shell.execute_reply": "2024-08-10T19:27:24.993054Z",
     "shell.execute_reply.started": "2024-08-10T19:27:24.989173Z"
    }
   },
   "outputs": [],
   "source": [
    "n_hidden = 3\n",
    "neurons_decay = 0.25\n",
    "dropout_rate = 0.5"
   ]
  },
  {
   "cell_type": "code",
   "execution_count": 102,
   "id": "a3c9fb3c-a1e5-456e-ac27-92184548d8d6",
   "metadata": {
    "execution": {
     "iopub.execute_input": "2024-08-10T19:27:25.453004Z",
     "iopub.status.busy": "2024-08-10T19:27:25.452007Z",
     "iopub.status.idle": "2024-08-10T19:27:26.199902Z",
     "shell.execute_reply": "2024-08-10T19:27:26.199902Z",
     "shell.execute_reply.started": "2024-08-10T19:27:25.453004Z"
    }
   },
   "outputs": [],
   "source": [
    "keras_vectorizer = TextVectorization(standardize=None, ngrams=None, max_tokens=10000, output_mode='tf-idf', encoding='utf-8')\n",
    "keras_vectorizer.adapt(X_train)\n",
    "max_feat = keras_vectorizer.vocabulary_size()"
   ]
  },
  {
   "cell_type": "code",
   "execution_count": 103,
   "id": "6af6a4f7-6b29-4583-9bc2-106b33727e35",
   "metadata": {
    "execution": {
     "iopub.execute_input": "2024-08-10T19:27:28.394019Z",
     "iopub.status.busy": "2024-08-10T19:27:28.392514Z",
     "iopub.status.idle": "2024-08-10T19:27:28.397042Z",
     "shell.execute_reply": "2024-08-10T19:27:28.397042Z",
     "shell.execute_reply.started": "2024-08-10T19:27:28.392514Z"
    }
   },
   "outputs": [],
   "source": [
    "n_neurons = [int(max_feat*(neurons_decay**i)) for i in range(n_hidden)]"
   ]
  },
  {
   "cell_type": "code",
   "execution_count": 221,
   "id": "211013f3-c5ed-4f30-9d21-4ff0723cc18d",
   "metadata": {
    "execution": {
     "iopub.execute_input": "2024-08-10T21:31:52.867647Z",
     "iopub.status.busy": "2024-08-10T21:31:52.867647Z",
     "iopub.status.idle": "2024-08-10T21:31:52.884787Z",
     "shell.execute_reply": "2024-08-10T21:31:52.884787Z",
     "shell.execute_reply.started": "2024-08-10T21:31:52.867647Z"
    }
   },
   "outputs": [],
   "source": [
    "new_model = tf.keras.models.Sequential()\n",
    "new_model.add(keras_vectorizer) # Capa de vectorización\n",
    "for capa in range(n_hidden):\n",
    "    new_model.add(tf.keras.layers.Dense(n_neurons[capa], activation='relu', kernel_regularizer=tf.keras.regularizers.l2(0.01))) # Capas ocultas\n",
    "    if dropout_rate > 0: new_model.add(tf.keras.layers.Dropout(dropout_rate))\n",
    "new_model.add(tf.keras.layers.Dense(1, activation='sigmoid')) #Capa de salida"
   ]
  },
  {
   "cell_type": "code",
   "execution_count": 105,
   "id": "39bda5ab-7bef-4a02-820f-3a958ee153aa",
   "metadata": {
    "execution": {
     "iopub.execute_input": "2024-08-10T19:27:39.384010Z",
     "iopub.status.busy": "2024-08-10T19:27:39.383009Z",
     "iopub.status.idle": "2024-08-10T19:27:39.404558Z",
     "shell.execute_reply": "2024-08-10T19:27:39.404052Z",
     "shell.execute_reply.started": "2024-08-10T19:27:39.384010Z"
    }
   },
   "outputs": [],
   "source": [
    "new_model.compile(\n",
    "            loss='binary_crossentropy',\n",
    "            optimizer='rmsprop',\n",
    "            metrics=['accuracy', tf.keras.metrics.F1Score(), tf.keras.metrics.AUC()]\n",
    "            )"
   ]
  },
  {
   "cell_type": "code",
   "execution_count": 106,
   "id": "JCwyBN3o4CK3",
   "metadata": {
    "colab": {
     "base_uri": "https://localhost:8080/",
     "height": 374
    },
    "execution": {
     "iopub.execute_input": "2024-08-10T19:27:40.621564Z",
     "iopub.status.busy": "2024-08-10T19:27:40.620556Z",
     "iopub.status.idle": "2024-08-10T19:27:40.636865Z",
     "shell.execute_reply": "2024-08-10T19:27:40.636263Z",
     "shell.execute_reply.started": "2024-08-10T19:27:40.621564Z"
    },
    "executionInfo": {
     "elapsed": 318,
     "status": "ok",
     "timestamp": 1723269853185,
     "user": {
      "displayName": "Damian Fernandez",
      "userId": "16135875833693471232"
     },
     "user_tz": 180
    },
    "id": "JCwyBN3o4CK3",
    "outputId": "a18387cf-0d7c-4b93-ed62-b1a06c601788"
   },
   "outputs": [
    {
     "data": {
      "text/html": [
       "<pre style=\"white-space:pre;overflow-x:auto;line-height:normal;font-family:Menlo,'DejaVu Sans Mono',consolas,'Courier New',monospace\"><span style=\"font-weight: bold\">Model: \"sequential\"</span>\n",
       "</pre>\n"
      ],
      "text/plain": [
       "\u001b[1mModel: \"sequential\"\u001b[0m\n"
      ]
     },
     "metadata": {},
     "output_type": "display_data"
    },
    {
     "data": {
      "text/html": [
       "<pre style=\"white-space:pre;overflow-x:auto;line-height:normal;font-family:Menlo,'DejaVu Sans Mono',consolas,'Courier New',monospace\">┏━━━━━━━━━━━━━━━━━━━━━━━━━━━━━━━━━━━━━━┳━━━━━━━━━━━━━━━━━━━━━━━━━━━━━┳━━━━━━━━━━━━━━━━━┓\n",
       "┃<span style=\"font-weight: bold\"> Layer (type)                         </span>┃<span style=\"font-weight: bold\"> Output Shape                </span>┃<span style=\"font-weight: bold\">         Param # </span>┃\n",
       "┡━━━━━━━━━━━━━━━━━━━━━━━━━━━━━━━━━━━━━━╇━━━━━━━━━━━━━━━━━━━━━━━━━━━━━╇━━━━━━━━━━━━━━━━━┩\n",
       "│ text_vectorization_1                 │ ?                           │     <span style=\"color: #00af00; text-decoration-color: #00af00\">0</span> (unbuilt) │\n",
       "│ (<span style=\"color: #0087ff; text-decoration-color: #0087ff\">TextVectorization</span>)                  │                             │                 │\n",
       "├──────────────────────────────────────┼─────────────────────────────┼─────────────────┤\n",
       "│ dense (<span style=\"color: #0087ff; text-decoration-color: #0087ff\">Dense</span>)                        │ ?                           │     <span style=\"color: #00af00; text-decoration-color: #00af00\">0</span> (unbuilt) │\n",
       "├──────────────────────────────────────┼─────────────────────────────┼─────────────────┤\n",
       "│ dropout (<span style=\"color: #0087ff; text-decoration-color: #0087ff\">Dropout</span>)                    │ ?                           │     <span style=\"color: #00af00; text-decoration-color: #00af00\">0</span> (unbuilt) │\n",
       "├──────────────────────────────────────┼─────────────────────────────┼─────────────────┤\n",
       "│ dense_1 (<span style=\"color: #0087ff; text-decoration-color: #0087ff\">Dense</span>)                      │ ?                           │     <span style=\"color: #00af00; text-decoration-color: #00af00\">0</span> (unbuilt) │\n",
       "├──────────────────────────────────────┼─────────────────────────────┼─────────────────┤\n",
       "│ dropout_1 (<span style=\"color: #0087ff; text-decoration-color: #0087ff\">Dropout</span>)                  │ ?                           │     <span style=\"color: #00af00; text-decoration-color: #00af00\">0</span> (unbuilt) │\n",
       "├──────────────────────────────────────┼─────────────────────────────┼─────────────────┤\n",
       "│ dense_2 (<span style=\"color: #0087ff; text-decoration-color: #0087ff\">Dense</span>)                      │ ?                           │     <span style=\"color: #00af00; text-decoration-color: #00af00\">0</span> (unbuilt) │\n",
       "├──────────────────────────────────────┼─────────────────────────────┼─────────────────┤\n",
       "│ dropout_2 (<span style=\"color: #0087ff; text-decoration-color: #0087ff\">Dropout</span>)                  │ ?                           │     <span style=\"color: #00af00; text-decoration-color: #00af00\">0</span> (unbuilt) │\n",
       "├──────────────────────────────────────┼─────────────────────────────┼─────────────────┤\n",
       "│ dense_3 (<span style=\"color: #0087ff; text-decoration-color: #0087ff\">Dense</span>)                      │ ?                           │     <span style=\"color: #00af00; text-decoration-color: #00af00\">0</span> (unbuilt) │\n",
       "└──────────────────────────────────────┴─────────────────────────────┴─────────────────┘\n",
       "</pre>\n"
      ],
      "text/plain": [
       "┏━━━━━━━━━━━━━━━━━━━━━━━━━━━━━━━━━━━━━━┳━━━━━━━━━━━━━━━━━━━━━━━━━━━━━┳━━━━━━━━━━━━━━━━━┓\n",
       "┃\u001b[1m \u001b[0m\u001b[1mLayer (type)                        \u001b[0m\u001b[1m \u001b[0m┃\u001b[1m \u001b[0m\u001b[1mOutput Shape               \u001b[0m\u001b[1m \u001b[0m┃\u001b[1m \u001b[0m\u001b[1m        Param #\u001b[0m\u001b[1m \u001b[0m┃\n",
       "┡━━━━━━━━━━━━━━━━━━━━━━━━━━━━━━━━━━━━━━╇━━━━━━━━━━━━━━━━━━━━━━━━━━━━━╇━━━━━━━━━━━━━━━━━┩\n",
       "│ text_vectorization_1                 │ ?                           │     \u001b[38;5;34m0\u001b[0m (unbuilt) │\n",
       "│ (\u001b[38;5;33mTextVectorization\u001b[0m)                  │                             │                 │\n",
       "├──────────────────────────────────────┼─────────────────────────────┼─────────────────┤\n",
       "│ dense (\u001b[38;5;33mDense\u001b[0m)                        │ ?                           │     \u001b[38;5;34m0\u001b[0m (unbuilt) │\n",
       "├──────────────────────────────────────┼─────────────────────────────┼─────────────────┤\n",
       "│ dropout (\u001b[38;5;33mDropout\u001b[0m)                    │ ?                           │     \u001b[38;5;34m0\u001b[0m (unbuilt) │\n",
       "├──────────────────────────────────────┼─────────────────────────────┼─────────────────┤\n",
       "│ dense_1 (\u001b[38;5;33mDense\u001b[0m)                      │ ?                           │     \u001b[38;5;34m0\u001b[0m (unbuilt) │\n",
       "├──────────────────────────────────────┼─────────────────────────────┼─────────────────┤\n",
       "│ dropout_1 (\u001b[38;5;33mDropout\u001b[0m)                  │ ?                           │     \u001b[38;5;34m0\u001b[0m (unbuilt) │\n",
       "├──────────────────────────────────────┼─────────────────────────────┼─────────────────┤\n",
       "│ dense_2 (\u001b[38;5;33mDense\u001b[0m)                      │ ?                           │     \u001b[38;5;34m0\u001b[0m (unbuilt) │\n",
       "├──────────────────────────────────────┼─────────────────────────────┼─────────────────┤\n",
       "│ dropout_2 (\u001b[38;5;33mDropout\u001b[0m)                  │ ?                           │     \u001b[38;5;34m0\u001b[0m (unbuilt) │\n",
       "├──────────────────────────────────────┼─────────────────────────────┼─────────────────┤\n",
       "│ dense_3 (\u001b[38;5;33mDense\u001b[0m)                      │ ?                           │     \u001b[38;5;34m0\u001b[0m (unbuilt) │\n",
       "└──────────────────────────────────────┴─────────────────────────────┴─────────────────┘\n"
      ]
     },
     "metadata": {},
     "output_type": "display_data"
    },
    {
     "data": {
      "text/html": [
       "<pre style=\"white-space:pre;overflow-x:auto;line-height:normal;font-family:Menlo,'DejaVu Sans Mono',consolas,'Courier New',monospace\"><span style=\"font-weight: bold\"> Total params: </span><span style=\"color: #00af00; text-decoration-color: #00af00\">0</span> (0.00 B)\n",
       "</pre>\n"
      ],
      "text/plain": [
       "\u001b[1m Total params: \u001b[0m\u001b[38;5;34m0\u001b[0m (0.00 B)\n"
      ]
     },
     "metadata": {},
     "output_type": "display_data"
    },
    {
     "data": {
      "text/html": [
       "<pre style=\"white-space:pre;overflow-x:auto;line-height:normal;font-family:Menlo,'DejaVu Sans Mono',consolas,'Courier New',monospace\"><span style=\"font-weight: bold\"> Trainable params: </span><span style=\"color: #00af00; text-decoration-color: #00af00\">0</span> (0.00 B)\n",
       "</pre>\n"
      ],
      "text/plain": [
       "\u001b[1m Trainable params: \u001b[0m\u001b[38;5;34m0\u001b[0m (0.00 B)\n"
      ]
     },
     "metadata": {},
     "output_type": "display_data"
    },
    {
     "data": {
      "text/html": [
       "<pre style=\"white-space:pre;overflow-x:auto;line-height:normal;font-family:Menlo,'DejaVu Sans Mono',consolas,'Courier New',monospace\"><span style=\"font-weight: bold\"> Non-trainable params: </span><span style=\"color: #00af00; text-decoration-color: #00af00\">0</span> (0.00 B)\n",
       "</pre>\n"
      ],
      "text/plain": [
       "\u001b[1m Non-trainable params: \u001b[0m\u001b[38;5;34m0\u001b[0m (0.00 B)\n"
      ]
     },
     "metadata": {},
     "output_type": "display_data"
    }
   ],
   "source": [
    "new_model.summary()"
   ]
  },
  {
   "cell_type": "code",
   "execution_count": 107,
   "id": "mNlOhdeB46K-",
   "metadata": {
    "colab": {
     "base_uri": "https://localhost:8080/"
    },
    "execution": {
     "iopub.execute_input": "2024-08-10T19:27:48.188712Z",
     "iopub.status.busy": "2024-08-10T19:27:48.187713Z",
     "iopub.status.idle": "2024-08-10T19:39:11.747623Z",
     "shell.execute_reply": "2024-08-10T19:39:11.747116Z",
     "shell.execute_reply.started": "2024-08-10T19:27:48.188712Z"
    },
    "executionInfo": {
     "elapsed": 38304,
     "status": "ok",
     "timestamp": 1723269969875,
     "user": {
      "displayName": "Damian Fernandez",
      "userId": "16135875833693471232"
     },
     "user_tz": 180
    },
    "id": "mNlOhdeB46K-",
    "outputId": "a48d6767-447a-4019-e564-949c5a1c7396"
   },
   "outputs": [
    {
     "name": "stdout",
     "output_type": "stream",
     "text": [
      "Epoch 1/50\n",
      "\u001b[1m48/48\u001b[0m \u001b[32m━━━━━━━━━━━━━━━━━━━━\u001b[0m\u001b[37m\u001b[0m \u001b[1m30s\u001b[0m 568ms/step - accuracy: 0.5636 - auc: 0.5591 - f1_score: 0.7155 - loss: 47.8355 - val_accuracy: 0.7306 - val_auc: 0.7879 - val_f1_score: 0.7022 - val_loss: 2.4700\n",
      "Epoch 2/50\n",
      "\u001b[1m48/48\u001b[0m \u001b[32m━━━━━━━━━━━━━━━━━━━━\u001b[0m\u001b[37m\u001b[0m \u001b[1m27s\u001b[0m 565ms/step - accuracy: 0.8565 - auc: 0.9119 - f1_score: 0.7037 - loss: 1.5754 - val_accuracy: 0.8196 - val_auc: 0.8651 - val_f1_score: 0.7022 - val_loss: 0.9837\n",
      "Epoch 3/50\n",
      "\u001b[1m48/48\u001b[0m \u001b[32m━━━━━━━━━━━━━━━━━━━━\u001b[0m\u001b[37m\u001b[0m \u001b[1m28s\u001b[0m 577ms/step - accuracy: 0.9483 - auc: 0.9876 - f1_score: 0.7171 - loss: 0.6099 - val_accuracy: 0.8105 - val_auc: 0.8775 - val_f1_score: 0.7022 - val_loss: 0.8004\n",
      "Epoch 4/50\n",
      "\u001b[1m48/48\u001b[0m \u001b[32m━━━━━━━━━━━━━━━━━━━━\u001b[0m\u001b[37m\u001b[0m \u001b[1m27s\u001b[0m 564ms/step - accuracy: 0.9563 - auc: 0.9882 - f1_score: 0.7221 - loss: 0.4542 - val_accuracy: 0.8196 - val_auc: 0.8818 - val_f1_score: 0.7022 - val_loss: 0.7647\n",
      "Epoch 5/50\n",
      "\u001b[1m48/48\u001b[0m \u001b[32m━━━━━━━━━━━━━━━━━━━━\u001b[0m\u001b[37m\u001b[0m \u001b[1m27s\u001b[0m 570ms/step - accuracy: 0.9623 - auc: 0.9898 - f1_score: 0.7121 - loss: 0.4103 - val_accuracy: 0.7877 - val_auc: 0.8797 - val_f1_score: 0.7022 - val_loss: 0.7980\n",
      "Epoch 6/50\n",
      "\u001b[1m48/48\u001b[0m \u001b[32m━━━━━━━━━━━━━━━━━━━━\u001b[0m\u001b[37m\u001b[0m \u001b[1m27s\u001b[0m 563ms/step - accuracy: 0.9717 - auc: 0.9943 - f1_score: 0.7214 - loss: 0.3367 - val_accuracy: 0.8402 - val_auc: 0.8823 - val_f1_score: 0.7022 - val_loss: 0.6876\n",
      "Epoch 7/50\n",
      "\u001b[1m48/48\u001b[0m \u001b[32m━━━━━━━━━━━━━━━━━━━━\u001b[0m\u001b[37m\u001b[0m \u001b[1m27s\u001b[0m 560ms/step - accuracy: 0.9696 - auc: 0.9934 - f1_score: 0.7192 - loss: 0.2954 - val_accuracy: 0.8311 - val_auc: 0.8837 - val_f1_score: 0.7022 - val_loss: 0.6943\n",
      "Epoch 8/50\n",
      "\u001b[1m48/48\u001b[0m \u001b[32m━━━━━━━━━━━━━━━━━━━━\u001b[0m\u001b[37m\u001b[0m \u001b[1m27s\u001b[0m 571ms/step - accuracy: 0.9717 - auc: 0.9887 - f1_score: 0.7158 - loss: 0.3105 - val_accuracy: 0.8333 - val_auc: 0.8924 - val_f1_score: 0.7022 - val_loss: 0.6337\n",
      "Epoch 9/50\n",
      "\u001b[1m48/48\u001b[0m \u001b[32m━━━━━━━━━━━━━━━━━━━━\u001b[0m\u001b[37m\u001b[0m \u001b[1m28s\u001b[0m 581ms/step - accuracy: 0.9709 - auc: 0.9920 - f1_score: 0.7253 - loss: 0.2776 - val_accuracy: 0.7945 - val_auc: 0.8879 - val_f1_score: 0.7022 - val_loss: 0.6790\n",
      "Epoch 10/50\n",
      "\u001b[1m48/48\u001b[0m \u001b[32m━━━━━━━━━━━━━━━━━━━━\u001b[0m\u001b[37m\u001b[0m \u001b[1m28s\u001b[0m 579ms/step - accuracy: 0.9678 - auc: 0.9929 - f1_score: 0.7190 - loss: 0.2534 - val_accuracy: 0.8128 - val_auc: 0.8907 - val_f1_score: 0.7022 - val_loss: 0.6764\n",
      "Epoch 11/50\n",
      "\u001b[1m48/48\u001b[0m \u001b[32m━━━━━━━━━━━━━━━━━━━━\u001b[0m\u001b[37m\u001b[0m \u001b[1m27s\u001b[0m 563ms/step - accuracy: 0.9753 - auc: 0.9922 - f1_score: 0.7307 - loss: 0.2378 - val_accuracy: 0.8174 - val_auc: 0.8899 - val_f1_score: 0.7022 - val_loss: 0.6203\n",
      "Epoch 12/50\n",
      "\u001b[1m48/48\u001b[0m \u001b[32m━━━━━━━━━━━━━━━━━━━━\u001b[0m\u001b[37m\u001b[0m \u001b[1m27s\u001b[0m 560ms/step - accuracy: 0.9659 - auc: 0.9919 - f1_score: 0.7256 - loss: 0.2414 - val_accuracy: 0.8219 - val_auc: 0.8750 - val_f1_score: 0.7022 - val_loss: 0.6623\n",
      "Epoch 13/50\n",
      "\u001b[1m48/48\u001b[0m \u001b[32m━━━━━━━━━━━━━━━━━━━━\u001b[0m\u001b[37m\u001b[0m \u001b[1m27s\u001b[0m 560ms/step - accuracy: 0.9805 - auc: 0.9948 - f1_score: 0.7248 - loss: 0.2094 - val_accuracy: 0.8356 - val_auc: 0.8950 - val_f1_score: 0.7022 - val_loss: 0.6013\n",
      "Epoch 14/50\n",
      "\u001b[1m48/48\u001b[0m \u001b[32m━━━━━━━━━━━━━━━━━━━━\u001b[0m\u001b[37m\u001b[0m \u001b[1m27s\u001b[0m 564ms/step - accuracy: 0.9719 - auc: 0.9936 - f1_score: 0.7136 - loss: 0.2188 - val_accuracy: 0.8402 - val_auc: 0.8909 - val_f1_score: 0.7022 - val_loss: 0.5916\n",
      "Epoch 15/50\n",
      "\u001b[1m48/48\u001b[0m \u001b[32m━━━━━━━━━━━━━━━━━━━━\u001b[0m\u001b[37m\u001b[0m \u001b[1m27s\u001b[0m 562ms/step - accuracy: 0.9790 - auc: 0.9965 - f1_score: 0.7199 - loss: 0.1941 - val_accuracy: 0.8333 - val_auc: 0.8902 - val_f1_score: 0.7022 - val_loss: 0.6105\n",
      "Epoch 16/50\n",
      "\u001b[1m48/48\u001b[0m \u001b[32m━━━━━━━━━━━━━━━━━━━━\u001b[0m\u001b[37m\u001b[0m \u001b[1m28s\u001b[0m 580ms/step - accuracy: 0.9687 - auc: 0.9934 - f1_score: 0.6991 - loss: 0.2072 - val_accuracy: 0.8014 - val_auc: 0.8800 - val_f1_score: 0.7022 - val_loss: 0.6061\n",
      "Epoch 17/50\n",
      "\u001b[1m48/48\u001b[0m \u001b[32m━━━━━━━━━━━━━━━━━━━━\u001b[0m\u001b[37m\u001b[0m \u001b[1m27s\u001b[0m 561ms/step - accuracy: 0.9733 - auc: 0.9945 - f1_score: 0.7071 - loss: 0.1972 - val_accuracy: 0.8402 - val_auc: 0.9000 - val_f1_score: 0.7022 - val_loss: 0.5641\n",
      "Epoch 18/50\n",
      "\u001b[1m48/48\u001b[0m \u001b[32m━━━━━━━━━━━━━━━━━━━━\u001b[0m\u001b[37m\u001b[0m \u001b[1m27s\u001b[0m 560ms/step - accuracy: 0.9828 - auc: 0.9966 - f1_score: 0.7287 - loss: 0.1757 - val_accuracy: 0.8219 - val_auc: 0.8998 - val_f1_score: 0.7022 - val_loss: 0.5900\n",
      "Epoch 19/50\n",
      "\u001b[1m48/48\u001b[0m \u001b[32m━━━━━━━━━━━━━━━━━━━━\u001b[0m\u001b[37m\u001b[0m \u001b[1m27s\u001b[0m 556ms/step - accuracy: 0.9790 - auc: 0.9955 - f1_score: 0.7079 - loss: 0.1774 - val_accuracy: 0.8333 - val_auc: 0.8864 - val_f1_score: 0.7022 - val_loss: 0.5984\n",
      "Epoch 20/50\n",
      "\u001b[1m48/48\u001b[0m \u001b[32m━━━━━━━━━━━━━━━━━━━━\u001b[0m\u001b[37m\u001b[0m \u001b[1m27s\u001b[0m 558ms/step - accuracy: 0.9717 - auc: 0.9937 - f1_score: 0.7357 - loss: 0.1912 - val_accuracy: 0.8333 - val_auc: 0.9004 - val_f1_score: 0.7022 - val_loss: 0.5315\n",
      "Epoch 21/50\n",
      "\u001b[1m48/48\u001b[0m \u001b[32m━━━━━━━━━━━━━━━━━━━━\u001b[0m\u001b[37m\u001b[0m \u001b[1m27s\u001b[0m 560ms/step - accuracy: 0.9822 - auc: 0.9966 - f1_score: 0.7274 - loss: 0.1670 - val_accuracy: 0.8379 - val_auc: 0.9018 - val_f1_score: 0.7022 - val_loss: 0.5658\n",
      "Epoch 22/50\n",
      "\u001b[1m48/48\u001b[0m \u001b[32m━━━━━━━━━━━━━━━━━━━━\u001b[0m\u001b[37m\u001b[0m \u001b[1m27s\u001b[0m 567ms/step - accuracy: 0.9757 - auc: 0.9959 - f1_score: 0.7119 - loss: 0.1762 - val_accuracy: 0.8242 - val_auc: 0.8961 - val_f1_score: 0.7022 - val_loss: 0.5564\n",
      "Epoch 23/50\n",
      "\u001b[1m48/48\u001b[0m \u001b[32m━━━━━━━━━━━━━━━━━━━━\u001b[0m\u001b[37m\u001b[0m \u001b[1m28s\u001b[0m 575ms/step - accuracy: 0.9763 - auc: 0.9955 - f1_score: 0.7316 - loss: 0.1744 - val_accuracy: 0.8288 - val_auc: 0.8937 - val_f1_score: 0.7022 - val_loss: 0.5619\n",
      "Epoch 24/50\n",
      "\u001b[1m48/48\u001b[0m \u001b[32m━━━━━━━━━━━━━━━━━━━━\u001b[0m\u001b[37m\u001b[0m \u001b[1m28s\u001b[0m 579ms/step - accuracy: 0.9859 - auc: 0.9972 - f1_score: 0.7191 - loss: 0.1509 - val_accuracy: 0.8219 - val_auc: 0.8846 - val_f1_score: 0.7022 - val_loss: 0.6077\n",
      "Epoch 25/50\n",
      "\u001b[1m48/48\u001b[0m \u001b[32m━━━━━━━━━━━━━━━━━━━━\u001b[0m\u001b[37m\u001b[0m \u001b[1m28s\u001b[0m 573ms/step - accuracy: 0.9802 - auc: 0.9957 - f1_score: 0.7217 - loss: 0.1710 - val_accuracy: 0.8470 - val_auc: 0.8991 - val_f1_score: 0.7022 - val_loss: 0.5828\n"
     ]
    }
   ],
   "source": [
    "early_stopping = tf.keras.callbacks.EarlyStopping(patience=5, restore_best_weights=True)\n",
    "#checkpoint = tf.keras.callbacks.ModelCheckpoint(\"new_model_bal_randomsearch.keras\", save_best_only=True)\n",
    "history = new_model.fit(X_train, y_train, epochs=50, validation_data=(X_val, y_val), callbacks=[early_stopping])"
   ]
  },
  {
   "cell_type": "code",
   "execution_count": 109,
   "id": "a0399ad2-c99d-44ac-a72f-c418307fa9dd",
   "metadata": {
    "colab": {
     "base_uri": "https://localhost:8080/",
     "height": 374
    },
    "execution": {
     "iopub.execute_input": "2024-08-10T20:53:13.805082Z",
     "iopub.status.busy": "2024-08-10T20:53:13.805082Z",
     "iopub.status.idle": "2024-08-10T20:53:13.830539Z",
     "shell.execute_reply": "2024-08-10T20:53:13.830539Z",
     "shell.execute_reply.started": "2024-08-10T20:53:13.805082Z"
    },
    "executionInfo": {
     "elapsed": 318,
     "status": "ok",
     "timestamp": 1723269853185,
     "user": {
      "displayName": "Damian Fernandez",
      "userId": "16135875833693471232"
     },
     "user_tz": 180
    },
    "id": "JCwyBN3o4CK3",
    "outputId": "a18387cf-0d7c-4b93-ed62-b1a06c601788"
   },
   "outputs": [
    {
     "data": {
      "text/html": [
       "<pre style=\"white-space:pre;overflow-x:auto;line-height:normal;font-family:Menlo,'DejaVu Sans Mono',consolas,'Courier New',monospace\"><span style=\"font-weight: bold\">Model: \"sequential\"</span>\n",
       "</pre>\n"
      ],
      "text/plain": [
       "\u001b[1mModel: \"sequential\"\u001b[0m\n"
      ]
     },
     "metadata": {},
     "output_type": "display_data"
    },
    {
     "data": {
      "text/html": [
       "<pre style=\"white-space:pre;overflow-x:auto;line-height:normal;font-family:Menlo,'DejaVu Sans Mono',consolas,'Courier New',monospace\">┏━━━━━━━━━━━━━━━━━━━━━━━━━━━━━━━━━━━━━━┳━━━━━━━━━━━━━━━━━━━━━━━━━━━━━┳━━━━━━━━━━━━━━━━━┓\n",
       "┃<span style=\"font-weight: bold\"> Layer (type)                         </span>┃<span style=\"font-weight: bold\"> Output Shape                </span>┃<span style=\"font-weight: bold\">         Param # </span>┃\n",
       "┡━━━━━━━━━━━━━━━━━━━━━━━━━━━━━━━━━━━━━━╇━━━━━━━━━━━━━━━━━━━━━━━━━━━━━╇━━━━━━━━━━━━━━━━━┩\n",
       "│ text_vectorization_1                 │ (<span style=\"color: #00d7ff; text-decoration-color: #00d7ff\">None</span>, <span style=\"color: #00af00; text-decoration-color: #00af00\">6644</span>)                │               <span style=\"color: #00af00; text-decoration-color: #00af00\">0</span> │\n",
       "│ (<span style=\"color: #0087ff; text-decoration-color: #0087ff\">TextVectorization</span>)                  │                             │                 │\n",
       "├──────────────────────────────────────┼─────────────────────────────┼─────────────────┤\n",
       "│ dense (<span style=\"color: #0087ff; text-decoration-color: #0087ff\">Dense</span>)                        │ (<span style=\"color: #00d7ff; text-decoration-color: #00d7ff\">None</span>, <span style=\"color: #00af00; text-decoration-color: #00af00\">6644</span>)                │      <span style=\"color: #00af00; text-decoration-color: #00af00\">44,149,380</span> │\n",
       "├──────────────────────────────────────┼─────────────────────────────┼─────────────────┤\n",
       "│ dropout (<span style=\"color: #0087ff; text-decoration-color: #0087ff\">Dropout</span>)                    │ (<span style=\"color: #00d7ff; text-decoration-color: #00d7ff\">None</span>, <span style=\"color: #00af00; text-decoration-color: #00af00\">6644</span>)                │               <span style=\"color: #00af00; text-decoration-color: #00af00\">0</span> │\n",
       "├──────────────────────────────────────┼─────────────────────────────┼─────────────────┤\n",
       "│ dense_1 (<span style=\"color: #0087ff; text-decoration-color: #0087ff\">Dense</span>)                      │ (<span style=\"color: #00d7ff; text-decoration-color: #00d7ff\">None</span>, <span style=\"color: #00af00; text-decoration-color: #00af00\">1661</span>)                │      <span style=\"color: #00af00; text-decoration-color: #00af00\">11,037,345</span> │\n",
       "├──────────────────────────────────────┼─────────────────────────────┼─────────────────┤\n",
       "│ dropout_1 (<span style=\"color: #0087ff; text-decoration-color: #0087ff\">Dropout</span>)                  │ (<span style=\"color: #00d7ff; text-decoration-color: #00d7ff\">None</span>, <span style=\"color: #00af00; text-decoration-color: #00af00\">1661</span>)                │               <span style=\"color: #00af00; text-decoration-color: #00af00\">0</span> │\n",
       "├──────────────────────────────────────┼─────────────────────────────┼─────────────────┤\n",
       "│ dense_2 (<span style=\"color: #0087ff; text-decoration-color: #0087ff\">Dense</span>)                      │ (<span style=\"color: #00d7ff; text-decoration-color: #00d7ff\">None</span>, <span style=\"color: #00af00; text-decoration-color: #00af00\">415</span>)                 │         <span style=\"color: #00af00; text-decoration-color: #00af00\">689,730</span> │\n",
       "├──────────────────────────────────────┼─────────────────────────────┼─────────────────┤\n",
       "│ dropout_2 (<span style=\"color: #0087ff; text-decoration-color: #0087ff\">Dropout</span>)                  │ (<span style=\"color: #00d7ff; text-decoration-color: #00d7ff\">None</span>, <span style=\"color: #00af00; text-decoration-color: #00af00\">415</span>)                 │               <span style=\"color: #00af00; text-decoration-color: #00af00\">0</span> │\n",
       "├──────────────────────────────────────┼─────────────────────────────┼─────────────────┤\n",
       "│ dense_3 (<span style=\"color: #0087ff; text-decoration-color: #0087ff\">Dense</span>)                      │ (<span style=\"color: #00d7ff; text-decoration-color: #00d7ff\">None</span>, <span style=\"color: #00af00; text-decoration-color: #00af00\">1</span>)                   │             <span style=\"color: #00af00; text-decoration-color: #00af00\">416</span> │\n",
       "└──────────────────────────────────────┴─────────────────────────────┴─────────────────┘\n",
       "</pre>\n"
      ],
      "text/plain": [
       "┏━━━━━━━━━━━━━━━━━━━━━━━━━━━━━━━━━━━━━━┳━━━━━━━━━━━━━━━━━━━━━━━━━━━━━┳━━━━━━━━━━━━━━━━━┓\n",
       "┃\u001b[1m \u001b[0m\u001b[1mLayer (type)                        \u001b[0m\u001b[1m \u001b[0m┃\u001b[1m \u001b[0m\u001b[1mOutput Shape               \u001b[0m\u001b[1m \u001b[0m┃\u001b[1m \u001b[0m\u001b[1m        Param #\u001b[0m\u001b[1m \u001b[0m┃\n",
       "┡━━━━━━━━━━━━━━━━━━━━━━━━━━━━━━━━━━━━━━╇━━━━━━━━━━━━━━━━━━━━━━━━━━━━━╇━━━━━━━━━━━━━━━━━┩\n",
       "│ text_vectorization_1                 │ (\u001b[38;5;45mNone\u001b[0m, \u001b[38;5;34m6644\u001b[0m)                │               \u001b[38;5;34m0\u001b[0m │\n",
       "│ (\u001b[38;5;33mTextVectorization\u001b[0m)                  │                             │                 │\n",
       "├──────────────────────────────────────┼─────────────────────────────┼─────────────────┤\n",
       "│ dense (\u001b[38;5;33mDense\u001b[0m)                        │ (\u001b[38;5;45mNone\u001b[0m, \u001b[38;5;34m6644\u001b[0m)                │      \u001b[38;5;34m44,149,380\u001b[0m │\n",
       "├──────────────────────────────────────┼─────────────────────────────┼─────────────────┤\n",
       "│ dropout (\u001b[38;5;33mDropout\u001b[0m)                    │ (\u001b[38;5;45mNone\u001b[0m, \u001b[38;5;34m6644\u001b[0m)                │               \u001b[38;5;34m0\u001b[0m │\n",
       "├──────────────────────────────────────┼─────────────────────────────┼─────────────────┤\n",
       "│ dense_1 (\u001b[38;5;33mDense\u001b[0m)                      │ (\u001b[38;5;45mNone\u001b[0m, \u001b[38;5;34m1661\u001b[0m)                │      \u001b[38;5;34m11,037,345\u001b[0m │\n",
       "├──────────────────────────────────────┼─────────────────────────────┼─────────────────┤\n",
       "│ dropout_1 (\u001b[38;5;33mDropout\u001b[0m)                  │ (\u001b[38;5;45mNone\u001b[0m, \u001b[38;5;34m1661\u001b[0m)                │               \u001b[38;5;34m0\u001b[0m │\n",
       "├──────────────────────────────────────┼─────────────────────────────┼─────────────────┤\n",
       "│ dense_2 (\u001b[38;5;33mDense\u001b[0m)                      │ (\u001b[38;5;45mNone\u001b[0m, \u001b[38;5;34m415\u001b[0m)                 │         \u001b[38;5;34m689,730\u001b[0m │\n",
       "├──────────────────────────────────────┼─────────────────────────────┼─────────────────┤\n",
       "│ dropout_2 (\u001b[38;5;33mDropout\u001b[0m)                  │ (\u001b[38;5;45mNone\u001b[0m, \u001b[38;5;34m415\u001b[0m)                 │               \u001b[38;5;34m0\u001b[0m │\n",
       "├──────────────────────────────────────┼─────────────────────────────┼─────────────────┤\n",
       "│ dense_3 (\u001b[38;5;33mDense\u001b[0m)                      │ (\u001b[38;5;45mNone\u001b[0m, \u001b[38;5;34m1\u001b[0m)                   │             \u001b[38;5;34m416\u001b[0m │\n",
       "└──────────────────────────────────────┴─────────────────────────────┴─────────────────┘\n"
      ]
     },
     "metadata": {},
     "output_type": "display_data"
    },
    {
     "data": {
      "text/html": [
       "<pre style=\"white-space:pre;overflow-x:auto;line-height:normal;font-family:Menlo,'DejaVu Sans Mono',consolas,'Courier New',monospace\"><span style=\"font-weight: bold\"> Total params: </span><span style=\"color: #00af00; text-decoration-color: #00af00\">111,753,744</span> (426.31 MB)\n",
       "</pre>\n"
      ],
      "text/plain": [
       "\u001b[1m Total params: \u001b[0m\u001b[38;5;34m111,753,744\u001b[0m (426.31 MB)\n"
      ]
     },
     "metadata": {},
     "output_type": "display_data"
    },
    {
     "data": {
      "text/html": [
       "<pre style=\"white-space:pre;overflow-x:auto;line-height:normal;font-family:Menlo,'DejaVu Sans Mono',consolas,'Courier New',monospace\"><span style=\"font-weight: bold\"> Trainable params: </span><span style=\"color: #00af00; text-decoration-color: #00af00\">55,876,871</span> (213.15 MB)\n",
       "</pre>\n"
      ],
      "text/plain": [
       "\u001b[1m Trainable params: \u001b[0m\u001b[38;5;34m55,876,871\u001b[0m (213.15 MB)\n"
      ]
     },
     "metadata": {},
     "output_type": "display_data"
    },
    {
     "data": {
      "text/html": [
       "<pre style=\"white-space:pre;overflow-x:auto;line-height:normal;font-family:Menlo,'DejaVu Sans Mono',consolas,'Courier New',monospace\"><span style=\"font-weight: bold\"> Non-trainable params: </span><span style=\"color: #00af00; text-decoration-color: #00af00\">0</span> (0.00 B)\n",
       "</pre>\n"
      ],
      "text/plain": [
       "\u001b[1m Non-trainable params: \u001b[0m\u001b[38;5;34m0\u001b[0m (0.00 B)\n"
      ]
     },
     "metadata": {},
     "output_type": "display_data"
    },
    {
     "data": {
      "text/html": [
       "<pre style=\"white-space:pre;overflow-x:auto;line-height:normal;font-family:Menlo,'DejaVu Sans Mono',consolas,'Courier New',monospace\"><span style=\"font-weight: bold\"> Optimizer params: </span><span style=\"color: #00af00; text-decoration-color: #00af00\">55,876,873</span> (213.15 MB)\n",
       "</pre>\n"
      ],
      "text/plain": [
       "\u001b[1m Optimizer params: \u001b[0m\u001b[38;5;34m55,876,873\u001b[0m (213.15 MB)\n"
      ]
     },
     "metadata": {},
     "output_type": "display_data"
    }
   ],
   "source": [
    "new_model.summary()"
   ]
  },
  {
   "cell_type": "code",
   "execution_count": 110,
   "id": "OdgEqzZs46D1",
   "metadata": {
    "colab": {
     "base_uri": "https://localhost:8080/",
     "height": 468
    },
    "execution": {
     "iopub.execute_input": "2024-08-10T20:53:15.353779Z",
     "iopub.status.busy": "2024-08-10T20:53:15.353779Z",
     "iopub.status.idle": "2024-08-10T20:53:15.588729Z",
     "shell.execute_reply": "2024-08-10T20:53:15.588729Z",
     "shell.execute_reply.started": "2024-08-10T20:53:15.353779Z"
    },
    "executionInfo": {
     "elapsed": 989,
     "status": "ok",
     "timestamp": 1723270075549,
     "user": {
      "displayName": "Damian Fernandez",
      "userId": "16135875833693471232"
     },
     "user_tz": 180
    },
    "id": "OdgEqzZs46D1",
    "outputId": "39669a23-fc52-40e8-c33c-c991e35254fa"
   },
   "outputs": [
    {
     "data": {
      "text/plain": [
       "(0.0, 1.0)"
      ]
     },
     "execution_count": 110,
     "metadata": {},
     "output_type": "execute_result"
    },
    {
     "data": {
      "image/png": "[encoded data removed]",
      "text/plain": [
       "<Figure size 800x500 with 1 Axes>"
      ]
     },
     "metadata": {},
     "output_type": "display_data"
    }
   ],
   "source": [
    "pd.DataFrame(history.history).plot(figsize=(8, 5))\n",
    "plt.grid(True)\n",
    "plt.gca().set_ylim(0, 1)"
   ]
  },
  {
   "cell_type": "markdown",
   "id": "ee81acac-ed78-438b-b32f-1bfa2fb25f6e",
   "metadata": {
    "execution": {
     "iopub.execute_input": "2024-08-10T18:26:06.220169Z",
     "iopub.status.busy": "2024-08-10T18:26:06.220169Z",
     "iopub.status.idle": "2024-08-10T18:26:06.229191Z",
     "shell.execute_reply": "2024-08-10T18:26:06.229191Z",
     "shell.execute_reply.started": "2024-08-10T18:26:06.220169Z"
    }
   },
   "source": [
    "### Evaluación"
   ]
  },
  {
   "cell_type": "markdown",
   "id": "58c7b9cf-54b8-41ed-ad8c-7aba5b5801c5",
   "metadata": {},
   "source": [
    "#### Scores"
   ]
  },
  {
   "cell_type": "code",
   "execution_count": 201,
   "id": "QZPjcRkG459I",
   "metadata": {
    "colab": {
     "base_uri": "https://localhost:8080/"
    },
    "execution": {
     "iopub.execute_input": "2024-08-10T21:09:33.934533Z",
     "iopub.status.busy": "2024-08-10T21:09:33.934533Z",
     "iopub.status.idle": "2024-08-10T21:09:34.493256Z",
     "shell.execute_reply": "2024-08-10T21:09:34.493256Z",
     "shell.execute_reply.started": "2024-08-10T21:09:33.934533Z"
    },
    "executionInfo": {
     "elapsed": 320,
     "status": "ok",
     "timestamp": 1723271967562,
     "user": {
      "displayName": "Damian Fernandez",
      "userId": "16135875833693471232"
     },
     "user_tz": 180
    },
    "id": "QZPjcRkG459I",
    "outputId": "f9c47766-b542-418d-96e3-55ad83af62be"
   },
   "outputs": [
    {
     "name": "stdout",
     "output_type": "stream",
     "text": [
      "\u001b[1m21/21\u001b[0m \u001b[32m━━━━━━━━━━━━━━━━━━━━\u001b[0m\u001b[37m\u001b[0m \u001b[1m1s\u001b[0m 23ms/step\n"
     ]
    },
    {
     "data": {
      "text/html": [
       "<div>\n",
       "<style scoped>\n",
       "    .dataframe tbody tr th:only-of-type {\n",
       "        vertical-align: middle;\n",
       "    }\n",
       "\n",
       "    .dataframe tbody tr th {\n",
       "        vertical-align: top;\n",
       "    }\n",
       "\n",
       "    .dataframe thead th {\n",
       "        text-align: right;\n",
       "    }\n",
       "</style>\n",
       "<table border=\"1\" class=\"dataframe\">\n",
       "  <thead>\n",
       "    <tr style=\"text-align: right;\">\n",
       "      <th></th>\n",
       "      <th>score</th>\n",
       "    </tr>\n",
       "  </thead>\n",
       "  <tbody>\n",
       "    <tr>\n",
       "      <th>accuracy</th>\n",
       "      <td>0.848</td>\n",
       "    </tr>\n",
       "    <tr>\n",
       "      <th>precision</th>\n",
       "      <td>0.839</td>\n",
       "    </tr>\n",
       "    <tr>\n",
       "      <th>recall</th>\n",
       "      <td>0.891</td>\n",
       "    </tr>\n",
       "    <tr>\n",
       "      <th>specificity</th>\n",
       "      <td>0.796</td>\n",
       "    </tr>\n",
       "    <tr>\n",
       "      <th>f1</th>\n",
       "      <td>0.864</td>\n",
       "    </tr>\n",
       "  </tbody>\n",
       "</table>\n",
       "</div>"
      ],
      "text/plain": [
       "             score\n",
       "accuracy     0.848\n",
       "precision    0.839\n",
       "recall       0.891\n",
       "specificity  0.796\n",
       "f1           0.864"
      ]
     },
     "execution_count": 201,
     "metadata": {},
     "output_type": "execute_result"
    }
   ],
   "source": [
    "nombre = 'Red neuronal'\n",
    "y_test_hat_proba = new_model.predict(X_test)\n",
    "y_test_hat = (y_test_hat_proba > 0.5).astype(\"int32\")\n",
    "\n",
    "scores = scores_from_true_hat(nombre, y_test, y_test_hat)\n",
    "df_summary_scores = pd.concat([df_summary_scores, scores], axis=1)\n",
    "scores[0:5].to_frame(name='score')"
   ]
  },
  {
   "cell_type": "markdown",
   "id": "b4b8eb2c-172c-4d89-a054-d4c70ce36b3b",
   "metadata": {
    "execution": {
     "iopub.execute_input": "2022-09-09T21:30:33.838387Z",
     "iopub.status.busy": "2022-09-09T21:30:33.838387Z",
     "iopub.status.idle": "2022-09-09T21:30:33.854052Z",
     "shell.execute_reply": "2022-09-09T21:30:33.854052Z",
     "shell.execute_reply.started": "2022-09-09T21:30:33.838387Z"
    }
   },
   "source": [
    "#### Matriz de confusión"
   ]
  },
  {
   "cell_type": "code",
   "execution_count": 202,
   "id": "AXZH4EBL_3_y",
   "metadata": {
    "colab": {
     "base_uri": "https://localhost:8080/",
     "height": 487
    },
    "execution": {
     "iopub.execute_input": "2024-08-10T21:09:34.915410Z",
     "iopub.status.busy": "2024-08-10T21:09:34.915410Z",
     "iopub.status.idle": "2024-08-10T21:09:35.047801Z",
     "shell.execute_reply": "2024-08-10T21:09:35.047801Z",
     "shell.execute_reply.started": "2024-08-10T21:09:34.915410Z"
    },
    "executionInfo": {
     "elapsed": 372,
     "status": "ok",
     "timestamp": 1723271980475,
     "user": {
      "displayName": "Damian Fernandez",
      "userId": "16135875833693471232"
     },
     "user_tz": 180
    },
    "id": "AXZH4EBL_3_y",
    "outputId": "97f8a1ce-a8f7-48b4-c171-8e9c8386313e",
    "scrolled": true
   },
   "outputs": [
    {
     "data": {
      "image/png": "[encoded data removed]",
      "text/plain": [
       "<Figure size 640x480 with 2 Axes>"
      ]
     },
     "metadata": {},
     "output_type": "display_data"
    }
   ],
   "source": [
    "plot_matrix('Red neuronal', y_test, y_test_hat)"
   ]
  },
  {
   "cell_type": "markdown",
   "id": "5b22dc1d-6698-4545-a5b2-553949d519e4",
   "metadata": {},
   "source": [
    "#### Gráfico de curva ROC y cálculo de área bajo la curva"
   ]
  },
  {
   "cell_type": "code",
   "execution_count": 203,
   "id": "2dSonmawAc3Q",
   "metadata": {
    "colab": {
     "base_uri": "https://localhost:8080/",
     "height": 522
    },
    "execution": {
     "iopub.execute_input": "2024-08-10T21:09:36.439105Z",
     "iopub.status.busy": "2024-08-10T21:09:36.439105Z",
     "iopub.status.idle": "2024-08-10T21:09:36.558060Z",
     "shell.execute_reply": "2024-08-10T21:09:36.557530Z",
     "shell.execute_reply.started": "2024-08-10T21:09:36.439105Z"
    },
    "executionInfo": {
     "elapsed": 1058,
     "status": "ok",
     "timestamp": 1723272073928,
     "user": {
      "displayName": "Damian Fernandez",
      "userId": "16135875833693471232"
     },
     "user_tz": 180
    },
    "id": "2dSonmawAc3Q",
    "outputId": "9a5b2233-c4c7-4993-dafe-1a25a4da8b13"
   },
   "outputs": [
    {
     "data": {
      "image/png": "[encoded data removed]",
      "text/plain": [
       "<Figure size 640x480 with 1 Axes>"
      ]
     },
     "metadata": {},
     "output_type": "display_data"
    },
    {
     "name": "stdout",
     "output_type": "stream",
     "text": [
      "AUC: 0.91\n"
     ]
    }
   ],
   "source": [
    "auc_metric = plot_roc_auc_from_proba('Red neuronal', y_test, y_test_hat_proba)\n",
    "df_summary_scores.loc['AUC', nombre] = auc_metric"
   ]
  },
  {
   "cell_type": "markdown",
   "id": "a8fdf39b-2b62-4948-a076-4acd041c613e",
   "metadata": {
    "execution": {
     "iopub.execute_input": "2022-09-08T15:28:21.913689Z",
     "iopub.status.busy": "2022-09-08T15:28:21.912249Z",
     "iopub.status.idle": "2022-09-08T15:28:21.932705Z",
     "shell.execute_reply": "2022-09-08T15:28:21.931704Z",
     "shell.execute_reply.started": "2022-09-08T15:28:21.913689Z"
    }
   },
   "source": [
    "# Resultados"
   ]
  },
  {
   "cell_type": "code",
   "execution_count": 205,
   "id": "7bd54937-0fa7-45db-bd68-f9781e902b40",
   "metadata": {
    "execution": {
     "iopub.execute_input": "2024-08-10T21:09:47.411195Z",
     "iopub.status.busy": "2024-08-10T21:09:47.411195Z",
     "iopub.status.idle": "2024-08-10T21:09:47.426270Z",
     "shell.execute_reply": "2024-08-10T21:09:47.426270Z",
     "shell.execute_reply.started": "2024-08-10T21:09:47.411195Z"
    }
   },
   "outputs": [
    {
     "data": {
      "text/html": [
       "<div>\n",
       "<style scoped>\n",
       "    .dataframe tbody tr th:only-of-type {\n",
       "        vertical-align: middle;\n",
       "    }\n",
       "\n",
       "    .dataframe tbody tr th {\n",
       "        vertical-align: top;\n",
       "    }\n",
       "\n",
       "    .dataframe thead th {\n",
       "        text-align: right;\n",
       "    }\n",
       "</style>\n",
       "<table border=\"1\" class=\"dataframe\">\n",
       "  <thead>\n",
       "    <tr style=\"text-align: right;\">\n",
       "      <th></th>\n",
       "      <th>accuracy</th>\n",
       "      <th>precision</th>\n",
       "      <th>recall</th>\n",
       "      <th>specificity</th>\n",
       "      <th>f1</th>\n",
       "      <th>TN_N_ratio</th>\n",
       "      <th>FP_P_ratio</th>\n",
       "      <th>FN_N_ratio</th>\n",
       "      <th>TP_P_ratio</th>\n",
       "      <th>AUC</th>\n",
       "    </tr>\n",
       "  </thead>\n",
       "  <tbody>\n",
       "    <tr>\n",
       "      <th>Naive Bayes Gaussiano</th>\n",
       "      <td>0.674</td>\n",
       "      <td>0.709</td>\n",
       "      <td>0.682</td>\n",
       "      <td>0.666</td>\n",
       "      <td>0.695</td>\n",
       "      <td>0.67</td>\n",
       "      <td>0.28</td>\n",
       "      <td>0.38</td>\n",
       "      <td>0.68</td>\n",
       "      <td>0.674</td>\n",
       "    </tr>\n",
       "    <tr>\n",
       "      <th>Regresión Logística</th>\n",
       "      <td>0.801</td>\n",
       "      <td>0.745</td>\n",
       "      <td>0.964</td>\n",
       "      <td>0.605</td>\n",
       "      <td>0.840</td>\n",
       "      <td>0.61</td>\n",
       "      <td>0.33</td>\n",
       "      <td>0.04</td>\n",
       "      <td>0.96</td>\n",
       "      <td>0.930</td>\n",
       "    </tr>\n",
       "    <tr>\n",
       "      <th>Regresión Logística</th>\n",
       "      <td>0.865</td>\n",
       "      <td>0.846</td>\n",
       "      <td>0.919</td>\n",
       "      <td>0.799</td>\n",
       "      <td>0.881</td>\n",
       "      <td>0.80</td>\n",
       "      <td>0.17</td>\n",
       "      <td>0.10</td>\n",
       "      <td>0.92</td>\n",
       "      <td>0.930</td>\n",
       "    </tr>\n",
       "    <tr>\n",
       "      <th>Red neuronal</th>\n",
       "      <td>0.848</td>\n",
       "      <td>0.839</td>\n",
       "      <td>0.891</td>\n",
       "      <td>0.796</td>\n",
       "      <td>0.864</td>\n",
       "      <td>0.80</td>\n",
       "      <td>0.17</td>\n",
       "      <td>0.13</td>\n",
       "      <td>0.89</td>\n",
       "      <td>0.910</td>\n",
       "    </tr>\n",
       "  </tbody>\n",
       "</table>\n",
       "</div>"
      ],
      "text/plain": [
       "                       accuracy  precision  recall  specificity     f1  \\\n",
       "Naive Bayes Gaussiano     0.674      0.709   0.682        0.666  0.695   \n",
       "Regresión Logística       0.801      0.745   0.964        0.605  0.840   \n",
       "Regresión Logística       0.865      0.846   0.919        0.799  0.881   \n",
       "Red neuronal              0.848      0.839   0.891        0.796  0.864   \n",
       "\n",
       "                       TN_N_ratio  FP_P_ratio  FN_N_ratio  TP_P_ratio    AUC  \n",
       "Naive Bayes Gaussiano        0.67        0.28        0.38        0.68  0.674  \n",
       "Regresión Logística          0.61        0.33        0.04        0.96  0.930  \n",
       "Regresión Logística          0.80        0.17        0.10        0.92  0.930  \n",
       "Red neuronal                 0.80        0.17        0.13        0.89  0.910  "
      ]
     },
     "execution_count": 205,
     "metadata": {},
     "output_type": "execute_result"
    }
   ],
   "source": [
    "df_summary_scores.T"
   ]
  },
  {
   "cell_type": "code",
   "execution_count": 210,
   "id": "1598e935-e5c6-43c1-b294-0fd1dde59e1a",
   "metadata": {
    "execution": {
     "iopub.execute_input": "2024-08-10T21:11:31.081237Z",
     "iopub.status.busy": "2024-08-10T21:11:31.081237Z",
     "iopub.status.idle": "2024-08-10T21:11:31.289225Z",
     "shell.execute_reply": "2024-08-10T21:11:31.289225Z",
     "shell.execute_reply.started": "2024-08-10T21:11:31.081237Z"
    }
   },
   "outputs": [
    {
     "data": {
      "text/plain": [
       "Text(0.5, 1.0, 'Resumen de scores obtenidos \\n')"
      ]
     },
     "execution_count": 210,
     "metadata": {},
     "output_type": "execute_result"
    },
    {
     "data": {
      "image/png": "[encoded data removed]",
      "text/plain": [
       "<Figure size 640x480 with 2 Axes>"
      ]
     },
     "metadata": {},
     "output_type": "display_data"
    }
   ],
   "source": [
    "sns.heatmap(df_summary_scores.T[['accuracy', 'precision', 'recall', 'specificity', 'f1']], annot=True, cmap='RdBu')\n",
    "plt.yticks(fontsize=13)\n",
    "plt.xticks(rotation=90, fontsize=14)\n",
    "plt.title('Resumen de scores obtenidos \\n', fontsize=18)"
   ]
  },
  {
   "cell_type": "markdown",
   "id": "be273964-5da3-4f8c-bf80-5ee3090b1156",
   "metadata": {
    "id": "be273964-5da3-4f8c-bf80-5ee3090b1156"
   },
   "source": [
    "## Clase para implementación de predictor"
   ]
  },
  {
   "cell_type": "code",
   "execution_count": 211,
   "id": "Yfp1J9fZfkcL",
   "metadata": {
    "execution": {
     "iopub.execute_input": "2024-08-10T21:12:22.242663Z",
     "iopub.status.busy": "2024-08-10T21:12:22.242663Z",
     "iopub.status.idle": "2024-08-10T21:12:22.249569Z",
     "shell.execute_reply": "2024-08-10T21:12:22.249041Z",
     "shell.execute_reply.started": "2024-08-10T21:12:22.242663Z"
    },
    "id": "Yfp1J9fZfkcL"
   },
   "outputs": [],
   "source": [
    "#checkpoint_file = 'drive/MyDrive/Colab Notebooks/best_model_randomsearch.h5'\n",
    "#checkpoint_file = 'best_model_randomsearch.keras'\n",
    "#model_from_file = tf.keras.models.load_model(checkpoint_file)"
   ]
  },
  {
   "cell_type": "code",
   "execution_count": 212,
   "id": "b739045c-9a52-48ad-86a0-d214ca0cc5da",
   "metadata": {
    "execution": {
     "iopub.execute_input": "2024-08-10T21:12:39.456771Z",
     "iopub.status.busy": "2024-08-10T21:12:39.456771Z",
     "iopub.status.idle": "2024-08-10T21:12:39.469610Z",
     "shell.execute_reply": "2024-08-10T21:12:39.469610Z",
     "shell.execute_reply.started": "2024-08-10T21:12:39.456771Z"
    },
    "executionInfo": {
     "elapsed": 334,
     "status": "ok",
     "timestamp": 1723272565101,
     "user": {
      "displayName": "Damian Fernandez",
      "userId": "16135875833693471232"
     },
     "user_tz": 180
    },
    "id": "b739045c-9a52-48ad-86a0-d214ca0cc5da"
   },
   "outputs": [],
   "source": [
    "class AnalizadorDeSentimiento():\n",
    "    def __init__(self, model, vectorizer, verbose=False):\n",
    "        self.model = model\n",
    "        self.vectorizer = vectorizer\n",
    "        self.texto = ''\n",
    "        self.sentimiento = None\n",
    "        self.doc_vector = None\n",
    "        self.verbose = verbose\n",
    "\n",
    "    def preprocesar(self, texto):\n",
    "        self.texto = texto\n",
    "        if self.verbose: print(f'Texto original: {self.texto}')\n",
    "        self.nlp = es_core_news_md.load()\n",
    "        self.doc = self.nlp(self.texto)\n",
    "        if self.verbose: print(f'Texto procesado con spacy: {self.doc}')\n",
    "        self.doc = [token for token in self.doc if\n",
    "                    not token.is_stop and\n",
    "                    not token.is_punct and\n",
    "                    not token.is_space and\n",
    "                    token.pos_ != 'SYM'\n",
    "                    ]\n",
    "        if self.verbose: print(f'Tokens antes de lematización: {self.doc}')\n",
    "        self.doc = ' '.join([token.lemma_ for token in self.doc])\n",
    "        if self.verbose: print(f'Tokens después de limpieza: {self.doc}')\n",
    "        \n",
    "        self.doc_vector = self.vectorizer(self.doc)\n",
    "        if self.verbose: print(f'Dimensiones de vector preprocesado: {self.doc_vector.shape}') # | Tipo: {type(self.doc_vector)}')\n",
    "\n",
    "    def analizar(self):\n",
    "        if self.doc_vector == None: print('Es neceario ejecutar el método preprocesar')\n",
    "        \n",
    "        self.sentiment_proba = self.model.predict(pd.Series(self.doc))\n",
    "        if self.verbose: print(f'Probabilidad de positivismo: {self.sentiment_proba}')\n",
    "        return \"El sentimiento es POSITIVO\" if (self.sentiment_proba > 0.5) else \"El sentimiento es NEGATIVO\""
   ]
  },
  {
   "cell_type": "markdown",
   "id": "a2628cad-3925-471c-88d8-fbb215c9819f",
   "metadata": {},
   "source": [
    "### Implementación de red neuronal como predictor"
   ]
  },
  {
   "cell_type": "code",
   "execution_count": 213,
   "id": "4177507e-24eb-42d5-94ee-3f85cf6671b9",
   "metadata": {
    "execution": {
     "iopub.execute_input": "2024-08-10T21:13:12.826296Z",
     "iopub.status.busy": "2024-08-10T21:13:12.826296Z",
     "iopub.status.idle": "2024-08-10T21:13:12.831028Z",
     "shell.execute_reply": "2024-08-10T21:13:12.831028Z",
     "shell.execute_reply.started": "2024-08-10T21:13:12.826296Z"
    }
   },
   "outputs": [],
   "source": [
    "analizador = AnalizadorDeSentimiento(new_model, keras_vectorizer, verbose=True)"
   ]
  },
  {
   "cell_type": "code",
   "execution_count": 214,
   "id": "92a923b1-6a3e-4d2e-b4a3-439921ec6b7a",
   "metadata": {
    "colab": {
     "base_uri": "https://localhost:8080/"
    },
    "execution": {
     "iopub.execute_input": "2024-08-10T21:13:15.580130Z",
     "iopub.status.busy": "2024-08-10T21:13:15.580130Z",
     "iopub.status.idle": "2024-08-10T21:13:16.892111Z",
     "shell.execute_reply": "2024-08-10T21:13:16.892111Z",
     "shell.execute_reply.started": "2024-08-10T21:13:15.580130Z"
    },
    "executionInfo": {
     "elapsed": 314,
     "status": "ok",
     "timestamp": 1723272704571,
     "user": {
      "displayName": "Damian Fernandez",
      "userId": "16135875833693471232"
     },
     "user_tz": 180
    },
    "id": "kSO3KHcnDXWc",
    "outputId": "6aa4662c-d570-4685-e09e-b0f29c012d52"
   },
   "outputs": [
    {
     "name": "stdout",
     "output_type": "stream",
     "text": [
      "Texto original: Estoy muy bien es lo mejor que sentí en la vida\n",
      "Texto procesado con spacy: Estoy muy bien es lo mejor que sentí en la vida\n",
      "Tokens antes de lematización: [sentí, vida]\n",
      "Tokens después de limpieza: sentir vida\n",
      "Dimensiones de vector preprocesado: (6644,)\n",
      "\u001b[1m1/1\u001b[0m \u001b[32m━━━━━━━━━━━━━━━━━━━━\u001b[0m\u001b[37m\u001b[0m \u001b[1m0s\u001b[0m 38ms/step\n",
      "Probabilidad de positivismo: [[0.58822006]]\n"
     ]
    },
    {
     "data": {
      "text/plain": [
       "'El sentimiento es POSITIVO'"
      ]
     },
     "execution_count": 214,
     "metadata": {},
     "output_type": "execute_result"
    }
   ],
   "source": [
    "analizador.preprocesar('Estoy muy bien es lo mejor que sentí en la vida')\n",
    "analizador.analizar()"
   ]
  },
  {
   "cell_type": "code",
   "execution_count": 215,
   "id": "64fdffd1-05f6-432f-88aa-3f596aa33093",
   "metadata": {
    "colab": {
     "base_uri": "https://localhost:8080/"
    },
    "execution": {
     "iopub.execute_input": "2024-08-10T21:13:19.357120Z",
     "iopub.status.busy": "2024-08-10T21:13:19.357120Z",
     "iopub.status.idle": "2024-08-10T21:13:20.403037Z",
     "shell.execute_reply": "2024-08-10T21:13:20.403037Z",
     "shell.execute_reply.started": "2024-08-10T21:13:19.357120Z"
    },
    "executionInfo": {
     "elapsed": 314,
     "status": "ok",
     "timestamp": 1723272704571,
     "user": {
      "displayName": "Damian Fernandez",
      "userId": "16135875833693471232"
     },
     "user_tz": 180
    },
    "id": "kSO3KHcnDXWc",
    "outputId": "6aa4662c-d570-4685-e09e-b0f29c012d52"
   },
   "outputs": [
    {
     "name": "stdout",
     "output_type": "stream",
     "text": [
      "Texto original: Me siento abrumado, está todo cada vez peor y no hay salida\n",
      "Texto procesado con spacy: Me siento abrumado, está todo cada vez peor y no hay salida\n",
      "Tokens antes de lematización: [siento, abrumado, salida]\n",
      "Tokens después de limpieza: sentir abrumado salida\n",
      "Dimensiones de vector preprocesado: (6644,)\n",
      "\u001b[1m1/1\u001b[0m \u001b[32m━━━━━━━━━━━━━━━━━━━━\u001b[0m\u001b[37m\u001b[0m \u001b[1m0s\u001b[0m 47ms/step\n",
      "Probabilidad de positivismo: [[0.02609264]]\n"
     ]
    },
    {
     "data": {
      "text/plain": [
       "'El sentimiento es NEGATIVO'"
      ]
     },
     "execution_count": 215,
     "metadata": {},
     "output_type": "execute_result"
    }
   ],
   "source": [
    "\n",
    "analizador.preprocesar('Me siento abrumado, está todo cada vez peor y no hay salida')\n",
    "analizador.analizar()"
   ]
  },
  {
   "cell_type": "code",
   "execution_count": 216,
   "id": "35833f30-d653-4d35-9e95-e12483c3503c",
   "metadata": {
    "execution": {
     "iopub.execute_input": "2024-08-10T21:13:22.669450Z",
     "iopub.status.busy": "2024-08-10T21:13:22.669450Z",
     "iopub.status.idle": "2024-08-10T21:13:23.690053Z",
     "shell.execute_reply": "2024-08-10T21:13:23.690053Z",
     "shell.execute_reply.started": "2024-08-10T21:13:22.669450Z"
    }
   },
   "outputs": [
    {
     "name": "stdout",
     "output_type": "stream",
     "text": [
      "Texto original: Me ponen un poco triste los días de lluvia\n",
      "Texto procesado con spacy: Me ponen un poco triste los días de lluvia\n",
      "Tokens antes de lematización: [ponen, triste, lluvia]\n",
      "Tokens después de limpieza: poner triste lluvia\n",
      "Dimensiones de vector preprocesado: (6644,)\n",
      "\u001b[1m1/1\u001b[0m \u001b[32m━━━━━━━━━━━━━━━━━━━━\u001b[0m\u001b[37m\u001b[0m \u001b[1m0s\u001b[0m 42ms/step\n",
      "Probabilidad de positivismo: [[0.02411709]]\n"
     ]
    },
    {
     "data": {
      "text/plain": [
       "'El sentimiento es NEGATIVO'"
      ]
     },
     "execution_count": 216,
     "metadata": {},
     "output_type": "execute_result"
    }
   ],
   "source": [
    "analizador.preprocesar('Me ponen un poco triste los días de lluvia')\n",
    "analizador.analizar()"
   ]
  },
  {
   "cell_type": "code",
   "execution_count": 217,
   "id": "2ada0fae-0784-4e2d-80a5-8004a62f5644",
   "metadata": {
    "execution": {
     "iopub.execute_input": "2024-08-10T21:13:25.857046Z",
     "iopub.status.busy": "2024-08-10T21:13:25.857046Z",
     "iopub.status.idle": "2024-08-10T21:13:26.914600Z",
     "shell.execute_reply": "2024-08-10T21:13:26.914600Z",
     "shell.execute_reply.started": "2024-08-10T21:13:25.857046Z"
    }
   },
   "outputs": [
    {
     "name": "stdout",
     "output_type": "stream",
     "text": [
      "Texto original: Me hacen feliz los días de lluvia\n",
      "Texto procesado con spacy: Me hacen feliz los días de lluvia\n",
      "Tokens antes de lematización: [feliz, lluvia]\n",
      "Tokens después de limpieza: feliz lluvia\n",
      "Dimensiones de vector preprocesado: (6644,)\n",
      "\u001b[1m1/1\u001b[0m \u001b[32m━━━━━━━━━━━━━━━━━━━━\u001b[0m\u001b[37m\u001b[0m \u001b[1m0s\u001b[0m 47ms/step\n",
      "Probabilidad de positivismo: [[0.56800246]]\n"
     ]
    },
    {
     "data": {
      "text/plain": [
       "'El sentimiento es POSITIVO'"
      ]
     },
     "execution_count": 217,
     "metadata": {},
     "output_type": "execute_result"
    }
   ],
   "source": [
    "analizador.preprocesar('Me hacen feliz los días de lluvia')\n",
    "analizador.analizar()"
   ]
  },
  {
   "cell_type": "code",
   "execution_count": 218,
   "id": "226ba88e-bee6-4a4d-b7dd-6c77237d7784",
   "metadata": {
    "execution": {
     "iopub.execute_input": "2024-08-10T21:13:28.835764Z",
     "iopub.status.busy": "2024-08-10T21:13:28.835764Z",
     "iopub.status.idle": "2024-08-10T21:13:29.941404Z",
     "shell.execute_reply": "2024-08-10T21:13:29.941404Z",
     "shell.execute_reply.started": "2024-08-10T21:13:28.835764Z"
    }
   },
   "outputs": [
    {
     "name": "stdout",
     "output_type": "stream",
     "text": [
      "Texto original: Me alegran la vida los días soleados\n",
      "Texto procesado con spacy: Me alegran la vida los días soleados\n",
      "Tokens antes de lematización: [alegran, vida, soleados]\n",
      "Tokens después de limpieza: alegrar vida soleado\n",
      "Dimensiones de vector preprocesado: (6644,)\n",
      "\u001b[1m1/1\u001b[0m \u001b[32m━━━━━━━━━━━━━━━━━━━━\u001b[0m\u001b[37m\u001b[0m \u001b[1m0s\u001b[0m 46ms/step\n",
      "Probabilidad de positivismo: [[0.7117381]]\n"
     ]
    },
    {
     "data": {
      "text/plain": [
       "'El sentimiento es POSITIVO'"
      ]
     },
     "execution_count": 218,
     "metadata": {},
     "output_type": "execute_result"
    }
   ],
   "source": [
    "analizador.preprocesar('Me alegran la vida los días soleados')\n",
    "analizador.analizar()"
   ]
  }
 ],
 "metadata": {
  "accelerator": "GPU",
  "colab": {
   "gpuType": "T4",
   "provenance": []
  },
  "kernelspec": {
   "display_name": "Python 3 (ipykernel)",
   "language": "python",
   "name": "python3"
  },
  "language_info": {
   "codemirror_mode": {
    "name": "ipython",
    "version": 3
   },
   "file_extension": ".py",
   "mimetype": "text/x-python",
   "name": "python",
   "nbconvert_exporter": "python",
   "pygments_lexer": "ipython3",
   "version": "3.12.4"
  }
 },
 "nbformat": 4,
 "nbformat_minor": 5
}
